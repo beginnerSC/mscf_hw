{
 "cells": [
  {
   "cell_type": "markdown",
   "metadata": {},
   "source": [
    "# Homework 2, 46-923, Fall 2020\n",
    "\n",
    "Due Monday, November 16 at 12:01 PM EDT"
   ]
  },
  {
   "cell_type": "markdown",
   "metadata": {},
   "source": [
    "## Question 1\n",
    "\n",
    "We saw in class an example of where the normal distribution is a poor fit to log daily stock returns. Does the validity of the normal approximation improve when switching to weekly or monthly returns? Make a convincing argument, using both plots and formal model selection tools."
   ]
  },
  {
   "cell_type": "markdown",
   "metadata": {},
   "source": [
    "## Question 2\n",
    "\n",
    "Update the function `fitSkewT()` given during lecture so that it also returns the covariance matrix for the estimated parameters. Your function should be able to handle both the cases where shift parameter is included or excluded. The covariance matrix should be in terms of the \"original\" parameterization, i.e., the $(k,n,\\lambda,\\sigma^2,\\mu)$ parameterization.\n",
    "\n",
    "Be sure to show some examples illustrating the function in use."
   ]
  },
  {
   "cell_type": "markdown",
   "metadata": {},
   "source": [
    "## Question 3\n",
    "\n",
    "Reconsider the Kellogg's daily log return data used during lecture. You can obtain the data using the following:"
   ]
  },
  {
   "cell_type": "code",
   "execution_count": 1,
   "metadata": {},
   "outputs": [
    {
     "name": "stdout",
     "output_type": "stream",
     "text": [
      "[*********************100%***********************]  1 of 1 downloaded\n"
     ]
    }
   ],
   "source": [
    "import yfinance as yf\n",
    "import numpy as np\n",
    "Kdat = yf.download(\"K\", start=\"2010-01-01\",\n",
    "   end=\"2018-12-31\")\n",
    "ldrK = np.log(Kdat['Adj Close']).diff()[1:]"
   ]
  },
  {
   "cell_type": "markdown",
   "metadata": {},
   "source": [
    "We are interested in estimating the probability of a \"large drop\" in a day, where a \"large drop\" is defined as a log return of less than -0.025. Denote this probability $p$. \n",
    "\n",
    "I propose the following approaches to estimating $p$:\n",
    "\n",
    "1. Using the sample proportion\n",
    "\n",
    "2. Using the tail probability from a fitted normal distribution\n",
    "\n",
    "3. Using the tail probability from a fitted (nonstandard) t distribution\n",
    "\n",
    "4. Using the tail probability from a fitted kernel density estimate\n",
    "\n",
    "**Now, do the following:**\n",
    "\n",
    "(a) Calculate each of the above estimates for this example, and attach a standard error to each.\n",
    "\n",
    "(b) Which of the four estimators has the smallest standard error? Do you believe that this estimator is actually the best choice? What is the source of this discrepancy?\n",
    "\n"
   ]
  }
 ],
 "metadata": {
  "kernelspec": {
   "display_name": "Python 3",
   "language": "python",
   "name": "python3"
  },
  "language_info": {
   "codemirror_mode": {
    "name": "ipython",
    "version": 3
   },
   "file_extension": ".py",
   "mimetype": "text/x-python",
   "name": "python",
   "nbconvert_exporter": "python",
   "pygments_lexer": "ipython3",
   "version": "3.7.3"
  }
 },
 "nbformat": 4,
 "nbformat_minor": 2
}
