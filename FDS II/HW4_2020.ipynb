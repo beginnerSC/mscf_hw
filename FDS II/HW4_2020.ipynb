{
 "cells": [
  {
   "cell_type": "markdown",
   "metadata": {},
   "source": [
    "# Homework 4\n",
    "\n",
    "Financial Data Science II, Fall 2020\n",
    "\n",
    "Due Monday, December 7 at 12:01 PM"
   ]
  },
  {
   "cell_type": "markdown",
   "metadata": {},
   "source": [
    "### Question 1\n",
    "\n",
    "Using the `stocksample.txt` data set from the lecture, run PCA on the 1000 time series. (In this setup, each data object is a 30-dimensional time series.)\n",
    "\n",
    "1. You should scale the series to have mean zero and variance one prior to the analysis. Why is this important?\n",
    "\n",
    "2. Show the scree plot from this fit. What does it reveal?\n",
    "\n",
    "3. Do you believe that PCA is a useful dimension reduction technique in this case? Explain."
   ]
  },
  {
   "cell_type": "markdown",
   "metadata": {},
   "source": [
    "### Question 2\n",
    "\n",
    "Complete the exercise on page 24 of Part 16 of the lecture notes (Nonlinear Dimension Reduction). Be sure to comment thoroughly on the results."
   ]
  },
  {
   "cell_type": "markdown",
   "metadata": {},
   "source": [
    "### Question 3\n",
    "\n",
    "Again return to the `stocksample.txt` data set.\n",
    "\n",
    "1. Scale each series to have mean zero and variance one.\n",
    "\n",
    "2. Smooth each series (over time). In this instance, try **oversmoothing** the series, i.e., use a smoothing parameter value that leaves only the most prominent trends in the series. (One way to accomplish this would be to multiply the usual smoothing parameter selected by some constant greater than one.)\n",
    "\n",
    "3. Run ISOMAP on the smoothed series. Inspect and comment on any structure that you see.\n",
    "\n",
    "4. Randomly choose 100 of the series, and cluster them using hierarchical clustering. Plot the dendrogram and comment on any structure that you see."
   ]
  }
 ],
 "metadata": {
  "kernelspec": {
   "display_name": "Python 3",
   "language": "python",
   "name": "python3"
  },
  "language_info": {
   "codemirror_mode": {
    "name": "ipython",
    "version": 3
   },
   "file_extension": ".py",
   "mimetype": "text/x-python",
   "name": "python",
   "nbconvert_exporter": "python",
   "pygments_lexer": "ipython3",
   "version": "3.7.8"
  }
 },
 "nbformat": 4,
 "nbformat_minor": 4
}
