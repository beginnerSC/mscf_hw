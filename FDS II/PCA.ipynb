{
 "cells": [
  {
   "cell_type": "markdown",
   "metadata": {},
   "source": [
    "# Part 15: Principal Components Analysis {-}"
   ]
  },
  {
   "cell_type": "raw",
   "metadata": {},
   "source": [
    "\\lhead{Part 15: Principal Components Analysis}\n",
    "\n",
    "\\lfoot{Financial Data Science I}\n",
    "\n",
    "\\rfoot{\\footnotesize Page \\thepage\\ of \\pageref{LastPage}}\n",
    "\n",
    "\\cfoot{Updated \\today}"
   ]
  },
  {
   "cell_type": "markdown",
   "metadata": {},
   "source": [
    "A standard, classic tool for dimension reduction is\n",
    "**principal components analysis (PCA)**. It has\n",
    "some drawbacks, mostly in that it is best suited to find\n",
    "**linear** structure in data, but in the right situation it can\n",
    "be a very effective tool.\n",
    "\n",
    "First, consider the synthetic data shown in the following figure."
   ]
  },
  {
   "cell_type": "markdown",
   "metadata": {},
   "source": [
    "![](SynFig1.png)"
   ]
  },
  {
   "cell_type": "markdown",
   "metadata": {},
   "source": [
    "\\newpage\n",
    "\n",
    "**Exercise:** Comment on the structure seen in the pair of variables shown in\n",
    "the previous figure. Would you say that the current pair of axes is the most\n",
    "\"natural\" way to represent the data?\n",
    "\n",
    "\\answerlines{7}"
   ]
  },
  {
   "cell_type": "markdown",
   "metadata": {},
   "source": [
    "\\newpage\n",
    "\n",
    "The figure below shows the same data, with a new $(u_1, u_2)$\n",
    "coordinate system shown as the dashed lines.\n",
    "\n",
    "![](SynFig2.png)\n",
    "\n",
    "These axes seem to be a more natural representation of the data. In particular,\n",
    "we note that the $u_1$ axis captures the major source of variability in the data.\n",
    "These axes are formed from the **principal components** of the data."
   ]
  },
  {
   "cell_type": "markdown",
   "metadata": {},
   "source": [
    "\\newpage\n",
    "\n",
    "## Formal Setup of PCA {-}\n",
    "\n",
    "Suppose we have observed $n$ vectors ${\\bf x}_i$, each of\n",
    "which is of dimension $p$:\n",
    "\\begin{equation*}\n",
    "    {\\bf x}_i = (x_{i1}, x_{i2}, \\ldots, x_{ip})^T,\n",
    "    \\:\\:\\:\\:\\:\\: i=1,2,\\ldots,n.\n",
    "\\end{equation*}\n",
    "\n",
    "For example, ${\\bf x}_i$ could be a single yield curve, with $p \\approx 10$.\n",
    "\n",
    "Consider the collection of all possible linear combinations of the\n",
    "original variables formed by different choices of ${\\bf u}$:\n",
    "\\begin{equation*}\n",
    "   v_i = \\sum_{j=1}^p u_j (x_{ij}-\\overline{x}_j), \\:\\:\\:\\:\\: i=1,2,\\ldots,n\n",
    "\\end{equation*}\n",
    "where $\\overline{x}_j$ is the mean of the $j^{th}$ variable,\n",
    "subject to\n",
    "\\begin{equation*}\n",
    "   \\sum_{j=1}^p u_j^2 = 1.\n",
    "\\end{equation*}"
   ]
  },
  {
   "cell_type": "markdown",
   "metadata": {},
   "source": [
    "\\newpage\n",
    "\n",
    "Hence, we can think of each choice of ${\\bf u}$ as being a different\n",
    "**direction** centered on the sample mean.\n",
    "\n",
    "The new measurements $v_1, v_2, \\ldots, v_n$ are the **projections** of\n",
    "the original observations onto this new direction.\n",
    "\n",
    "**We now ask:** What choice of\n",
    "${\\bf u}$ maximizes the sample variance of the resulting numbers\n",
    "$v_1, v_2, \\ldots, v_n$?"
   ]
  },
  {
   "cell_type": "markdown",
   "metadata": {},
   "source": [
    "![](SynFig1.png)"
   ]
  },
  {
   "cell_type": "markdown",
   "metadata": {},
   "source": [
    "\\newpage\n",
    "\n",
    "**The Math:** \n",
    "\n",
    "If ${\\bf A}$ is a symmetric, positive definite matrix then\n",
    "the choice of ${\\bf u}$ that maximizes ${\\bf u}^T {\\bf A} {\\bf u}$ subject\n",
    "to ${\\bf u}^T {\\bf u}$ is the first eigenvector of ${\\bf A}$.\n",
    "\n",
    "Recall that\n",
    "\\begin{equation*}\n",
    " V({\\bf u}^T {\\bf x}) = {\\bf u}^T \\Sigma {\\bf u}\n",
    "\\end{equation*}\n",
    "where $V({\\bf x}) = \\Sigma$.\n",
    "\n",
    "We approximate $\\Sigma$ using the sample covariance matrix $\\widehat \\Sigma$.\n",
    "\n",
    "The leading eigenvector of $\\widehat \\Sigma$ is the first principal component.\n",
    "\n",
    "The additional principal components ${\\bf u}_2, {\\bf u}_3, \\ldots, {\\bf u}_p$\n",
    "are found by finding successive eigenvectors of $\\widehat \\Sigma$."
   ]
  },
  {
   "cell_type": "markdown",
   "metadata": {},
   "source": [
    "\\newpage\n",
    "\n",
    "**Some comments:**\n",
    "\n",
    "A new coordinate system is being constructed in which the\n",
    "$p$-dimensional data are represented. The center of this coordinate\n",
    "system is the sample mean of the data, but the axes are the\n",
    "principal components ${\\bf u}_1, {\\bf u}_2, \\ldots, {\\bf u}_p$.\n",
    "\n",
    "When expressed in this new coordinate system, each of the\n",
    "dimensions have sample correlation of zero.\n",
    "\n",
    "The amount of \"variance explained\" by each principal component\n",
    "is less than each of the previous principal components.\n",
    "\n",
    "In many situations, we will choose some cutoff $q \\ll p$ such that\n",
    "we will only retain the first $q$ axes in our new coordinate system.\n",
    "This will be because these first $q$ components \"capture\" most of\n",
    "the variability in the data.\n",
    "\n",
    "For instance, in the toy example above, most of the variability in the\n",
    "data is \"captured\" by the first axis ${\\bf u}_1$.\n",
    "\n",
    "In typical applications $p$ will be very large, and a low-dimensional\n",
    "representation will be of great value."
   ]
  },
  {
   "cell_type": "markdown",
   "metadata": {},
   "source": [
    "\\newpage\n",
    "\n",
    "## PCA on Yield Curves {-}\n",
    "\n",
    "Our previous discussion of yield curves suggested that these\n",
    "share a common shape, and that it does not require ten\n",
    "numbers to describe changes in this shape from day to day.\n",
    "\n",
    "This is an ideal situation to consider dimension reduction. The\n",
    "simplicity of the shapes of the curves suggests that PCA \n",
    "is worth trying.\n",
    "\n",
    "For this analysis we will use the yield curves from 2010\n",
    "to the present. We need to extract the relevant rates to run\n",
    "the PCA. Note that there are 11 rates over this time period.\n",
    "\n",
    "The command below takes a little longer to run."
   ]
  },
  {
   "cell_type": "code",
   "execution_count": null,
   "metadata": {},
   "outputs": [],
   "source": [
    "import pandas as pd\n",
    "\n",
    "fullYCweb = \\\n",
    "   pd.read_html(\"https://goo.gl/j97141\")\n",
    "YCdata = fullYCweb[1]"
   ]
  },
  {
   "cell_type": "markdown",
   "metadata": {},
   "source": [
    "\\newpage\n",
    "\n",
    "Restrict to data since 2010."
   ]
  },
  {
   "cell_type": "code",
   "execution_count": null,
   "metadata": {
    "scrolled": true
   },
   "outputs": [],
   "source": [
    "from datetime import datetime\n",
    "\n",
    "YCdata['Date'] = \\\n",
    "    YCdata['Date'].astype('datetime64')\n",
    "YCdata = YCdata[YCdata['Date'] > \\\n",
    "    datetime.strptime(\"2010-01-01\", \"%Y-%m-%d\")]"
   ]
  },
  {
   "cell_type": "markdown",
   "metadata": {},
   "source": [
    "We will remove the 2 month rates, as 8-week treasuries have only been around since October 2018."
   ]
  },
  {
   "cell_type": "code",
   "execution_count": null,
   "metadata": {
    "scrolled": true
   },
   "outputs": [],
   "source": [
    "YCdata = YCdata.drop(['2 mo'], axis=1)"
   ]
  },
  {
   "cell_type": "markdown",
   "metadata": {},
   "source": [
    "There are a couple rows with bad data that we will remove."
   ]
  },
  {
   "cell_type": "code",
   "execution_count": null,
   "metadata": {},
   "outputs": [],
   "source": [
    "print(YCdata[YCdata.drop(\"Date\",axis=1).T.\\\n",
    "    astype(float).sum(axis=0) == 0])\n",
    "YCdata = YCdata[YCdata.drop(\"Date\",axis=1).T.\\\n",
    "    astype(float).sum(axis=0) != 0]"
   ]
  },
  {
   "cell_type": "markdown",
   "metadata": {},
   "source": [
    "\\newpage\n",
    "\n",
    "Let's sample a few of the curves and create a plot of their yield curves.\n",
    "\n",
    "First, use the `sample()` function to select ten at random."
   ]
  },
  {
   "cell_type": "code",
   "execution_count": null,
   "metadata": {},
   "outputs": [],
   "source": [
    "YCdata_sample = YCdata.sample(10)"
   ]
  },
  {
   "cell_type": "markdown",
   "metadata": {},
   "source": [
    "Let's rename the columns so that the horizontal axis is scaled appropriately."
   ]
  },
  {
   "cell_type": "code",
   "execution_count": null,
   "metadata": {},
   "outputs": [],
   "source": [
    "YCdata_sample.\\\n",
    "   rename(columns={'1 mo': 1/12, \n",
    "   '3 mo': 1/4, '6 mo': 1/2, '1 yr': 1,\n",
    "   '2 yr': 2, '3 yr': 3, '5 yr': 5, '7 yr': 7,\n",
    "   '10 yr': 10, '20 yr': 20, '30 yr': 30}, \n",
    "   inplace=True)"
   ]
  },
  {
   "cell_type": "markdown",
   "metadata": {},
   "source": [
    "The data frame needs to be rearranged into a three-column format, with Date, Maturity, and Rate as the columns. This operation is generically referred to as **melting**."
   ]
  },
  {
   "cell_type": "code",
   "execution_count": null,
   "metadata": {},
   "outputs": [],
   "source": [
    "YCdata_melted = \\\n",
    "   pd.melt(YCdata_sample, id_vars='Date', \n",
    "   value_vars=[1/12, 1/4, 1/2, 1, 2, \n",
    "   3, 5, 7, 10, 20, 30], var_name='Maturity',\n",
    "   value_name='Rate')\n",
    "YCdata_melted['Date'] = \\\n",
    "   YCdata_melted['Date'].astype('datetime64')"
   ]
  },
  {
   "cell_type": "markdown",
   "metadata": {},
   "source": [
    "\\newpage\n",
    "\n",
    "Finally, create the plot."
   ]
  },
  {
   "cell_type": "code",
   "execution_count": null,
   "metadata": {},
   "outputs": [],
   "source": [
    "import matplotlib.pyplot as plt\n",
    "\n",
    "ax = YCdata_melted.pivot(\"Maturity\", \"Date\", \n",
    "   \"Rate\").astype(float).plot()\n",
    "ax.ticklabel_format(axis='x', useOffset=False)\n",
    "plt.legend(bbox_to_anchor=(1.0, 1.0))\n",
    "plt.xlabel(\"Maturity (years)\")\n",
    "plt.ylabel(\"Rate (%)\")\n",
    "plt.show()"
   ]
  },
  {
   "cell_type": "markdown",
   "metadata": {},
   "source": [
    "\\newpage\n",
    "\n",
    "The PCA will be run on the day-to-day **shift** in the yield curve.\n",
    "The motivation is to characterize the low-dimensional structure in\n",
    "how the yield curve changes."
   ]
  },
  {
   "cell_type": "code",
   "execution_count": null,
   "metadata": {
    "scrolled": true
   },
   "outputs": [],
   "source": [
    "YCshifts = YCdata.diff(1).dropna()"
   ]
  },
  {
   "cell_type": "markdown",
   "metadata": {},
   "source": [
    "`scikit-learn` Learn has a PCA function."
   ]
  },
  {
   "cell_type": "code",
   "execution_count": null,
   "metadata": {},
   "outputs": [],
   "source": [
    "from sklearn.decomposition import PCA"
   ]
  },
  {
   "cell_type": "markdown",
   "metadata": {},
   "source": [
    "The PCA is initialized using the following syntax. Note that you need to specify the number of components desired. At this point, this choice should be relatively large."
   ]
  },
  {
   "cell_type": "code",
   "execution_count": null,
   "metadata": {},
   "outputs": [],
   "source": [
    "pcaout = PCA(n_components=10)"
   ]
  },
  {
   "cell_type": "markdown",
   "metadata": {},
   "source": [
    "Now run the PCA using `fit()`."
   ]
  },
  {
   "cell_type": "code",
   "execution_count": null,
   "metadata": {},
   "outputs": [],
   "source": [
    "pcaout.fit(YCshifts.drop('Date', axis=1))\n",
    "None"
   ]
  },
  {
   "cell_type": "markdown",
   "metadata": {},
   "source": [
    "**Exercise:** What is the meaning of the argument `axis=1`?\n",
    "\n",
    "\\answerlines{5}"
   ]
  },
  {
   "cell_type": "markdown",
   "metadata": {},
   "source": [
    "\\newpage\n",
    "\n",
    "We can see the proportion of the variance explained by each component. The plot created below is commonly referred to as the **scree plot**."
   ]
  },
  {
   "cell_type": "code",
   "execution_count": null,
   "metadata": {
    "scrolled": true
   },
   "outputs": [],
   "source": [
    "pcaout.explained_variance_ratio_"
   ]
  },
  {
   "cell_type": "code",
   "execution_count": null,
   "metadata": {},
   "outputs": [],
   "source": [
    "plt.plot(range(1,11),\n",
    "   pcaout.explained_variance_ratio_)\n",
    "plt.xlabel('number of components', size=12)\n",
    "plt.ylabel('proportion explained variance', size=12)\n",
    "plt.show()"
   ]
  },
  {
   "cell_type": "markdown",
   "metadata": {},
   "source": [
    "**Exercise:** Interpret the output above.\n",
    "\n",
    "\\answerlines{5}"
   ]
  },
  {
   "cell_type": "markdown",
   "metadata": {},
   "source": [
    "\\newpage\n",
    "\n",
    "Here are the actual component vectors, sometimes called the **loadings**."
   ]
  },
  {
   "cell_type": "code",
   "execution_count": null,
   "metadata": {},
   "outputs": [],
   "source": [
    "pcaout.components_[0]"
   ]
  },
  {
   "cell_type": "code",
   "execution_count": null,
   "metadata": {},
   "outputs": [],
   "source": [
    "Maturity = [1/12, 1/4, 1/2, 1, 2, \n",
    "   3, 5, 7, 10, 20, 30]\n",
    "plt.plot(Maturity, pcaout.components_[0])\n",
    "plt.xlabel('Maturity', size=12)\n",
    "plt.ylabel('Weight', size=12)\n",
    "plt.show()"
   ]
  },
  {
   "cell_type": "markdown",
   "metadata": {},
   "source": [
    "**Exercise:** Inspect the other loadings, and interpret the results.\n",
    "\n",
    "\\answerlines{7}"
   ]
  },
  {
   "cell_type": "markdown",
   "metadata": {},
   "source": [
    "The loadings give a **representation** of the shifts in yield curves. In fact,\n",
    "this is related to a common way to characterize how the yield curve has changed. The first\n",
    "three components are commonly given the names \"parallel shift,\" \"twist,\" and \"butterfly.\"\n",
    "\n",
    "![Figure from advisoranalyst.com](yield-curve_glossary.jpg)"
   ]
  },
  {
   "cell_type": "markdown",
   "metadata": {},
   "source": [
    "\\newpage\n",
    "\n",
    "The `transform()` function will project a new vector into this new representation.\n",
    "Note that Python is a little picky\n",
    "on the format."
   ]
  },
  {
   "cell_type": "code",
   "execution_count": null,
   "metadata": {},
   "outputs": [],
   "source": [
    "import numpy as np\n",
    "\n",
    "newshift = np.array([0.00, 0.00, 0.01, 0.01, \n",
    "    0.01, 0.07, 0.05, 0.05, 0.03, 0.03, 0.04])\n",
    "pcaout.transform(newshift.reshape(1, -1))"
   ]
  },
  {
   "cell_type": "markdown",
   "metadata": {},
   "source": [
    "\\newpage\n",
    "\n",
    "## Scaling Variables for PCA {-}\n",
    "\n",
    "In cases where the variables being incorporated into PCA are on\n",
    "different scales, it is crucial that the variables be standardized\n",
    "prior to the analysis. It is customary to scale variables so that\n",
    "each has sample mean of zero, and sample variance of one.\n",
    "\n",
    "This is equivalent to finding the eigenvectors of the correlation\n",
    "matrix instead of the covariance matrix. Python, by default, centers\n",
    "each variable so that they have mean zero. If you want the variables\n",
    "to be scaled, you should do that in advance of passing them on to\n",
    "`PCA()`."
   ]
  }
 ],
 "metadata": {
  "kernelspec": {
   "display_name": "Python 3",
   "language": "python",
   "name": "python3"
  },
  "language_info": {
   "codemirror_mode": {
    "name": "ipython",
    "version": 3
   },
   "file_extension": ".py",
   "mimetype": "text/x-python",
   "name": "python",
   "nbconvert_exporter": "python",
   "pygments_lexer": "ipython3",
   "version": "3.7.8"
  }
 },
 "nbformat": 4,
 "nbformat_minor": 4
}
