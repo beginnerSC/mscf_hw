{
 "cells": [
  {
   "cell_type": "code",
   "execution_count": 1,
   "metadata": {},
   "outputs": [
    {
     "data": {
      "application/vnd.jupyter.widget-view+json": {
       "model_id": "4c1ae3c3b76d422ba99732806285c832",
       "version_major": 2,
       "version_minor": 0
      },
      "text/plain": [
       "interactive(children=(FloatSlider(value=2.0, description='p', max=10.0, min=0.001), FloatSlider(value=2.0, des…"
      ]
     },
     "metadata": {},
     "output_type": "display_data"
    }
   ],
   "source": [
    "from pandas import DataFrame\n",
    "from ipywidgets import interact\n",
    "from scipy.special import beta\n",
    "import numpy as np\n",
    "\n",
    "def pdf(x, p, q, mu, s, lam):\n",
    "    '''\n",
    "    p > 0, q > 0, s > 0, -1 < lam < 1\n",
    "    \n",
    "    MLE 會很難算因為這個 form 限制 pq > 2\n",
    "    '''\n",
    "    \n",
    "    v = (q**(-1/p))/np.sqrt((3*lam*lam + 1)*beta(3/p, q-2/p)/beta(1/p, q) - 4*lam*lam*((beta(2/p, q-1/p)/beta(1/p, q))**2))    \n",
    "    m = 2*v*s*lam*(q**(1/p))*beta(2/p, q-1/p)    \n",
    "    return p/(2*v*s*(q**(1/q))*beta(1/p, q)*((np.abs(x-mu+m)**p)/(q*(v*s*(lam*np.sign(x-mu+m) + 1))**p) + 1)**(1/p+q))\n",
    "\n",
    "@interact(p=(0.001, 10), q=(0.001, 10), mu=(-10, 10), s=(0.001, 10), lam=(-0.999, 0.999))\n",
    "def plotpdf(p=2, q=2, mu=0, s=1, lam=0):\n",
    "    df = DataFrame([(x, pdf(x, p, q, mu, s, lam)) for x in np.arange(-10, 10, 0.1)], columns=['x', 'pdf']).set_index('x')\n",
    "    ax = df.plot()\n",
    "    ax.set(ylim=[0, 1])\n"
   ]
  }
 ],
 "metadata": {
  "kernelspec": {
   "display_name": "Python 3",
   "language": "python",
   "name": "python3"
  },
  "language_info": {
   "codemirror_mode": {
    "name": "ipython",
    "version": 3
   },
   "file_extension": ".py",
   "mimetype": "text/x-python",
   "name": "python",
   "nbconvert_exporter": "python",
   "pygments_lexer": "ipython3",
   "version": "3.7.8"
  }
 },
 "nbformat": 4,
 "nbformat_minor": 4
}
