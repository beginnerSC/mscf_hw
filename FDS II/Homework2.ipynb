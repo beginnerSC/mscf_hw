{
 "cells": [
  {
   "cell_type": "markdown",
   "metadata": {},
   "source": [
    "\n",
    "\\begin{center}\n",
    "Chun-Yuan (Scott) Chiu\n",
    "\\end{center}\n",
    "\\begin{center}\n",
    "chunyuac@andrew.cmu.edu\n",
    "\\end{center}"
   ]
  },
  {
   "cell_type": "code",
   "execution_count": 1,
   "metadata": {},
   "outputs": [
    {
     "data": {
      "application/vnd.jupyter.widget-view+json": {
       "model_id": "d90398dc5a2f451f8935787b6eb0bfc1",
       "version_major": 2,
       "version_minor": 0
      },
      "text/plain": [
       "interactive(children=(FloatSlider(value=2.0, description='p', max=10.0, min=0.001), FloatSlider(value=2.0, des…"
      ]
     },
     "metadata": {},
     "output_type": "display_data"
    }
   ],
   "source": [
    "from pandas import DataFrame\n",
    "from ipywidgets import interact\n",
    "from scipy.special import beta\n",
    "import numpy as np\n",
    "\n",
    "def pdf(x, p, q, mu, s, lam):\n",
    "    '''\n",
    "    p > 0, q > 0, s > 0, -1 < lam < 1\n",
    "    \n",
    "    MLE 會很難算因為這個 form 限制 pq > 2\n",
    "    '''\n",
    "    \n",
    "    v = (q**(-1/p))/np.sqrt((3*lam*lam + 1)*beta(3/p, q-2/p)/beta(1/p, q) - 4*lam*lam*((beta(2/p, q-1/p)/beta(1/p, q))**2))    \n",
    "    m = 2*v*s*lam*(q**(1/p))*beta(2/p, q-1/p)    \n",
    "    return p/(2*v*s*(q**(1/q))*beta(1/p, q)*((np.abs(x-mu+m)**p)/(q*(v*s*(lam*np.sign(x-mu+m) + 1))**p) + 1)**(1/p+q))\n",
    "\n",
    "@interact(p=(0.001, 10), q=(0.001, 10), mu=(-10, 10), s=(0.001, 10), lam=(-0.999, 0.999))\n",
    "def plotpdf(p=2, q=2, mu=0, s=1, lam=0):\n",
    "    df = DataFrame([(x, pdf(x, p, q, mu, s, lam)) for x in np.arange(-10, 10, 0.1)], columns=['x', 'pdf']).set_index('x')\n",
    "    ax = df.plot()\n",
    "    ax.set(ylim=[0, 1])\n",
    "\n"
   ]
  },
  {
   "cell_type": "code",
   "execution_count": 8,
   "metadata": {},
   "outputs": [
    {
     "data": {
      "application/vnd.jupyter.widget-view+json": {
       "model_id": "82165dcc969d4faa9a59fe28da9cefc7",
       "version_major": 2,
       "version_minor": 0
      },
      "text/plain": [
       "interactive(children=(FloatSlider(value=1.0, description='k', max=10.0, min=0.001), FloatSlider(value=2.5, des…"
      ]
     },
     "metadata": {},
     "output_type": "display_data"
    }
   ],
   "source": [
    "from pandas import DataFrame\n",
    "from ipywidgets import interact\n",
    "from scipy.special import beta\n",
    "import numpy as np\n",
    "\n",
    "def pdf(x, mu, k, n, lam, s):\n",
    "    S = np.sqrt(1 + 3*(lam**2) - 4*(lam**2)*((beta(2/k, (n-1)/k)**2)/(beta(1/k, n/k)*beta(3/k, (n-2)/k))))\n",
    "    c = 0.5*k*np.sqrt((beta(1/k, n/k)**(-3))*beta(3/k, (n-2)/k))*S/s\n",
    "    theta = ((k/(n-2))**(1/k))*np.sqrt(beta(1/k, n/k)/beta(3/k, (n-2)/k))/S\n",
    "    return c*(1 + (k/(n-2))*(np.abs(x-mu)/(s*theta*(1 + np.sign(x-mu)*lam)))**k)**(-(n+1)/k)\n",
    "    \n",
    "@interact(k=(0.001, 10), n=(2.001, 10), mu=(-10, 10), s=(0.001, 10), lam=(-0.999, 0.999))\n",
    "def plotpdf(k=1, n=2.5, mu=0, s=1, lam=0):\n",
    "    df = DataFrame([(x, pdf(x, mu, k, n, lam, s)) for x in np.arange(-10, 10, 0.01)], columns=['x', 'pdf']).set_index('x')\n",
    "    ax = df.plot()\n",
    "    ax.set(ylim=[0, 1])\n",
    "\n",
    "    \n",
    "\n"
   ]
  },
  {
   "cell_type": "markdown",
   "metadata": {},
   "source": [
    "# 1. {-}"
   ]
  }
 ],
 "metadata": {
  "kernelspec": {
   "display_name": "Python 3",
   "language": "python",
   "name": "python3"
  },
  "language_info": {
   "codemirror_mode": {
    "name": "ipython",
    "version": 3
   },
   "file_extension": ".py",
   "mimetype": "text/x-python",
   "name": "python",
   "nbconvert_exporter": "python",
   "pygments_lexer": "ipython3",
   "version": "3.7.8"
  },
  "toc-autonumbering": false,
  "toc-showcode": false,
  "toc-showmarkdowntxt": false
 },
 "nbformat": 4,
 "nbformat_minor": 4
}
