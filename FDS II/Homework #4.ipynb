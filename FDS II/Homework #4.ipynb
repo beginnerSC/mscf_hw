{
 "cells": [
  {
   "cell_type": "markdown",
   "metadata": {},
   "source": [
    "\n",
    "\\begin{center}\n",
    "Chun-Yuan (Scott) Chiu\n",
    "\\end{center}\n",
    "\\begin{center}\n",
    "chunyuac@andrew.cmu.edu\n",
    "\\end{center}"
   ]
  },
  {
   "cell_type": "markdown",
   "metadata": {},
   "source": [
    "# 1. {-}\n",
    "\n",
    "## 1.1 {-}"
   ]
  },
  {
   "cell_type": "code",
   "execution_count": 14,
   "metadata": {},
   "outputs": [
    {
     "data": {
      "text/html": [
       "<div>\n",
       "<style scoped>\n",
       "    .dataframe tbody tr th:only-of-type {\n",
       "        vertical-align: middle;\n",
       "    }\n",
       "\n",
       "    .dataframe tbody tr th {\n",
       "        vertical-align: top;\n",
       "    }\n",
       "\n",
       "    .dataframe thead th {\n",
       "        text-align: right;\n",
       "    }\n",
       "</style>\n",
       "<table border=\"1\" class=\"dataframe\">\n",
       "  <thead>\n",
       "    <tr style=\"text-align: right;\">\n",
       "      <th></th>\n",
       "      <th>2017-08-18</th>\n",
       "      <th>2017-08-21</th>\n",
       "      <th>2017-08-22</th>\n",
       "      <th>2017-08-23</th>\n",
       "      <th>2017-08-24</th>\n",
       "      <th>2017-08-25</th>\n",
       "      <th>2017-08-28</th>\n",
       "      <th>2017-08-29</th>\n",
       "      <th>2017-08-30</th>\n",
       "      <th>2017-08-31</th>\n",
       "      <th>...</th>\n",
       "      <th>2017-09-18</th>\n",
       "      <th>2017-09-19</th>\n",
       "      <th>2017-09-20</th>\n",
       "      <th>2017-09-21</th>\n",
       "      <th>2017-09-22</th>\n",
       "      <th>2017-09-25</th>\n",
       "      <th>2017-09-26</th>\n",
       "      <th>2017-09-27</th>\n",
       "      <th>2017-09-28</th>\n",
       "      <th>2017-09-29</th>\n",
       "    </tr>\n",
       "    <tr>\n",
       "      <th>symb</th>\n",
       "      <th></th>\n",
       "      <th></th>\n",
       "      <th></th>\n",
       "      <th></th>\n",
       "      <th></th>\n",
       "      <th></th>\n",
       "      <th></th>\n",
       "      <th></th>\n",
       "      <th></th>\n",
       "      <th></th>\n",
       "      <th></th>\n",
       "      <th></th>\n",
       "      <th></th>\n",
       "      <th></th>\n",
       "      <th></th>\n",
       "      <th></th>\n",
       "      <th></th>\n",
       "      <th></th>\n",
       "      <th></th>\n",
       "      <th></th>\n",
       "      <th></th>\n",
       "    </tr>\n",
       "  </thead>\n",
       "  <tbody>\n",
       "    <tr>\n",
       "      <th>NEWM</th>\n",
       "      <td>-1.042968</td>\n",
       "      <td>-1.093516</td>\n",
       "      <td>-0.461669</td>\n",
       "      <td>-0.916599</td>\n",
       "      <td>-0.714408</td>\n",
       "      <td>-0.512217</td>\n",
       "      <td>-0.360574</td>\n",
       "      <td>-0.588039</td>\n",
       "      <td>-0.310026</td>\n",
       "      <td>-0.310026</td>\n",
       "      <td>...</td>\n",
       "      <td>-0.208931</td>\n",
       "      <td>-0.183657</td>\n",
       "      <td>0.271273</td>\n",
       "      <td>0.347094</td>\n",
       "      <td>0.751476</td>\n",
       "      <td>1.484419</td>\n",
       "      <td>1.762431</td>\n",
       "      <td>2.065717</td>\n",
       "      <td>2.293182</td>\n",
       "      <td>2.217361</td>\n",
       "    </tr>\n",
       "    <tr>\n",
       "      <th>DMO</th>\n",
       "      <td>1.242230</td>\n",
       "      <td>1.457314</td>\n",
       "      <td>2.717065</td>\n",
       "      <td>1.430735</td>\n",
       "      <td>0.469868</td>\n",
       "      <td>0.686838</td>\n",
       "      <td>0.593853</td>\n",
       "      <td>1.120778</td>\n",
       "      <td>1.337757</td>\n",
       "      <td>1.244769</td>\n",
       "      <td>...</td>\n",
       "      <td>-0.986926</td>\n",
       "      <td>-1.048917</td>\n",
       "      <td>-0.893947</td>\n",
       "      <td>-0.753228</td>\n",
       "      <td>-0.534328</td>\n",
       "      <td>-0.721953</td>\n",
       "      <td>-0.659413</td>\n",
       "      <td>-1.034664</td>\n",
       "      <td>-0.784496</td>\n",
       "      <td>-0.190345</td>\n",
       "    </tr>\n",
       "    <tr>\n",
       "      <th>VMW</th>\n",
       "      <td>-2.564541</td>\n",
       "      <td>-2.379633</td>\n",
       "      <td>-1.650002</td>\n",
       "      <td>-1.535060</td>\n",
       "      <td>-1.425114</td>\n",
       "      <td>-0.947856</td>\n",
       "      <td>-0.463100</td>\n",
       "      <td>-0.400631</td>\n",
       "      <td>0.106613</td>\n",
       "      <td>0.391469</td>\n",
       "      <td>...</td>\n",
       "      <td>0.861233</td>\n",
       "      <td>0.786270</td>\n",
       "      <td>0.898713</td>\n",
       "      <td>0.633847</td>\n",
       "      <td>0.653838</td>\n",
       "      <td>0.246542</td>\n",
       "      <td>0.324004</td>\n",
       "      <td>0.668829</td>\n",
       "      <td>0.666330</td>\n",
       "      <td>0.663833</td>\n",
       "    </tr>\n",
       "    <tr>\n",
       "      <th>CCI</th>\n",
       "      <td>-0.342359</td>\n",
       "      <td>-0.046708</td>\n",
       "      <td>0.332222</td>\n",
       "      <td>0.482130</td>\n",
       "      <td>0.748633</td>\n",
       "      <td>0.852734</td>\n",
       "      <td>0.877722</td>\n",
       "      <td>0.865228</td>\n",
       "      <td>0.969329</td>\n",
       "      <td>1.456531</td>\n",
       "      <td>...</td>\n",
       "      <td>0.209164</td>\n",
       "      <td>-0.769930</td>\n",
       "      <td>-0.904402</td>\n",
       "      <td>-1.005252</td>\n",
       "      <td>-1.425465</td>\n",
       "      <td>-1.622966</td>\n",
       "      <td>-1.858284</td>\n",
       "      <td>-1.681795</td>\n",
       "      <td>-1.450677</td>\n",
       "      <td>-1.685995</td>\n",
       "    </tr>\n",
       "    <tr>\n",
       "      <th>MNK</th>\n",
       "      <td>-0.070881</td>\n",
       "      <td>-0.201274</td>\n",
       "      <td>0.295225</td>\n",
       "      <td>0.340361</td>\n",
       "      <td>0.861937</td>\n",
       "      <td>1.243087</td>\n",
       "      <td>1.228043</td>\n",
       "      <td>1.308285</td>\n",
       "      <td>1.423633</td>\n",
       "      <td>2.281225</td>\n",
       "      <td>...</td>\n",
       "      <td>-1.389865</td>\n",
       "      <td>-1.234395</td>\n",
       "      <td>-1.023758</td>\n",
       "      <td>-0.838198</td>\n",
       "      <td>-0.853243</td>\n",
       "      <td>-0.642607</td>\n",
       "      <td>-0.933487</td>\n",
       "      <td>-0.572396</td>\n",
       "      <td>-0.196260</td>\n",
       "      <td>0.420603</td>\n",
       "    </tr>\n",
       "  </tbody>\n",
       "</table>\n",
       "<p>5 rows × 30 columns</p>\n",
       "</div>"
      ],
      "text/plain": [
       "      2017-08-18  2017-08-21  2017-08-22  2017-08-23  2017-08-24  2017-08-25  \\\n",
       "symb                                                                           \n",
       "NEWM   -1.042968   -1.093516   -0.461669   -0.916599   -0.714408   -0.512217   \n",
       "DMO     1.242230    1.457314    2.717065    1.430735    0.469868    0.686838   \n",
       "VMW    -2.564541   -2.379633   -1.650002   -1.535060   -1.425114   -0.947856   \n",
       "CCI    -0.342359   -0.046708    0.332222    0.482130    0.748633    0.852734   \n",
       "MNK    -0.070881   -0.201274    0.295225    0.340361    0.861937    1.243087   \n",
       "\n",
       "      2017-08-28  2017-08-29  2017-08-30  2017-08-31  ...  2017-09-18  \\\n",
       "symb                                                  ...               \n",
       "NEWM   -0.360574   -0.588039   -0.310026   -0.310026  ...   -0.208931   \n",
       "DMO     0.593853    1.120778    1.337757    1.244769  ...   -0.986926   \n",
       "VMW    -0.463100   -0.400631    0.106613    0.391469  ...    0.861233   \n",
       "CCI     0.877722    0.865228    0.969329    1.456531  ...    0.209164   \n",
       "MNK     1.228043    1.308285    1.423633    2.281225  ...   -1.389865   \n",
       "\n",
       "      2017-09-19  2017-09-20  2017-09-21  2017-09-22  2017-09-25  2017-09-26  \\\n",
       "symb                                                                           \n",
       "NEWM   -0.183657    0.271273    0.347094    0.751476    1.484419    1.762431   \n",
       "DMO    -1.048917   -0.893947   -0.753228   -0.534328   -0.721953   -0.659413   \n",
       "VMW     0.786270    0.898713    0.633847    0.653838    0.246542    0.324004   \n",
       "CCI    -0.769930   -0.904402   -1.005252   -1.425465   -1.622966   -1.858284   \n",
       "MNK    -1.234395   -1.023758   -0.838198   -0.853243   -0.642607   -0.933487   \n",
       "\n",
       "      2017-09-27  2017-09-28  2017-09-29  \n",
       "symb                                      \n",
       "NEWM    2.065717    2.293182    2.217361  \n",
       "DMO    -1.034664   -0.784496   -0.190345  \n",
       "VMW     0.668829    0.666330    0.663833  \n",
       "CCI    -1.681795   -1.450677   -1.685995  \n",
       "MNK    -0.572396   -0.196260    0.420603  \n",
       "\n",
       "[5 rows x 30 columns]"
      ]
     },
     "execution_count": 14,
     "metadata": {},
     "output_type": "execute_result"
    }
   ],
   "source": [
    "import pandas as pd\n",
    "from sklearn.preprocessing import Normalizer\n",
    "\n",
    "stock = pd.read_csv('stocksample.txt', sep='\\t', index_col='symb')\n",
    "stock = stock[stock.columns[3:]].T\n",
    "stock = ((stock - stock.mean())/stock.std()).T\n",
    "stock.head()"
   ]
  },
  {
   "cell_type": "code",
   "execution_count": 10,
   "metadata": {},
   "outputs": [
    {
     "data": {
      "image/png": "[encoded data removed]",
      "text/plain": [
       "<Figure size 432x288 with 1 Axes>"
      ]
     },
     "metadata": {
      "needs_background": "light"
     },
     "output_type": "display_data"
    }
   ],
   "source": [
    "import matplotlib.pyplot as plt\n",
    "from sklearn.decomposition import PCA\n",
    "from pandas import Series\n",
    "\n",
    "pcaout = PCA(n_components=10).fit(stock)\n",
    "Series(pcaout.explained_variance_ratio_).plot(style='.-')\n",
    "plt.show()"
   ]
  },
  {
   "cell_type": "code",
   "execution_count": 11,
   "metadata": {},
   "outputs": [
    {
     "data": {
      "image/png": "[encoded data removed]",
      "text/plain": [
       "<Figure size 432x288 with 1 Axes>"
      ]
     },
     "metadata": {
      "needs_background": "light"
     },
     "output_type": "display_data"
    }
   ],
   "source": [
    "from pandas import DataFrame\n",
    "\n",
    "DataFrame(pcaout.components_[:3]).T.plot()\n",
    "plt.show()"
   ]
  },
  {
   "cell_type": "code",
   "execution_count": 12,
   "metadata": {},
   "outputs": [
    {
     "data": {
      "text/plain": [
       "array([0.41486148, 0.21023184, 0.08735828, 0.05130158, 0.03410428,\n",
       "       0.02794327, 0.02376482, 0.02032091, 0.01560012, 0.01254343])"
      ]
     },
     "execution_count": 12,
     "metadata": {},
     "output_type": "execute_result"
    }
   ],
   "source": [
    "import numpy as np\n",
    "\n",
    "np.set_printoptions(suppress=True)\n",
    "pcaout.explained_variance_ratio_"
   ]
  }
 ],
 "metadata": {
  "kernelspec": {
   "display_name": "Python 3",
   "language": "python",
   "name": "python3"
  },
  "language_info": {
   "codemirror_mode": {
    "name": "ipython",
    "version": 3
   },
   "file_extension": ".py",
   "mimetype": "text/x-python",
   "name": "python",
   "nbconvert_exporter": "python",
   "pygments_lexer": "ipython3",
   "version": "3.7.8"
  },
  "toc-autonumbering": false,
  "toc-showcode": false,
  "toc-showmarkdowntxt": false
 },
 "nbformat": 4,
 "nbformat_minor": 4
}
