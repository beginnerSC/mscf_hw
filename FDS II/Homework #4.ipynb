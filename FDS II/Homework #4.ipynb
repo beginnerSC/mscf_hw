{
 "cells": [
  {
   "cell_type": "markdown",
   "metadata": {},
   "source": [
    "\n",
    "\\begin{center}\n",
    "Chun-Yuan (Scott) Chiu\n",
    "\\end{center}\n",
    "\\begin{center}\n",
    "chunyuac@andrew.cmu.edu\n",
    "\\end{center}"
   ]
  },
  {
   "cell_type": "markdown",
   "metadata": {},
   "source": [
    "# 1. {-}\n",
    "\n",
    "## 1.1 {-}"
   ]
  },
  {
   "cell_type": "code",
   "execution_count": 1,
   "metadata": {},
   "outputs": [
    {
     "data": {
      "text/html": [
       "<div>\n",
       "<style scoped>\n",
       "    .dataframe tbody tr th:only-of-type {\n",
       "        vertical-align: middle;\n",
       "    }\n",
       "\n",
       "    .dataframe tbody tr th {\n",
       "        vertical-align: top;\n",
       "    }\n",
       "\n",
       "    .dataframe thead th {\n",
       "        text-align: right;\n",
       "    }\n",
       "</style>\n",
       "<table border=\"1\" class=\"dataframe\">\n",
       "  <thead>\n",
       "    <tr style=\"text-align: right;\">\n",
       "      <th></th>\n",
       "      <th>2017-08-18</th>\n",
       "      <th>2017-08-21</th>\n",
       "      <th>2017-08-22</th>\n",
       "      <th>2017-08-23</th>\n",
       "      <th>2017-08-24</th>\n",
       "      <th>2017-08-25</th>\n",
       "      <th>2017-08-28</th>\n",
       "      <th>2017-08-29</th>\n",
       "      <th>2017-08-30</th>\n",
       "      <th>2017-08-31</th>\n",
       "      <th>...</th>\n",
       "      <th>2017-09-18</th>\n",
       "      <th>2017-09-19</th>\n",
       "      <th>2017-09-20</th>\n",
       "      <th>2017-09-21</th>\n",
       "      <th>2017-09-22</th>\n",
       "      <th>2017-09-25</th>\n",
       "      <th>2017-09-26</th>\n",
       "      <th>2017-09-27</th>\n",
       "      <th>2017-09-28</th>\n",
       "      <th>2017-09-29</th>\n",
       "    </tr>\n",
       "  </thead>\n",
       "  <tbody>\n",
       "    <tr>\n",
       "      <th>mean</th>\n",
       "      <td>5.853096e-16</td>\n",
       "      <td>-4.405365e-16</td>\n",
       "      <td>3.872458e-16</td>\n",
       "      <td>3.907985e-16</td>\n",
       "      <td>2.939871e-16</td>\n",
       "      <td>-1.421085e-16</td>\n",
       "      <td>2.167155e-16</td>\n",
       "      <td>-5.684342e-17</td>\n",
       "      <td>6.661338e-16</td>\n",
       "      <td>-2.104983e-16</td>\n",
       "      <td>...</td>\n",
       "      <td>6.501466e-16</td>\n",
       "      <td>1.296740e-15</td>\n",
       "      <td>1.962874e-16</td>\n",
       "      <td>-9.832135e-16</td>\n",
       "      <td>-1.438849e-16</td>\n",
       "      <td>-2.113865e-16</td>\n",
       "      <td>-9.379164e-16</td>\n",
       "      <td>-1.687539e-16</td>\n",
       "      <td>-1.350031e-16</td>\n",
       "      <td>6.172840e-16</td>\n",
       "    </tr>\n",
       "    <tr>\n",
       "      <th>std</th>\n",
       "      <td>1.000000e+00</td>\n",
       "      <td>1.000000e+00</td>\n",
       "      <td>1.000000e+00</td>\n",
       "      <td>1.000000e+00</td>\n",
       "      <td>1.000000e+00</td>\n",
       "      <td>1.000000e+00</td>\n",
       "      <td>1.000000e+00</td>\n",
       "      <td>1.000000e+00</td>\n",
       "      <td>1.000000e+00</td>\n",
       "      <td>1.000000e+00</td>\n",
       "      <td>...</td>\n",
       "      <td>1.000000e+00</td>\n",
       "      <td>1.000000e+00</td>\n",
       "      <td>1.000000e+00</td>\n",
       "      <td>1.000000e+00</td>\n",
       "      <td>1.000000e+00</td>\n",
       "      <td>1.000000e+00</td>\n",
       "      <td>1.000000e+00</td>\n",
       "      <td>1.000000e+00</td>\n",
       "      <td>1.000000e+00</td>\n",
       "      <td>1.000000e+00</td>\n",
       "    </tr>\n",
       "  </tbody>\n",
       "</table>\n",
       "<p>2 rows × 30 columns</p>\n",
       "</div>"
      ],
      "text/plain": [
       "        2017-08-18    2017-08-21    2017-08-22    2017-08-23    2017-08-24  \\\n",
       "mean  5.853096e-16 -4.405365e-16  3.872458e-16  3.907985e-16  2.939871e-16   \n",
       "std   1.000000e+00  1.000000e+00  1.000000e+00  1.000000e+00  1.000000e+00   \n",
       "\n",
       "        2017-08-25    2017-08-28    2017-08-29    2017-08-30    2017-08-31  \\\n",
       "mean -1.421085e-16  2.167155e-16 -5.684342e-17  6.661338e-16 -2.104983e-16   \n",
       "std   1.000000e+00  1.000000e+00  1.000000e+00  1.000000e+00  1.000000e+00   \n",
       "\n",
       "      ...    2017-09-18    2017-09-19    2017-09-20    2017-09-21  \\\n",
       "mean  ...  6.501466e-16  1.296740e-15  1.962874e-16 -9.832135e-16   \n",
       "std   ...  1.000000e+00  1.000000e+00  1.000000e+00  1.000000e+00   \n",
       "\n",
       "        2017-09-22    2017-09-25    2017-09-26    2017-09-27    2017-09-28  \\\n",
       "mean -1.438849e-16 -2.113865e-16 -9.379164e-16 -1.687539e-16 -1.350031e-16   \n",
       "std   1.000000e+00  1.000000e+00  1.000000e+00  1.000000e+00  1.000000e+00   \n",
       "\n",
       "        2017-09-29  \n",
       "mean  6.172840e-16  \n",
       "std   1.000000e+00  \n",
       "\n",
       "[2 rows x 30 columns]"
      ]
     },
     "execution_count": 1,
     "metadata": {},
     "output_type": "execute_result"
    }
   ],
   "source": [
    "import pandas as pd\n",
    "from sklearn.preprocessing import Normalizer\n",
    "\n",
    "stock = pd.read_csv('stocksample.txt', sep='\\t', index_col='symb')\n",
    "stock = stock[stock.columns[3:]]\n",
    "stock = (stock - stock.mean())/stock.std()\n",
    "\n",
    "stock.describe()[1:3]"
   ]
  },
  {
   "cell_type": "code",
   "execution_count": 4,
   "metadata": {},
   "outputs": [
    {
     "data": {
      "image/png": "[encoded data removed]",
      "text/plain": [
       "<Figure size 432x288 with 1 Axes>"
      ]
     },
     "metadata": {
      "needs_background": "light"
     },
     "output_type": "display_data"
    }
   ],
   "source": [
    "import matplotlib.pyplot as plt\n",
    "from sklearn.decomposition import PCA\n",
    "from pandas import Series\n",
    "\n",
    "pcaout = PCA(n_components=10).fit(stock)\n",
    "Series(pcaout.explained_variance_ratio_).plot(style='.-')\n",
    "plt.show()"
   ]
  },
  {
   "cell_type": "code",
   "execution_count": 5,
   "metadata": {},
   "outputs": [
    {
     "data": {
      "text/plain": [
       "array([0.99908156, 0.00067713, 0.00009899, 0.00003843, 0.00002885,\n",
       "       0.00001448, 0.00001075, 0.00000848, 0.00000702, 0.00000663])"
      ]
     },
     "execution_count": 5,
     "metadata": {},
     "output_type": "execute_result"
    }
   ],
   "source": [
    "import numpy as np\n",
    "\n",
    "np.set_printoptions(suppress=True)\n",
    "pcaout.explained_variance_ratio_"
   ]
  }
 ],
 "metadata": {
  "kernelspec": {
   "display_name": "Python 3",
   "language": "python",
   "name": "python3"
  },
  "language_info": {
   "codemirror_mode": {
    "name": "ipython",
    "version": 3
   },
   "file_extension": ".py",
   "mimetype": "text/x-python",
   "name": "python",
   "nbconvert_exporter": "python",
   "pygments_lexer": "ipython3",
   "version": "3.7.8"
  },
  "toc-autonumbering": false,
  "toc-showcode": false,
  "toc-showmarkdowntxt": false
 },
 "nbformat": 4,
 "nbformat_minor": 4
}
