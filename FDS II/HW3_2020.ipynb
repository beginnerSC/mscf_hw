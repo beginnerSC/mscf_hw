{
 "cells": [
  {
   "cell_type": "markdown",
   "metadata": {},
   "source": [
    "# Homework 3\n",
    "\n",
    "Financial Data Science II, Fall 2020\n",
    "\n",
    "Due Monday, November 23 at 12:01 PM"
   ]
  },
  {
   "cell_type": "markdown",
   "metadata": {},
   "source": [
    "### Question 1\n",
    "Reconsider the options data set presented in Part 13 of the lecture notes. Do each of the following, using the full data set:\n",
    "\n",
    "1. Create a kernel density estimate of the ask price. Describe the shape of the distribution.\n",
    "\n",
    "2. Create scatter plots that explores the relationship between the ask price (on the log scale) and historical volatility, time to expiration, and strike price. (Create three separate scatter plots.) Place a nonparametric smooth on each plot. Does the shape of the relationship seem reasonable? Explain."
   ]
  },
  {
   "cell_type": "markdown",
   "metadata": {},
   "source": [
    "### Question 2\n",
    "\n",
    "**Step 1:** Start by installing the Python package `get-all-tickers`. You can find more information on this package at https://github.com/shilewenuw/get_all_tickers.\n",
    "\n",
    "Once this is installed, the following code will give you a list of all of the NYSE ticker symbols."
   ]
  },
  {
   "cell_type": "code",
   "execution_count": 15,
   "metadata": {},
   "outputs": [],
   "source": [
    "from get_all_tickers import get_tickers as gt\n",
    "\n",
    "NYSEtickers = gt.get_tickers(NYSE=True,NASDAQ=False,AMEX=False)"
   ]
  },
  {
   "cell_type": "markdown",
   "metadata": {},
   "source": [
    "**Step 2:** Randomly choose 200 of the ticker symbols from the list. **This is important; working with the entire list will be too time consuming.**"
   ]
  },
  {
   "cell_type": "markdown",
   "metadata": {},
   "source": [
    "**Step 3:** For each of your chosen symbols, obtain the market data from January and February of 2020. Below is an example of one such call. "
   ]
  },
  {
   "cell_type": "code",
   "execution_count": 17,
   "metadata": {},
   "outputs": [
    {
     "name": "stdout",
     "output_type": "stream",
     "text": [
      "[*********************100%***********************]  1 of 1 downloaded\n"
     ]
    }
   ],
   "source": [
    "import yfinance as yf\n",
    "data = yf.download(NYSEtickers[0], start=\"2020-01-01\", end=\"2020-03-01\")"
   ]
  },
  {
   "cell_type": "markdown",
   "metadata": {},
   "source": [
    "As you do this, create a data frame where each row is the **closing price** for each ticker symbol, and each column is a date. All of the other information (e.g., volume, open, close, etc.) can be discarded. I **strongly** recommend that after you create this data frame, you save it to a file so that you do not need to recreate this file multiple times. Take a look at `pandas.DataFrame.to_csv`."
   ]
  },
  {
   "cell_type": "markdown",
   "metadata": {},
   "source": [
    "**Step 4:** Standardize each row of the data frame so that it has mean zero and variance one."
   ]
  },
  {
   "cell_type": "markdown",
   "metadata": {},
   "source": [
    "**Step 5:** For each row in the data frame, create four new columns:\n",
    "\n",
    "1. The volatility (SD) of the prices during January\n",
    "2. The volatility (SD) of the prices during February\n",
    "3. The volatility (SD) of the prices during January after the prices from January have been smoothed.\n",
    "4. The volatility (SD) of the prices during February after the prices from February have been smoothed.\n",
    "\n",
    "Please note that a separate smooth should be done for each month; do not smooth the entire series, and then calculate the SD for each."
   ]
  },
  {
   "cell_type": "markdown",
   "metadata": {},
   "source": [
    "**Step 6:** Is the January volatility predictive of the February volatility? Does using the smoothed volatility improve your ability to predict?"
   ]
  }
 ],
 "metadata": {
  "kernelspec": {
   "display_name": "Python 3",
   "language": "python",
   "name": "python3"
  },
  "language_info": {
   "codemirror_mode": {
    "name": "ipython",
    "version": 3
   },
   "file_extension": ".py",
   "mimetype": "text/x-python",
   "name": "python",
   "nbconvert_exporter": "python",
   "pygments_lexer": "ipython3",
   "version": "3.7.8"
  }
 },
 "nbformat": 4,
 "nbformat_minor": 4
}
