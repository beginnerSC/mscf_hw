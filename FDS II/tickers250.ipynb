{
 "cells": [
  {
   "cell_type": "code",
   "execution_count": 8,
   "metadata": {},
   "outputs": [],
   "source": [
    "tickers = ['DEN', 'FF', 'GNT', 'NRUC', 'DNP', 'JHI', 'KEN', 'RSF', 'MSI',\n",
    "       'SAH', 'SOL', 'WFC', 'SIG', 'EXTN', 'BHK', 'CCO', 'RKT', 'WMK',\n",
    "       'SAVE', 'FMC', 'CNF', 'BRFS', 'IFF', 'LAD', 'FOR', 'ROP', 'SAM',\n",
    "       'EARN', 'SMP', 'PBC', 'WBS', 'FSLY', 'UIS', 'WTM', 'VRT', 'CX',\n",
    "       'NXC', 'YPF', 'ASX', 'FCRW', 'CCI', 'KRG', 'TG', 'ECL', 'ATGE',\n",
    "       'CEM', 'SJW', 'LCI', 'NVO', 'PAC', 'CW', 'EBF', 'LZB', 'VST',\n",
    "       'STT', 'KTF', 'IRET', 'ADC', 'TREB', 'ARL', 'ARR', 'FCRZ', 'MCK',\n",
    "       'SBR', 'JE', 'CHT', 'VNCE', 'ABR', 'CTVA', 'MMS', 'RE', 'HEXO',\n",
    "       'MHF', 'OHI', 'MXF', 'PM', 'GIX~', 'JWN', 'RCA', 'EQS', 'VVV',\n",
    "       'ROG', 'TREX', 'VEDL', 'NOM', 'CS', 'UNF', 'SCA', 'CIM', 'DHI',\n",
    "       'TARO', 'CATO', 'NEW', 'DSL', 'GLOP', 'MTOR', 'CUBI', 'BLE', 'ASR',\n",
    "       'NRK', 'LGC', 'BZM', 'PIPR', 'MUSA', 'MCS', 'DK', 'BPMP', 'NAN',\n",
    "       'SGU', 'ASH', 'SOI', 'REZI', 'BIP', 'PSB', 'EEX', 'GSL', 'MHLA',\n",
    "       'KMI', 'WOW', 'HMN', 'ACB', 'GPJA', 'E', 'SXI', 'LNN', 'BFT',\n",
    "       'PNM', 'DYFN', 'NAV', 'SJI', 'KF', 'EIX', 'FI', 'NGVT', 'NCLH',\n",
    "       'BH', 'UTI', 'DLX', 'UNMA', 'COO', 'SUM', 'BHC', 'SAP', 'EMN',\n",
    "       'AAT', 'HRL', 'FMN', 'FUL', 'DTE', 'FMS', 'V', 'CRY', 'FTCH', 'BV',\n",
    "       'MRC', 'TEL', 'UVV', 'PYN', 'SU', 'SNR', 'AVTR', 'HTD', 'OI',\n",
    "       'TOL', 'NXP', 'DKS', 'CSLT', 'WRE', 'TRU', 'BDX', 'IPOC', 'KGC',\n",
    "       'PHG', 'OLN', 'ACN', 'PLOW', 'CMCM', 'UZD', 'DFP', 'SFB', 'GRUB',\n",
    "       'ADX', 'SRL', 'BMEZ', 'OOMA', 'EURN', 'RPLA', 'GCV', 'WF', 'IX',\n",
    "       'PAYC', 'DCP', 'SFUN', 'EXPR', 'BOH', 'BY', 'GME', 'PXD', 'PCG',\n",
    "       'PANW', 'NVGS', 'SKM', 'CIXX', 'CUZ', 'BAM', 'DLY', 'BABA', 'FSLF',\n",
    "       'SAND          ', 'PPX', 'ABB', 'COR', 'ITCB', 'SWX', 'FRO', 'MUC',\n",
    "       'PTY', 'MMC', 'HIX', 'CYH', 'KNX', 'ETG', 'LL', 'WAT', 'SBBA',\n",
    "       'HYB', 'PSTL', 'PMVC', 'RMM', 'APO', 'OKE', 'UBER', 'KAI', 'BBK',\n",
    "       'WMB', 'CMC', 'MMP', 'FN', 'UTL', 'MQY', 'CVNA', 'JMM', 'NTR',\n",
    "       'EMP', 'CACI', 'GOF', 'TFC', 'DLNG', 'SBE', 'BEDU']"
   ]
  },
  {
   "cell_type": "code",
   "execution_count": 6,
   "metadata": {},
   "outputs": [
    {
     "data": {
      "text/plain": [
       "39.0"
      ]
     },
     "execution_count": 6,
     "metadata": {},
     "output_type": "execute_result"
    }
   ],
   "source": [
    "sum(dataJan.iloc[0]**2) + sum(dataFeb.iloc[0]**2)"
   ]
  },
  {
   "cell_type": "code",
   "execution_count": 16,
   "metadata": {},
   "outputs": [
    {
     "data": {
      "text/plain": [
       "0.6830407245017933"
      ]
     },
     "execution_count": 16,
     "metadata": {},
     "output_type": "execute_result"
    }
   ],
   "source": [
    "dataJan.iloc[0].std()"
   ]
  },
  {
   "cell_type": "code",
   "execution_count": 19,
   "metadata": {},
   "outputs": [
    {
     "data": {
      "text/plain": [
       "0.6830407245017933"
      ]
     },
     "execution_count": 19,
     "metadata": {},
     "output_type": "execute_result"
    }
   ],
   "source": [
    "import numpy as np\n",
    "np.sqrt(sum((dataJan.iloc[0] - dataJan.iloc[0].mean())**2)/20)"
   ]
  }
 ],
 "metadata": {
  "kernelspec": {
   "display_name": "Python 3",
   "language": "python",
   "name": "python3"
  },
  "language_info": {
   "codemirror_mode": {
    "name": "ipython",
    "version": 3
   },
   "file_extension": ".py",
   "mimetype": "text/x-python",
   "name": "python",
   "nbconvert_exporter": "python",
   "pygments_lexer": "ipython3",
   "version": "3.7.8"
  }
 },
 "nbformat": 4,
 "nbformat_minor": 4
}
