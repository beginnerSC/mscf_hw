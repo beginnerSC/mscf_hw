{
 "cells": [
  {
   "cell_type": "markdown",
   "metadata": {},
   "source": [
    "\n",
    "\\begin{center}\n",
    "Chun-Yuan (Scott) Chiu\n",
    "\\end{center}\n",
    "\\begin{center}\n",
    "chunyuac@andrew.cmu.edu\n",
    "\\end{center}"
   ]
  },
  {
   "cell_type": "markdown",
   "metadata": {},
   "source": [
    "# 1. {-}"
   ]
  },
  {
   "cell_type": "code",
   "execution_count": 52,
   "metadata": {},
   "outputs": [
    {
     "name": "stdout",
     "output_type": "stream",
     "text": [
      "[*********************100%***********************]  1 of 1 completed\n"
     ]
    },
    {
     "data": {
      "text/html": [
       "<div>\n",
       "<style scoped>\n",
       "    .dataframe tbody tr th:only-of-type {\n",
       "        vertical-align: middle;\n",
       "    }\n",
       "\n",
       "    .dataframe tbody tr th {\n",
       "        vertical-align: top;\n",
       "    }\n",
       "\n",
       "    .dataframe thead th {\n",
       "        text-align: right;\n",
       "    }\n",
       "</style>\n",
       "<table border=\"1\" class=\"dataframe\">\n",
       "  <thead>\n",
       "    <tr style=\"text-align: right;\">\n",
       "      <th></th>\n",
       "      <th>Date</th>\n",
       "      <th>Open</th>\n",
       "      <th>High</th>\n",
       "      <th>Low</th>\n",
       "      <th>Close</th>\n",
       "      <th>Adj Close</th>\n",
       "      <th>Volume</th>\n",
       "    </tr>\n",
       "  </thead>\n",
       "  <tbody>\n",
       "    <tr>\n",
       "      <th>0</th>\n",
       "      <td>1973-12-31</td>\n",
       "      <td>0.0</td>\n",
       "      <td>1.953125</td>\n",
       "      <td>1.937500</td>\n",
       "      <td>1.937500</td>\n",
       "      <td>0.393612</td>\n",
       "      <td>36000</td>\n",
       "    </tr>\n",
       "    <tr>\n",
       "      <th>1</th>\n",
       "      <td>1974-01-02</td>\n",
       "      <td>0.0</td>\n",
       "      <td>1.937500</td>\n",
       "      <td>1.890625</td>\n",
       "      <td>1.890625</td>\n",
       "      <td>0.384089</td>\n",
       "      <td>27200</td>\n",
       "    </tr>\n",
       "    <tr>\n",
       "      <th>2</th>\n",
       "      <td>1974-01-03</td>\n",
       "      <td>0.0</td>\n",
       "      <td>2.000000</td>\n",
       "      <td>1.890625</td>\n",
       "      <td>2.000000</td>\n",
       "      <td>0.406309</td>\n",
       "      <td>220800</td>\n",
       "    </tr>\n",
       "    <tr>\n",
       "      <th>3</th>\n",
       "      <td>1974-01-04</td>\n",
       "      <td>0.0</td>\n",
       "      <td>2.000000</td>\n",
       "      <td>1.968750</td>\n",
       "      <td>1.968750</td>\n",
       "      <td>0.399961</td>\n",
       "      <td>39200</td>\n",
       "    </tr>\n",
       "    <tr>\n",
       "      <th>4</th>\n",
       "      <td>1974-01-07</td>\n",
       "      <td>0.0</td>\n",
       "      <td>1.984375</td>\n",
       "      <td>1.953125</td>\n",
       "      <td>1.953125</td>\n",
       "      <td>0.396786</td>\n",
       "      <td>54400</td>\n",
       "    </tr>\n",
       "  </tbody>\n",
       "</table>\n",
       "</div>"
      ],
      "text/plain": [
       "        Date  Open      High       Low     Close  Adj Close  Volume\n",
       "0 1973-12-31   0.0  1.953125  1.937500  1.937500   0.393612   36000\n",
       "1 1974-01-02   0.0  1.937500  1.890625  1.890625   0.384089   27200\n",
       "2 1974-01-03   0.0  2.000000  1.890625  2.000000   0.406309  220800\n",
       "3 1974-01-04   0.0  2.000000  1.968750  1.968750   0.399961   39200\n",
       "4 1974-01-07   0.0  1.984375  1.953125  1.953125   0.396786   54400"
      ]
     },
     "execution_count": 52,
     "metadata": {},
     "output_type": "execute_result"
    }
   ],
   "source": [
    "import yfinance as yf\n",
    "import numpy as np\n",
    "import datetime\n",
    "\n",
    "kd = yf.download('K', start=datetime.date(1973, 12, 31), end=datetime.date(2019, 12, 31)).reset_index()\n",
    "kd.head()"
   ]
  },
  {
   "cell_type": "code",
   "execution_count": 46,
   "metadata": {},
   "outputs": [],
   "source": [
    "kd['month'] = [date.month for date in kd['Date']]\n",
    "kd['year'] = [date.year for date in kd['Date']]\n",
    "kd = kd[['Date', 'year', 'month', 'Adj Close']]\n",
    "km = kd.groupby(['year', 'month']).last()\n",
    "ky = kd.groupby(['year']).last()"
   ]
  },
  {
   "cell_type": "code",
   "execution_count": 50,
   "metadata": {},
   "outputs": [
    {
     "data": {
      "text/html": [
       "<div>\n",
       "<style scoped>\n",
       "    .dataframe tbody tr th:only-of-type {\n",
       "        vertical-align: middle;\n",
       "    }\n",
       "\n",
       "    .dataframe tbody tr th {\n",
       "        vertical-align: top;\n",
       "    }\n",
       "\n",
       "    .dataframe thead th {\n",
       "        text-align: right;\n",
       "    }\n",
       "</style>\n",
       "<table border=\"1\" class=\"dataframe\">\n",
       "  <thead>\n",
       "    <tr style=\"text-align: right;\">\n",
       "      <th></th>\n",
       "      <th></th>\n",
       "      <th>Date</th>\n",
       "      <th>Adj Close</th>\n",
       "    </tr>\n",
       "    <tr>\n",
       "      <th>year</th>\n",
       "      <th>month</th>\n",
       "      <th></th>\n",
       "      <th></th>\n",
       "    </tr>\n",
       "  </thead>\n",
       "  <tbody>\n",
       "    <tr>\n",
       "      <th>1973</th>\n",
       "      <th>12</th>\n",
       "      <td>1973-12-31</td>\n",
       "      <td>0.393612</td>\n",
       "    </tr>\n",
       "    <tr>\n",
       "      <th rowspan=\"4\" valign=\"top\">1974</th>\n",
       "      <th>1</th>\n",
       "      <td>1974-01-31</td>\n",
       "      <td>0.447575</td>\n",
       "    </tr>\n",
       "    <tr>\n",
       "      <th>2</th>\n",
       "      <td>1974-02-28</td>\n",
       "      <td>0.422181</td>\n",
       "    </tr>\n",
       "    <tr>\n",
       "      <th>3</th>\n",
       "      <td>1974-03-29</td>\n",
       "      <td>0.409484</td>\n",
       "    </tr>\n",
       "    <tr>\n",
       "      <th>4</th>\n",
       "      <td>1974-04-30</td>\n",
       "      <td>0.422181</td>\n",
       "    </tr>\n",
       "  </tbody>\n",
       "</table>\n",
       "</div>"
      ],
      "text/plain": [
       "                 Date  Adj Close\n",
       "year month                      \n",
       "1973 12    1973-12-31   0.393612\n",
       "1974 1     1974-01-31   0.447575\n",
       "     2     1974-02-28   0.422181\n",
       "     3     1974-03-29   0.409484\n",
       "     4     1974-04-30   0.422181"
      ]
     },
     "execution_count": 50,
     "metadata": {},
     "output_type": "execute_result"
    }
   ],
   "source": [
    "km.head()"
   ]
  },
  {
   "cell_type": "code",
   "execution_count": 49,
   "metadata": {},
   "outputs": [
    {
     "data": {
      "text/html": [
       "<div>\n",
       "<style scoped>\n",
       "    .dataframe tbody tr th:only-of-type {\n",
       "        vertical-align: middle;\n",
       "    }\n",
       "\n",
       "    .dataframe tbody tr th {\n",
       "        vertical-align: top;\n",
       "    }\n",
       "\n",
       "    .dataframe thead th {\n",
       "        text-align: right;\n",
       "    }\n",
       "</style>\n",
       "<table border=\"1\" class=\"dataframe\">\n",
       "  <thead>\n",
       "    <tr style=\"text-align: right;\">\n",
       "      <th></th>\n",
       "      <th>Date</th>\n",
       "      <th>month</th>\n",
       "      <th>Adj Close</th>\n",
       "    </tr>\n",
       "    <tr>\n",
       "      <th>year</th>\n",
       "      <th></th>\n",
       "      <th></th>\n",
       "      <th></th>\n",
       "    </tr>\n",
       "  </thead>\n",
       "  <tbody>\n",
       "    <tr>\n",
       "      <th>1973</th>\n",
       "      <td>1973-12-31</td>\n",
       "      <td>12</td>\n",
       "      <td>0.393612</td>\n",
       "    </tr>\n",
       "    <tr>\n",
       "      <th>1974</th>\n",
       "      <td>1974-12-31</td>\n",
       "      <td>12</td>\n",
       "      <td>0.387264</td>\n",
       "    </tr>\n",
       "    <tr>\n",
       "      <th>1975</th>\n",
       "      <td>1975-12-31</td>\n",
       "      <td>12</td>\n",
       "      <td>0.545978</td>\n",
       "    </tr>\n",
       "    <tr>\n",
       "      <th>1976</th>\n",
       "      <td>1976-12-31</td>\n",
       "      <td>12</td>\n",
       "      <td>0.701518</td>\n",
       "    </tr>\n",
       "    <tr>\n",
       "      <th>1977</th>\n",
       "      <td>1977-12-30</td>\n",
       "      <td>12</td>\n",
       "      <td>0.618987</td>\n",
       "    </tr>\n",
       "  </tbody>\n",
       "</table>\n",
       "</div>"
      ],
      "text/plain": [
       "           Date  month  Adj Close\n",
       "year                             \n",
       "1973 1973-12-31     12   0.393612\n",
       "1974 1974-12-31     12   0.387264\n",
       "1975 1975-12-31     12   0.545978\n",
       "1976 1976-12-31     12   0.701518\n",
       "1977 1977-12-30     12   0.618987"
      ]
     },
     "execution_count": 49,
     "metadata": {},
     "output_type": "execute_result"
    }
   ],
   "source": [
    "ky.head()"
   ]
  },
  {
   "cell_type": "code",
   "execution_count": 63,
   "metadata": {},
   "outputs": [],
   "source": [
    "ldr = np.log(kd['Adj Close']).diff()[1:].values\n",
    "lmr = np.log(km['Adj Close']).diff()[1:].values\n",
    "lyr = np.log(ky['Adj Close']).diff()[1:].values"
   ]
  },
  {
   "cell_type": "code",
   "execution_count": 70,
   "metadata": {},
   "outputs": [
    {
     "data": {
      "image/png": "[encoded data removed]",
      "text/plain": [
       "<Figure size 1440x360 with 3 Axes>"
      ]
     },
     "metadata": {
      "needs_background": "light"
     },
     "output_type": "display_data"
    }
   ],
   "source": [
    "from statsmodels.graphics.gofplots import qqplot\n",
    "import matplotlib.pyplot as plt\n",
    "\n",
    "\n",
    "fig, axs = plt.subplots(1, 3, figsize=(20, 5))\n",
    "\n",
    "qqplot(ldr, line='s', ax=axs[0])\n",
    "qqplot(lmr, line='s', ax=axs[1])\n",
    "qqplot(lyr, line='s', ax=axs[2])\n",
    "plt.show()\n"
   ]
  },
  {
   "cell_type": "markdown",
   "metadata": {},
   "source": [
    "# 2. {-}\n",
    "\n",
    "## Implementation Details {-}\n",
    "\n",
    "To implement the ```fitSkewT()``` function we will need the log likelihood of the skewed generalized t distribution (SGT) and hence the pdf, which we implement as ```pdf()```. The implementation is straightforward from the original paper by Theodossiou (1998) with $x$ replaced by $x-\\mu$ to add a shift to the distribution. To find the MLE we use a numerical optimization procedure, which requires an initial guess for each parameter. For $\\mu, \\sigma^2, k$ and $n$ we use the same initial guesses as in class, which are sample mean for $\\mu$, sample variance for $\\sigma^2$, $k=2$, $n=15$. \n",
    "\n",
    "\n",
    "To obtain an initial guess of $\\lambda$ we make use of a property of SGT: If $X$ follows the SGT (with the shift $\\mu=0$) then $P(X > 0) = (1+\\lambda)/2$. This property is given by Theorem 2 in Theodossiou (1998). Adding the shift, this property says $P(X+\\mu > \\mu) = (1+\\lambda)/2$, or equivalently $\\lambda = 2P(X+\\mu > \\mu) -1$. Thus we compute the sample probability that the generated random number is greater than the shift, where shift is estimated by the sample mean. The sample probability is then multiplied by 2 and minus 1. The result is used as the initial guess of $\\lambda$. \n",
    "\n",
    "\n",
    "In ```fitSkewT()``` we also call ```numdifftools.Hessian``` to compute the Hessian matrix of the log likelihood function at the MLE, the inverse of which is the covariance matrix of the MLE and is returned along with the MLE itself. \n",
    "\n",
    "\n",
    "To test the accuracy of the computed MLE, the cumulative distribution function and its inverse are also implemented (as ```cdf()``` and ```ppf()```, respectively). The implementation of ```cdf()``` again makes use of the property $P(X+\\mu < \\mu) = (1-\\lambda)/2$, which implies that \n",
    "$$\n",
    "F_{X+\\mu}(c) = P(X+\\mu < c) = (1-\\lambda)/2 + \\int_\\mu^c f_X(x) dx, \n",
    "$$\n",
    "where $F_{X+\\mu}(x)$ is the desired cdf of SGT with drift, and $f_X(x)$ is the pdf of SGT *without* drift. Thus the computation of the cdf at any values of $c$ only involves a definite integral, which is easier and faster to compute numerically, compared to an improper integral. \n",
    "\n",
    "\n",
    "To compute ```ppf()``` at a given value $y$ is to find the solution of $F_{X+\\mu}(x) - y = 0$, where $F_{X+\\mu}(x)$ is given by ```cdf()```. We use Newton's method in ```scipy.optimize.root_scalar```. SGT with drift $\\mu$ has a nice property that the peak is always at $\\mu$, which means $\\mu$ is the inflection point of $F_{X+\\mu}(x) - y$. Thus, using $\\mu$ as an initial guess, Newton's method is guaranteed to converge. \n",
    "\n",
    "\n",
    "Finally a ```rvs()``` function is implemented to generate SGT random numbers given sample size and parameters using the inverse transform sampling, which is straightforward given ```ppf()```. "
   ]
  },
  {
   "cell_type": "code",
   "execution_count": null,
   "metadata": {},
   "outputs": [],
   "source": [
    "from pandas import DataFrame\n",
    "from scipy.special import beta\n",
    "from scipy.optimize import minimize, root_scalar\n",
    "from scipy.integrate import quad\n",
    "from scipy import stats\n",
    "import numpy as np\n",
    "import numdifftools as nd\n",
    "\n",
    "def pdf(x, mu, k, n, lam, sigma2, log=False):\n",
    "    '''\n",
    "    k > 0, n > 2, sigma2 > 0, -1 < lam < 1\n",
    "    '''\n",
    "    sigma = np.sqrt(sigma2)\n",
    "\n",
    "    S = np.sqrt(1 + 3*(lam**2) - 4*(lam**2)*((beta(2/k, (n-1)/k)**2)/(beta(1/k, n/k)*beta(3/k, (n-2)/k))))\n",
    "    c = 0.5*k*np.sqrt((beta(1/k, n/k)**(-3))*beta(3/k, (n-2)/k))*S/sigma\n",
    "    theta = ((k/(n-2))**(1/k))*np.sqrt(beta(1/k, n/k)/beta(3/k, (n-2)/k))/S\n",
    "    \n",
    "    if log:\n",
    "        return np.log(c)-(n+1)*np.log(1 + (k/(n-2))*(np.abs(x-mu)/(sigma*theta*(1 + np.sign(x-mu)*lam)))**k)/k\n",
    "    else:\n",
    "        return c*(1+(k/(n-2))*(np.abs(x-mu)/(sigma*theta*(1 + np.sign(x-mu)*lam)))**k)**(-(n+1)/k)\n",
    "\n",
    "def cdf(x, mu, k, n, lam, sigma2):\n",
    "    integrand = lambda u: pdf(u-mu, 0, k, n, lam, sigma2)\n",
    "    return quad(integrand, mu, x)[0] + (1-lam)/2\n",
    "\n",
    "def ppf(y, mu, k, n, lam, sigma2):\n",
    "    assert 0 < y < 1, 'y must be in [0, 1].'  \n",
    "    res = root_scalar(lambda x: cdf(x, mu, k, n, lam, sigma2)-y, method='newton', x0=mu, fprime=lambda x: pdf(x, mu, k, n, lam, sigma2))\n",
    "    assert res.converged, \"Newton's method failed to converge.\"\n",
    "    return res.root\n",
    "\n",
    "def rvs(size, mu, k, n, lam, sigma2):\n",
    "    return np.array([ppf(u, mu, k, n, lam, sigma2) for u in np.random.uniform(size=size)])\n",
    "\n",
    "def fitSkewT(x, allowshift=False):\n",
    "    \n",
    "    if(allowshift):\n",
    "        initMu = np.mean(x)\n",
    "        initpars = [initMu, 2, 15, 2*(np.array(x) > initMu).sum()/len(x)-1, np.var(x)]\n",
    "        def negloglikelihood(params, x):\n",
    "            mu, k, n, lam, sigma2 = params\n",
    "            return (-1)*pdf(x, mu, k, n, lam, sigma2, log=True).sum()\n",
    "        \n",
    "        mleout = minimize(negloglikelihood, initpars, args=(x), method='L-BFGS-B', bounds=[(None, None), (0.001, None), (2.001, None), (-0.999, 0.999), (0.001, None)])\n",
    "        hessfunc = nd.Hessian(negloglikelihood)\n",
    "        return mleout.x, np.linalg.inv(hessfunc(mleout.x, x))\n",
    "    \n",
    "    else:\n",
    "        initpars = [2, 15, 2*(np.array(x)>0).sum()/len(x)-1, np.var(x)]\n",
    "        def negloglikelihood(params, x):\n",
    "            k, n, lam, sigma2 = params\n",
    "            return (-1)*pdf(x, 0, k, n, lam, sigma2, log=True).sum()\n",
    "        \n",
    "        mleout = minimize(negloglikelihood, initpars, args=(x), method='L-BFGS-B', bounds=[(0.001, None), (2.001, None), (-0.999, 0.999), (0.001, None)])\n",
    "        hessfunc = nd.Hessian(negloglikelihood)\n",
    "        mat = hessfunc(mleout.x, x)\n",
    "        return mleout.x, np.linalg.inv(hessfunc(mleout.x, x))"
   ]
  },
  {
   "cell_type": "markdown",
   "metadata": {},
   "source": [
    "## Test with $\\mu=0$ {-}\n",
    "\n",
    "Below we put everything together to test ```fitSkewT()```. First we run the test without shift, meaning $\\mu=0$. 50,000 SGT random numbers are generated with parameters $k=2, n=10, \\lambda=-0.5, \\sigma^2=1$ and the MLE and its covariance matrix are computed. Despite the warning given by ```numdifftools.Hessian```, the results show that the MLE found is accurate and the true parameters are all covered in the corresponding confidence interval, which confirms that all functions are implemented correctly. \n",
    "\n",
    "A thorough debugging shows that the warnings are from ```numdifftools.Hessian```, which computes the 2nd derivative of a function $f$ using the finite difference method: \n",
    "\\begin{align*}\n",
    "f^{\\prime\\prime}(x) \\approx \\frac{f(x+\\Delta x) - 2f(x) + f(x-\\Delta x)}{\\Delta x^2}. \n",
    "\\end{align*}\n",
    "Without careful controls, for example, $x-\\Delta x$ may go out of the domain of $f$ when $x$ is close to zero and $f$ involves square root or logarithm which only takes positive numbers. To fix the warning would require to change the code in ```numdifftools.Hessian``` to take the extreme cases into consideration. "
   ]
  },
  {
   "cell_type": "code",
   "execution_count": 4,
   "metadata": {},
   "outputs": [
    {
     "name": "stderr",
     "output_type": "stream",
     "text": [
      "/srv/conda/envs/notebook/lib/python3.7/site-packages/ipykernel_launcher.py:16: RuntimeWarning: invalid value encountered in sqrt\n",
      "  app.launch_new_instance()\n",
      "/srv/conda/envs/notebook/lib/python3.7/site-packages/ipykernel_launcher.py:17: RuntimeWarning: invalid value encountered in double_scalars\n",
      "/srv/conda/envs/notebook/lib/python3.7/site-packages/ipykernel_launcher.py:17: RuntimeWarning: invalid value encountered in sqrt\n",
      "/srv/conda/envs/notebook/lib/python3.7/site-packages/ipykernel_launcher.py:15: RuntimeWarning: invalid value encountered in sqrt\n",
      "  from ipykernel import kernelapp as app\n",
      "/srv/conda/envs/notebook/lib/python3.7/site-packages/ipykernel_launcher.py:20: RuntimeWarning: invalid value encountered in power\n",
      "/srv/conda/envs/notebook/lib/python3.7/site-packages/ipykernel_launcher.py:13: RuntimeWarning: invalid value encountered in sqrt\n",
      "  del sys.path[0]\n",
      "/srv/conda/envs/notebook/lib/python3.7/site-packages/ipykernel_launcher.py:16: RuntimeWarning: invalid value encountered in sqrt\n",
      "  app.launch_new_instance()\n",
      "/srv/conda/envs/notebook/lib/python3.7/site-packages/ipykernel_launcher.py:17: RuntimeWarning: invalid value encountered in double_scalars\n",
      "/srv/conda/envs/notebook/lib/python3.7/site-packages/ipykernel_launcher.py:17: RuntimeWarning: invalid value encountered in sqrt\n",
      "/srv/conda/envs/notebook/lib/python3.7/site-packages/ipykernel_launcher.py:15: RuntimeWarning: invalid value encountered in sqrt\n",
      "  from ipykernel import kernelapp as app\n",
      "/srv/conda/envs/notebook/lib/python3.7/site-packages/ipykernel_launcher.py:20: RuntimeWarning: invalid value encountered in power\n",
      "/srv/conda/envs/notebook/lib/python3.7/site-packages/ipykernel_launcher.py:13: RuntimeWarning: invalid value encountered in sqrt\n",
      "  del sys.path[0]\n"
     ]
    },
    {
     "name": "stdout",
     "output_type": "stream",
     "text": [
      "MLE for k, n, lambda and sigma2:  [ 2.00279629  9.18781764 -0.49442739  1.00352337]\n",
      "\n",
      "Covariance matrix of the MLE: \n",
      "                k         n    lambda    sigma2\n",
      "k       0.002139 -0.029235 -0.000002  0.000015\n",
      "n      -0.029235  0.517771  0.000035 -0.001835\n",
      "lambda -0.000002  0.000035  0.000006 -0.000003\n",
      "sigma2  0.000015 -0.001835 -0.000003  0.000078\n",
      "\n",
      "Confidence Intervals for the 4 parameters:  [(1.9121427083818585, 2.0934498809955633), (7.777500203504956, 10.598135080701034), (-0.49923916883011465, -0.4896156039852224), (0.986254867355361, 1.0207918723970564)]\n"
     ]
    }
   ],
   "source": [
    "size = 50000\n",
    "k = 2\n",
    "n = 10\n",
    "lam = -0.5\n",
    "sigma2 = 1\n",
    "mu = 0\n",
    "\n",
    "x = rvs(size, mu, k, n, lam, sigma2)\n",
    "\n",
    "mle, var = fitSkewT(x, allowshift=False)\n",
    "z = stats.norm.ppf(1-0.025)\n",
    "\n",
    "print('MLE for k, n, lambda and sigma2: ', mle)\n",
    "print()\n",
    "print('Covariance matrix of the MLE: \\n', DataFrame(var, columns=['k', 'n', 'lambda', 'sigma2'], index=['k', 'n', 'lambda', 'sigma2']))\n",
    "print()\n",
    "print('Confidence Intervals for the 4 parameters: ', [(mle[i] - z*np.sqrt(var[i][i]), mle[i] + z*np.sqrt(var[i][i])) for i in range(4)])"
   ]
  },
  {
   "cell_type": "markdown",
   "metadata": {},
   "source": [
    "## Test with Nonzero Shift\n",
    "\n",
    "Next we run the same test but with a nonzero shift $\\mu=1.5$. 50,000 SGT random numbers are generated with the same parameters as above and the MLE and its covariance matrix are computed. Again, despite the warning given by ```numdifftools.Hessian```, the results show that the MLE found is accurate, indicating that the implementation with nonzero shift is correct. "
   ]
  },
  {
   "cell_type": "code",
   "execution_count": 5,
   "metadata": {},
   "outputs": [
    {
     "name": "stderr",
     "output_type": "stream",
     "text": [
      "/srv/conda/envs/notebook/lib/python3.7/site-packages/ipykernel_launcher.py:15: RuntimeWarning: invalid value encountered in sqrt\n",
      "  from ipykernel import kernelapp as app\n",
      "/srv/conda/envs/notebook/lib/python3.7/site-packages/ipykernel_launcher.py:17: RuntimeWarning: invalid value encountered in double_scalars\n",
      "/srv/conda/envs/notebook/lib/python3.7/site-packages/ipykernel_launcher.py:20: RuntimeWarning: invalid value encountered in power\n",
      "/srv/conda/envs/notebook/lib/python3.7/site-packages/ipykernel_launcher.py:13: RuntimeWarning: invalid value encountered in sqrt\n",
      "  del sys.path[0]\n",
      "/srv/conda/envs/notebook/lib/python3.7/site-packages/ipykernel_launcher.py:16: RuntimeWarning: invalid value encountered in sqrt\n",
      "  app.launch_new_instance()\n",
      "/srv/conda/envs/notebook/lib/python3.7/site-packages/ipykernel_launcher.py:17: RuntimeWarning: invalid value encountered in sqrt\n"
     ]
    },
    {
     "name": "stdout",
     "output_type": "stream",
     "text": [
      "MLE for mu, k, n, lambda and sigma2:  [ 1.52455894  1.99154301 10.0033813  -0.5161979   1.00705431]\n",
      "\n",
      "Covariance matrix of the MLE: \n",
      "               mu         k         n    lambda    sigma2\n",
      "mu      0.000064  0.000009 -0.000134 -0.000040  0.000022\n",
      "k       0.000009  0.002111 -0.034118 -0.000005  0.000004\n",
      "n      -0.000134 -0.034118  0.713508  0.000073 -0.001866\n",
      "lambda -0.000040 -0.000005  0.000073  0.000031 -0.000017\n",
      "sigma2  0.000022  0.000004 -0.001866 -0.000017  0.000082\n",
      "\n",
      "Confidence Intervals for the 5 parameters:  [(1.5089083422544234, 1.5402095409151402), (1.9014922791252897, 2.081593742225219), (8.347811605534284, 11.658951003649657), (-0.5270349447867958, -0.5053608469149563), (0.9892791548484049, 1.0248294619946112)]\n"
     ]
    }
   ],
   "source": [
    "size = 50000\n",
    "k = 2\n",
    "n = 10\n",
    "lam = -0.5\n",
    "sigma2 = 1\n",
    "mu = 1.5\n",
    "\n",
    "x = rvs(size, mu, k, n, lam, sigma2)\n",
    "\n",
    "mle, var = fitSkewT(x, allowshift=True)\n",
    "z = stats.norm.ppf(1-0.025)\n",
    "\n",
    "print('MLE for mu, k, n, lambda and sigma2: ', mle)\n",
    "print()\n",
    "print('Covariance matrix of the MLE: \\n', DataFrame(var, columns=['mu', 'k', 'n', 'lambda', 'sigma2'], index=['mu', 'k', 'n', 'lambda', 'sigma2']))\n",
    "print()\n",
    "print('Confidence Intervals for the 5 parameters: ', [(mle[i] - z*np.sqrt(var[i][i]), mle[i] + z*np.sqrt(var[i][i])) for i in range(5)])\n"
   ]
  }
 ],
 "metadata": {
  "kernelspec": {
   "display_name": "Python 3",
   "language": "python",
   "name": "python3"
  },
  "language_info": {
   "codemirror_mode": {
    "name": "ipython",
    "version": 3
   },
   "file_extension": ".py",
   "mimetype": "text/x-python",
   "name": "python",
   "nbconvert_exporter": "python",
   "pygments_lexer": "ipython3",
   "version": "3.7.8"
  },
  "toc-autonumbering": false,
  "toc-showcode": false,
  "toc-showmarkdowntxt": false
 },
 "nbformat": 4,
 "nbformat_minor": 4
}
