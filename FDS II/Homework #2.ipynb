{
 "cells": [
  {
   "cell_type": "markdown",
   "metadata": {},
   "source": [
    "\n",
    "\\begin{center}\n",
    "Chun-Yuan (Scott) Chiu\n",
    "\\end{center}\n",
    "\\begin{center}\n",
    "chunyuac@andrew.cmu.edu\n",
    "\\end{center}"
   ]
  },
  {
   "cell_type": "markdown",
   "metadata": {},
   "source": [
    "# 2. {-}\n",
    "\n"
   ]
  },
  {
   "cell_type": "code",
   "execution_count": 66,
   "metadata": {},
   "outputs": [
    {
     "name": "stderr",
     "output_type": "stream",
     "text": [
      "/srv/conda/envs/notebook/lib/python3.7/site-packages/ipykernel_launcher.py:16: RuntimeWarning: invalid value encountered in sqrt\n",
      "  app.launch_new_instance()\n",
      "/srv/conda/envs/notebook/lib/python3.7/site-packages/ipykernel_launcher.py:17: RuntimeWarning: invalid value encountered in double_scalars\n",
      "/srv/conda/envs/notebook/lib/python3.7/site-packages/ipykernel_launcher.py:17: RuntimeWarning: invalid value encountered in sqrt\n",
      "/srv/conda/envs/notebook/lib/python3.7/site-packages/ipykernel_launcher.py:15: RuntimeWarning: invalid value encountered in sqrt\n",
      "  from ipykernel import kernelapp as app\n",
      "/srv/conda/envs/notebook/lib/python3.7/site-packages/ipykernel_launcher.py:20: RuntimeWarning: invalid value encountered in power\n",
      "/srv/conda/envs/notebook/lib/python3.7/site-packages/ipykernel_launcher.py:13: RuntimeWarning: invalid value encountered in sqrt\n",
      "  del sys.path[0]\n",
      "/srv/conda/envs/notebook/lib/python3.7/site-packages/ipykernel_launcher.py:16: RuntimeWarning: invalid value encountered in sqrt\n",
      "  app.launch_new_instance()\n",
      "/srv/conda/envs/notebook/lib/python3.7/site-packages/ipykernel_launcher.py:17: RuntimeWarning: invalid value encountered in double_scalars\n",
      "/srv/conda/envs/notebook/lib/python3.7/site-packages/ipykernel_launcher.py:17: RuntimeWarning: invalid value encountered in sqrt\n",
      "/srv/conda/envs/notebook/lib/python3.7/site-packages/ipykernel_launcher.py:15: RuntimeWarning: invalid value encountered in sqrt\n",
      "  from ipykernel import kernelapp as app\n",
      "/srv/conda/envs/notebook/lib/python3.7/site-packages/ipykernel_launcher.py:20: RuntimeWarning: invalid value encountered in power\n",
      "/srv/conda/envs/notebook/lib/python3.7/site-packages/ipykernel_launcher.py:13: RuntimeWarning: invalid value encountered in sqrt\n",
      "  del sys.path[0]\n"
     ]
    },
    {
     "name": "stdout",
     "output_type": "stream",
     "text": [
      "MLE for k, n, lambda and sigma2:  [ 2.06043762  9.38748487 -0.49932169  1.01037844]\n",
      "\n",
      "Covariance matrix of the MLE: \n",
      "                k         n    lambda    sigma2\n",
      "k       0.010649 -0.139952  0.000006  0.000004\n",
      "n      -0.139952  2.456909 -0.000057 -0.007943\n",
      "lambda  0.000006 -0.000057  0.000029 -0.000016\n",
      "sigma2  0.000004 -0.007943 -0.000016  0.000372\n",
      "\n",
      "Confidence Intervals for the 4 parameters:  [(1.8581809769961335, 2.2626942606718004), (6.31533327736936, 12.459636457361183), (-0.5099504519759688, -0.48869291880944815), (0.972588995801543, 1.048167890244419)]\n"
     ]
    }
   ],
   "source": [
    "from pandas import DataFrame\n",
    "from scipy.special import beta\n",
    "from scipy.optimize import minimize, root_scalar\n",
    "from scipy.integrate import quad\n",
    "from scipy import stats\n",
    "import numpy as np\n",
    "import numdifftools as nd\n",
    "\n",
    "def pdf(x, mu, k, n, lam, sigma2, log=False):\n",
    "    '''\n",
    "    k > 0, n > 2, sigma2 > 0, -1 < lam < 1\n",
    "    '''\n",
    "    sigma = np.sqrt(sigma2)\n",
    "\n",
    "    S = np.sqrt(1 + 3*(lam**2) - 4*(lam**2)*((beta(2/k, (n-1)/k)**2)/(beta(1/k, n/k)*beta(3/k, (n-2)/k))))\n",
    "    c = 0.5*k*np.sqrt((beta(1/k, n/k)**(-3))*beta(3/k, (n-2)/k))*S/sigma\n",
    "    theta = ((k/(n-2))**(1/k))*np.sqrt(beta(1/k, n/k)/beta(3/k, (n-2)/k))/S\n",
    "    \n",
    "    if log:\n",
    "        return np.log(c)-(n+1)*np.log(1 + (k/(n-2))*(np.abs(x-mu)/(sigma*theta*(1 + np.sign(x-mu)*lam)))**k)/k\n",
    "    else:\n",
    "        return c*(1+(k/(n-2))*(np.abs(x-mu)/(sigma*theta*(1 + np.sign(x-mu)*lam)))**k)**(-(n+1)/k)\n",
    "\n",
    "def cdf(x, mu, k, n, lam, sigma2):\n",
    "    integrand = lambda u: pdf(u-mu, 0, k, n, lam, sigma2)\n",
    "    return quad(integrand, 0, x)[0] + (1-lam)/2\n",
    "\n",
    "def ppf(y, mu, k, n, lam, sigma2):\n",
    "    assert 0 < y < 1, 'y must be in [0, 1].'  \n",
    "    res = root_scalar(lambda x: cdf(x, mu, k, n, lam, sigma2)-y, method='newton', x0=mu, fprime=lambda x: pdf(x, mu, k, n, lam, sigma2))\n",
    "    assert res.converged, \"Newton's method failed to converge.\"\n",
    "    return res.root\n",
    "\n",
    "def rvs(size, mu, k, n, lam, sigma2):\n",
    "    return np.array([ppf(u, mu, k, n, lam, sigma2) for u in np.random.uniform(size=size)])\n",
    "\n",
    "def fitSkewT(x, allowshift=False):\n",
    "    \n",
    "    if(allowshift):\n",
    "        initpars = [np.mean(x), 2, 15, 2*(np.array(x)>0).sum()/len(x)-1, np.var(x)]\n",
    "        def negloglikelihood(params, x):\n",
    "            mu, k, n, lam, sigma2 = params\n",
    "            return (-1)*pdf(x, mu, k, n, lam, sigma2, log=True).sum()\n",
    "        \n",
    "        mleout = minimize(negloglikelihood, initpars, args=(x), method='L-BFGS-B', bounds=[(None, None), (0.001, None), (2.001, None), (-0.999, 0.999), (0.001, None)])\n",
    "        hessfunc = nd.Hessian(negloglikelihood)\n",
    "        return mleout.x, np.linalg.inv(hessfunc(mleout.x, x))\n",
    "    \n",
    "    else:\n",
    "        initpars = [2, 15, 2*(x>0).sum()/len(x)-1, np.var(x)]\n",
    "        def negloglikelihood(params, x):\n",
    "            k, n, lam, sigma2 = params\n",
    "            return (-1)*pdf(x, 0, k, n, lam, sigma2, log=True).sum()\n",
    "        \n",
    "        mleout = minimize(negloglikelihood, initpars, args=(x), method='L-BFGS-B', bounds=[(0.001, None), (2.001, None), (-0.999, 0.999), (0.001, None)])\n",
    "        hessfunc = nd.Hessian(negloglikelihood)\n",
    "        mat = hessfunc(mleout.x, x)\n",
    "        return mleout.x, np.linalg.inv(hessfunc(mleout.x, x))\n",
    "    \n",
    "size = 10000\n",
    "k = 2\n",
    "n = 10\n",
    "lam = -0.5\n",
    "sigma2 = 1\n",
    "mu = 0\n",
    "\n",
    "x = rvs(size, mu, k, n, lam, sigma2)\n",
    "\n",
    "mle, var = fitSkewT(x, allowshift=False)\n",
    "z = stats.norm.ppf(1-0.025)\n",
    "\n",
    "print('MLE for k, n, lambda and sigma2: ', mle)\n",
    "print()\n",
    "print('Covariance matrix of the MLE: \\n', DataFrame(var, columns=['k', 'n', 'lambda', 'sigma2'], index=['k', 'n', 'lambda', 'sigma2']))\n",
    "print()\n",
    "print('Confidence Intervals for the 4 parameters: ', [(mle[i] - z*np.sqrt(var[i][i]), mle[i] + z*np.sqrt(var[i][i])) for i in range(4)])\n"
   ]
  },
  {
   "cell_type": "code",
   "execution_count": 72,
   "metadata": {},
   "outputs": [
    {
     "name": "stderr",
     "output_type": "stream",
     "text": [
      "/srv/conda/envs/notebook/lib/python3.7/site-packages/ipykernel_launcher.py:15: RuntimeWarning: invalid value encountered in sqrt\n",
      "  from ipykernel import kernelapp as app\n",
      "/srv/conda/envs/notebook/lib/python3.7/site-packages/ipykernel_launcher.py:17: RuntimeWarning: invalid value encountered in double_scalars\n",
      "/srv/conda/envs/notebook/lib/python3.7/site-packages/ipykernel_launcher.py:20: RuntimeWarning: invalid value encountered in power\n",
      "/srv/conda/envs/notebook/lib/python3.7/site-packages/ipykernel_launcher.py:13: RuntimeWarning: invalid value encountered in sqrt\n",
      "  del sys.path[0]\n",
      "/srv/conda/envs/notebook/lib/python3.7/site-packages/ipykernel_launcher.py:16: RuntimeWarning: invalid value encountered in sqrt\n",
      "  app.launch_new_instance()\n",
      "/srv/conda/envs/notebook/lib/python3.7/site-packages/ipykernel_launcher.py:17: RuntimeWarning: invalid value encountered in sqrt\n"
     ]
    },
    {
     "name": "stdout",
     "output_type": "stream",
     "text": [
      "MLE for mu, k, n, lambda and sigma2:  [ 0.01167648  1.98181326 10.40948959 -0.50982027  0.99923617]\n",
      "\n",
      "Covariance matrix of the MLE: \n",
      "               mu             k         n    lambda        sigma2\n",
      "mu      0.000062 -3.505471e-06  0.000065 -0.000039  2.067267e-05\n",
      "k      -0.000004  2.128455e-03 -0.037982  0.000002 -5.190427e-07\n",
      "n       0.000065 -3.798166e-02  0.868287 -0.000044 -1.872945e-03\n",
      "lambda -0.000039  2.359622e-06 -0.000044  0.000030 -1.598994e-05\n",
      "sigma2  0.000021 -5.190427e-07 -0.001873 -0.000016  7.899016e-05\n",
      "\n",
      "Confidence Intervals for the 5 parameters:  [(-0.0037854687370751094, 0.02713842989314266), (1.8913899620243335, 2.072236555753614), (8.583157591667385, 12.235821580521863), (-0.5205544493562151, -0.4990860848061738), (0.9818167186982341, 1.016655630383658)]\n"
     ]
    }
   ],
   "source": [
    "size = 50000\n",
    "k = 2\n",
    "n = 10\n",
    "lam = -0.5\n",
    "sigma2 = 1\n",
    "mu = 0\n",
    "\n",
    "x = rvs(size, mu, k, n, lam, sigma2)\n",
    "\n",
    "mle, var = fitSkewT(x, allowshift=True)\n",
    "z = stats.norm.ppf(1-0.025)\n",
    "\n",
    "print('MLE for mu, k, n, lambda and sigma2: ', mle)\n",
    "print()\n",
    "print('Covariance matrix of the MLE: \\n', DataFrame(var, columns=['mu', 'k', 'n', 'lambda', 'sigma2'], index=['mu', 'k', 'n', 'lambda', 'sigma2']))\n",
    "print()\n",
    "print('Confidence Intervals for the 5 parameters: ', [(mle[i] - z*np.sqrt(var[i][i]), mle[i] + z*np.sqrt(var[i][i])) for i in range(5)])\n"
   ]
  }
 ],
 "metadata": {
  "kernelspec": {
   "display_name": "Python 3",
   "language": "python",
   "name": "python3"
  },
  "language_info": {
   "codemirror_mode": {
    "name": "ipython",
    "version": 3
   },
   "file_extension": ".py",
   "mimetype": "text/x-python",
   "name": "python",
   "nbconvert_exporter": "python",
   "pygments_lexer": "ipython3",
   "version": "3.7.8"
  },
  "toc-autonumbering": false,
  "toc-showcode": false,
  "toc-showmarkdowntxt": false
 },
 "nbformat": 4,
 "nbformat_minor": 4
}
