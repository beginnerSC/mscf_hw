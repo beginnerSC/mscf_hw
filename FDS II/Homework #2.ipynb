{
 "cells": [
  {
   "cell_type": "markdown",
   "metadata": {},
   "source": [
    "\n",
    "\\begin{center}\n",
    "Chun-Yuan (Scott) Chiu\n",
    "\\end{center}\n",
    "\\begin{center}\n",
    "chunyuac@andrew.cmu.edu\n",
    "\\end{center}"
   ]
  },
  {
   "cell_type": "markdown",
   "metadata": {},
   "source": [
    "# 1. {-}"
   ]
  },
  {
   "cell_type": "code",
   "execution_count": 18,
   "metadata": {},
   "outputs": [
    {
     "data": {
      "text/plain": [
       "-0.5547296295024626"
      ]
     },
     "execution_count": 18,
     "metadata": {},
     "output_type": "execute_result"
    }
   ],
   "source": [
    "from pandas import DataFrame\n",
    "from scipy.special import beta\n",
    "from scipy.optimize import minimize, root_scalar\n",
    "from scipy.integrate import quad\n",
    "import numpy as np\n",
    "\n",
    "def pdf(x, mu, k, n, lam, sigma2, log=False):\n",
    "    '''\n",
    "    k > 0, n > 2, sigma2 > 0, -1 < lam < 1\n",
    "    '''\n",
    "    sigma = np.sqrt(sigma2)\n",
    "\n",
    "    S = np.sqrt(1 + 3*(lam**2) - 4*(lam**2)*((beta(2/k, (n-1)/k)**2)/(beta(1/k, n/k)*beta(3/k, (n-2)/k))))\n",
    "    c = 0.5*k*np.sqrt((beta(1/k, n/k)**(-3))*beta(3/k, (n-2)/k))*S/sigma\n",
    "    theta = ((k/(n-2))**(1/k))*np.sqrt(beta(1/k, n/k)/beta(3/k, (n-2)/k))/S\n",
    "    \n",
    "    if log:\n",
    "        return np.log(c)-(n+1)*np.log(1 + (k/(n-2))*(np.abs(x-mu)/(sigma*theta*(1 + np.sign(x-mu)*lam)))**k)/k\n",
    "    else:\n",
    "        return c*(1+(k/(n-2))*(np.abs(x-mu)/(sigma*theta*(1 + np.sign(x-mu)*lam)))**k)**(-(n+1)/k)\n",
    "\n",
    "def cdf(x, mu, k, n, lam, sigma2):\n",
    "    integrand = lambda u: pdf(u-mu, 0, k, n, lam, sigma2)\n",
    "    return quad(integrand, 0, x)[0] + (1-lam)/2\n",
    "\n",
    "def ppf(y, mu, k, n, lam, sigma2):\n",
    "    assert 0 < y < 1, 'y must be in [0, 1].'  \n",
    "    res = root_scalar(lambda x: cdf(x, mu, k, n, lam, sigma2)-y, method='newton', x0=mu, fprime=lambda x: pdf(x, mu, k, n, lam, sigma2))\n",
    "    assert res.converged, \"Newton's method failed to converge.\"\n",
    "    return res.root\n",
    "\n",
    "def rvs(n, mu, k, n, lam, sigma2):\n",
    "    return \n",
    "\n",
    "def fitSkewT(x, allowshift=False):\n",
    "    \n",
    "    if(allowshift):\n",
    "        initpars = [np.mean(x), 2, 15, 2*(x>0).sum()/len(x)-1, np.var(x)]\n",
    "        def negloglikelihood(params, x):\n",
    "            mu, k, n, lam, sigma2 = params\n",
    "            return (-1)*sum([pdf(v, mu, k, n, lam, sigma2, log=True) for v in x])\n",
    "        \n",
    "        mleout = minimize(negloglike, initpars, args=(x), method='L-BFGS-B', bounds=[(None, None), (0.001, None), (2.001, None), (-0.999, 0.999), (0.001, None)])\n",
    "        hessfunc = nd.Hessian(negloglikelihood)\n",
    "        return mleout.x, np.linalg.inv(hessfunc(mleout.x, x))\n",
    "    \n",
    "    else:\n",
    "        initpars = [2, 15, 2*(x>0).sum()/len(x)-1, np.var(x)]\n",
    "        def negloglikelihood(params, x):\n",
    "            k, n, lam, sigma2 = params\n",
    "            return (-1)*sum([pdf(v, 0, k, n, lam, sigma2, log=True) for v in x])\n",
    "        \n",
    "        mleout = minimize(negloglike, initpars, args=(x), method='L-BFGS-B', bounds=[(0.001, None), (2.001, None), (-0.999, 0.999), (0.001, None)])\n",
    "        hessfunc = nd.Hessian(negloglikelihood)\n",
    "        return mleout.x, np.linalg.inv(hessfunc(mleout.x, x))\n",
    "\n",
    "k = 2\n",
    "n = 10\n",
    "lam = -0.5\n",
    "sigma2 = 1\n",
    "mu = 0\n",
    "\n",
    "\n",
    "\n",
    "ppf(, mu, k, n, lam, sigma2)\n"
   ]
  }
 ],
 "metadata": {
  "kernelspec": {
   "display_name": "Python 3",
   "language": "python",
   "name": "python3"
  },
  "language_info": {
   "codemirror_mode": {
    "name": "ipython",
    "version": 3
   },
   "file_extension": ".py",
   "mimetype": "text/x-python",
   "name": "python",
   "nbconvert_exporter": "python",
   "pygments_lexer": "ipython3",
   "version": "3.7.8"
  },
  "toc-autonumbering": false,
  "toc-showcode": false,
  "toc-showmarkdowntxt": false
 },
 "nbformat": 4,
 "nbformat_minor": 4
}
