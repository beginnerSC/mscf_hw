{
 "cells": [
  {
   "cell_type": "markdown",
   "metadata": {},
   "source": [
    "\n",
    "\\begin{center}\n",
    "Chun-Yuan (Scott) Chiu\n",
    "\\end{center}\n",
    "\\begin{center}\n",
    "chunyuac@andrew.cmu.edu\n",
    "\\end{center}"
   ]
  },
  {
   "cell_type": "markdown",
   "metadata": {},
   "source": [
    "# 2. {-}\n",
    "\n",
    "To implement the ```fitSkewT()``` function we will need the log likelihood of the skewed generalized t distribution (SGT) and hence the pdf, which we implement as ```pdf()```. The implementation is straightforward from the original paper by Theodossiou (1998) with $x$ replaced by $x-\\mu$ to add a shift to the distribution. To find the MLE we use a numerical optimization procedure, which requires an initial guess for each parameter. For $\\mu, \\sigma^2, k$ and $n$ we use the same initial guesses as in class, which are sample mean for $\\mu$, sample variance for $\\sigma^2$, $k=2$, $n=15$. \n",
    "\n",
    "\n",
    "To obtain an initial guess of $\\lambda$ we make use of a property of SGT: If $X$ follows the SGT (with the shift $\\mu=0$) then $P(X > 0) = (1+\\lambda)/2$. This property is given by Theorem 2 in Theodossiou (1998). Adding the shift, this property says $P(X+\\mu > \\mu) = (1+\\lambda)/2$, or equivalently $\\lambda = 2P(X+\\mu > \\mu) -1$. Thus we compute the sample probability that the generated random number is greater than the shift, where shift is estimated by the sample mean. The sample probability is then multiplied by 2 and minus 1. The result is used as the initial guess of $\\lambda$. \n",
    "\n",
    "\n",
    "In ```fitSkewT()``` we also call ```numdifftools.Hessian``` to compute the Hessian matrix of the log likelihood function at the MLE, the inverse of which is the covariance matrix of the MLE and is returned along with the MLE itself. \n",
    "\n",
    "\n",
    "To test the accuracy of the computed MLE, the cumulative distribution function and its inverse are also implemented (as ```cdf()``` and ```ppf()```, respectively). The implementation of ```cdf()``` again makes use of the property $P(X+\\mu < \\mu) = (1-\\lambda)/2$, which implies that \n",
    "$$\n",
    "F_{X+\\mu}(c) = P(X+\\mu < c) = (1-\\lambda)/2 + \\int_\\mu^c f_X(x) dx, \n",
    "$$\n",
    "where $F_{X+\\mu}(x)$ is the desired cdf of SGT with drift, and $f_X(x)$ is the pdf of SGT *without* drift. Thus the computation of the cdf at any values of $c$ only involves a definite integral, which is easier and faster to compute numerically, compared to an improper integral. \n",
    "\n",
    "\n",
    "To compute ```ppf()``` at a given value $y$ is to find the solution of $F_{X+\\mu}(x) - y = 0$, where $F_{X+\\mu}(x)$ is given by ```cdf()```. We use Newton's method in ```scipy.optimize.root_scalar```. SGT with drift $\\mu$ has a nice property that the peak is always at $\\mu$, which means $\\mu$ is the inflection point of $F_{X+\\mu}(x) - y$. Thus, using $\\mu$ as an initial guess, Newton's method is guaranteed to converge. \n",
    "\n",
    "\n",
    "Finally a ```rvs()``` function is implemented to generate SGT random numbers given sample size and parameters using the inverse transform sampling, which is straightforward given ```ppf()```. "
   ]
  },
  {
   "cell_type": "code",
   "execution_count": 1,
   "metadata": {},
   "outputs": [],
   "source": [
    "from pandas import DataFrame\n",
    "from scipy.special import beta\n",
    "from scipy.optimize import minimize, root_scalar\n",
    "from scipy.integrate import quad\n",
    "from scipy import stats\n",
    "import numpy as np\n",
    "import numdifftools as nd\n",
    "\n",
    "def pdf(x, mu, k, n, lam, sigma2, log=False):\n",
    "    '''\n",
    "    k > 0, n > 2, sigma2 > 0, -1 < lam < 1\n",
    "    '''\n",
    "    sigma = np.sqrt(sigma2)\n",
    "\n",
    "    S = np.sqrt(1 + 3*(lam**2) - 4*(lam**2)*((beta(2/k, (n-1)/k)**2)/(beta(1/k, n/k)*beta(3/k, (n-2)/k))))\n",
    "    c = 0.5*k*np.sqrt((beta(1/k, n/k)**(-3))*beta(3/k, (n-2)/k))*S/sigma\n",
    "    theta = ((k/(n-2))**(1/k))*np.sqrt(beta(1/k, n/k)/beta(3/k, (n-2)/k))/S\n",
    "    \n",
    "    if log:\n",
    "        return np.log(c)-(n+1)*np.log(1 + (k/(n-2))*(np.abs(x-mu)/(sigma*theta*(1 + np.sign(x-mu)*lam)))**k)/k\n",
    "    else:\n",
    "        return c*(1+(k/(n-2))*(np.abs(x-mu)/(sigma*theta*(1 + np.sign(x-mu)*lam)))**k)**(-(n+1)/k)\n",
    "\n",
    "def cdf(x, mu, k, n, lam, sigma2):\n",
    "    integrand = lambda u: pdf(u-mu, 0, k, n, lam, sigma2)\n",
    "    return quad(integrand, mu, x)[0] + (1-lam)/2\n",
    "\n",
    "def ppf(y, mu, k, n, lam, sigma2):\n",
    "    assert 0 < y < 1, 'y must be in [0, 1].'  \n",
    "    res = root_scalar(lambda x: cdf(x, mu, k, n, lam, sigma2)-y, method='newton', x0=mu, fprime=lambda x: pdf(x, mu, k, n, lam, sigma2))\n",
    "    assert res.converged, \"Newton's method failed to converge.\"\n",
    "    return res.root\n",
    "\n",
    "def rvs(size, mu, k, n, lam, sigma2):\n",
    "    return np.array([ppf(u, mu, k, n, lam, sigma2) for u in np.random.uniform(size=size)])\n",
    "\n",
    "def fitSkewT(x, allowshift=False):\n",
    "    \n",
    "    if(allowshift):\n",
    "        initMu = np.mean(x)\n",
    "        initpars = [initMu, 2, 15, 2*(np.array(x) > initMu).sum()/len(x)-1, np.var(x)]\n",
    "        def negloglikelihood(params, x):\n",
    "            mu, k, n, lam, sigma2 = params\n",
    "            return (-1)*pdf(x, mu, k, n, lam, sigma2, log=True).sum()\n",
    "        \n",
    "        mleout = minimize(negloglikelihood, initpars, args=(x), method='L-BFGS-B', bounds=[(None, None), (0.001, None), (2.001, None), (-0.999, 0.999), (0.001, None)])\n",
    "        hessfunc = nd.Hessian(negloglikelihood)\n",
    "        return mleout.x, np.linalg.inv(hessfunc(mleout.x, x))\n",
    "    \n",
    "    else:\n",
    "        initpars = [2, 15, 2*(np.array(x)>0).sum()/len(x)-1, np.var(x)]\n",
    "        def negloglikelihood(params, x):\n",
    "            k, n, lam, sigma2 = params\n",
    "            return (-1)*pdf(x, 0, k, n, lam, sigma2, log=True).sum()\n",
    "        \n",
    "        mleout = minimize(negloglikelihood, initpars, args=(x), method='L-BFGS-B', bounds=[(0.001, None), (2.001, None), (-0.999, 0.999), (0.001, None)])\n",
    "        hessfunc = nd.Hessian(negloglikelihood)\n",
    "        mat = hessfunc(mleout.x, x)\n",
    "        return mleout.x, np.linalg.inv(hessfunc(mleout.x, x))"
   ]
  },
  {
   "cell_type": "markdown",
   "metadata": {},
   "source": [
    "Below we put everything together to test ```fitSkewT()```. First we run the test without shift, meaning $\\mu=0$. 10,000 SGT random numbers are generated and the MLE and its covariance matrix are computed. Despite the warning given by ```numdifftools.Hessian```, the results show that the MLE found is accurate and the true parameters are all covered in the corresponding confidence interval, which confirms that all functions are implemented correctly. "
   ]
  },
  {
   "cell_type": "code",
   "execution_count": 7,
   "metadata": {},
   "outputs": [
    {
     "name": "stderr",
     "output_type": "stream",
     "text": [
      "/srv/conda/envs/notebook/lib/python3.7/site-packages/ipykernel_launcher.py:17: RuntimeWarning: invalid value encountered in double_scalars\n",
      "/srv/conda/envs/notebook/lib/python3.7/site-packages/ipykernel_launcher.py:20: RuntimeWarning: invalid value encountered in log\n",
      "/srv/conda/envs/notebook/lib/python3.7/site-packages/ipykernel_launcher.py:15: RuntimeWarning: invalid value encountered in sqrt\n",
      "  from ipykernel import kernelapp as app\n",
      "/srv/conda/envs/notebook/lib/python3.7/site-packages/ipykernel_launcher.py:16: RuntimeWarning: invalid value encountered in sqrt\n",
      "  app.launch_new_instance()\n",
      "/srv/conda/envs/notebook/lib/python3.7/site-packages/ipykernel_launcher.py:17: RuntimeWarning: invalid value encountered in sqrt\n",
      "/srv/conda/envs/notebook/lib/python3.7/site-packages/ipykernel_launcher.py:20: RuntimeWarning: invalid value encountered in power\n",
      "/srv/conda/envs/notebook/lib/python3.7/site-packages/ipykernel_launcher.py:13: RuntimeWarning: invalid value encountered in sqrt\n",
      "  del sys.path[0]\n",
      "/srv/conda/envs/notebook/lib/python3.7/site-packages/ipykernel_launcher.py:17: RuntimeWarning: invalid value encountered in double_scalars\n",
      "/srv/conda/envs/notebook/lib/python3.7/site-packages/ipykernel_launcher.py:20: RuntimeWarning: invalid value encountered in log\n",
      "/srv/conda/envs/notebook/lib/python3.7/site-packages/ipykernel_launcher.py:15: RuntimeWarning: invalid value encountered in sqrt\n",
      "  from ipykernel import kernelapp as app\n",
      "/srv/conda/envs/notebook/lib/python3.7/site-packages/ipykernel_launcher.py:16: RuntimeWarning: invalid value encountered in sqrt\n",
      "  app.launch_new_instance()\n",
      "/srv/conda/envs/notebook/lib/python3.7/site-packages/ipykernel_launcher.py:17: RuntimeWarning: invalid value encountered in sqrt\n",
      "/srv/conda/envs/notebook/lib/python3.7/site-packages/ipykernel_launcher.py:20: RuntimeWarning: invalid value encountered in power\n",
      "/srv/conda/envs/notebook/lib/python3.7/site-packages/ipykernel_launcher.py:13: RuntimeWarning: invalid value encountered in sqrt\n",
      "  del sys.path[0]\n"
     ]
    },
    {
     "name": "stdout",
     "output_type": "stream",
     "text": [
      "MLE for k, n, lambda and sigma2:  [ 1.97824296  9.83820329 -0.49656487  1.00266612]\n",
      "\n",
      "Covariance matrix of the MLE: \n",
      "                k         n    lambda    sigma2\n",
      "k       0.010005 -0.158497 -0.000014  0.000027\n",
      "n      -0.158497  3.277949  0.000277 -0.009263\n",
      "lambda -0.000014  0.000277  0.000030 -0.000017\n",
      "sigma2  0.000027 -0.009263 -0.000017  0.000375\n",
      "\n",
      "Confidence Intervals for the 4 parameters:  [(1.7821963895849713, 2.174289527701777), (6.28966758140096, 13.386739004180018), (-0.5072982804144754, -0.48583145926390053), (0.9647026458314778, 1.040629600543303)]\n"
     ]
    }
   ],
   "source": [
    "size = 10000\n",
    "k = 2\n",
    "n = 10\n",
    "lam = -0.5\n",
    "sigma2 = 1\n",
    "mu = 0\n",
    "\n",
    "x = rvs(size, mu, k, n, lam, sigma2)\n",
    "\n",
    "mle, var = fitSkewT(x, allowshift=False)\n",
    "z = stats.norm.ppf(1-0.025)\n",
    "\n",
    "print('MLE for k, n, lambda and sigma2: ', mle)\n",
    "print()\n",
    "print('Covariance matrix of the MLE: \\n', DataFrame(var, columns=['k', 'n', 'lambda', 'sigma2'], index=['k', 'n', 'lambda', 'sigma2']))\n",
    "print()\n",
    "print('Confidence Intervals for the 4 parameters: ', [(mle[i] - z*np.sqrt(var[i][i]), mle[i] + z*np.sqrt(var[i][i])) for i in range(4)])"
   ]
  },
  {
   "cell_type": "code",
   "execution_count": 5,
   "metadata": {},
   "outputs": [
    {
     "name": "stderr",
     "output_type": "stream",
     "text": [
      "/srv/conda/envs/notebook/lib/python3.7/site-packages/ipykernel_launcher.py:15: RuntimeWarning: invalid value encountered in sqrt\n",
      "  from ipykernel import kernelapp as app\n",
      "/srv/conda/envs/notebook/lib/python3.7/site-packages/ipykernel_launcher.py:17: RuntimeWarning: invalid value encountered in double_scalars\n",
      "/srv/conda/envs/notebook/lib/python3.7/site-packages/ipykernel_launcher.py:20: RuntimeWarning: invalid value encountered in power\n",
      "/srv/conda/envs/notebook/lib/python3.7/site-packages/ipykernel_launcher.py:13: RuntimeWarning: invalid value encountered in sqrt\n",
      "  del sys.path[0]\n",
      "/srv/conda/envs/notebook/lib/python3.7/site-packages/ipykernel_launcher.py:16: RuntimeWarning: invalid value encountered in sqrt\n",
      "  app.launch_new_instance()\n",
      "/srv/conda/envs/notebook/lib/python3.7/site-packages/ipykernel_launcher.py:17: RuntimeWarning: invalid value encountered in sqrt\n"
     ]
    },
    {
     "name": "stdout",
     "output_type": "stream",
     "text": [
      "MLE for mu, k, n, lambda and sigma2:  [ 1.52455894  1.99154301 10.0033813  -0.5161979   1.00705431]\n",
      "\n",
      "Covariance matrix of the MLE: \n",
      "               mu         k         n    lambda    sigma2\n",
      "mu      0.000064  0.000009 -0.000134 -0.000040  0.000022\n",
      "k       0.000009  0.002111 -0.034118 -0.000005  0.000004\n",
      "n      -0.000134 -0.034118  0.713508  0.000073 -0.001866\n",
      "lambda -0.000040 -0.000005  0.000073  0.000031 -0.000017\n",
      "sigma2  0.000022  0.000004 -0.001866 -0.000017  0.000082\n",
      "\n",
      "Confidence Intervals for the 5 parameters:  [(1.5089083422544234, 1.5402095409151402), (1.9014922791252897, 2.081593742225219), (8.347811605534284, 11.658951003649657), (-0.5270349447867958, -0.5053608469149563), (0.9892791548484049, 1.0248294619946112)]\n"
     ]
    }
   ],
   "source": [
    "size = 50000\n",
    "k = 2\n",
    "n = 10\n",
    "lam = -0.5\n",
    "sigma2 = 1\n",
    "mu = 1.5\n",
    "\n",
    "x = rvs(size, mu, k, n, lam, sigma2)\n",
    "\n",
    "mle, var = fitSkewT(x, allowshift=True)\n",
    "z = stats.norm.ppf(1-0.025)\n",
    "\n",
    "print('MLE for mu, k, n, lambda and sigma2: ', mle)\n",
    "print()\n",
    "print('Covariance matrix of the MLE: \\n', DataFrame(var, columns=['mu', 'k', 'n', 'lambda', 'sigma2'], index=['mu', 'k', 'n', 'lambda', 'sigma2']))\n",
    "print()\n",
    "print('Confidence Intervals for the 5 parameters: ', [(mle[i] - z*np.sqrt(var[i][i]), mle[i] + z*np.sqrt(var[i][i])) for i in range(5)])\n"
   ]
  }
 ],
 "metadata": {
  "kernelspec": {
   "display_name": "Python 3",
   "language": "python",
   "name": "python3"
  },
  "language_info": {
   "codemirror_mode": {
    "name": "ipython",
    "version": 3
   },
   "file_extension": ".py",
   "mimetype": "text/x-python",
   "name": "python",
   "nbconvert_exporter": "python",
   "pygments_lexer": "ipython3",
   "version": "3.7.8"
  },
  "toc-autonumbering": false,
  "toc-showcode": false,
  "toc-showmarkdowntxt": false
 },
 "nbformat": 4,
 "nbformat_minor": 4
}
