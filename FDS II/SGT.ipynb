{
 "cells": [
  {
   "cell_type": "code",
   "execution_count": 4,
   "metadata": {},
   "outputs": [],
   "source": [
    "from pandas import DataFrame\n",
    "from ipywidgets import interact\n",
    "from scipy.special import beta\n",
    "import numpy as np\n",
    "\n",
    "def pdf(x, p, q, mu, s, lam):\n",
    "    '''\n",
    "    Parameterization on wikipedia \n",
    "    p > 0, q > 0, s > 0, -1 < lam < 1\n",
    "    MLE 會很難算因為這個 form 限制 pq > 2\n",
    "    '''  \n",
    "    v = (q**(-1/p))/np.sqrt((3*lam*lam + 1)*beta(3/p, q-2/p)/beta(1/p, q) - 4*lam*lam*((beta(2/p, q-1/p)/beta(1/p, q))**2))    \n",
    "    m = 2*v*s*lam*(q**(1/p))*beta(2/p, q-1/p)    \n",
    "    return p/(2*v*s*(q**(1/q))*beta(1/p, q)*((np.abs(x-mu+m)**p)/(q*(v*s*(lam*np.sign(x-mu+m) + 1))**p) + 1)**(1/p+q))\n",
    "\n",
    "# @interact(p=(0.001, 10), q=(0.001, 10), mu=(-10, 10), s=(0.001, 10), lam=(-0.999, 0.999))\n",
    "def plotpdf(p=2, q=2, mu=0, s=1, lam=0):\n",
    "    df = DataFrame([(x, pdf(x, p, q, mu, s, lam)) for x in np.arange(-10, 10, 0.1)], columns=['x', 'pdf']).set_index('x')\n",
    "    ax = df.plot()\n",
    "    ax.set(ylim=[0, 1])\n"
   ]
  },
  {
   "cell_type": "code",
   "execution_count": 10,
   "metadata": {},
   "outputs": [
    {
     "data": {
      "application/vnd.jupyter.widget-view+json": {
       "model_id": "8f518a02e40245e18faa909be9855059",
       "version_major": 2,
       "version_minor": 0
      },
      "text/plain": [
       "interactive(children=(IntSlider(value=0, description='mu', max=10, min=-10), FloatSlider(value=2.0, descriptio…"
      ]
     },
     "metadata": {},
     "output_type": "display_data"
    }
   ],
   "source": [
    "def pdf(x, mu, k, n, lam, sigma2):\n",
    "    '''\n",
    "    Parameterization on original paper\n",
    "    \n",
    "    k > 0, n > 2, height and tails of the density\n",
    "    sigma2 > 0, variance\n",
    "    -1 < lam < 1, skewness parameter\n",
    "    '''\n",
    "    sigma = np.sqrt(sigma2)\n",
    "\n",
    "    S = np.sqrt(1 + 3*(lam**2) - 4*(lam**2)*((beta(2/k, (n-1)/k)**2)/(beta(1/k, n/k)*beta(3/k, (n-2)/k))))\n",
    "    c = 0.5*k*np.sqrt((beta(1/k, n/k)**(-3))*beta(3/k, (n-2)/k))*S/sigma\n",
    "    theta = ((k/(n-2))**(1/k))*np.sqrt(beta(1/k, n/k)/beta(3/k, (n-2)/k))/S\n",
    "    \n",
    "    return c*(1+(k/(n-2))*(np.abs(x-mu)/(sigma*theta*(1 + np.sign(x-mu)*lam)))**k)**(-(n+1)/k)\n",
    "\n",
    "@interact(mu=(-10, 10), k=(0.001, 10), n=(2.001, 10), s=(0.001, 10), lam=(-0.999, 0.999))\n",
    "def plotpdf(mu=0, k=2, n=3, lam=-0.5, sigma2=1):\n",
    "    \n",
    "    S = np.sqrt(1 + 3*(lam**2) - 4*(lam**2)*((beta(2/k, (n-1)/k)**2)/(beta(1/k, n/k)*beta(3/k, (n-2)/k))))\n",
    "    print()\n",
    "    print('Expectation without drift is ', 2*(lam/S)*beta(2/k, (n-1)/k)*np.sqrt(sigma2/beta(1/k, n/k)*beta(3/k, (n-2)/2)))\n",
    "    print()\n",
    "    \n",
    "    df = DataFrame([(x, pdf(x, mu, k, n, lam, sigma2)) for x in np.arange(-10, 10, 0.1)], columns=['x', 'pdf']).set_index('x')\n",
    "    ax = df.plot()\n",
    "    ax.set(ylim=[0, 1])\n",
    "    \n",
    "    "
   ]
  }
 ],
 "metadata": {
  "kernelspec": {
   "display_name": "Python 3",
   "language": "python",
   "name": "python3"
  },
  "language_info": {
   "codemirror_mode": {
    "name": "ipython",
    "version": 3
   },
   "file_extension": ".py",
   "mimetype": "text/x-python",
   "name": "python",
   "nbconvert_exporter": "python",
   "pygments_lexer": "ipython3",
   "version": "3.7.8"
  }
 },
 "nbformat": 4,
 "nbformat_minor": 4
}
