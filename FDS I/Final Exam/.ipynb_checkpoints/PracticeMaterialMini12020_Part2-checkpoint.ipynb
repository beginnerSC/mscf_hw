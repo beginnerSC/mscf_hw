{
 "cells": [
  {
   "cell_type": "markdown",
   "metadata": {},
   "source": [
    "# Practice Material, Part 2\n",
    "\n",
    "## Final Exam, 46-921\n",
    "\n",
    "Fall 2020"
   ]
  },
  {
   "cell_type": "markdown",
   "metadata": {},
   "source": [
    "## Comments\n",
    "\n",
    "This is a **scaled-back** version of the 2019 Final Exam. **Let me stress that the 2019 final exam was longer than this.**\n",
    "\n",
    "There are places where the students were asked to insert code, and submit the Jupyter notebook. In our case, you will only be asked to submit written responses to questions. Hence, some modification to the style will be required. Still, you can expect to be asked to perform similar analyses."
   ]
  },
  {
   "cell_type": "markdown",
   "metadata": {},
   "source": [
    "## The Data"
   ]
  },
  {
   "cell_type": "markdown",
   "metadata": {},
   "source": [
    "In this exam, we will work with a data set from Kaggle on gas prices in Brazil. The site is https://www.kaggle.com/matheusfreitag/gas-prices-in-brazil.\n",
    "\n",
    "The following description is provided:\n",
    "\n",
    "\"The National Agency of Petroleum, Natural Gas and Bio fuels (ANP in Portuguese) releases weekly reports of gas, diesel and other fuels prices used in transportation across the country. These datasets bring the mean value per liter, number of gas stations analyzed and other information grouped by regions and states across the country.\"\n",
    "\n",
    "This notebook incorporates elements of the analyses performed in https://www.kaggle.com/rafatrock/gas-prices-in-brazil-a37845a8be and https://www.kaggle.com/egenaz/gas-prices-in-brazil-eda."
   ]
  },
  {
   "cell_type": "code",
   "execution_count": 1,
   "metadata": {},
   "outputs": [],
   "source": [
    "import numpy as np\n",
    "import pandas as pd\n",
    "import seaborn as sns\n",
    "import matplotlib.pyplot as plt"
   ]
  },
  {
   "cell_type": "markdown",
   "metadata": {},
   "source": [
    "Download the data set from the Canvas folder. The following command will read in the data set."
   ]
  },
  {
   "cell_type": "code",
   "execution_count": 2,
   "metadata": {},
   "outputs": [],
   "source": [
    "df = pd.read_csv('2004-2019.tsv', sep='\\t', parse_dates=[1,2])"
   ]
  },
  {
   "cell_type": "markdown",
   "metadata": {},
   "source": [
    "The following commands removes the first column, since it is unnecessary."
   ]
  },
  {
   "cell_type": "code",
   "execution_count": 3,
   "metadata": {},
   "outputs": [],
   "source": [
    "gp = df.drop(\"Unnamed: 0\", axis=1)"
   ]
  },
  {
   "cell_type": "markdown",
   "metadata": {},
   "source": [
    "The code below translates variables names and values from Portuguese to English."
   ]
  },
  {
   "cell_type": "code",
   "execution_count": 4,
   "metadata": {},
   "outputs": [],
   "source": [
    "gp.rename(\n",
    "    columns={\n",
    "        \"DATA INICIAL\": \"start_date\",\n",
    "        \"DATA FINAL\": \"end_date\",\n",
    "        \"REGIÃO\": \"region\",\n",
    "        \"ESTADO\": \"state\",\n",
    "        \"PRODUTO\": \"fuel\",\n",
    "        \"NÚMERO DE POSTOS PESQUISADOS\": \"n_gas_stations\",\n",
    "        \"UNIDADE DE MEDIDA\": \"unit\",\n",
    "        \"PREÇO MÉDIO REVENDA\": \"avg_price\",\n",
    "        \"DESVIO PADRÃO REVENDA\": \"sd_price\",\n",
    "        \"PREÇO MÍNIMO REVENDA\": \"min_price\",\n",
    "        \"PREÇO MÁXIMO REVENDA\": \"max_price\",\n",
    "        \"MARGEM MÉDIA REVENDA\": \"avg_price_margin\",\n",
    "        \"ANO\": \"year\",\n",
    "        \"MÊS\": \"month\",\n",
    "        \"COEF DE VARIAÇÃO DISTRIBUIÇÃO\": \"coef_dist\",\n",
    "        \"PREÇO MÁXIMO DISTRIBUIÇÃO\": \"dist_max_price\",\n",
    "        \"PREÇO MÍNIMO DISTRIBUIÇÃO\": \"dist_min_price\",\n",
    "        \"DESVIO PADRÃO DISTRIBUIÇÃO\": \"dist_sd_price\",\n",
    "        \"PREÇO MÉDIO DISTRIBUIÇÃO\": \"dist_avg_price\",\n",
    "        \"COEF DE VARIAÇÃO REVENDA\": \"coef_price\"\n",
    "    },\n",
    "    inplace=True\n",
    ")\n",
    "\n",
    "\n",
    "regions = {\"SUL\":\"SOUTH\", \"SUDESTE\":\"SOUTHEAST\", \"CENTRO OESTE\":\"MIDWEST\", \n",
    "            \"NORTE\":\"NORTH\", \"NORDESTE\":\"NORTHEAST\"}\n",
    "gp[\"region\"] = gp.region.map(regions)\n",
    "\n",
    "\n",
    "fuels = {\"ÓLEO DIESEL\":\"DIESEL\", \"GASOLINA COMUM\":\"REGULAR GASOLINE\", \"GLP\":\"LPG\", \n",
    "            \"ETANOL HIDRATADO\":\"HYDROUS ETHANOL\", \"GNV\":\"NATURAL GAS\", \"ÓLEO DIESEL S10\":\"DIESEL S10\"}\n",
    "gp[\"fuel\"] = gp.fuel.map(fuels)"
   ]
  },
  {
   "cell_type": "markdown",
   "metadata": {},
   "source": [
    "This will convert some of the columns into numeric form."
   ]
  },
  {
   "cell_type": "code",
   "execution_count": 5,
   "metadata": {
    "scrolled": true
   },
   "outputs": [],
   "source": [
    "for col in ['avg_price_margin', 'dist_avg_price', 'dist_sd_price', 'dist_min_price', 'dist_max_price', 'coef_dist']:\n",
    "    gp[col] = pd.to_numeric(gp[col], errors='coerce')"
   ]
  },
  {
   "cell_type": "markdown",
   "metadata": {},
   "source": [
    "Here are the columns as currently named in the data frame:\n",
    "\n",
    "1. **start_date**: The starting date for the week.\n",
    "2. **end_date**: The ending date for the week.\n",
    "3. **region**: Region of the country for this state.\n",
    "4. **state**: Brazil is divided into states; this is the state for this set of observations.\n",
    "5. **fuel**: The type of gas being measured/priced.\n",
    "6. **n_gas_stations**: Number of gas stations.\n",
    "7. **unit**: Units for the price measurements.\n",
    "8. **avg_price**: The average gas price across the stations.\n",
    "9. **sd_price**: The standard deviation of the prices across the stations.\n",
    "10. **min_price**: The minimum price across the stations.\n",
    "11. **max_price**: The maximum price across the stations.\n",
    "12. **avg_price_margin**: The difference between the average price at the stations and the distributor's average price.\n",
    "13. **coef_price**: The coefficient of variation in the prices, i.e., the ratio between the standard deviation and the average price.\n",
    "14. **dist_avg_price**: The average gas price from the distributors.\n",
    "15. **dist_sd_price**: The standard deviation of the prices across the distributors.\n",
    "16. **dist_min_price**: The minimum price across the distributors.\n",
    "17. **dist_max_price**: The maximum price across the distributors.\n",
    "18. **coef_dist**: The coefficient of variation across the distributor prices.\n",
    "19. **month**: The month of the observations.\n",
    "20. **year**: The year of the observations."
   ]
  },
  {
   "cell_type": "markdown",
   "metadata": {},
   "source": [
    "For this exam we will restrict to only the rows corresponding to natural gas. The command below will extract the appropriate subset of the data. **FOR THE ANALYSIS THAT FOLLOWS, ONLY USE THIS NATURAL GAS DATA SET.**"
   ]
  },
  {
   "cell_type": "code",
   "execution_count": 6,
   "metadata": {},
   "outputs": [],
   "source": [
    "natgas = gp.loc[gp['fuel']=='NATURAL GAS',:]\n",
    "\n",
    "del gp"
   ]
  },
  {
   "cell_type": "markdown",
   "metadata": {},
   "source": [
    "## Part 0: Exploring the Data"
   ]
  },
  {
   "cell_type": "markdown",
   "metadata": {},
   "source": [
    "**Question 1:** Create a figure that shows how the distribution of `avg_price` changes over the years of the data set. **(5)**"
   ]
  },
  {
   "cell_type": "code",
   "execution_count": 7,
   "metadata": {},
   "outputs": [],
   "source": [
    "# PUT YOUR CODE FOR QUESTION 1 HERE."
   ]
  },
  {
   "cell_type": "markdown",
   "metadata": {},
   "source": [
    "**Question 2:** Does there seem to be an annual cycle in `avg_price`? Create **one** relevant plot to address this question, and comment on it. **(5)**"
   ]
  },
  {
   "cell_type": "code",
   "execution_count": 8,
   "metadata": {},
   "outputs": [],
   "source": [
    "# PUT YOUR CODE FOR QUESTION 2 HERE."
   ]
  },
  {
   "cell_type": "markdown",
   "metadata": {},
   "source": [
    "PUT YOUR RESPONSE TO QUESTION 2 HERE"
   ]
  },
  {
   "cell_type": "markdown",
   "metadata": {},
   "source": [
    "**Question 3:** What does the following output tell us about the data set? **(3)**"
   ]
  },
  {
   "cell_type": "code",
   "execution_count": 11,
   "metadata": {
    "scrolled": true
   },
   "outputs": [
    {
     "data": {
      "text/plain": [
       "2028"
      ]
     },
     "execution_count": 11,
     "metadata": {},
     "output_type": "execute_result"
    }
   ],
   "source": [
    "len(np.unique(np.where(natgas.isnull())[0]))"
   ]
  },
  {
   "cell_type": "markdown",
   "metadata": {},
   "source": [
    "PUT YOUR RESPONSE TO QUESTION 3 HERE"
   ]
  },
  {
   "cell_type": "markdown",
   "metadata": {},
   "source": [
    "**Question 4:** Consider the plot below. What does it tell us about the pattern of missing data in this data set? **(2)**"
   ]
  },
  {
   "cell_type": "code",
   "execution_count": 26,
   "metadata": {
    "scrolled": false
   },
   "outputs": [
    {
     "data": {
      "image/png": "[encoded data removed]",
      "text/plain": [
       "<Figure size 432x288 with 1 Axes>"
      ]
     },
     "metadata": {
      "needs_background": "light"
     },
     "output_type": "display_data"
    }
   ],
   "source": [
    "sns.heatmap(natgas.iloc[np.unique(np.where(natgas.isnull())[0]),:].isnull(),cbar=False)\n",
    "None"
   ]
  },
  {
   "cell_type": "markdown",
   "metadata": {},
   "source": [
    "PUT YOUR RESPONSE TO QUESTION 4 HERE"
   ]
  },
  {
   "cell_type": "markdown",
   "metadata": {},
   "source": [
    "**Question 5:** Consider the following row from the data frame. Imagine that the 29 gas stations represented here are a random sample drawn the (much larger) population of gas stations in the state. Use the provided information to construct a 95% confidence interval for the average price across all gas stations in this state, in May 2004. **(4)**"
   ]
  },
  {
   "cell_type": "code",
   "execution_count": 27,
   "metadata": {
    "scrolled": false
   },
   "outputs": [
    {
     "data": {
      "text/plain": [
       "start_date          2004-05-09 00:00:00\n",
       "end_date            2004-05-15 00:00:00\n",
       "region                        NORTHEAST\n",
       "state                        PERNAMBUCO\n",
       "fuel                        NATURAL GAS\n",
       "n_gas_stations                       29\n",
       "unit                              R$/m3\n",
       "avg_price                         1.147\n",
       "sd_price                          0.008\n",
       "min_price                         1.108\n",
       "max_price                         1.149\n",
       "avg_price_margin                  0.288\n",
       "coef_price                        0.007\n",
       "dist_avg_price                    0.859\n",
       "dist_sd_price                     0.094\n",
       "dist_min_price                   0.7097\n",
       "dist_max_price                   0.9221\n",
       "coef_dist                         0.109\n",
       "month                                 5\n",
       "year                               2004\n",
       "Name: 36201, dtype: object"
      ]
     },
     "execution_count": 27,
     "metadata": {},
     "output_type": "execute_result"
    }
   ],
   "source": [
    "natgas.iloc[5,:]"
   ]
  },
  {
   "cell_type": "markdown",
   "metadata": {},
   "source": [
    "PUT YOUR RESPONSE TO QUESTION 5 HERE"
   ]
  },
  {
   "cell_type": "markdown",
   "metadata": {},
   "source": [
    "## Part 1: Linear Regression Model"
   ]
  },
  {
   "cell_type": "markdown",
   "metadata": {},
   "source": [
    "Consider that we have a goal of filling in the missing values for `avg_price_margin`. (This is referred to as **imputation**.) We will construct a new data frame consisting of only those observations with complete information."
   ]
  },
  {
   "cell_type": "code",
   "execution_count": 28,
   "metadata": {},
   "outputs": [],
   "source": [
    "natgascomplete = natgas.dropna()"
   ]
  },
  {
   "cell_type": "markdown",
   "metadata": {},
   "source": [
    "**Question 1:** Fit a linear regression model that uses `avg_price_margin` as the response, and `region`, `n_gas_stations`, `sd_price`,`avg_price`, `min_price`, `max_price`, and `month` as predictors. Show the `summary` output. **(5)**"
   ]
  },
  {
   "cell_type": "code",
   "execution_count": 29,
   "metadata": {},
   "outputs": [],
   "source": [
    "# PUT YOUR CODE FOR QUESTION 1 HERE"
   ]
  },
  {
   "cell_type": "markdown",
   "metadata": {},
   "source": [
    "**Question 2:** Did you include the variable `month` as a categorical predictor in the above regression? Why or why not? **(2)**"
   ]
  },
  {
   "cell_type": "markdown",
   "metadata": {},
   "source": [
    "PUT YOUR RESPONSE TO QUESTION 2 HERE"
   ]
  },
  {
   "cell_type": "markdown",
   "metadata": {},
   "source": [
    "**Question 3:** Did you include the variable `n_gas_stations` as a categorical predictor in the above regression? Why or why not? **(2)**"
   ]
  },
  {
   "cell_type": "markdown",
   "metadata": {},
   "source": [
    "PUT YOUR RESPONSE TO QUESTION 3 HERE"
   ]
  },
  {
   "cell_type": "markdown",
   "metadata": {},
   "source": [
    "**Question 4:** Construct the plot of residuals versus fitted values for the above fit, and comment on the results. What does the plot tell us? **(3)**"
   ]
  },
  {
   "cell_type": "code",
   "execution_count": 30,
   "metadata": {},
   "outputs": [],
   "source": [
    "# PUT YOUR CODE FOR QUESTION 4 HERE"
   ]
  },
  {
   "cell_type": "markdown",
   "metadata": {},
   "source": [
    "PUT YOUR RESPONSE TO QUESTION 4 HERE"
   ]
  },
  {
   "cell_type": "markdown",
   "metadata": {},
   "source": [
    "**Question 5:** Transform the response using the log transform. Fit the same model as fit above in Question 1. Then refit excluding the predictor `month`. Which fit has a lower value of PRESS? **(4)**"
   ]
  },
  {
   "cell_type": "code",
   "execution_count": 31,
   "metadata": {},
   "outputs": [],
   "source": [
    "# PUT YOUR CODE FOR QUESTION 5 HERE"
   ]
  },
  {
   "cell_type": "markdown",
   "metadata": {},
   "source": [
    "PUT YOUR RESPONSE TO QUESTION 5 HERE"
   ]
  },
  {
   "cell_type": "markdown",
   "metadata": {},
   "source": [
    "**Question 6:** Again use the list of predictors given in Question 1. Use the Box-Cox procedure to determine an appropriate transformation for the response. Show the results of the procedure. Was the log transformation a reasonable choice? **(4)**"
   ]
  },
  {
   "cell_type": "code",
   "execution_count": 32,
   "metadata": {},
   "outputs": [],
   "source": [
    "# PUT YOUR CODE FOR QUESTION 6 HERE"
   ]
  },
  {
   "cell_type": "markdown",
   "metadata": {},
   "source": [
    "PUT YOUR RESPONSE TO QUESTION 6 HERE."
   ]
  }
 ],
 "metadata": {
  "kernelspec": {
   "display_name": "Python 3",
   "language": "python",
   "name": "python3"
  },
  "language_info": {
   "codemirror_mode": {
    "name": "ipython",
    "version": 3
   },
   "file_extension": ".py",
   "mimetype": "text/x-python",
   "name": "python",
   "nbconvert_exporter": "python",
   "pygments_lexer": "ipython3",
   "version": "3.7.3"
  }
 },
 "nbformat": 4,
 "nbformat_minor": 2
}
