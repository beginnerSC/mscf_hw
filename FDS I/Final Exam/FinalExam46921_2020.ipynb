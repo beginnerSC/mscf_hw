{
 "cells": [
  {
   "cell_type": "markdown",
   "metadata": {},
   "source": [
    "# Final Exam, 46-921, Fall 2020"
   ]
  },
  {
   "cell_type": "markdown",
   "metadata": {},
   "source": [
    "**Please remember that you will not be submitting this Jupyter notebook. You will only submit what you write on your sheets of paper.**\n",
    "\n",
    "For questions that require derivations, please be clear and complete in your work.\n",
    "\n",
    "Multiple choice questions do not require explanations.\n",
    "\n",
    "Numbers in bold after each question show the number of points. All multiple choice questions are worth three points each."
   ]
  },
  {
   "cell_type": "markdown",
   "metadata": {},
   "source": [
    "***\n",
    "## Question 0\n",
    "\n",
    "Assume that $X_1, X_2, \\ldots, X_n$ are iid from a distribution with density given by\n",
    "$$f_X(x) = \\frac{1}{\\theta x^{(1/\\theta) + 1}}, \\:\\: x \\geq 1, \\:\\: \\theta > 0.$$\n",
    "In this case,\n",
    "$$E(\\log(X_i)) = \\theta \\:\\:\\:\\mbox{and}\\:\\:\\: V(\\log(X_i)) = \\theta^2.$$\n",
    "(You can use these facts without proof.)"
   ]
  },
  {
   "cell_type": "markdown",
   "metadata": {},
   "source": [
    "### Part (a)\n",
    "\n",
    "Show that the MLE of $\\theta$ is\n",
    "$$\\widehat{\\theta} = \\frac{1}{n} \\sum_{i=1}^n \\log(X_i).$$ **(5)**"
   ]
  },
  {
   "cell_type": "markdown",
   "metadata": {},
   "source": [
    "### Part (b)\n",
    "\n",
    "What is the mean squared error (MSE) of $\\widehat{\\theta}$ as an estimator of $\\theta$? **(5)**"
   ]
  },
  {
   "cell_type": "markdown",
   "metadata": {},
   "source": [
    "### Part (c)\n",
    "\n",
    "Construct a $100(1-\\alpha)\\%$ confidence interval for $\\theta$, using an appropriate approximation. **(5)**"
   ]
  },
  {
   "cell_type": "markdown",
   "metadata": {},
   "source": [
    "***\n",
    "## Question 1\n",
    "\n",
    "Suppose that $X_1, X_2, \\ldots, X_n$ are iid Exponential$(\\lambda)$. Recall the following facts that we have proven:\n",
    "\n",
    "1. The MLE for $\\lambda$ is $1/\\overline{X}$.\n",
    "2. The Fisher information for $\\lambda$ is $I(\\lambda) = 1/\\lambda^2$."
   ]
  },
  {
   "cell_type": "markdown",
   "metadata": {},
   "source": [
    "### Part (a)\n",
    "\n",
    "What is the MLE for $\\theta = 1/\\lambda$? **(3)**"
   ]
  },
  {
   "cell_type": "markdown",
   "metadata": {},
   "source": [
    "### Part (b)\n",
    "\n",
    "Derive an approximation to the standard error for the MLE of $\\theta$ found in Part (a). **(5)**"
   ]
  },
  {
   "cell_type": "markdown",
   "metadata": {},
   "source": [
    "***\n",
    "## Question 2\n",
    "\n",
    "Suppose that $X$ has the binomial$(n,p)$ distribution. What can\n",
    "be said about $\\widehat p = X/n$?\n",
    "\n",
    "**Choose One:**\n",
    "\n",
    "1. $\\widehat p$ is an unbiased estimator of $p$.\n",
    "2. $\\widehat p$ is the maximum likelihood estimator for $p$.\n",
    "3. The mean squared error (MSE) of $\\widehat p$ as an estimator of $p$ is $p(1-p)/n$.\n",
    "4. All of the above."
   ]
  },
  {
   "cell_type": "markdown",
   "metadata": {},
   "source": [
    "***\n",
    "## Question 3\n",
    "\n",
    "Consider the following quote, from Box and Draper (1997):\n",
    "\n",
    "\"Remember that all models are wrong; the practical question is\n",
    "how wrong they have to be to not be useful.\"\n",
    "\n",
    "Which of the following statements is in agreement with this quote?\n",
    "\n",
    "**Choose One:**\n",
    "\n",
    "1. The models that we utilize do not have to be exactly correct in order to still be useful; regardless, we should be mindful of making them as realistic as is feasible in the situation.\n",
    "2. The use of simple distributions such as the exponential, gamma, and so forth, are solely for demonstrating the concepts in class, they are not of value in practical situations.\n",
    "3. Our choices for the distributions we use as models are always incorrect, so we should not worry too much about making the best choice."
   ]
  },
  {
   "cell_type": "markdown",
   "metadata": {},
   "source": [
    "***\n",
    "## Question 4\n",
    "\n",
    "Suppose that $X_1, X_2, \\ldots, X_n$ are iid random variables with finite expected value and\n",
    "variance. The *sample variance* is defined as\n",
    "   $$S^2 = \\frac{1}{n-1} \\sum_{i=1}^n \\left(X_i - \\overline{X}\\right)^2.$$\n",
    "What is the justification for dividing by $n-1$?\n",
    "\n",
    "**Choose One:**\n",
    "\n",
    "1. This form is the maximum likelihood estimator of the population variance in the case where the $X_i$ are normally distributed.\n",
    "2. This form gives an estimator which is an unbiased estimator of the population variance. \n",
    "3. This form is a biased estimator for the population variance, but is has lower mean squared error (MSE) than any unbiased estimator.\n",
    "4. There is no justification, this should never be used to estimate the population variance."
   ]
  },
  {
   "cell_type": "markdown",
   "metadata": {},
   "source": [
    "***\n",
    "## Question 5\n",
    "\n",
    "Suppose that $X_1, X_2, \\ldots, X_n$ are iid, each with the Geometric$(p)$\n",
    "distribution. In the practice material for the exam, we learned that the MLE for $p$ is\n",
    "$$ \\hat{p} = \\frac{n}{n+\\sum_i X_i}$$ and that the approximate standard error\n",
    "of this MLE (based on Fisher information) is\n",
    "$$\\sqrt{\\frac{\\hat{p}^2 (1-\\hat{p})}{n}}$$.\n",
    "\n",
    "Study the following simulation code and its output."
   ]
  },
  {
   "cell_type": "code",
   "execution_count": 30,
   "metadata": {},
   "outputs": [
    {
     "name": "stdout",
     "output_type": "stream",
     "text": [
      "0.955\n"
     ]
    }
   ],
   "source": [
    "n = 20\n",
    "p = 0.3\n",
    "reps = 1000\n",
    "\n",
    "from scipy.stats import geom\n",
    "import numpy as np\n",
    "\n",
    "cover = 0\n",
    "\n",
    "for i in range(reps):\n",
    "    holdrvs = geom.rvs(p, size=n)-1  # The \"-1\" is needed to get our definition of geometric to match Python's\n",
    "    phat = n/(n+sum(holdrvs))\n",
    "    phatse = np.sqrt(phat**2 * (1-phat)/n)\n",
    "    lo = phat - 1.96*phatse\n",
    "    hi = phat + 1.96*phatse\n",
    "    \n",
    "    if((lo < p) & (hi > p)):\n",
    "        cover = cover + 1\n",
    "\n",
    "print(cover/reps)"
   ]
  },
  {
   "cell_type": "markdown",
   "metadata": {},
   "source": [
    "What can you conclude from this simulation code and its output?\n",
    "\n",
    "**Choose One:**\n",
    "\n",
    "1. In the case of the geometric distribution when $p=0.3$, a sample size of 20 is large enough to justify the validity of the 95% confidence interval based on asymptotic normality approximation.\n",
    "\n",
    "2. In the case of the geometric distribution when $p=0.3$, a sample size of 20 is not large enough to justify the validity of the 95% confidence interval based on asymptotic normality approximation.\n",
    "\n",
    "3. In the case of the geometric distribution for any value of $p$, a sample size of 20 is large enough to justify the validity of the 95% confidence interval based on asymptotic normality approximation.\n",
    "\n",
    "4. In the case of the geometric distribution for any value of $p$, a sample size of 20 is not large enough to justify the validity of the 95% confidence interval based on asymptotic normality approximation."
   ]
  },
  {
   "cell_type": "markdown",
   "metadata": {},
   "source": [
    "***\n",
    "## Question 6\n",
    "\n",
    "Suppose one constructs a 95\\% confidence interval for $\\theta$\n",
    "as (12.4, 16.5). Which of the following is a correct interpretation?\n",
    "\n",
    "**Choose One:**\n",
    "1. The probability that $\\theta$ is between 12.4 and 16.5 is 0.95.\n",
    "2. The confidence interval (12.4, 16.5) was constructed using a method which produces an interval which covers the true parameter value with probability 0.95.\n",
    "3. The probability that $\\widehat \\theta$ is between 12.4 and 16.5 is\n",
    "0.95.\n",
    "4. The interval (12.4, 16.5) contains at least 95\\% of the values of which are the possible true values of $\\theta$."
   ]
  },
  {
   "cell_type": "markdown",
   "metadata": {},
   "source": [
    "***\n",
    "## Question 7\n",
    "\n",
    "A standard linear model is fit using least squares, i.e., there is an intercept term\n",
    "along with $p$ predictors. Your new software reports that the sum of the residuals is equal to\n",
    "412.97.\n",
    "Which of the following do you agree with? \n",
    "\n",
    "**Choose One:**\n",
    "\n",
    "1. This is evidence that $E(\\epsilon_i) \\neq 0$, i.e., the irreducible errors do not have mean zero.\n",
    "2. This is evidence that the software is not working properly.\n",
    "3. This is evidence of heteroskedasticity."
   ]
  },
  {
   "cell_type": "markdown",
   "metadata": {},
   "source": [
    "***\n",
    "## Question 8\n",
    "\n",
    "Suppose that model selection (i.e., decisions regarding which predictors to include) is performed\n",
    "by minimizing sum of squared errors (SSE or RSS). The result will be which of the following: \n",
    "\n",
    "**Choose One:**\n",
    "\n",
    "1. A model which makes optimal predictions\n",
    "2. Heteroskedasticity\n",
    "3. A model which does not make accurate predictions for new observations\n",
    "4. Nonlinearity"
   ]
  },
  {
   "cell_type": "markdown",
   "metadata": {},
   "source": [
    "***\n",
    "## Question 9\n",
    "\n",
    "Sketch a plot of residuals versus fitted values that shows clear evidence of heteroskedastic errors. **(3)**"
   ]
  },
  {
   "cell_type": "markdown",
   "metadata": {},
   "source": [
    "***\n",
    "***"
   ]
  },
  {
   "cell_type": "markdown",
   "metadata": {},
   "source": [
    "Questions 10 through 16 will deal with a data set on *commercial paper rates*. These data are taken from a challenge put forth on the website Kaggle, with the data being publicly available from the US Federal Reserve.\n",
    "\n",
    "Quoting from Kaggle:\n",
    "\n",
    "> Commercial paper, in the global financial market, is an unsecured promissory note with a fixed maturity of not more than 270 days.\n",
    ">\n",
    "> Commercial paper is a money-market security issued (sold) by large corporations to obtain funds to meet short-term debt obligations (for example, payroll), and is backed only by an issuing bank or company promise to pay the face amount on the maturity date specified on the note. Since it is not backed by collateral, only firms with excellent credit ratings from a recognized credit rating agency will be able to sell their commercial paper at a reasonable price. Commercial paper is usually sold at a discount from face value, and generally carries lower interest repayment rates than bonds due to the shorter maturities of commercial paper. Typically, the longer the maturity on a note, the higher the interest rate the issuing institution pays. Interest rates fluctuate with market conditions, but are typically lower than banks' rates.\n",
    ">\n",
    "> Commercial paper – though a short-term obligation – is issued as part of a continuous rolling program, which is either a number of years long (as in Europe), or open-ended (as in the U.S.)"
   ]
  },
  {
   "cell_type": "markdown",
   "metadata": {},
   "source": [
    "The data set we will use has 24 rates. The table below gives the rates, along with the names used in the data set.\n",
    "\n",
    "| Rate | Variable Name |\n",
    "| --- | --- |\n",
    "| Overnight AA Nonfinancial Commercial Paper Interest Rate | OvernightAANon |\n",
    "| 7-Day AA Nonfinancial Commercial Paper Interest Rate | SevenDayAANon |\n",
    "| 15-Day AA Nonfinancial Commercial Paper Interest Rate | FifteenDayAANon |\n",
    "| 30-Day AA Nonfinancial Commercial Paper Interest Rate | ThirtyDayAANon |\n",
    "| 60-Day AA Nonfinancial Commercial Paper Interest Rate | SixtyDayAANon |\n",
    "| 90-Day AA Nonfinancial Commercial Paper Interest Rate | NinetyDayAANon |\n",
    "| Overnight A2/P2 Nonfinancial Commercial Paper Interest Rate | OvernightA2P2Non |\n",
    "| 7-Day A2/P2 Nonfinancial Commercial Paper Interest Rate | SevenDayA2P2Non |\n",
    "| 15-Day A2/P2 Nonfinancial Commercial Paper Interest Rate | FifteenDayA2P2Non |\n",
    "| 30-Day A2/P2 Nonfinancial Commercial Paper Interest Rate | ThirtyDayA2P2Non |\n",
    "| 60-Day A2/P2 Nonfinancial Commercial Paper Interest Rate | SixtyDayA2P2Non |\n",
    "| 90-Day A2/P2 Nonfinancial Commercial Paper Interest Rate | NinetyDayA2P2Non |\n",
    "| Overnight AA Financial Commercial Paper Interest Rate | OvernightAAFin |\n",
    "| 7-Day AA Financial Commercial Paper Interest Rate | SevenDayAAFin |\n",
    "| 15-Day AA Financial Commercial Paper Interest Rate | FifteenDayAAFin |\n",
    "| 30-Day AA Financial Commercial Paper Interest Rate | ThirtyDayAAFin |\n",
    "| 60-Day AA Financial Commercial Paper Interest Rate | SixtyDayAAFin |\n",
    "| 90-Day AA Financial Commercial Paper Interest Rate | NinetyDayAAFin |\n",
    "| Overnight AA Asset-backed Commercial Paper Interest Rate | OvernightAAAsset |\n",
    "| 7-Day AA Asset-backed Commercial Paper Interest Rate | SevenDayAAAsset |\n",
    "| 15-Day AA Asset-backed Commercial Paper Interest Rate | FifteenDayAAAsset |\n",
    "| 30-Day AA Asset-backed Commercial Paper Interest Rate | ThirtyDayAAAsset |\n",
    "| 60-Day AA Asset-backed Commercial Paper Interest Rate | SixtyDayAAAsset |\n",
    "| 90-Day AA Asset-backed Commercial Paper Interest Rate | NinetyDayAAAsset |"
   ]
  },
  {
   "cell_type": "markdown",
   "metadata": {},
   "source": [
    "The data set can be read in using the following command:"
   ]
  },
  {
   "cell_type": "code",
   "execution_count": 2,
   "metadata": {},
   "outputs": [
    {
     "data": {
      "text/html": [
       "<div>\n",
       "<style scoped>\n",
       "    .dataframe tbody tr th:only-of-type {\n",
       "        vertical-align: middle;\n",
       "    }\n",
       "\n",
       "    .dataframe tbody tr th {\n",
       "        vertical-align: top;\n",
       "    }\n",
       "\n",
       "    .dataframe thead th {\n",
       "        text-align: right;\n",
       "    }\n",
       "</style>\n",
       "<table border=\"1\" class=\"dataframe\">\n",
       "  <thead>\n",
       "    <tr style=\"text-align: right;\">\n",
       "      <th></th>\n",
       "      <th>Date</th>\n",
       "      <th>OvernightAANon</th>\n",
       "      <th>SevenDayAANon</th>\n",
       "      <th>FifteenDayAANon</th>\n",
       "      <th>ThirtyDayAANon</th>\n",
       "      <th>SixtyDayAANon</th>\n",
       "      <th>NinetyDayAANon</th>\n",
       "      <th>OvernightA2P2Non</th>\n",
       "      <th>SevenDayA2P2Non</th>\n",
       "      <th>FifteenDayA2P2Non</th>\n",
       "      <th>...</th>\n",
       "      <th>FifteenDayAAFin</th>\n",
       "      <th>ThirtyDayAAFin</th>\n",
       "      <th>SixtyDayAAFin</th>\n",
       "      <th>NinetyDayAAFin</th>\n",
       "      <th>OvernightAAAsset</th>\n",
       "      <th>SevenDayAAAsset</th>\n",
       "      <th>FifteenDayAAAsset</th>\n",
       "      <th>ThirtyDayAAAsset</th>\n",
       "      <th>SixtyDayAAAsset</th>\n",
       "      <th>NinetyDayAAAsset</th>\n",
       "    </tr>\n",
       "  </thead>\n",
       "  <tbody>\n",
       "    <tr>\n",
       "      <th>0</th>\n",
       "      <td>1998-01-02</td>\n",
       "      <td>5.94</td>\n",
       "      <td>5.64</td>\n",
       "      <td>5.59</td>\n",
       "      <td>5.56</td>\n",
       "      <td>5.50</td>\n",
       "      <td>5.54</td>\n",
       "      <td>6.08</td>\n",
       "      <td>5.91</td>\n",
       "      <td>5.82</td>\n",
       "      <td>...</td>\n",
       "      <td>5.61</td>\n",
       "      <td>5.57</td>\n",
       "      <td>5.57</td>\n",
       "      <td>5.57</td>\n",
       "      <td>NaN</td>\n",
       "      <td>NaN</td>\n",
       "      <td>NaN</td>\n",
       "      <td>NaN</td>\n",
       "      <td>NaN</td>\n",
       "      <td>NaN</td>\n",
       "    </tr>\n",
       "    <tr>\n",
       "      <th>1</th>\n",
       "      <td>1998-01-05</td>\n",
       "      <td>5.64</td>\n",
       "      <td>5.56</td>\n",
       "      <td>5.53</td>\n",
       "      <td>5.52</td>\n",
       "      <td>5.51</td>\n",
       "      <td>5.56</td>\n",
       "      <td>5.75</td>\n",
       "      <td>5.75</td>\n",
       "      <td>5.75</td>\n",
       "      <td>...</td>\n",
       "      <td>5.57</td>\n",
       "      <td>5.54</td>\n",
       "      <td>5.54</td>\n",
       "      <td>5.53</td>\n",
       "      <td>NaN</td>\n",
       "      <td>NaN</td>\n",
       "      <td>NaN</td>\n",
       "      <td>NaN</td>\n",
       "      <td>NaN</td>\n",
       "      <td>NaN</td>\n",
       "    </tr>\n",
       "    <tr>\n",
       "      <th>2</th>\n",
       "      <td>1998-01-06</td>\n",
       "      <td>5.45</td>\n",
       "      <td>5.48</td>\n",
       "      <td>5.49</td>\n",
       "      <td>5.50</td>\n",
       "      <td>5.49</td>\n",
       "      <td>5.47</td>\n",
       "      <td>5.57</td>\n",
       "      <td>5.67</td>\n",
       "      <td>5.70</td>\n",
       "      <td>...</td>\n",
       "      <td>5.51</td>\n",
       "      <td>5.52</td>\n",
       "      <td>5.50</td>\n",
       "      <td>5.51</td>\n",
       "      <td>NaN</td>\n",
       "      <td>NaN</td>\n",
       "      <td>NaN</td>\n",
       "      <td>NaN</td>\n",
       "      <td>NaN</td>\n",
       "      <td>NaN</td>\n",
       "    </tr>\n",
       "    <tr>\n",
       "      <th>3</th>\n",
       "      <td>1998-01-07</td>\n",
       "      <td>5.37</td>\n",
       "      <td>5.45</td>\n",
       "      <td>5.46</td>\n",
       "      <td>5.47</td>\n",
       "      <td>5.48</td>\n",
       "      <td>5.45</td>\n",
       "      <td>5.47</td>\n",
       "      <td>5.58</td>\n",
       "      <td>5.63</td>\n",
       "      <td>...</td>\n",
       "      <td>5.47</td>\n",
       "      <td>5.48</td>\n",
       "      <td>5.49</td>\n",
       "      <td>5.48</td>\n",
       "      <td>NaN</td>\n",
       "      <td>NaN</td>\n",
       "      <td>NaN</td>\n",
       "      <td>NaN</td>\n",
       "      <td>NaN</td>\n",
       "      <td>NaN</td>\n",
       "    </tr>\n",
       "    <tr>\n",
       "      <th>4</th>\n",
       "      <td>1998-01-08</td>\n",
       "      <td>5.36</td>\n",
       "      <td>5.39</td>\n",
       "      <td>5.44</td>\n",
       "      <td>5.46</td>\n",
       "      <td>5.46</td>\n",
       "      <td>5.44</td>\n",
       "      <td>5.55</td>\n",
       "      <td>5.58</td>\n",
       "      <td>5.61</td>\n",
       "      <td>...</td>\n",
       "      <td>5.44</td>\n",
       "      <td>5.48</td>\n",
       "      <td>5.47</td>\n",
       "      <td>5.48</td>\n",
       "      <td>NaN</td>\n",
       "      <td>NaN</td>\n",
       "      <td>NaN</td>\n",
       "      <td>NaN</td>\n",
       "      <td>NaN</td>\n",
       "      <td>NaN</td>\n",
       "    </tr>\n",
       "  </tbody>\n",
       "</table>\n",
       "<p>5 rows × 25 columns</p>\n",
       "</div>"
      ],
      "text/plain": [
       "         Date  OvernightAANon  SevenDayAANon  FifteenDayAANon  ThirtyDayAANon  \\\n",
       "0  1998-01-02            5.94           5.64             5.59            5.56   \n",
       "1  1998-01-05            5.64           5.56             5.53            5.52   \n",
       "2  1998-01-06            5.45           5.48             5.49            5.50   \n",
       "3  1998-01-07            5.37           5.45             5.46            5.47   \n",
       "4  1998-01-08            5.36           5.39             5.44            5.46   \n",
       "\n",
       "   SixtyDayAANon  NinetyDayAANon  OvernightA2P2Non  SevenDayA2P2Non  \\\n",
       "0           5.50            5.54              6.08             5.91   \n",
       "1           5.51            5.56              5.75             5.75   \n",
       "2           5.49            5.47              5.57             5.67   \n",
       "3           5.48            5.45              5.47             5.58   \n",
       "4           5.46            5.44              5.55             5.58   \n",
       "\n",
       "   FifteenDayA2P2Non  ...  FifteenDayAAFin  ThirtyDayAAFin  SixtyDayAAFin  \\\n",
       "0               5.82  ...             5.61            5.57           5.57   \n",
       "1               5.75  ...             5.57            5.54           5.54   \n",
       "2               5.70  ...             5.51            5.52           5.50   \n",
       "3               5.63  ...             5.47            5.48           5.49   \n",
       "4               5.61  ...             5.44            5.48           5.47   \n",
       "\n",
       "   NinetyDayAAFin  OvernightAAAsset  SevenDayAAAsset  FifteenDayAAAsset  \\\n",
       "0            5.57               NaN              NaN                NaN   \n",
       "1            5.53               NaN              NaN                NaN   \n",
       "2            5.51               NaN              NaN                NaN   \n",
       "3            5.48               NaN              NaN                NaN   \n",
       "4            5.48               NaN              NaN                NaN   \n",
       "\n",
       "   ThirtyDayAAAsset  SixtyDayAAAsset  NinetyDayAAAsset  \n",
       "0               NaN              NaN               NaN  \n",
       "1               NaN              NaN               NaN  \n",
       "2               NaN              NaN               NaN  \n",
       "3               NaN              NaN               NaN  \n",
       "4               NaN              NaN               NaN  \n",
       "\n",
       "[5 rows x 25 columns]"
      ]
     },
     "execution_count": 2,
     "metadata": {},
     "output_type": "execute_result"
    }
   ],
   "source": [
    "import pandas as pd\n",
    "cprdat = pd.read_csv(\"http://www.stat.cmu.edu/~cschafer/MSCF/CPRdata.csv\",na_values=(\"ND\",\"NA\"),sep=\",\")\n",
    "\n",
    "cprdat.head()"
   ]
  },
  {
   "cell_type": "markdown",
   "metadata": {},
   "source": [
    "***\n",
    "## Question 10\n",
    "\n",
    "Explain the significance of the following command:"
   ]
  },
  {
   "cell_type": "code",
   "execution_count": 3,
   "metadata": {},
   "outputs": [],
   "source": [
    "cprdat['Date'] = pd.to_datetime(cprdat['Date'],format='%Y-%m-%d')"
   ]
  },
  {
   "cell_type": "markdown",
   "metadata": {},
   "source": [
    "**Choose One:**\n",
    "\n",
    "1. It is important that Python recognizes date and time information so that it can properly incorporated into later plots and analyses.\n",
    "\n",
    "2. This command will reorder the rows of the data frame to ensure that they are sequential in time.\n",
    "\n",
    "3. This command will make it sensible to include `Date` as a predictor in a multiple regression model."
   ]
  },
  {
   "cell_type": "markdown",
   "metadata": {},
   "source": [
    "***\n",
    "## Question 11\n",
    "\n",
    "Create a scatter plot with \"Overnight AA Nonfinancial Commercial Paper Interest Rate\" on the vertical (Y) axis, and the \"7-Day AA Nonfinancial Commercial Paper Interest Rate\" on the horizontal (X) axis. Comment on the relationship you see in the plot. **(5)**"
   ]
  },
  {
   "cell_type": "markdown",
   "metadata": {},
   "source": [
    "***\n",
    "## Question 12\n",
    "\n",
    "Fit a simple linear regression model through the scatter plot found in the previous question. Construct a 90% confidence interval for the slope of the regression line in this case. **(5)**"
   ]
  },
  {
   "cell_type": "markdown",
   "metadata": {},
   "source": [
    "***\n",
    "## Question 13\n",
    "\n",
    "Create the plot of residuals versus fitted values for the above fit. Make a rough sketch of the shape that you see in the figure. What conclusion(s) would you draw from this plot? **(5)**"
   ]
  },
  {
   "cell_type": "markdown",
   "metadata": {},
   "source": [
    "***\n",
    "## Question 14\n",
    "\n",
    "Do you have any concerns about the validity of the confidence interval found above?\n",
    "\n",
    "**Choose One:**\n",
    "\n",
    "1. No, the sample size is large, and the model is a decent fit to the data\n",
    "2. Yes, the sample size is too small\n",
    "3. Yes, the errors do not appear to be normally distributed, making the use of the interval based on the t distribution a bad choice\n"
   ]
  },
  {
   "cell_type": "markdown",
   "metadata": {},
   "source": [
    "***\n",
    "## Question 15\n",
    "\n",
    "Consider the following model fit, using an additional predictor."
   ]
  },
  {
   "cell_type": "code",
   "execution_count": 4,
   "metadata": {},
   "outputs": [],
   "source": [
    "import statsmodels.api as sm\n",
    "\n",
    "cprmod2 = sm.OLS.from_formula(formula=\"OvernightAANon ~ SevenDayAANon + FifteenDayAANon\", data = cprdat).fit()"
   ]
  },
  {
   "cell_type": "markdown",
   "metadata": {},
   "source": [
    "Using AIC, draw a conclusion as to whether or not the addition of this predictor was a good idea."
   ]
  },
  {
   "cell_type": "markdown",
   "metadata": {},
   "source": [
    "***\n",
    "## Question 16\n",
    "\n",
    "Consider the output code and the plot below. What can you conclude from this?"
   ]
  },
  {
   "cell_type": "code",
   "execution_count": 5,
   "metadata": {
    "scrolled": true
   },
   "outputs": [
    {
     "data": {
      "text/plain": [
       "<matplotlib.axes._subplots.AxesSubplot at 0x7fc2e8c96dd8>"
      ]
     },
     "execution_count": 5,
     "metadata": {},
     "output_type": "execute_result"
    },
    {
     "data": {
      "image/png": "[encoded data removed]",
      "text/plain": [
       "<Figure size 432x288 with 1 Axes>"
      ]
     },
     "metadata": {
      "needs_background": "light"
     },
     "output_type": "display_data"
    }
   ],
   "source": [
    "import seaborn as sns\n",
    "\n",
    "cookd2 = cprmod2.get_influence().cooks_distance[0]\n",
    "sns.boxplot(cookd2)"
   ]
  },
  {
   "cell_type": "markdown",
   "metadata": {},
   "source": [
    "**Choose One:**\n",
    "\n",
    "1. More effort should be put into choosing the appropriate predictors for this model\n",
    "2. There are a pair of observations which are somewhat more influential than all of the other observations used in the training set. These extreme cases should be investigated.\n",
    "3. This model is a good fit to the data.\n",
    "4. This model is a poor fit to the data."
   ]
  }
 ],
 "metadata": {
  "kernelspec": {
   "display_name": "Python 3",
   "language": "python",
   "name": "python3"
  },
  "language_info": {
   "codemirror_mode": {
    "name": "ipython",
    "version": 3
   },
   "file_extension": ".py",
   "mimetype": "text/x-python",
   "name": "python",
   "nbconvert_exporter": "python",
   "pygments_lexer": "ipython3",
   "version": "3.7.8"
  }
 },
 "nbformat": 4,
 "nbformat_minor": 4
}
