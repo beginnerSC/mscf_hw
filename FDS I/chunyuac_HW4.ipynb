{
 "cells": [
  {
   "cell_type": "markdown",
   "metadata": {},
   "source": [
    "\\begin{center}\n",
    "Chun-Yuan (Scott) Chiu\n",
    "\\end{center}\n",
    "\\begin{center}\n",
    "chunyuac@andrew.cmu.edu\n",
    "\\end{center}"
   ]
  },
  {
   "cell_type": "markdown",
   "metadata": {},
   "source": [
    "# 1. {-}\n",
    "\n",
    "## (a) {-}\n",
    "\n",
    "The likelihood function is \n",
    "$$\n",
    "L(\\alpha) = \\prod_{i=1}^n \\frac{\\alpha\\lambda^\\alpha}{X_i^{\\alpha+1}}, \n",
    "$$\n",
    "so the log likelihood is\n",
    "$$\n",
    "l(\\alpha) = \\sum_{i=1}^n (\\log\\alpha + \\alpha\\log\\lambda - (\\alpha+1)\\log X_i)\n",
    "$$\n",
    "and its derivative with respective to $\\alpha$\n",
    "\\begin{align*}\n",
    "\\frac{dl}{d\\alpha} &= \\sum_{i=1}^n \\left(\\frac{1}{\\alpha} + \\log\\lambda - \\log X_i\\right)\\\\\n",
    "&= \\frac{n}{\\alpha} + n\\log\\lambda - \\sum_{i=1}^n \\log X_i. \n",
    "\\end{align*}\n",
    "Setting to zero and solve for $\\alpha$, we obtain the MLE\n",
    "$$\n",
    "\\hat a = \\frac{1}{ \\frac1n\\sum_{i=1}^n \\log X_i - \\log\\lambda}.\n",
    "$$\n",
    "\n",
    "\n",
    "## (b) {-}\n",
    "\n",
    "The Fisher Information is \n",
    "\\begin{align*}\n",
    "I(\\alpha) &= E\\left(-\\frac{\\partial^2 \\log f(X;\\alpha)}{\\partial \\alpha^2}\\right)\\\\\n",
    "&= E\\left(-\\frac{\\partial^2 }{\\partial \\alpha^2}( \\log\\alpha + \\alpha\\log\\lambda - (\\alpha+1)\\log X) \\right)\\\\\n",
    "&= E\\left(-\\frac{\\partial }{\\partial \\alpha}\\left(\\frac{1}{\\alpha} + \\log\\lambda - \\log X\\right) \\right)\\\\\n",
    "&= E\\left( \\frac{1}{\\alpha^2} \\right) = \\frac{1}{\\alpha^2}, \n",
    "\\end{align*}\n",
    "so for large $n$, we have the approximation\n",
    "$$\n",
    "\\hat\\alpha \\approx N\\left(\\alpha, \\frac1{nI(\\alpha)}\\right) = N(\\alpha, \\alpha^2/n).\n",
    "$$\n",
    "In practice $\\alpha$ is unknown. We can replace $\\alpha$ by an estimate given by the MLE $\\hat \\alpha$. \n",
    "\n",
    "\n",
    "## (c) {-}\n",
    "\n",
    "The distribution of $\\alpha$ is approximately $N(\\hat\\alpha, \\hat\\alpha^2/n)$. Now given $\\lambda=2$ and a sample of size $n=100$ such that $\\sum_i\\log(x_i) = 107.39$, we have an estimate\n",
    "$$\n",
    "\\hat\\alpha = \\frac{1}{ \\frac1n\\sum_{i=1}^n \\log x_i - \\log\\lambda} = \\frac{1}{ \\frac{107.39}{100} - \\log 2} = 2.626.\n",
    "$$"
   ]
  },
  {
   "cell_type": "code",
   "execution_count": 1,
   "metadata": {},
   "outputs": [
    {
     "data": {
      "text/plain": [
       "2.626375824269999"
      ]
     },
     "execution_count": 1,
     "metadata": {},
     "output_type": "execute_result"
    }
   ],
   "source": [
    "from math import log\n",
    "\n",
    "1/(1.0739 - log(2))"
   ]
  },
  {
   "cell_type": "markdown",
   "metadata": {},
   "source": [
    "Thus the distribution of the MLE $\\hat \\alpha$ can be approximated by\n",
    "$$\n",
    "N(\\hat\\alpha, \\hat\\alpha^2/n) = N(2.626, 0.2626^2).\n",
    "$$\n",
    "The MLE $\\hat\\alpha$ is the best estimator for $\\alpha$ in the sense that it is asymptotically efficient, meaning its bias vanishes as $n$ goes to infinity (i.e., asymptotic unbiasedness), and among all asymptotically unbiased estimators, it achieves the lowest possible variance. Given the sample data and the above approximation, our best estimate for $\\alpha$ is 2.626 and the standard error of the estimator $\\hat\\alpha$ is approximately 0.2626. "
   ]
  },
  {
   "cell_type": "markdown",
   "metadata": {},
   "source": [
    "# 2. {-}\n",
    "\n",
    "## (a) {-}\n",
    "\n",
    "The pdf is \n",
    "$$\n",
    "f(x; \\theta) = \\frac{\\beta^\\theta}{\\Gamma(\\theta)}x^{\\theta-1}e^{-\\beta x}, \\quad 0<x<1, \\theta, \\beta>0, \n",
    "$$\n",
    "so the Fisher Information is\n",
    "\\begin{align*}\n",
    "I(\\theta) &= E\\left(-\\frac{\\partial^2 \\log f(X;\\theta)}{\\partial \\theta^2}\\right)\\\\\n",
    "&= E\\left(-\\frac{\\partial^2 }{\\partial \\theta^2}(\\theta\\log\\beta + (\\theta-1)\\log X -\\log\\Gamma(\\theta)-\\beta X) \\right)\\\\\n",
    "&= E\\left(\\frac{\\partial }{\\partial \\theta}\\frac{\\Gamma'(\\theta)}{\\Gamma(\\theta)} \\right)\\\\\n",
    "&= \\frac{\\Gamma(\\theta)\\Gamma''(\\theta) - (\\Gamma'(\\theta))^2}{\\Gamma^2(\\theta)}. \n",
    "\\end{align*}\n",
    "\n",
    "\n",
    "## (b) {-}\n",
    "\n",
    "Let $\\theta_0$ be the true value of $\\theta$ and $\\hat\\theta$ its MLE. When $n$ is large, we have approximately \n",
    "\\begin{align*}\n",
    "\\hat\\theta &\\approx N\\left(\\theta_0, \\frac{1}{nI(\\theta_0)}\\right)\\\\\n",
    "&= N\\left(\\theta_0, \\frac{\\Gamma^2(\\theta_0)}{n(\\Gamma(\\theta_0)\\Gamma''(\\theta_0) - (\\Gamma'(\\theta_0))^2)}\\right).\n",
    "\\end{align*}\n",
    "Since $\\theta_0$ is unknown, so is this distribution. It can be thought of as a distribution family. Given a sample data, in order to obtain a distribution we can work with, the best we can do is to numerically find an estimate using the MLE and replace all $\\theta_0$ by this estimate. \n",
    "\n",
    "\n",
    "## (c) {-}\n",
    "\n",
    "By the invariance property, the MLE for $\\log(\\theta)$ is $\\log(\\hat\\theta)$, whose distribution can be approximated by a normal using the Delta Method. \n",
    "Let \n",
    "$$\n",
    "\\sigma_n = \\sqrt{\\frac{\\Gamma^2(\\theta_0)}{n(\\Gamma(\\theta_0)\\Gamma''(\\theta_0) - (\\Gamma'(\\theta_0))^2)}}. \n",
    "$$\n",
    "Recall that $\\Gamma^2(\\theta_0)/(\\Gamma(\\theta_0)\\Gamma''(\\theta_0) - (\\Gamma'(\\theta_0))^2)$ is the second derivative of $\\log\\Gamma(\\theta)$ at $\\theta_0$, which is finite given $\\theta_0 > 0$. Thus we know that $\\sigma_n\\downarrow 0$ as $n\\rightarrow\\infty$.\n",
    "Since we have \n",
    "$$\n",
    "\\frac{\\hat\\theta - \\theta_0}{\\sigma_n} \\xrightarrow{D} Z, \n",
    "$$\n",
    "where $Z\\sim N(0, 1)$, by the Delta Method with $g(x) = 1/x$, we know that $(g'(\\theta_0))^2 = 1/\\theta_0^2$ and \n",
    "$$\n",
    "\\log(\\hat\\theta) \\approx N\\left(\\log(\\theta_0), \\frac{\\Gamma^2(\\theta_0)}{n\\theta_0^2(\\Gamma(\\theta_0)\\Gamma''(\\theta_0) - (\\Gamma'(\\theta_0))^2)}\\right). \n",
    "$$\n",
    "Again here $\\theta_0$ is unknown. Given a sample data we can replace it by a maximum likelihood estimate to obtain a workable distribution.\n",
    "\n"
   ]
  },
  {
   "cell_type": "markdown",
   "metadata": {},
   "source": [
    "# 3. {-}\n",
    "\n",
    "## (a) {-}\n",
    "\n",
    "By the invariance property, the MLE for the odds is \n",
    "$$\n",
    "\\frac{\\hat p}{1-\\hat p}.\n",
    "$$\n",
    "\n",
    "## (b) {-}\n",
    "\n",
    "Let $Y_1, Y_2, \\ldots, Y_n$ be i.i.d. from the $\\text{Bernoulli}(p)$ distribution. We can write $X = \\sum_{i=1}^n Y_i$ and $\\hat p = \\bar Y$. We also have\n",
    "\\begin{align*}\n",
    "E(\\hat p) &= E(\\bar Y) = E(Y_i) = p, \\\\\n",
    "V(\\hat p) &= V(\\bar Y) = V\\left(\\sum_{i=1}^n Y_i/n\\right) = V(Y_i)/n = p(1-p)/n.\n",
    "\\end{align*}\n",
    "By the CLT, we know that\n",
    "$$\n",
    "\\frac{\\hat p - p}{\\sqrt{\\frac{p(1-p)}{n}}} \\xrightarrow{D} Z. \n",
    "$${-}\n",
    "We want to apply the Delta Method with $g(x) = x/(1-x)$, which requires $g'(p)\\neq 0$ and $\\sigma_n = \\sqrt{p(1-p)/n} \\downarrow 0$ as $n\\rightarrow\\infty$. This is true for all $0<p<1$. We know that \n",
    "$$ \n",
    "g'(p) = \\frac{(1-p)+p}{(1-p)^2} = \\frac{1}{(1-p)^2}\n",
    "$$\n",
    "and that by the Delta Method\n",
    "\\begin{align*}\n",
    "\\frac{\\hat p}{1-\\hat p}&\\approx N(g(p), (g'(p))^2\\sigma_n^2)\\\\\n",
    "&= N\\left(\\frac{p}{1-p}, \\frac{1}{(1-p)^4}\\frac{p(1-p)}{n}\\right)\\\\\n",
    "&= N\\left(\\frac{p}{1-p}, \\frac{p}{n(1-p)^3}\\right).\n",
    "\\end{align*}\n",
    "To obtain a workable distribution, plug in $p=\\hat p$. \n",
    "\n",
    "\n",
    "## (c) {-}\n",
    "\n",
    "Given the above approximation (the one before plugging in $p=\\hat p$), we have\n",
    "$$\n",
    "P\\left(\\frac{\\Big| \\frac{\\hat p}{1-\\hat p} - \\frac{p}{1-p}  \\Big|}{\\sqrt{\\frac{p}{n(1-p)^3}}} < Z_{\\alpha/2}\\right) = 1-\\alpha, \n",
    "$$\n",
    "where $Z_{\\alpha/2}$ is the $100(1-\\frac{\\alpha}{2})$ percentile point of the standard normal distribution. Hence the confidence interval is\n",
    "$$\n",
    "\\frac{p}{1-p} \\in \\left[\\frac{\\hat p}{1-\\hat p}-Z_{\\alpha/2}\\sqrt{\\frac{p}{n(1-p)^3}}, \\frac{\\hat p}{1-\\hat p} + Z_{\\alpha/2}\\sqrt{\\frac{p}{n(1-p)^3}}\\right]\n",
    "$$\n",
    "Again this interval has an unknown $p$. To obtain a workable interval we plug in $p=\\hat p$ and get\n",
    "$$\n",
    "\\left[\\frac{\\hat p}{1-\\hat p}-Z_{\\alpha/2}\\sqrt{\\frac{\\hat p}{n(1-\\hat p)^3}}, \\frac{\\hat p}{1-\\hat p} + Z_{\\alpha/2}\\sqrt{\\frac{\\hat p}{n(1-\\hat p)^3}}\\right].\n",
    "$$\n",
    "\n",
    "\n",
    "## (d) {-}\n",
    "\n",
    "We look at the 95% confidence intervals. As the simulation results shown below, only around 65% of the 100,000 sample confidence intervals cover the true value of $p$, not 95%. The bar chart at the bottom shows the first 100 sample confidence intervals. The missing bars are intervals with length 0, which are simulation results with $\\hat p=0$. With $p=0.1$ it is understandable that a sample value $\\hat p=0$ is not uncommon. Indeed, since the \"rules of thumb\" $np\\geq 5, n(1-p)\\geq 5$ are not satisfied, the CLT approximation applied in (b) is not expected to be accurate. So a simulation result like the below is to be expected. "
   ]
  },
  {
   "cell_type": "code",
   "execution_count": 2,
   "metadata": {},
   "outputs": [
    {
     "data": {
      "text/plain": [
       "0.65566"
      ]
     },
     "execution_count": 2,
     "metadata": {},
     "output_type": "execute_result"
    }
   ],
   "source": [
    "from scipy.stats import norm, binom\n",
    "import numpy as np\n",
    "from pandas import DataFrame\n",
    "import matplotlib.pyplot as plt\n",
    "\n",
    "n = 10\n",
    "p = 0.1\n",
    "alpha = 5\n",
    "sampleSize = 100000\n",
    "z = norm.ppf(1 - alpha/100/2)\n",
    "\n",
    "phat = binom.rvs(n, p, size=sampleSize)/n\n",
    "l = phat/(1-phat) - z*np.sqrt(phat/(n*(1-phat)**3))\n",
    "r = phat/(1-phat) + z*np.sqrt(phat/(n*(1-phat)**3))\n",
    "p = np.full(sampleSize, p)\n",
    "\n",
    "((l < p) & (p < r)).sum()/sampleSize"
   ]
  },
  {
   "cell_type": "code",
   "execution_count": 3,
   "metadata": {},
   "outputs": [
    {
     "data": {
      "image/png": "[encoded data removed]",
      "text/plain": [
       "<Figure size 720x288 with 1 Axes>"
      ]
     },
     "metadata": {
      "needs_background": "light"
     },
     "output_type": "display_data"
    }
   ],
   "source": [
    "ax = DataFrame([l, r]).T.head(100).plot(kind='bar', stacked=True, legend=None, color='y')\n",
    "ax = DataFrame(p).head(100).plot(ax=ax, legend=None, figsize=(10, 4))\n",
    "ax.set_xticks([])\n",
    "ax.set_title(\"Simulation Results of Confidence Intervals and $p=0.1$\")\n",
    "plt.show()\n"
   ]
  }
 ],
 "metadata": {
  "kernelspec": {
   "display_name": "Python 3",
   "language": "python",
   "name": "python3"
  },
  "language_info": {
   "codemirror_mode": {
    "name": "ipython",
    "version": 3
   },
   "file_extension": ".py",
   "mimetype": "text/x-python",
   "name": "python",
   "nbconvert_exporter": "python",
   "pygments_lexer": "ipython3",
   "version": "3.7.8"
  },
  "toc-autonumbering": false,
  "toc-showcode": false,
  "toc-showmarkdowntxt": false
 },
 "nbformat": 4,
 "nbformat_minor": 4
}
