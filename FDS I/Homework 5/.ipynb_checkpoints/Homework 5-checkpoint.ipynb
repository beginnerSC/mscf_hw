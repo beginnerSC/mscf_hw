{
 "cells": [
  {
   "cell_type": "markdown",
   "metadata": {},
   "source": [
    "\\begin{center}\n",
    "Chun-Yuan (Scott) Chiu\n",
    "\\end{center}\n",
    "\\begin{center}\n",
    "chunyuac@andrew.cmu.edu\n",
    "\\end{center}"
   ]
  },
  {
   "cell_type": "markdown",
   "metadata": {},
   "source": [
    "# Question One {-}"
   ]
  },
  {
   "cell_type": "code",
   "execution_count": 1,
   "metadata": {},
   "outputs": [
    {
     "data": {
      "text/html": [
       "<div>\n",
       "<style scoped>\n",
       "    .dataframe tbody tr th:only-of-type {\n",
       "        vertical-align: middle;\n",
       "    }\n",
       "\n",
       "    .dataframe tbody tr th {\n",
       "        vertical-align: top;\n",
       "    }\n",
       "\n",
       "    .dataframe thead th {\n",
       "        text-align: right;\n",
       "    }\n",
       "</style>\n",
       "<table border=\"1\" class=\"dataframe\">\n",
       "  <thead>\n",
       "    <tr style=\"text-align: right;\">\n",
       "      <th></th>\n",
       "      <th>CouponRate</th>\n",
       "      <th>BidPrice</th>\n",
       "    </tr>\n",
       "    <tr>\n",
       "      <th>Case</th>\n",
       "      <th></th>\n",
       "      <th></th>\n",
       "    </tr>\n",
       "  </thead>\n",
       "  <tbody>\n",
       "    <tr>\n",
       "      <th>1</th>\n",
       "      <td>7.000</td>\n",
       "      <td>92.94</td>\n",
       "    </tr>\n",
       "    <tr>\n",
       "      <th>2</th>\n",
       "      <td>9.000</td>\n",
       "      <td>101.44</td>\n",
       "    </tr>\n",
       "    <tr>\n",
       "      <th>3</th>\n",
       "      <td>7.000</td>\n",
       "      <td>92.66</td>\n",
       "    </tr>\n",
       "    <tr>\n",
       "      <th>4</th>\n",
       "      <td>4.125</td>\n",
       "      <td>94.50</td>\n",
       "    </tr>\n",
       "    <tr>\n",
       "      <th>5</th>\n",
       "      <td>13.125</td>\n",
       "      <td>118.94</td>\n",
       "    </tr>\n",
       "  </tbody>\n",
       "</table>\n",
       "</div>"
      ],
      "text/plain": [
       "      CouponRate  BidPrice\n",
       "Case                      \n",
       "1          7.000     92.94\n",
       "2          9.000    101.44\n",
       "3          7.000     92.66\n",
       "4          4.125     94.50\n",
       "5         13.125    118.94"
      ]
     },
     "execution_count": 1,
     "metadata": {},
     "output_type": "execute_result"
    }
   ],
   "source": [
    "import pandas as pd\n",
    "\n",
    "bonds = pd.read_csv('bonds.txt', sep='\\t', index_col=0)\n",
    "# bonds = bonds[bonds['CouponRate'] > 6]\n",
    "n = len(bonds)\n",
    "\n",
    "bonds.head()"
   ]
  },
  {
   "cell_type": "code",
   "execution_count": 2,
   "metadata": {},
   "outputs": [
    {
     "data": {
      "text/plain": [
       "35"
      ]
     },
     "execution_count": 2,
     "metadata": {},
     "output_type": "execute_result"
    }
   ],
   "source": [
    "n"
   ]
  },
  {
   "cell_type": "markdown",
   "metadata": {},
   "source": [
    "## 1. {-}"
   ]
  },
  {
   "cell_type": "code",
   "execution_count": 3,
   "metadata": {},
   "outputs": [
    {
     "data": {
      "image/png": "[encoded data removed]",
      "text/plain": [
       "<Figure size 432x288 with 1 Axes>"
      ]
     },
     "metadata": {},
     "output_type": "display_data"
    }
   ],
   "source": [
    "import seaborn as sns\n",
    "\n",
    "sns.set_theme(color_codes=True)\n",
    "ax = sns.regplot(x='CouponRate', y='BidPrice', data=bonds)"
   ]
  },
  {
   "cell_type": "markdown",
   "metadata": {},
   "source": [
    "## 2. {-}"
   ]
  },
  {
   "cell_type": "code",
   "execution_count": 4,
   "metadata": {},
   "outputs": [
    {
     "data": {
      "text/html": [
       "<table class=\"simpletable\">\n",
       "<caption>OLS Regression Results</caption>\n",
       "<tr>\n",
       "  <th>Dep. Variable:</th>        <td>BidPrice</td>     <th>  R-squared:         </th> <td>   0.752</td>\n",
       "</tr>\n",
       "<tr>\n",
       "  <th>Model:</th>                   <td>OLS</td>       <th>  Adj. R-squared:    </th> <td>   0.744</td>\n",
       "</tr>\n",
       "<tr>\n",
       "  <th>Method:</th>             <td>Least Squares</td>  <th>  F-statistic:       </th> <td>   99.87</td>\n",
       "</tr>\n",
       "<tr>\n",
       "  <th>Date:</th>             <td>Thu, 15 Oct 2020</td> <th>  Prob (F-statistic):</th> <td>1.64e-11</td>\n",
       "</tr>\n",
       "<tr>\n",
       "  <th>Time:</th>                 <td>05:04:44</td>     <th>  Log-Likelihood:    </th> <td> -98.656</td>\n",
       "</tr>\n",
       "<tr>\n",
       "  <th>No. Observations:</th>      <td>    35</td>      <th>  AIC:               </th> <td>   201.3</td>\n",
       "</tr>\n",
       "<tr>\n",
       "  <th>Df Residuals:</th>          <td>    33</td>      <th>  BIC:               </th> <td>   204.4</td>\n",
       "</tr>\n",
       "<tr>\n",
       "  <th>Df Model:</th>              <td>     1</td>      <th>                     </th>     <td> </td>   \n",
       "</tr>\n",
       "<tr>\n",
       "  <th>Covariance Type:</th>      <td>nonrobust</td>    <th>                     </th>     <td> </td>   \n",
       "</tr>\n",
       "</table>\n",
       "<table class=\"simpletable\">\n",
       "<tr>\n",
       "       <td></td>         <th>coef</th>     <th>std err</th>      <th>t</th>      <th>P>|t|</th>  <th>[0.025</th>    <th>0.975]</th>  \n",
       "</tr>\n",
       "<tr>\n",
       "  <th>Intercept</th>  <td>   74.7866</td> <td>    2.827</td> <td>   26.458</td> <td> 0.000</td> <td>   69.036</td> <td>   80.537</td>\n",
       "</tr>\n",
       "<tr>\n",
       "  <th>CouponRate</th> <td>    3.0661</td> <td>    0.307</td> <td>    9.994</td> <td> 0.000</td> <td>    2.442</td> <td>    3.690</td>\n",
       "</tr>\n",
       "</table>\n",
       "<table class=\"simpletable\">\n",
       "<tr>\n",
       "  <th>Omnibus:</th>       <td> 3.313</td> <th>  Durbin-Watson:     </th> <td>   1.827</td>\n",
       "</tr>\n",
       "<tr>\n",
       "  <th>Prob(Omnibus):</th> <td> 0.191</td> <th>  Jarque-Bera (JB):  </th> <td>   2.262</td>\n",
       "</tr>\n",
       "<tr>\n",
       "  <th>Skew:</th>          <td> 0.607</td> <th>  Prob(JB):          </th> <td>   0.323</td>\n",
       "</tr>\n",
       "<tr>\n",
       "  <th>Kurtosis:</th>      <td> 3.276</td> <th>  Cond. No.          </th> <td>    37.3</td>\n",
       "</tr>\n",
       "</table><br/><br/>Notes:<br/>[1] Standard Errors assume that the covariance matrix of the errors is correctly specified."
      ],
      "text/plain": [
       "<class 'statsmodels.iolib.summary.Summary'>\n",
       "\"\"\"\n",
       "                            OLS Regression Results                            \n",
       "==============================================================================\n",
       "Dep. Variable:               BidPrice   R-squared:                       0.752\n",
       "Model:                            OLS   Adj. R-squared:                  0.744\n",
       "Method:                 Least Squares   F-statistic:                     99.87\n",
       "Date:                Thu, 15 Oct 2020   Prob (F-statistic):           1.64e-11\n",
       "Time:                        05:04:44   Log-Likelihood:                -98.656\n",
       "No. Observations:                  35   AIC:                             201.3\n",
       "Df Residuals:                      33   BIC:                             204.4\n",
       "Df Model:                           1                                         \n",
       "Covariance Type:            nonrobust                                         \n",
       "==============================================================================\n",
       "                 coef    std err          t      P>|t|      [0.025      0.975]\n",
       "------------------------------------------------------------------------------\n",
       "Intercept     74.7866      2.827     26.458      0.000      69.036      80.537\n",
       "CouponRate     3.0661      0.307      9.994      0.000       2.442       3.690\n",
       "==============================================================================\n",
       "Omnibus:                        3.313   Durbin-Watson:                   1.827\n",
       "Prob(Omnibus):                  0.191   Jarque-Bera (JB):                2.262\n",
       "Skew:                           0.607   Prob(JB):                        0.323\n",
       "Kurtosis:                       3.276   Cond. No.                         37.3\n",
       "==============================================================================\n",
       "\n",
       "Notes:\n",
       "[1] Standard Errors assume that the covariance matrix of the errors is correctly specified.\n",
       "\"\"\""
      ]
     },
     "execution_count": 4,
     "metadata": {},
     "output_type": "execute_result"
    }
   ],
   "source": [
    "import statsmodels.api as sm\n",
    "import matplotlib.pyplot as plt\n",
    "\n",
    "olsBonds = sm.OLS.from_formula(formula='BidPrice ~ CouponRate', data=bonds).fit()\n",
    "olsBonds.summary()"
   ]
  },
  {
   "cell_type": "markdown",
   "metadata": {},
   "source": [
    "## 3. {-}"
   ]
  },
  {
   "cell_type": "code",
   "execution_count": 5,
   "metadata": {},
   "outputs": [
    {
     "data": {
      "image/png": "[encoded data removed]",
      "text/plain": [
       "<Figure size 432x288 with 1 Axes>"
      ]
     },
     "metadata": {},
     "output_type": "display_data"
    }
   ],
   "source": [
    "plt.scatter(olsBonds.fittedvalues, olsBonds.resid)\n",
    "plt.xlabel('Fitted Values')\n",
    "plt.ylabel('Residuals')\n",
    "plt.show()"
   ]
  },
  {
   "cell_type": "markdown",
   "metadata": {},
   "source": [
    "$$\n",
    "\\hat\\beta_1 \\pm z_{0.025}\\text{SE}(\\hat \\beta_1)\n",
    "$$\n",
    "where the standard error is \n",
    "$$\n",
    "\\text{SE}(\\hat\\beta_1)\\approx\\frac{\\hat\\sigma}{s_x\\sqrt{n-1}}\n",
    "$$\n",
    "\n",
    "$$\n",
    "\\hat\\sigma^2 = \\text{RSS}/(n-2)\n",
    "$$"
   ]
  },
  {
   "cell_type": "code",
   "execution_count": 6,
   "metadata": {},
   "outputs": [
    {
     "data": {
      "text/plain": [
       "(2.464778252846198, 3.6674260585957033)"
      ]
     },
     "execution_count": 6,
     "metadata": {},
     "output_type": "execute_result"
    }
   ],
   "source": [
    "import numpy as np\n",
    "from scipy.stats import norm, t\n",
    "\n",
    "se = np.sqrt(olsBonds.ssr/(n-2))/(np.std(bonds['CouponRate'], ddof=1)*np.sqrt(n-1))\n",
    "# z = t.ppf(1 - 0.025, n-2)\n",
    "z = norm.ppf(1 - 0.025)\n",
    "\n",
    "(olsBonds.params['CouponRate'] - (z*se), olsBonds.params['CouponRate'] + (z*se))"
   ]
  },
  {
   "cell_type": "markdown",
   "metadata": {},
   "source": [
    "Assumption not correct (fitted-value plot), CI not meaningful\n",
    "\n"
   ]
  },
  {
   "cell_type": "markdown",
   "metadata": {},
   "source": [
    "# Question Two {-}"
   ]
  },
  {
   "cell_type": "markdown",
   "metadata": {},
   "source": [
    "## 1. {-}"
   ]
  },
  {
   "cell_type": "code",
   "execution_count": 7,
   "metadata": {},
   "outputs": [
    {
     "data": {
      "text/html": [
       "<div>\n",
       "<style scoped>\n",
       "    .dataframe tbody tr th:only-of-type {\n",
       "        vertical-align: middle;\n",
       "    }\n",
       "\n",
       "    .dataframe tbody tr th {\n",
       "        vertical-align: top;\n",
       "    }\n",
       "\n",
       "    .dataframe thead th {\n",
       "        text-align: right;\n",
       "    }\n",
       "</style>\n",
       "<table border=\"1\" class=\"dataframe\">\n",
       "  <thead>\n",
       "    <tr style=\"text-align: right;\">\n",
       "      <th></th>\n",
       "      <th>id</th>\n",
       "      <th>bond_id</th>\n",
       "      <th>trade_price</th>\n",
       "      <th>weight</th>\n",
       "      <th>current_coupon</th>\n",
       "      <th>time_to_maturity</th>\n",
       "      <th>is_callable</th>\n",
       "      <th>reporting_delay</th>\n",
       "      <th>trade_size</th>\n",
       "      <th>trade_type</th>\n",
       "      <th>...</th>\n",
       "      <th>received_time_diff_last9</th>\n",
       "      <th>trade_price_last9</th>\n",
       "      <th>trade_size_last9</th>\n",
       "      <th>trade_type_last9</th>\n",
       "      <th>curve_based_price_last9</th>\n",
       "      <th>received_time_diff_last10</th>\n",
       "      <th>trade_price_last10</th>\n",
       "      <th>trade_size_last10</th>\n",
       "      <th>trade_type_last10</th>\n",
       "      <th>curve_based_price_last10</th>\n",
       "    </tr>\n",
       "  </thead>\n",
       "  <tbody>\n",
       "    <tr>\n",
       "      <th>0</th>\n",
       "      <td>10</td>\n",
       "      <td>1</td>\n",
       "      <td>126.268</td>\n",
       "      <td>7.616851</td>\n",
       "      <td>5.950</td>\n",
       "      <td>25.940349</td>\n",
       "      <td>0</td>\n",
       "      <td>12.540</td>\n",
       "      <td>150000.0</td>\n",
       "      <td>3</td>\n",
       "      <td>...</td>\n",
       "      <td>2862729</td>\n",
       "      <td>128.596</td>\n",
       "      <td>120000.0</td>\n",
       "      <td>2</td>\n",
       "      <td>127.561201</td>\n",
       "      <td>3621492</td>\n",
       "      <td>129.089</td>\n",
       "      <td>200000.0</td>\n",
       "      <td>2</td>\n",
       "      <td>129.435587</td>\n",
       "    </tr>\n",
       "    <tr>\n",
       "      <th>1</th>\n",
       "      <td>38</td>\n",
       "      <td>2</td>\n",
       "      <td>101.009</td>\n",
       "      <td>0.018373</td>\n",
       "      <td>3.550</td>\n",
       "      <td>0.326392</td>\n",
       "      <td>0</td>\n",
       "      <td>9.327</td>\n",
       "      <td>450000.0</td>\n",
       "      <td>3</td>\n",
       "      <td>...</td>\n",
       "      <td>532644</td>\n",
       "      <td>101.086</td>\n",
       "      <td>500000.0</td>\n",
       "      <td>2</td>\n",
       "      <td>101.103180</td>\n",
       "      <td>538510</td>\n",
       "      <td>101.070</td>\n",
       "      <td>25000.0</td>\n",
       "      <td>2</td>\n",
       "      <td>101.102243</td>\n",
       "    </tr>\n",
       "    <tr>\n",
       "      <th>2</th>\n",
       "      <td>336</td>\n",
       "      <td>3</td>\n",
       "      <td>108.144</td>\n",
       "      <td>3.537380</td>\n",
       "      <td>4.200</td>\n",
       "      <td>2.340601</td>\n",
       "      <td>0</td>\n",
       "      <td>0.102</td>\n",
       "      <td>160000.0</td>\n",
       "      <td>4</td>\n",
       "      <td>...</td>\n",
       "      <td>96293</td>\n",
       "      <td>107.917</td>\n",
       "      <td>400000.0</td>\n",
       "      <td>2</td>\n",
       "      <td>107.874965</td>\n",
       "      <td>96293</td>\n",
       "      <td>107.917</td>\n",
       "      <td>400000.0</td>\n",
       "      <td>4</td>\n",
       "      <td>107.874965</td>\n",
       "    </tr>\n",
       "    <tr>\n",
       "      <th>3</th>\n",
       "      <td>781</td>\n",
       "      <td>4</td>\n",
       "      <td>116.953</td>\n",
       "      <td>0.402523</td>\n",
       "      <td>4.875</td>\n",
       "      <td>7.367653</td>\n",
       "      <td>0</td>\n",
       "      <td>52.093</td>\n",
       "      <td>10000.0</td>\n",
       "      <td>4</td>\n",
       "      <td>...</td>\n",
       "      <td>92559</td>\n",
       "      <td>115.924</td>\n",
       "      <td>10000.0</td>\n",
       "      <td>2</td>\n",
       "      <td>116.160420</td>\n",
       "      <td>97177</td>\n",
       "      <td>116.458</td>\n",
       "      <td>2000.0</td>\n",
       "      <td>3</td>\n",
       "      <td>116.342802</td>\n",
       "    </tr>\n",
       "    <tr>\n",
       "      <th>4</th>\n",
       "      <td>1172</td>\n",
       "      <td>14</td>\n",
       "      <td>133.210</td>\n",
       "      <td>0.210685</td>\n",
       "      <td>10.750</td>\n",
       "      <td>4.159301</td>\n",
       "      <td>0</td>\n",
       "      <td>13.722</td>\n",
       "      <td>25000.0</td>\n",
       "      <td>4</td>\n",
       "      <td>...</td>\n",
       "      <td>6400208</td>\n",
       "      <td>127.500</td>\n",
       "      <td>25000.0</td>\n",
       "      <td>2</td>\n",
       "      <td>131.066998</td>\n",
       "      <td>6400208</td>\n",
       "      <td>127.500</td>\n",
       "      <td>25000.0</td>\n",
       "      <td>4</td>\n",
       "      <td>131.066998</td>\n",
       "    </tr>\n",
       "  </tbody>\n",
       "</table>\n",
       "<p>5 rows × 61 columns</p>\n",
       "</div>"
      ],
      "text/plain": [
       "     id  bond_id  trade_price    weight  current_coupon  time_to_maturity  \\\n",
       "0    10        1      126.268  7.616851           5.950         25.940349   \n",
       "1    38        2      101.009  0.018373           3.550          0.326392   \n",
       "2   336        3      108.144  3.537380           4.200          2.340601   \n",
       "3   781        4      116.953  0.402523           4.875          7.367653   \n",
       "4  1172       14      133.210  0.210685          10.750          4.159301   \n",
       "\n",
       "   is_callable  reporting_delay  trade_size  trade_type  ...  \\\n",
       "0            0           12.540    150000.0           3  ...   \n",
       "1            0            9.327    450000.0           3  ...   \n",
       "2            0            0.102    160000.0           4  ...   \n",
       "3            0           52.093     10000.0           4  ...   \n",
       "4            0           13.722     25000.0           4  ...   \n",
       "\n",
       "   received_time_diff_last9  trade_price_last9  trade_size_last9  \\\n",
       "0                   2862729            128.596          120000.0   \n",
       "1                    532644            101.086          500000.0   \n",
       "2                     96293            107.917          400000.0   \n",
       "3                     92559            115.924           10000.0   \n",
       "4                   6400208            127.500           25000.0   \n",
       "\n",
       "   trade_type_last9  curve_based_price_last9  received_time_diff_last10  \\\n",
       "0                 2               127.561201                    3621492   \n",
       "1                 2               101.103180                     538510   \n",
       "2                 2               107.874965                      96293   \n",
       "3                 2               116.160420                      97177   \n",
       "4                 2               131.066998                    6400208   \n",
       "\n",
       "   trade_price_last10  trade_size_last10  trade_type_last10  \\\n",
       "0             129.089           200000.0                  2   \n",
       "1             101.070            25000.0                  2   \n",
       "2             107.917           400000.0                  4   \n",
       "3             116.458             2000.0                  3   \n",
       "4             127.500            25000.0                  4   \n",
       "\n",
       "   curve_based_price_last10  \n",
       "0                129.435587  \n",
       "1                101.102243  \n",
       "2                107.874965  \n",
       "3                116.342802  \n",
       "4                131.066998  \n",
       "\n",
       "[5 rows x 61 columns]"
      ]
     },
     "execution_count": 7,
     "metadata": {},
     "output_type": "execute_result"
    }
   ],
   "source": [
    "data = pd.read_csv('bonddata.txt', sep=',')\n",
    "data.head()"
   ]
  },
  {
   "cell_type": "code",
   "execution_count": 8,
   "metadata": {},
   "outputs": [
    {
     "data": {
      "text/plain": [
       "True"
      ]
     },
     "execution_count": 8,
     "metadata": {},
     "output_type": "execute_result"
    }
   ],
   "source": [
    "data['bond_id'].unique().shape == data['bond_id'].shape"
   ]
  },
  {
   "cell_type": "code",
   "execution_count": 9,
   "metadata": {},
   "outputs": [],
   "source": [
    "data.drop(['bond_id', 'id'], axis='columns', inplace=True)"
   ]
  },
  {
   "cell_type": "code",
   "execution_count": 10,
   "metadata": {},
   "outputs": [],
   "source": [
    "import pandas as pd\n",
    "\n",
    "catCols = ['is_callable'] + [colName for colName in data.columns if 'type' in colName]\n",
    "\n",
    "\n",
    "### won't make a difference as get_dummies will automatically categorize the input columns\n",
    "# for colName in catCols: \n",
    "#     data[colName] = data[colName].astype('category')\n",
    "\n",
    "\n",
    "data = pd.get_dummies(data=data, columns=catCols)"
   ]
  },
  {
   "cell_type": "code",
   "execution_count": 14,
   "metadata": {},
   "outputs": [],
   "source": [
    "import statsmodels.api as sm\n",
    "\n",
    "XWithOnes = sm.add_constant(data.drop('trade_price', axis='columns'))\n",
    "\n",
    "fullmod = sm.OLS(endog=data['trade_price'], exog=XWithOnes).fit()"
   ]
  }
 ],
 "metadata": {
  "kernelspec": {
   "display_name": "Python 3",
   "language": "python",
   "name": "python3"
  },
  "language_info": {
   "codemirror_mode": {
    "name": "ipython",
    "version": 3
   },
   "file_extension": ".py",
   "mimetype": "text/x-python",
   "name": "python",
   "nbconvert_exporter": "python",
   "pygments_lexer": "ipython3",
   "version": "3.7.8"
  },
  "toc-autonumbering": false,
  "toc-showcode": false,
  "toc-showmarkdowntxt": false
 },
 "nbformat": 4,
 "nbformat_minor": 4
}
