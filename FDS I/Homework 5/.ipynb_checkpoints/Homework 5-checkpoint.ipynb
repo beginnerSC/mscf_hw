{
 "cells": [
  {
   "cell_type": "markdown",
   "metadata": {},
   "source": [
    "\\begin{center}\n",
    "Chun-Yuan (Scott) Chiu\n",
    "\\end{center}\n",
    "\\begin{center}\n",
    "chunyuac@andrew.cmu.edu\n",
    "\\end{center}"
   ]
  },
  {
   "cell_type": "markdown",
   "metadata": {},
   "source": [
    "# Question One {-}"
   ]
  },
  {
   "cell_type": "code",
   "execution_count": 1,
   "metadata": {},
   "outputs": [
    {
     "data": {
      "text/html": [
       "<div>\n",
       "<style scoped>\n",
       "    .dataframe tbody tr th:only-of-type {\n",
       "        vertical-align: middle;\n",
       "    }\n",
       "\n",
       "    .dataframe tbody tr th {\n",
       "        vertical-align: top;\n",
       "    }\n",
       "\n",
       "    .dataframe thead th {\n",
       "        text-align: right;\n",
       "    }\n",
       "</style>\n",
       "<table border=\"1\" class=\"dataframe\">\n",
       "  <thead>\n",
       "    <tr style=\"text-align: right;\">\n",
       "      <th></th>\n",
       "      <th>CouponRate</th>\n",
       "      <th>BidPrice</th>\n",
       "    </tr>\n",
       "    <tr>\n",
       "      <th>Case</th>\n",
       "      <th></th>\n",
       "      <th></th>\n",
       "    </tr>\n",
       "  </thead>\n",
       "  <tbody>\n",
       "    <tr>\n",
       "      <th>1</th>\n",
       "      <td>7.000</td>\n",
       "      <td>92.94</td>\n",
       "    </tr>\n",
       "    <tr>\n",
       "      <th>2</th>\n",
       "      <td>9.000</td>\n",
       "      <td>101.44</td>\n",
       "    </tr>\n",
       "    <tr>\n",
       "      <th>3</th>\n",
       "      <td>7.000</td>\n",
       "      <td>92.66</td>\n",
       "    </tr>\n",
       "    <tr>\n",
       "      <th>4</th>\n",
       "      <td>4.125</td>\n",
       "      <td>94.50</td>\n",
       "    </tr>\n",
       "    <tr>\n",
       "      <th>5</th>\n",
       "      <td>13.125</td>\n",
       "      <td>118.94</td>\n",
       "    </tr>\n",
       "  </tbody>\n",
       "</table>\n",
       "</div>"
      ],
      "text/plain": [
       "      CouponRate  BidPrice\n",
       "Case                      \n",
       "1          7.000     92.94\n",
       "2          9.000    101.44\n",
       "3          7.000     92.66\n",
       "4          4.125     94.50\n",
       "5         13.125    118.94"
      ]
     },
     "execution_count": 1,
     "metadata": {},
     "output_type": "execute_result"
    }
   ],
   "source": [
    "import pandas as pd\n",
    "\n",
    "bonds = pd.read_csv('bonds.txt', sep='\\t', index_col=0)\n",
    "# bonds = bonds[bonds['CouponRate'] > 6]\n",
    "n = len(bonds)\n",
    "\n",
    "bonds.head()"
   ]
  },
  {
   "cell_type": "code",
   "execution_count": 2,
   "metadata": {},
   "outputs": [
    {
     "data": {
      "text/plain": [
       "35"
      ]
     },
     "execution_count": 2,
     "metadata": {},
     "output_type": "execute_result"
    }
   ],
   "source": [
    "n"
   ]
  },
  {
   "cell_type": "markdown",
   "metadata": {},
   "source": [
    "## 1. {-}"
   ]
  },
  {
   "cell_type": "code",
   "execution_count": 3,
   "metadata": {},
   "outputs": [
    {
     "data": {
      "image/png": "[encoded data removed]",
      "text/plain": [
       "<Figure size 432x288 with 1 Axes>"
      ]
     },
     "metadata": {},
     "output_type": "display_data"
    }
   ],
   "source": [
    "import seaborn as sns\n",
    "\n",
    "sns.set_theme(color_codes=True)\n",
    "ax = sns.regplot(x='CouponRate', y='BidPrice', data=bonds)"
   ]
  },
  {
   "cell_type": "markdown",
   "metadata": {},
   "source": [
    "## 2. {-}"
   ]
  },
  {
   "cell_type": "code",
   "execution_count": 4,
   "metadata": {},
   "outputs": [
    {
     "data": {
      "text/html": [
       "<table class=\"simpletable\">\n",
       "<caption>OLS Regression Results</caption>\n",
       "<tr>\n",
       "  <th>Dep. Variable:</th>        <td>BidPrice</td>     <th>  R-squared:         </th> <td>   0.752</td>\n",
       "</tr>\n",
       "<tr>\n",
       "  <th>Model:</th>                   <td>OLS</td>       <th>  Adj. R-squared:    </th> <td>   0.744</td>\n",
       "</tr>\n",
       "<tr>\n",
       "  <th>Method:</th>             <td>Least Squares</td>  <th>  F-statistic:       </th> <td>   99.87</td>\n",
       "</tr>\n",
       "<tr>\n",
       "  <th>Date:</th>             <td>Wed, 14 Oct 2020</td> <th>  Prob (F-statistic):</th> <td>1.64e-11</td>\n",
       "</tr>\n",
       "<tr>\n",
       "  <th>Time:</th>                 <td>04:26:35</td>     <th>  Log-Likelihood:    </th> <td> -98.656</td>\n",
       "</tr>\n",
       "<tr>\n",
       "  <th>No. Observations:</th>      <td>    35</td>      <th>  AIC:               </th> <td>   201.3</td>\n",
       "</tr>\n",
       "<tr>\n",
       "  <th>Df Residuals:</th>          <td>    33</td>      <th>  BIC:               </th> <td>   204.4</td>\n",
       "</tr>\n",
       "<tr>\n",
       "  <th>Df Model:</th>              <td>     1</td>      <th>                     </th>     <td> </td>   \n",
       "</tr>\n",
       "<tr>\n",
       "  <th>Covariance Type:</th>      <td>nonrobust</td>    <th>                     </th>     <td> </td>   \n",
       "</tr>\n",
       "</table>\n",
       "<table class=\"simpletable\">\n",
       "<tr>\n",
       "       <td></td>         <th>coef</th>     <th>std err</th>      <th>t</th>      <th>P>|t|</th>  <th>[0.025</th>    <th>0.975]</th>  \n",
       "</tr>\n",
       "<tr>\n",
       "  <th>Intercept</th>  <td>   74.7866</td> <td>    2.827</td> <td>   26.458</td> <td> 0.000</td> <td>   69.036</td> <td>   80.537</td>\n",
       "</tr>\n",
       "<tr>\n",
       "  <th>CouponRate</th> <td>    3.0661</td> <td>    0.307</td> <td>    9.994</td> <td> 0.000</td> <td>    2.442</td> <td>    3.690</td>\n",
       "</tr>\n",
       "</table>\n",
       "<table class=\"simpletable\">\n",
       "<tr>\n",
       "  <th>Omnibus:</th>       <td> 3.313</td> <th>  Durbin-Watson:     </th> <td>   1.827</td>\n",
       "</tr>\n",
       "<tr>\n",
       "  <th>Prob(Omnibus):</th> <td> 0.191</td> <th>  Jarque-Bera (JB):  </th> <td>   2.262</td>\n",
       "</tr>\n",
       "<tr>\n",
       "  <th>Skew:</th>          <td> 0.607</td> <th>  Prob(JB):          </th> <td>   0.323</td>\n",
       "</tr>\n",
       "<tr>\n",
       "  <th>Kurtosis:</th>      <td> 3.276</td> <th>  Cond. No.          </th> <td>    37.3</td>\n",
       "</tr>\n",
       "</table><br/><br/>Notes:<br/>[1] Standard Errors assume that the covariance matrix of the errors is correctly specified."
      ],
      "text/plain": [
       "<class 'statsmodels.iolib.summary.Summary'>\n",
       "\"\"\"\n",
       "                            OLS Regression Results                            \n",
       "==============================================================================\n",
       "Dep. Variable:               BidPrice   R-squared:                       0.752\n",
       "Model:                            OLS   Adj. R-squared:                  0.744\n",
       "Method:                 Least Squares   F-statistic:                     99.87\n",
       "Date:                Wed, 14 Oct 2020   Prob (F-statistic):           1.64e-11\n",
       "Time:                        04:26:35   Log-Likelihood:                -98.656\n",
       "No. Observations:                  35   AIC:                             201.3\n",
       "Df Residuals:                      33   BIC:                             204.4\n",
       "Df Model:                           1                                         \n",
       "Covariance Type:            nonrobust                                         \n",
       "==============================================================================\n",
       "                 coef    std err          t      P>|t|      [0.025      0.975]\n",
       "------------------------------------------------------------------------------\n",
       "Intercept     74.7866      2.827     26.458      0.000      69.036      80.537\n",
       "CouponRate     3.0661      0.307      9.994      0.000       2.442       3.690\n",
       "==============================================================================\n",
       "Omnibus:                        3.313   Durbin-Watson:                   1.827\n",
       "Prob(Omnibus):                  0.191   Jarque-Bera (JB):                2.262\n",
       "Skew:                           0.607   Prob(JB):                        0.323\n",
       "Kurtosis:                       3.276   Cond. No.                         37.3\n",
       "==============================================================================\n",
       "\n",
       "Notes:\n",
       "[1] Standard Errors assume that the covariance matrix of the errors is correctly specified.\n",
       "\"\"\""
      ]
     },
     "execution_count": 4,
     "metadata": {},
     "output_type": "execute_result"
    }
   ],
   "source": [
    "import statsmodels.api as sm\n",
    "import matplotlib.pyplot as plt\n",
    "\n",
    "olsBonds = sm.OLS.from_formula(formula='BidPrice ~ CouponRate', data=bonds).fit()\n",
    "olsBonds.summary()"
   ]
  },
  {
   "cell_type": "markdown",
   "metadata": {},
   "source": [
    "## 3. {-}"
   ]
  },
  {
   "cell_type": "code",
   "execution_count": 5,
   "metadata": {},
   "outputs": [
    {
     "data": {
      "image/png": "[encoded data removed]",
      "text/plain": [
       "<Figure size 432x288 with 1 Axes>"
      ]
     },
     "metadata": {},
     "output_type": "display_data"
    }
   ],
   "source": [
    "plt.scatter(olsBonds.fittedvalues, olsBonds.resid)\n",
    "plt.xlabel('Fitted Values')\n",
    "plt.ylabel('Residuals')\n",
    "plt.show()"
   ]
  },
  {
   "cell_type": "code",
   "execution_count": 6,
   "metadata": {},
   "outputs": [
    {
     "data": {
      "text/plain": [
       "array(['HC0_se', 'HC1_se', 'HC2_se', 'HC3_se', '_HCCM', '__class__',\n",
       "       '__delattr__', '__dict__', '__dir__', '__doc__', '__eq__',\n",
       "       '__format__', '__ge__', '__getattribute__', '__gt__', '__hash__',\n",
       "       '__init__', '__init_subclass__', '__le__', '__lt__', '__module__',\n",
       "       '__ne__', '__new__', '__reduce__', '__reduce_ex__', '__repr__',\n",
       "       '__setattr__', '__sizeof__', '__str__', '__subclasshook__',\n",
       "       '__weakref__', '_abat_diagonal', '_cache', '_data_attr',\n",
       "       '_data_in_cache', '_get_robustcov_results', '_is_nested', '_use_t',\n",
       "       '_wexog_singular_values', 'aic', 'bic', 'bse', 'centered_tss',\n",
       "       'compare_f_test', 'compare_lm_test', 'compare_lr_test',\n",
       "       'condition_number', 'conf_int', 'conf_int_el', 'cov_HC0',\n",
       "       'cov_HC1', 'cov_HC2', 'cov_HC3', 'cov_kwds', 'cov_params',\n",
       "       'cov_type', 'df_model', 'df_resid', 'diagn', 'eigenvals',\n",
       "       'el_test', 'ess', 'f_pvalue', 'f_test', 'fittedvalues', 'fvalue',\n",
       "       'get_influence', 'get_prediction', 'get_robustcov_results',\n",
       "       'initialize', 'k_constant', 'llf', 'load', 'model', 'mse_model',\n",
       "       'mse_resid', 'mse_total', 'nobs', 'normalized_cov_params',\n",
       "       'outlier_test', 'params', 'predict', 'pvalues', 'remove_data',\n",
       "       'resid', 'resid_pearson', 'rsquared', 'rsquared_adj', 'save',\n",
       "       'scale', 'ssr', 'summary', 'summary2', 't_test', 't_test_pairwise',\n",
       "       'tvalues', 'uncentered_tss', 'use_t', 'wald_test',\n",
       "       'wald_test_terms', 'wresid'], dtype='<U22')"
      ]
     },
     "execution_count": 6,
     "metadata": {},
     "output_type": "execute_result"
    }
   ],
   "source": [
    "import numpy as np\n",
    "\n",
    "np.array(dir(olsBonds))"
   ]
  },
  {
   "cell_type": "markdown",
   "metadata": {},
   "source": [
    "$$\n",
    "\\hat\\beta_1 \\pm z_{0.025}\\text{SE}(\\hat \\beta_1)\n",
    "$$\n",
    "where the standard error is \n",
    "$$\n",
    "\\text{SE}(\\hat\\beta_1)\\approx\\frac{\\hat\\sigma}{s_x\\sqrt{n-1}}\n",
    "$$\n",
    "\n",
    "$$\n",
    "\\hat\\sigma^2 = \\text{RSS}/(n-2)\n",
    "$$"
   ]
  },
  {
   "cell_type": "code",
   "execution_count": 22,
   "metadata": {},
   "outputs": [
    {
     "data": {
      "text/plain": [
       "(2.464778252846198, 3.6674260585957033)"
      ]
     },
     "execution_count": 22,
     "metadata": {},
     "output_type": "execute_result"
    }
   ],
   "source": [
    "import numpy as np\n",
    "from scipy.stats import norm, t\n",
    "\n",
    "se = np.sqrt(olsBonds.ssr/(n-2))/(np.std(bonds['CouponRate'], ddof=1)*np.sqrt(n-1))\n",
    "# z = t.ppf(1 - 0.025, n-2)\n",
    "z = norm.ppf(1 - 0.025)\n",
    "\n",
    "(olsBonds.params['CouponRate'] - (z*se), olsBonds.params['CouponRate'] + (z*se))"
   ]
  },
  {
   "cell_type": "markdown",
   "metadata": {},
   "source": [
    "Assumption not correct (fitted-value plot), CI not meaningful\n",
    "\n"
   ]
  },
  {
   "cell_type": "code",
   "execution_count": null,
   "metadata": {},
   "outputs": [],
   "source": []
  },
  {
   "cell_type": "markdown",
   "metadata": {},
   "source": [
    "Thus the distribution of the MLE $\\hat \\alpha$ can be approximated by\n",
    "$$\n",
    "N(\\hat\\alpha, \\hat\\alpha^2/n) = N(2.626, 0.2626^2).\n",
    "$$\n",
    "The MLE $\\hat\\alpha$ is the best estimator for $\\alpha$ in the sense that it is asymptotically efficient, meaning its bias vanishes as $n$ goes to infinity (i.e., asymptotic unbiasedness), and among all asymptotically unbiased estimators, it achieves the lowest possible variance. Given the sample data and the above approximation, our best estimate for $\\alpha$ is 2.626 and the standard error of the estimator $\\hat\\alpha$ is approximately 0.2626. "
   ]
  },
  {
   "cell_type": "markdown",
   "metadata": {},
   "source": [
    "# 2. {-}\n",
    "\n",
    "## (a) {-}\n",
    "\n",
    "The pdf is \n",
    "$$\n",
    "f(x; \\theta) = \\frac{\\beta^\\theta}{\\Gamma(\\theta)}x^{\\theta-1}e^{-\\beta x}, \\quad 0<x<1, \\theta, \\beta>0, \n",
    "$$\n",
    "so the Fisher Information is\n",
    "\\begin{align*}\n",
    "I(\\theta) &= E\\left(-\\frac{\\partial^2 \\log f(X;\\theta)}{\\partial \\theta^2}\\right)\\\\\n",
    "&= E\\left(-\\frac{\\partial^2 }{\\partial \\theta^2}(\\theta\\log\\beta + (\\theta-1)\\log X -\\log\\Gamma(\\theta)-\\beta X) \\right)\\\\\n",
    "&= E\\left(\\frac{\\partial }{\\partial \\theta}\\frac{\\Gamma'(\\theta)}{\\Gamma(\\theta)} \\right)\\\\\n",
    "&= \\frac{\\Gamma(\\theta)\\Gamma''(\\theta) - (\\Gamma'(\\theta))^2}{\\Gamma^2(\\theta)}. \n",
    "\\end{align*}\n",
    "\n",
    "\n",
    "## (b) {-}\n",
    "\n",
    "Let $\\theta_0$ be the true value of $\\theta$ and $\\hat\\theta$ its MLE. When $n$ is large, we have approximately \n",
    "\\begin{align*}\n",
    "\\hat\\theta &\\approx N\\left(\\theta_0, \\frac{1}{nI(\\theta_0)}\\right)\\\\\n",
    "&= N\\left(\\theta_0, \\frac{\\Gamma^2(\\theta_0)}{n(\\Gamma(\\theta_0)\\Gamma''(\\theta_0) - (\\Gamma'(\\theta_0))^2)}\\right).\n",
    "\\end{align*}\n",
    "Since $\\theta_0$ is unknown, so is this distribution. It can be thought of as a distribution family. Given a sample data, in order to obtain a distribution we can work with, the best we can do is to numerically find an estimate using the MLE and replace all $\\theta_0$ by this estimate. \n",
    "\n",
    "\n",
    "## (c) {-}\n",
    "\n",
    "By the invariance property, the MLE for $\\log(\\theta)$ is $\\log(\\hat\\theta)$, whose distribution can be approximated by a normal using the Delta Method. \n",
    "Let \n",
    "$$\n",
    "\\sigma_n = \\sqrt{\\frac{\\Gamma^2(\\theta_0)}{n(\\Gamma(\\theta_0)\\Gamma''(\\theta_0) - (\\Gamma'(\\theta_0))^2)}}. \n",
    "$$\n",
    "Recall that $\\Gamma^2(\\theta_0)/(\\Gamma(\\theta_0)\\Gamma''(\\theta_0) - (\\Gamma'(\\theta_0))^2)$ is the second derivative of $\\log\\Gamma(\\theta)$ at $\\theta_0$, which is finite given $\\theta_0 > 0$. Thus we know that $\\sigma_n\\downarrow 0$ as $n\\rightarrow\\infty$.\n",
    "Since we have \n",
    "$$\n",
    "\\frac{\\hat\\theta - \\theta_0}{\\sigma_n} \\xrightarrow{D} Z, \n",
    "$$\n",
    "where $Z\\sim N(0, 1)$, by the Delta Method with $g(x) = 1/x$, we know that $(g'(\\theta_0))^2 = 1/\\theta_0^2$ and \n",
    "$$\n",
    "\\log(\\hat\\theta) \\approx N\\left(\\log(\\theta_0), \\frac{\\Gamma^2(\\theta_0)}{n\\theta_0^2(\\Gamma(\\theta_0)\\Gamma''(\\theta_0) - (\\Gamma'(\\theta_0))^2)}\\right). \n",
    "$$\n",
    "Again here $\\theta_0$ is unknown. Given a sample data we can replace it by a maximum likelihood estimate to obtain a workable distribution.\n",
    "\n"
   ]
  },
  {
   "cell_type": "markdown",
   "metadata": {},
   "source": [
    "# 3. {-}\n",
    "\n",
    "## (a) {-}\n",
    "\n",
    "By the invariance property, the MLE for the odds is \n",
    "$$\n",
    "\\frac{\\hat p}{1-\\hat p}.\n",
    "$$\n",
    "\n",
    "## (b) {-}\n",
    "\n",
    "Let $Y_1, Y_2, \\ldots, Y_n$ be i.i.d. from the $\\text{Bernoulli}(p)$ distribution. We can write $X = \\sum_{i=1}^n Y_i$ and $\\hat p = \\bar Y$. We also have\n",
    "\\begin{align*}\n",
    "E(\\hat p) &= E(\\bar Y) = E(Y_i) = p, \\\\\n",
    "V(\\hat p) &= V(\\bar Y) = V\\left(\\sum_{i=1}^n Y_i/n\\right) = V(Y_i)/n = p(1-p)/n.\n",
    "\\end{align*}\n",
    "By the CLT, we know that\n",
    "$$\n",
    "\\frac{\\hat p - p}{\\sqrt{\\frac{p(1-p)}{n}}} \\xrightarrow{D} Z. \n",
    "$${-}\n",
    "We want to apply the Delta Method with $g(x) = x/(1-x)$, which requires $g'(p)\\neq 0$ and $\\sigma_n = \\sqrt{p(1-p)/n} \\downarrow 0$ as $n\\rightarrow\\infty$. This is true for all $0<p<1$. We know that \n",
    "$$ \n",
    "g'(p) = \\frac{(1-p)+p}{(1-p)^2} = \\frac{1}{(1-p)^2}\n",
    "$$\n",
    "and that by the Delta Method\n",
    "\\begin{align*}\n",
    "\\frac{\\hat p}{1-\\hat p}&\\approx N(g(p), (g'(p))^2\\sigma_n^2)\\\\\n",
    "&= N\\left(\\frac{p}{1-p}, \\frac{1}{(1-p)^4}\\frac{p(1-p)}{n}\\right)\\\\\n",
    "&= N\\left(\\frac{p}{1-p}, \\frac{p}{n(1-p)^3}\\right).\n",
    "\\end{align*}\n",
    "To obtain a workable distribution, plug in $p=\\hat p$. \n",
    "\n",
    "\n",
    "## (c) {-}\n",
    "\n",
    "Given the above approximation (the one before plugging in $p=\\hat p$), we have\n",
    "$$\n",
    "P\\left(\\frac{\\Big| \\frac{\\hat p}{1-\\hat p} - \\frac{p}{1-p}  \\Big|}{\\sqrt{\\frac{p}{n(1-p)^3}}} < Z_{\\alpha/2}\\right) = 1-\\alpha, \n",
    "$$\n",
    "where $Z_{\\alpha/2}$ is the $100(1-\\frac{\\alpha}{2})$ percentile point of the standard normal distribution. Hence the confidence interval is\n",
    "$$\n",
    "\\frac{p}{1-p} \\in \\left[\\frac{\\hat p}{1-\\hat p}-Z_{\\alpha/2}\\sqrt{\\frac{p}{n(1-p)^3}}, \\frac{\\hat p}{1-\\hat p} + Z_{\\alpha/2}\\sqrt{\\frac{p}{n(1-p)^3}}\\right]\n",
    "$$\n",
    "Again this interval has an unknown $p$. To obtain a workable interval we plug in $p=\\hat p$ and get\n",
    "$$\n",
    "\\left[\\frac{\\hat p}{1-\\hat p}-Z_{\\alpha/2}\\sqrt{\\frac{\\hat p}{n(1-\\hat p)^3}}, \\frac{\\hat p}{1-\\hat p} + Z_{\\alpha/2}\\sqrt{\\frac{\\hat p}{n(1-\\hat p)^3}}\\right].\n",
    "$$\n",
    "\n",
    "\n",
    "## (d) {-}\n",
    "\n",
    "We look at the 95% confidence intervals. As the simulation results shown below, only around 65% of the 100,000 sample confidence intervals cover the true value of $p$, not 95%. The bar chart at the bottom shows the first 100 sample confidence intervals. The missing bars are intervals with length 0, which are simulation results with $\\hat p=0$. With $p=0.1$ it is understandable that a sample value $\\hat p=0$ is not uncommon. Indeed, since the \"rules of thumb\" $np\\geq 5, n(1-p)\\geq 5$ are not satisfied, the CLT approximation applied in (b) is not expected to be accurate. So a simulation result like the below is to be expected. "
   ]
  }
 ],
 "metadata": {
  "kernelspec": {
   "display_name": "Python 3",
   "language": "python",
   "name": "python3"
  },
  "language_info": {
   "codemirror_mode": {
    "name": "ipython",
    "version": 3
   },
   "file_extension": ".py",
   "mimetype": "text/x-python",
   "name": "python",
   "nbconvert_exporter": "python",
   "pygments_lexer": "ipython3",
   "version": "3.7.8"
  },
  "toc-autonumbering": false,
  "toc-showcode": false,
  "toc-showmarkdowntxt": false
 },
 "nbformat": 4,
 "nbformat_minor": 4
}
