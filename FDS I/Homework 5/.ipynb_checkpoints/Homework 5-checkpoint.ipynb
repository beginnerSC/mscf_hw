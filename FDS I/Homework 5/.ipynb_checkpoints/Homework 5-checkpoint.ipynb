{
 "cells": [
  {
   "cell_type": "markdown",
   "metadata": {},
   "source": [
    "\\begin{center}\n",
    "Chun-Yuan (Scott) Chiu\n",
    "\\end{center}\n",
    "\\begin{center}\n",
    "chunyuac@andrew.cmu.edu\n",
    "\\end{center}"
   ]
  },
  {
   "cell_type": "markdown",
   "metadata": {},
   "source": [
    "# Question One {-}"
   ]
  },
  {
   "cell_type": "code",
   "execution_count": 1,
   "metadata": {},
   "outputs": [
    {
     "data": {
      "text/html": [
       "<div>\n",
       "<style scoped>\n",
       "    .dataframe tbody tr th:only-of-type {\n",
       "        vertical-align: middle;\n",
       "    }\n",
       "\n",
       "    .dataframe tbody tr th {\n",
       "        vertical-align: top;\n",
       "    }\n",
       "\n",
       "    .dataframe thead th {\n",
       "        text-align: right;\n",
       "    }\n",
       "</style>\n",
       "<table border=\"1\" class=\"dataframe\">\n",
       "  <thead>\n",
       "    <tr style=\"text-align: right;\">\n",
       "      <th></th>\n",
       "      <th>CouponRate</th>\n",
       "      <th>BidPrice</th>\n",
       "    </tr>\n",
       "    <tr>\n",
       "      <th>Case</th>\n",
       "      <th></th>\n",
       "      <th></th>\n",
       "    </tr>\n",
       "  </thead>\n",
       "  <tbody>\n",
       "    <tr>\n",
       "      <th>1</th>\n",
       "      <td>7.000</td>\n",
       "      <td>92.94</td>\n",
       "    </tr>\n",
       "    <tr>\n",
       "      <th>2</th>\n",
       "      <td>9.000</td>\n",
       "      <td>101.44</td>\n",
       "    </tr>\n",
       "    <tr>\n",
       "      <th>3</th>\n",
       "      <td>7.000</td>\n",
       "      <td>92.66</td>\n",
       "    </tr>\n",
       "    <tr>\n",
       "      <th>4</th>\n",
       "      <td>4.125</td>\n",
       "      <td>94.50</td>\n",
       "    </tr>\n",
       "    <tr>\n",
       "      <th>5</th>\n",
       "      <td>13.125</td>\n",
       "      <td>118.94</td>\n",
       "    </tr>\n",
       "  </tbody>\n",
       "</table>\n",
       "</div>"
      ],
      "text/plain": [
       "      CouponRate  BidPrice\n",
       "Case                      \n",
       "1          7.000     92.94\n",
       "2          9.000    101.44\n",
       "3          7.000     92.66\n",
       "4          4.125     94.50\n",
       "5         13.125    118.94"
      ]
     },
     "execution_count": 1,
     "metadata": {},
     "output_type": "execute_result"
    }
   ],
   "source": [
    "import pandas as pd\n",
    "\n",
    "bonds = pd.read_csv('bonds.txt', sep='\\t', index_col=0)\n",
    "# bonds = bonds[bonds['CouponRate'] > 6]\n",
    "n = len(bonds)\n",
    "\n",
    "bonds.head()"
   ]
  },
  {
   "cell_type": "code",
   "execution_count": 2,
   "metadata": {},
   "outputs": [
    {
     "data": {
      "text/plain": [
       "35"
      ]
     },
     "execution_count": 2,
     "metadata": {},
     "output_type": "execute_result"
    }
   ],
   "source": [
    "n"
   ]
  },
  {
   "cell_type": "markdown",
   "metadata": {},
   "source": [
    "## 1. {-}"
   ]
  },
  {
   "cell_type": "code",
   "execution_count": 3,
   "metadata": {},
   "outputs": [
    {
     "data": {
      "image/png": "[encoded data removed]",
      "text/plain": [
       "<Figure size 432x288 with 1 Axes>"
      ]
     },
     "metadata": {},
     "output_type": "display_data"
    }
   ],
   "source": [
    "import seaborn as sns\n",
    "\n",
    "sns.set_theme(color_codes=True)\n",
    "ax = sns.regplot(x='CouponRate', y='BidPrice', data=bonds)"
   ]
  },
  {
   "cell_type": "markdown",
   "metadata": {},
   "source": [
    "## 2. {-}"
   ]
  },
  {
   "cell_type": "code",
   "execution_count": 4,
   "metadata": {},
   "outputs": [
    {
     "data": {
      "text/html": [
       "<table class=\"simpletable\">\n",
       "<caption>OLS Regression Results</caption>\n",
       "<tr>\n",
       "  <th>Dep. Variable:</th>        <td>BidPrice</td>     <th>  R-squared:         </th> <td>   0.752</td>\n",
       "</tr>\n",
       "<tr>\n",
       "  <th>Model:</th>                   <td>OLS</td>       <th>  Adj. R-squared:    </th> <td>   0.744</td>\n",
       "</tr>\n",
       "<tr>\n",
       "  <th>Method:</th>             <td>Least Squares</td>  <th>  F-statistic:       </th> <td>   99.87</td>\n",
       "</tr>\n",
       "<tr>\n",
       "  <th>Date:</th>             <td>Thu, 15 Oct 2020</td> <th>  Prob (F-statistic):</th> <td>1.64e-11</td>\n",
       "</tr>\n",
       "<tr>\n",
       "  <th>Time:</th>                 <td>04:35:06</td>     <th>  Log-Likelihood:    </th> <td> -98.656</td>\n",
       "</tr>\n",
       "<tr>\n",
       "  <th>No. Observations:</th>      <td>    35</td>      <th>  AIC:               </th> <td>   201.3</td>\n",
       "</tr>\n",
       "<tr>\n",
       "  <th>Df Residuals:</th>          <td>    33</td>      <th>  BIC:               </th> <td>   204.4</td>\n",
       "</tr>\n",
       "<tr>\n",
       "  <th>Df Model:</th>              <td>     1</td>      <th>                     </th>     <td> </td>   \n",
       "</tr>\n",
       "<tr>\n",
       "  <th>Covariance Type:</th>      <td>nonrobust</td>    <th>                     </th>     <td> </td>   \n",
       "</tr>\n",
       "</table>\n",
       "<table class=\"simpletable\">\n",
       "<tr>\n",
       "       <td></td>         <th>coef</th>     <th>std err</th>      <th>t</th>      <th>P>|t|</th>  <th>[0.025</th>    <th>0.975]</th>  \n",
       "</tr>\n",
       "<tr>\n",
       "  <th>Intercept</th>  <td>   74.7866</td> <td>    2.827</td> <td>   26.458</td> <td> 0.000</td> <td>   69.036</td> <td>   80.537</td>\n",
       "</tr>\n",
       "<tr>\n",
       "  <th>CouponRate</th> <td>    3.0661</td> <td>    0.307</td> <td>    9.994</td> <td> 0.000</td> <td>    2.442</td> <td>    3.690</td>\n",
       "</tr>\n",
       "</table>\n",
       "<table class=\"simpletable\">\n",
       "<tr>\n",
       "  <th>Omnibus:</th>       <td> 3.313</td> <th>  Durbin-Watson:     </th> <td>   1.827</td>\n",
       "</tr>\n",
       "<tr>\n",
       "  <th>Prob(Omnibus):</th> <td> 0.191</td> <th>  Jarque-Bera (JB):  </th> <td>   2.262</td>\n",
       "</tr>\n",
       "<tr>\n",
       "  <th>Skew:</th>          <td> 0.607</td> <th>  Prob(JB):          </th> <td>   0.323</td>\n",
       "</tr>\n",
       "<tr>\n",
       "  <th>Kurtosis:</th>      <td> 3.276</td> <th>  Cond. No.          </th> <td>    37.3</td>\n",
       "</tr>\n",
       "</table><br/><br/>Notes:<br/>[1] Standard Errors assume that the covariance matrix of the errors is correctly specified."
      ],
      "text/plain": [
       "<class 'statsmodels.iolib.summary.Summary'>\n",
       "\"\"\"\n",
       "                            OLS Regression Results                            \n",
       "==============================================================================\n",
       "Dep. Variable:               BidPrice   R-squared:                       0.752\n",
       "Model:                            OLS   Adj. R-squared:                  0.744\n",
       "Method:                 Least Squares   F-statistic:                     99.87\n",
       "Date:                Thu, 15 Oct 2020   Prob (F-statistic):           1.64e-11\n",
       "Time:                        04:35:06   Log-Likelihood:                -98.656\n",
       "No. Observations:                  35   AIC:                             201.3\n",
       "Df Residuals:                      33   BIC:                             204.4\n",
       "Df Model:                           1                                         \n",
       "Covariance Type:            nonrobust                                         \n",
       "==============================================================================\n",
       "                 coef    std err          t      P>|t|      [0.025      0.975]\n",
       "------------------------------------------------------------------------------\n",
       "Intercept     74.7866      2.827     26.458      0.000      69.036      80.537\n",
       "CouponRate     3.0661      0.307      9.994      0.000       2.442       3.690\n",
       "==============================================================================\n",
       "Omnibus:                        3.313   Durbin-Watson:                   1.827\n",
       "Prob(Omnibus):                  0.191   Jarque-Bera (JB):                2.262\n",
       "Skew:                           0.607   Prob(JB):                        0.323\n",
       "Kurtosis:                       3.276   Cond. No.                         37.3\n",
       "==============================================================================\n",
       "\n",
       "Notes:\n",
       "[1] Standard Errors assume that the covariance matrix of the errors is correctly specified.\n",
       "\"\"\""
      ]
     },
     "execution_count": 4,
     "metadata": {},
     "output_type": "execute_result"
    }
   ],
   "source": [
    "import statsmodels.api as sm\n",
    "import matplotlib.pyplot as plt\n",
    "\n",
    "olsBonds = sm.OLS.from_formula(formula='BidPrice ~ CouponRate', data=bonds).fit()\n",
    "olsBonds.summary()"
   ]
  },
  {
   "cell_type": "markdown",
   "metadata": {},
   "source": [
    "## 3. {-}"
   ]
  },
  {
   "cell_type": "code",
   "execution_count": 5,
   "metadata": {},
   "outputs": [
    {
     "data": {
      "image/png": "[encoded data removed]",
      "text/plain": [
       "<Figure size 432x288 with 1 Axes>"
      ]
     },
     "metadata": {},
     "output_type": "display_data"
    }
   ],
   "source": [
    "plt.scatter(olsBonds.fittedvalues, olsBonds.resid)\n",
    "plt.xlabel('Fitted Values')\n",
    "plt.ylabel('Residuals')\n",
    "plt.show()"
   ]
  },
  {
   "cell_type": "markdown",
   "metadata": {},
   "source": [
    "$$\n",
    "\\hat\\beta_1 \\pm z_{0.025}\\text{SE}(\\hat \\beta_1)\n",
    "$$\n",
    "where the standard error is \n",
    "$$\n",
    "\\text{SE}(\\hat\\beta_1)\\approx\\frac{\\hat\\sigma}{s_x\\sqrt{n-1}}\n",
    "$$\n",
    "\n",
    "$$\n",
    "\\hat\\sigma^2 = \\text{RSS}/(n-2)\n",
    "$$"
   ]
  },
  {
   "cell_type": "code",
   "execution_count": 6,
   "metadata": {},
   "outputs": [
    {
     "data": {
      "text/plain": [
       "(2.464778252846198, 3.6674260585957033)"
      ]
     },
     "execution_count": 6,
     "metadata": {},
     "output_type": "execute_result"
    }
   ],
   "source": [
    "import numpy as np\n",
    "from scipy.stats import norm, t\n",
    "\n",
    "se = np.sqrt(olsBonds.ssr/(n-2))/(np.std(bonds['CouponRate'], ddof=1)*np.sqrt(n-1))\n",
    "# z = t.ppf(1 - 0.025, n-2)\n",
    "z = norm.ppf(1 - 0.025)\n",
    "\n",
    "(olsBonds.params['CouponRate'] - (z*se), olsBonds.params['CouponRate'] + (z*se))"
   ]
  },
  {
   "cell_type": "markdown",
   "metadata": {},
   "source": [
    "Assumption not correct (fitted-value plot), CI not meaningful\n",
    "\n"
   ]
  },
  {
   "cell_type": "markdown",
   "metadata": {},
   "source": [
    "# Question Two {-}"
   ]
  },
  {
   "cell_type": "markdown",
   "metadata": {},
   "source": [
    "## 1. {-}"
   ]
  },
  {
   "cell_type": "code",
   "execution_count": 7,
   "metadata": {},
   "outputs": [
    {
     "data": {
      "text/html": [
       "<div>\n",
       "<style scoped>\n",
       "    .dataframe tbody tr th:only-of-type {\n",
       "        vertical-align: middle;\n",
       "    }\n",
       "\n",
       "    .dataframe tbody tr th {\n",
       "        vertical-align: top;\n",
       "    }\n",
       "\n",
       "    .dataframe thead th {\n",
       "        text-align: right;\n",
       "    }\n",
       "</style>\n",
       "<table border=\"1\" class=\"dataframe\">\n",
       "  <thead>\n",
       "    <tr style=\"text-align: right;\">\n",
       "      <th></th>\n",
       "      <th>id</th>\n",
       "      <th>bond_id</th>\n",
       "      <th>trade_price</th>\n",
       "      <th>weight</th>\n",
       "      <th>current_coupon</th>\n",
       "      <th>time_to_maturity</th>\n",
       "      <th>is_callable</th>\n",
       "      <th>reporting_delay</th>\n",
       "      <th>trade_size</th>\n",
       "      <th>trade_type</th>\n",
       "      <th>...</th>\n",
       "      <th>received_time_diff_last9</th>\n",
       "      <th>trade_price_last9</th>\n",
       "      <th>trade_size_last9</th>\n",
       "      <th>trade_type_last9</th>\n",
       "      <th>curve_based_price_last9</th>\n",
       "      <th>received_time_diff_last10</th>\n",
       "      <th>trade_price_last10</th>\n",
       "      <th>trade_size_last10</th>\n",
       "      <th>trade_type_last10</th>\n",
       "      <th>curve_based_price_last10</th>\n",
       "    </tr>\n",
       "  </thead>\n",
       "  <tbody>\n",
       "    <tr>\n",
       "      <th>0</th>\n",
       "      <td>10</td>\n",
       "      <td>1</td>\n",
       "      <td>126.268</td>\n",
       "      <td>7.616851</td>\n",
       "      <td>5.950</td>\n",
       "      <td>25.940349</td>\n",
       "      <td>0</td>\n",
       "      <td>12.540</td>\n",
       "      <td>150000.0</td>\n",
       "      <td>3</td>\n",
       "      <td>...</td>\n",
       "      <td>2862729</td>\n",
       "      <td>128.596</td>\n",
       "      <td>120000.0</td>\n",
       "      <td>2</td>\n",
       "      <td>127.561201</td>\n",
       "      <td>3621492</td>\n",
       "      <td>129.089</td>\n",
       "      <td>200000.0</td>\n",
       "      <td>2</td>\n",
       "      <td>129.435587</td>\n",
       "    </tr>\n",
       "    <tr>\n",
       "      <th>1</th>\n",
       "      <td>38</td>\n",
       "      <td>2</td>\n",
       "      <td>101.009</td>\n",
       "      <td>0.018373</td>\n",
       "      <td>3.550</td>\n",
       "      <td>0.326392</td>\n",
       "      <td>0</td>\n",
       "      <td>9.327</td>\n",
       "      <td>450000.0</td>\n",
       "      <td>3</td>\n",
       "      <td>...</td>\n",
       "      <td>532644</td>\n",
       "      <td>101.086</td>\n",
       "      <td>500000.0</td>\n",
       "      <td>2</td>\n",
       "      <td>101.103180</td>\n",
       "      <td>538510</td>\n",
       "      <td>101.070</td>\n",
       "      <td>25000.0</td>\n",
       "      <td>2</td>\n",
       "      <td>101.102243</td>\n",
       "    </tr>\n",
       "    <tr>\n",
       "      <th>2</th>\n",
       "      <td>336</td>\n",
       "      <td>3</td>\n",
       "      <td>108.144</td>\n",
       "      <td>3.537380</td>\n",
       "      <td>4.200</td>\n",
       "      <td>2.340601</td>\n",
       "      <td>0</td>\n",
       "      <td>0.102</td>\n",
       "      <td>160000.0</td>\n",
       "      <td>4</td>\n",
       "      <td>...</td>\n",
       "      <td>96293</td>\n",
       "      <td>107.917</td>\n",
       "      <td>400000.0</td>\n",
       "      <td>2</td>\n",
       "      <td>107.874965</td>\n",
       "      <td>96293</td>\n",
       "      <td>107.917</td>\n",
       "      <td>400000.0</td>\n",
       "      <td>4</td>\n",
       "      <td>107.874965</td>\n",
       "    </tr>\n",
       "    <tr>\n",
       "      <th>3</th>\n",
       "      <td>781</td>\n",
       "      <td>4</td>\n",
       "      <td>116.953</td>\n",
       "      <td>0.402523</td>\n",
       "      <td>4.875</td>\n",
       "      <td>7.367653</td>\n",
       "      <td>0</td>\n",
       "      <td>52.093</td>\n",
       "      <td>10000.0</td>\n",
       "      <td>4</td>\n",
       "      <td>...</td>\n",
       "      <td>92559</td>\n",
       "      <td>115.924</td>\n",
       "      <td>10000.0</td>\n",
       "      <td>2</td>\n",
       "      <td>116.160420</td>\n",
       "      <td>97177</td>\n",
       "      <td>116.458</td>\n",
       "      <td>2000.0</td>\n",
       "      <td>3</td>\n",
       "      <td>116.342802</td>\n",
       "    </tr>\n",
       "    <tr>\n",
       "      <th>4</th>\n",
       "      <td>1172</td>\n",
       "      <td>14</td>\n",
       "      <td>133.210</td>\n",
       "      <td>0.210685</td>\n",
       "      <td>10.750</td>\n",
       "      <td>4.159301</td>\n",
       "      <td>0</td>\n",
       "      <td>13.722</td>\n",
       "      <td>25000.0</td>\n",
       "      <td>4</td>\n",
       "      <td>...</td>\n",
       "      <td>6400208</td>\n",
       "      <td>127.500</td>\n",
       "      <td>25000.0</td>\n",
       "      <td>2</td>\n",
       "      <td>131.066998</td>\n",
       "      <td>6400208</td>\n",
       "      <td>127.500</td>\n",
       "      <td>25000.0</td>\n",
       "      <td>4</td>\n",
       "      <td>131.066998</td>\n",
       "    </tr>\n",
       "  </tbody>\n",
       "</table>\n",
       "<p>5 rows × 61 columns</p>\n",
       "</div>"
      ],
      "text/plain": [
       "     id  bond_id  trade_price    weight  current_coupon  time_to_maturity  \\\n",
       "0    10        1      126.268  7.616851           5.950         25.940349   \n",
       "1    38        2      101.009  0.018373           3.550          0.326392   \n",
       "2   336        3      108.144  3.537380           4.200          2.340601   \n",
       "3   781        4      116.953  0.402523           4.875          7.367653   \n",
       "4  1172       14      133.210  0.210685          10.750          4.159301   \n",
       "\n",
       "   is_callable  reporting_delay  trade_size  trade_type  ...  \\\n",
       "0            0           12.540    150000.0           3  ...   \n",
       "1            0            9.327    450000.0           3  ...   \n",
       "2            0            0.102    160000.0           4  ...   \n",
       "3            0           52.093     10000.0           4  ...   \n",
       "4            0           13.722     25000.0           4  ...   \n",
       "\n",
       "   received_time_diff_last9  trade_price_last9  trade_size_last9  \\\n",
       "0                   2862729            128.596          120000.0   \n",
       "1                    532644            101.086          500000.0   \n",
       "2                     96293            107.917          400000.0   \n",
       "3                     92559            115.924           10000.0   \n",
       "4                   6400208            127.500           25000.0   \n",
       "\n",
       "   trade_type_last9  curve_based_price_last9  received_time_diff_last10  \\\n",
       "0                 2               127.561201                    3621492   \n",
       "1                 2               101.103180                     538510   \n",
       "2                 2               107.874965                      96293   \n",
       "3                 2               116.160420                      97177   \n",
       "4                 2               131.066998                    6400208   \n",
       "\n",
       "   trade_price_last10  trade_size_last10  trade_type_last10  \\\n",
       "0             129.089           200000.0                  2   \n",
       "1             101.070            25000.0                  2   \n",
       "2             107.917           400000.0                  4   \n",
       "3             116.458             2000.0                  3   \n",
       "4             127.500            25000.0                  4   \n",
       "\n",
       "   curve_based_price_last10  \n",
       "0                129.435587  \n",
       "1                101.102243  \n",
       "2                107.874965  \n",
       "3                116.342802  \n",
       "4                131.066998  \n",
       "\n",
       "[5 rows x 61 columns]"
      ]
     },
     "execution_count": 7,
     "metadata": {},
     "output_type": "execute_result"
    }
   ],
   "source": [
    "data = pd.read_csv('bonddata.txt', sep=',')\n",
    "data.head()"
   ]
  },
  {
   "cell_type": "code",
   "execution_count": 8,
   "metadata": {},
   "outputs": [
    {
     "data": {
      "text/plain": [
       "True"
      ]
     },
     "execution_count": 8,
     "metadata": {},
     "output_type": "execute_result"
    }
   ],
   "source": [
    "data['bond_id'].unique().shape == data['bond_id'].shape"
   ]
  },
  {
   "cell_type": "code",
   "execution_count": 9,
   "metadata": {},
   "outputs": [],
   "source": [
    "data.drop('bond_id', axis='columns', inplace=True)"
   ]
  },
  {
   "cell_type": "code",
   "execution_count": 10,
   "metadata": {},
   "outputs": [],
   "source": [
    "import pandas as pd\n",
    "\n",
    "catCols = ['is_callable'] + [colName for colName in data.columns if 'type' in colName]\n",
    "\n",
    "\n",
    "### won't make a difference as get_dummies will automatically categorize the input columns\n",
    "# for colName in catCols: \n",
    "#     data[colName] = data[colName].astype('category')\n",
    "\n",
    "\n",
    "data = pd.get_dummies(data=data, columns=catCols)\n"
   ]
  },
  {
   "cell_type": "code",
   "execution_count": 11,
   "metadata": {},
   "outputs": [
    {
     "data": {
      "text/plain": [
       "Index(['id', 'trade_price', 'weight', 'current_coupon', 'time_to_maturity',\n",
       "       'reporting_delay', 'trade_size', 'curve_based_price',\n",
       "       'received_time_diff_last1', 'trade_price_last1', 'trade_size_last1',\n",
       "       'curve_based_price_last1', 'received_time_diff_last2',\n",
       "       'trade_price_last2', 'trade_size_last2', 'curve_based_price_last2',\n",
       "       'received_time_diff_last3', 'trade_price_last3', 'trade_size_last3',\n",
       "       'curve_based_price_last3', 'received_time_diff_last4',\n",
       "       'trade_price_last4', 'trade_size_last4', 'curve_based_price_last4',\n",
       "       'received_time_diff_last5', 'trade_price_last5', 'trade_size_last5',\n",
       "       'curve_based_price_last5', 'received_time_diff_last6',\n",
       "       'trade_price_last6', 'trade_size_last6', 'curve_based_price_last6',\n",
       "       'received_time_diff_last7', 'trade_price_last7', 'trade_size_last7',\n",
       "       'curve_based_price_last7', 'received_time_diff_last8',\n",
       "       'trade_price_last8', 'trade_size_last8', 'curve_based_price_last8',\n",
       "       'received_time_diff_last9', 'trade_price_last9', 'trade_size_last9',\n",
       "       'curve_based_price_last9', 'received_time_diff_last10',\n",
       "       'trade_price_last10', 'trade_size_last10', 'curve_based_price_last10',\n",
       "       'is_callable_0', 'is_callable_1', 'trade_type_2', 'trade_type_3',\n",
       "       'trade_type_4', 'trade_type_last1_2', 'trade_type_last1_3',\n",
       "       'trade_type_last1_4', 'trade_type_last2_2', 'trade_type_last2_3',\n",
       "       'trade_type_last2_4', 'trade_type_last3_2', 'trade_type_last3_3',\n",
       "       'trade_type_last3_4', 'trade_type_last4_2', 'trade_type_last4_3',\n",
       "       'trade_type_last4_4', 'trade_type_last5_2', 'trade_type_last5_3',\n",
       "       'trade_type_last5_4', 'trade_type_last6_2', 'trade_type_last6_3',\n",
       "       'trade_type_last6_4', 'trade_type_last7_2', 'trade_type_last7_3',\n",
       "       'trade_type_last7_4', 'trade_type_last8_2', 'trade_type_last8_3',\n",
       "       'trade_type_last8_4', 'trade_type_last9_2', 'trade_type_last9_3',\n",
       "       'trade_type_last9_4', 'trade_type_last10_2', 'trade_type_last10_3',\n",
       "       'trade_type_last10_4'],\n",
       "      dtype='object')"
      ]
     },
     "execution_count": 11,
     "metadata": {},
     "output_type": "execute_result"
    }
   ],
   "source": [
    "data.columns"
   ]
  },
  {
   "cell_type": "markdown",
   "metadata": {},
   "source": [
    "Thus the distribution of the MLE $\\hat \\alpha$ can be approximated by\n",
    "$$\n",
    "N(\\hat\\alpha, \\hat\\alpha^2/n) = N(2.626, 0.2626^2).\n",
    "$$\n",
    "The MLE $\\hat\\alpha$ is the best estimator for $\\alpha$ in the sense that it is asymptotically efficient, meaning its bias vanishes as $n$ goes to infinity (i.e., asymptotic unbiasedness), and among all asymptotically unbiased estimators, it achieves the lowest possible variance. Given the sample data and the above approximation, our best estimate for $\\alpha$ is 2.626 and the standard error of the estimator $\\hat\\alpha$ is approximately 0.2626. "
   ]
  },
  {
   "cell_type": "markdown",
   "metadata": {},
   "source": [
    "# 2. {-}\n",
    "\n",
    "## (a) {-}\n",
    "\n",
    "The pdf is \n",
    "$$\n",
    "f(x; \\theta) = \\frac{\\beta^\\theta}{\\Gamma(\\theta)}x^{\\theta-1}e^{-\\beta x}, \\quad 0<x<1, \\theta, \\beta>0, \n",
    "$$\n",
    "so the Fisher Information is\n",
    "\\begin{align*}\n",
    "I(\\theta) &= E\\left(-\\frac{\\partial^2 \\log f(X;\\theta)}{\\partial \\theta^2}\\right)\\\\\n",
    "&= E\\left(-\\frac{\\partial^2 }{\\partial \\theta^2}(\\theta\\log\\beta + (\\theta-1)\\log X -\\log\\Gamma(\\theta)-\\beta X) \\right)\\\\\n",
    "&= E\\left(\\frac{\\partial }{\\partial \\theta}\\frac{\\Gamma'(\\theta)}{\\Gamma(\\theta)} \\right)\\\\\n",
    "&= \\frac{\\Gamma(\\theta)\\Gamma''(\\theta) - (\\Gamma'(\\theta))^2}{\\Gamma^2(\\theta)}. \n",
    "\\end{align*}\n",
    "\n",
    "\n",
    "## (b) {-}\n",
    "\n",
    "Let $\\theta_0$ be the true value of $\\theta$ and $\\hat\\theta$ its MLE. When $n$ is large, we have approximately \n",
    "\\begin{align*}\n",
    "\\hat\\theta &\\approx N\\left(\\theta_0, \\frac{1}{nI(\\theta_0)}\\right)\\\\\n",
    "&= N\\left(\\theta_0, \\frac{\\Gamma^2(\\theta_0)}{n(\\Gamma(\\theta_0)\\Gamma''(\\theta_0) - (\\Gamma'(\\theta_0))^2)}\\right).\n",
    "\\end{align*}\n",
    "Since $\\theta_0$ is unknown, so is this distribution. It can be thought of as a distribution family. Given a sample data, in order to obtain a distribution we can work with, the best we can do is to numerically find an estimate using the MLE and replace all $\\theta_0$ by this estimate. \n",
    "\n",
    "\n",
    "## (c) {-}\n",
    "\n",
    "By the invariance property, the MLE for $\\log(\\theta)$ is $\\log(\\hat\\theta)$, whose distribution can be approximated by a normal using the Delta Method. \n",
    "Let \n",
    "$$\n",
    "\\sigma_n = \\sqrt{\\frac{\\Gamma^2(\\theta_0)}{n(\\Gamma(\\theta_0)\\Gamma''(\\theta_0) - (\\Gamma'(\\theta_0))^2)}}. \n",
    "$$\n",
    "Recall that $\\Gamma^2(\\theta_0)/(\\Gamma(\\theta_0)\\Gamma''(\\theta_0) - (\\Gamma'(\\theta_0))^2)$ is the second derivative of $\\log\\Gamma(\\theta)$ at $\\theta_0$, which is finite given $\\theta_0 > 0$. Thus we know that $\\sigma_n\\downarrow 0$ as $n\\rightarrow\\infty$.\n",
    "Since we have \n",
    "$$\n",
    "\\frac{\\hat\\theta - \\theta_0}{\\sigma_n} \\xrightarrow{D} Z, \n",
    "$$\n",
    "where $Z\\sim N(0, 1)$, by the Delta Method with $g(x) = 1/x$, we know that $(g'(\\theta_0))^2 = 1/\\theta_0^2$ and \n",
    "$$\n",
    "\\log(\\hat\\theta) \\approx N\\left(\\log(\\theta_0), \\frac{\\Gamma^2(\\theta_0)}{n\\theta_0^2(\\Gamma(\\theta_0)\\Gamma''(\\theta_0) - (\\Gamma'(\\theta_0))^2)}\\right). \n",
    "$$\n",
    "Again here $\\theta_0$ is unknown. Given a sample data we can replace it by a maximum likelihood estimate to obtain a workable distribution.\n",
    "\n"
   ]
  },
  {
   "cell_type": "markdown",
   "metadata": {},
   "source": [
    "# 3. {-}\n",
    "\n",
    "## (a) {-}\n",
    "\n",
    "By the invariance property, the MLE for the odds is \n",
    "$$\n",
    "\\frac{\\hat p}{1-\\hat p}.\n",
    "$$\n",
    "\n",
    "## (b) {-}\n",
    "\n",
    "Let $Y_1, Y_2, \\ldots, Y_n$ be i.i.d. from the $\\text{Bernoulli}(p)$ distribution. We can write $X = \\sum_{i=1}^n Y_i$ and $\\hat p = \\bar Y$. We also have\n",
    "\\begin{align*}\n",
    "E(\\hat p) &= E(\\bar Y) = E(Y_i) = p, \\\\\n",
    "V(\\hat p) &= V(\\bar Y) = V\\left(\\sum_{i=1}^n Y_i/n\\right) = V(Y_i)/n = p(1-p)/n.\n",
    "\\end{align*}\n",
    "By the CLT, we know that\n",
    "$$\n",
    "\\frac{\\hat p - p}{\\sqrt{\\frac{p(1-p)}{n}}} \\xrightarrow{D} Z. \n",
    "$${-}\n",
    "We want to apply the Delta Method with $g(x) = x/(1-x)$, which requires $g'(p)\\neq 0$ and $\\sigma_n = \\sqrt{p(1-p)/n} \\downarrow 0$ as $n\\rightarrow\\infty$. This is true for all $0<p<1$. We know that \n",
    "$$ \n",
    "g'(p) = \\frac{(1-p)+p}{(1-p)^2} = \\frac{1}{(1-p)^2}\n",
    "$$\n",
    "and that by the Delta Method\n",
    "\\begin{align*}\n",
    "\\frac{\\hat p}{1-\\hat p}&\\approx N(g(p), (g'(p))^2\\sigma_n^2)\\\\\n",
    "&= N\\left(\\frac{p}{1-p}, \\frac{1}{(1-p)^4}\\frac{p(1-p)}{n}\\right)\\\\\n",
    "&= N\\left(\\frac{p}{1-p}, \\frac{p}{n(1-p)^3}\\right).\n",
    "\\end{align*}\n",
    "To obtain a workable distribution, plug in $p=\\hat p$. \n",
    "\n",
    "\n",
    "## (c) {-}\n",
    "\n",
    "Given the above approximation (the one before plugging in $p=\\hat p$), we have\n",
    "$$\n",
    "P\\left(\\frac{\\Big| \\frac{\\hat p}{1-\\hat p} - \\frac{p}{1-p}  \\Big|}{\\sqrt{\\frac{p}{n(1-p)^3}}} < Z_{\\alpha/2}\\right) = 1-\\alpha, \n",
    "$$\n",
    "where $Z_{\\alpha/2}$ is the $100(1-\\frac{\\alpha}{2})$ percentile point of the standard normal distribution. Hence the confidence interval is\n",
    "$$\n",
    "\\frac{p}{1-p} \\in \\left[\\frac{\\hat p}{1-\\hat p}-Z_{\\alpha/2}\\sqrt{\\frac{p}{n(1-p)^3}}, \\frac{\\hat p}{1-\\hat p} + Z_{\\alpha/2}\\sqrt{\\frac{p}{n(1-p)^3}}\\right]\n",
    "$$\n",
    "Again this interval has an unknown $p$. To obtain a workable interval we plug in $p=\\hat p$ and get\n",
    "$$\n",
    "\\left[\\frac{\\hat p}{1-\\hat p}-Z_{\\alpha/2}\\sqrt{\\frac{\\hat p}{n(1-\\hat p)^3}}, \\frac{\\hat p}{1-\\hat p} + Z_{\\alpha/2}\\sqrt{\\frac{\\hat p}{n(1-\\hat p)^3}}\\right].\n",
    "$$\n",
    "\n",
    "\n",
    "## (d) {-}\n",
    "\n",
    "We look at the 95% confidence intervals. As the simulation results shown below, only around 65% of the 100,000 sample confidence intervals cover the true value of $p$, not 95%. The bar chart at the bottom shows the first 100 sample confidence intervals. The missing bars are intervals with length 0, which are simulation results with $\\hat p=0$. With $p=0.1$ it is understandable that a sample value $\\hat p=0$ is not uncommon. Indeed, since the \"rules of thumb\" $np\\geq 5, n(1-p)\\geq 5$ are not satisfied, the CLT approximation applied in (b) is not expected to be accurate. So a simulation result like the below is to be expected. "
   ]
  }
 ],
 "metadata": {
  "kernelspec": {
   "display_name": "Python 3",
   "language": "python",
   "name": "python3"
  },
  "language_info": {
   "codemirror_mode": {
    "name": "ipython",
    "version": 3
   },
   "file_extension": ".py",
   "mimetype": "text/x-python",
   "name": "python",
   "nbconvert_exporter": "python",
   "pygments_lexer": "ipython3",
   "version": "3.7.8"
  },
  "toc-autonumbering": false,
  "toc-showcode": false,
  "toc-showmarkdowntxt": false
 },
 "nbformat": 4,
 "nbformat_minor": 4
}
