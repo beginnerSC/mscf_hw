{
 "cells": [
  {
   "cell_type": "markdown",
   "metadata": {},
   "source": [
    "\\begin{center}\n",
    "Chun-Yuan (Scott) Chiu\n",
    "\\end{center}\n",
    "\\begin{center}\n",
    "chunyuac@andrew.cmu.edu\n",
    "\\end{center}"
   ]
  },
  {
   "cell_type": "markdown",
   "metadata": {},
   "source": [
    "# Question One {-}"
   ]
  },
  {
   "cell_type": "markdown",
   "metadata": {},
   "source": [
    "Reading data in and show the first few data points: "
   ]
  },
  {
   "cell_type": "code",
   "execution_count": 1,
   "metadata": {},
   "outputs": [
    {
     "data": {
      "text/html": [
       "<div>\n",
       "<style scoped>\n",
       "    .dataframe tbody tr th:only-of-type {\n",
       "        vertical-align: middle;\n",
       "    }\n",
       "\n",
       "    .dataframe tbody tr th {\n",
       "        vertical-align: top;\n",
       "    }\n",
       "\n",
       "    .dataframe thead th {\n",
       "        text-align: right;\n",
       "    }\n",
       "</style>\n",
       "<table border=\"1\" class=\"dataframe\">\n",
       "  <thead>\n",
       "    <tr style=\"text-align: right;\">\n",
       "      <th></th>\n",
       "      <th>CouponRate</th>\n",
       "      <th>BidPrice</th>\n",
       "    </tr>\n",
       "    <tr>\n",
       "      <th>Case</th>\n",
       "      <th></th>\n",
       "      <th></th>\n",
       "    </tr>\n",
       "  </thead>\n",
       "  <tbody>\n",
       "    <tr>\n",
       "      <th>1</th>\n",
       "      <td>7.000</td>\n",
       "      <td>92.94</td>\n",
       "    </tr>\n",
       "    <tr>\n",
       "      <th>2</th>\n",
       "      <td>9.000</td>\n",
       "      <td>101.44</td>\n",
       "    </tr>\n",
       "    <tr>\n",
       "      <th>3</th>\n",
       "      <td>7.000</td>\n",
       "      <td>92.66</td>\n",
       "    </tr>\n",
       "    <tr>\n",
       "      <th>4</th>\n",
       "      <td>4.125</td>\n",
       "      <td>94.50</td>\n",
       "    </tr>\n",
       "    <tr>\n",
       "      <th>5</th>\n",
       "      <td>13.125</td>\n",
       "      <td>118.94</td>\n",
       "    </tr>\n",
       "  </tbody>\n",
       "</table>\n",
       "</div>"
      ],
      "text/plain": [
       "      CouponRate  BidPrice\n",
       "Case                      \n",
       "1          7.000     92.94\n",
       "2          9.000    101.44\n",
       "3          7.000     92.66\n",
       "4          4.125     94.50\n",
       "5         13.125    118.94"
      ]
     },
     "execution_count": 1,
     "metadata": {},
     "output_type": "execute_result"
    }
   ],
   "source": [
    "import pandas as pd\n",
    "\n",
    "bonds = pd.read_csv('bonds.txt', sep='\\t', index_col=0)\n",
    "# bonds = bonds[bonds['CouponRate'] > 6]\n",
    "n = len(bonds)\n",
    "\n",
    "bonds.head()"
   ]
  },
  {
   "cell_type": "markdown",
   "metadata": {},
   "source": [
    "There are 35 data points. "
   ]
  },
  {
   "cell_type": "code",
   "execution_count": 2,
   "metadata": {},
   "outputs": [
    {
     "data": {
      "text/plain": [
       "35"
      ]
     },
     "execution_count": 2,
     "metadata": {},
     "output_type": "execute_result"
    }
   ],
   "source": [
    "n"
   ]
  },
  {
   "cell_type": "markdown",
   "metadata": {},
   "source": [
    "## 1. {-}"
   ]
  },
  {
   "cell_type": "markdown",
   "metadata": {},
   "source": [
    "The below figure suggests that there might be outliers for low coupon Rates. Linear regression model does not fit the data very well. "
   ]
  },
  {
   "cell_type": "code",
   "execution_count": 3,
   "metadata": {},
   "outputs": [
    {
     "data": {
      "image/png": "[encoded data removed]",
      "text/plain": [
       "<Figure size 432x288 with 1 Axes>"
      ]
     },
     "metadata": {},
     "output_type": "display_data"
    }
   ],
   "source": [
    "import seaborn as sns\n",
    "\n",
    "sns.set_theme(color_codes=True)\n",
    "ax = sns.regplot(x='CouponRate', y='BidPrice', data=bonds)"
   ]
  },
  {
   "cell_type": "markdown",
   "metadata": {},
   "source": [
    "## 2. {-}"
   ]
  },
  {
   "cell_type": "markdown",
   "metadata": {},
   "source": [
    "See below for the summary of the fitted model. "
   ]
  },
  {
   "cell_type": "code",
   "execution_count": 4,
   "metadata": {},
   "outputs": [
    {
     "data": {
      "text/html": [
       "<table class=\"simpletable\">\n",
       "<caption>OLS Regression Results</caption>\n",
       "<tr>\n",
       "  <th>Dep. Variable:</th>        <td>BidPrice</td>     <th>  R-squared:         </th> <td>   0.752</td>\n",
       "</tr>\n",
       "<tr>\n",
       "  <th>Model:</th>                   <td>OLS</td>       <th>  Adj. R-squared:    </th> <td>   0.744</td>\n",
       "</tr>\n",
       "<tr>\n",
       "  <th>Method:</th>             <td>Least Squares</td>  <th>  F-statistic:       </th> <td>   99.87</td>\n",
       "</tr>\n",
       "<tr>\n",
       "  <th>Date:</th>             <td>Thu, 15 Oct 2020</td> <th>  Prob (F-statistic):</th> <td>1.64e-11</td>\n",
       "</tr>\n",
       "<tr>\n",
       "  <th>Time:</th>                 <td>08:48:30</td>     <th>  Log-Likelihood:    </th> <td> -98.656</td>\n",
       "</tr>\n",
       "<tr>\n",
       "  <th>No. Observations:</th>      <td>    35</td>      <th>  AIC:               </th> <td>   201.3</td>\n",
       "</tr>\n",
       "<tr>\n",
       "  <th>Df Residuals:</th>          <td>    33</td>      <th>  BIC:               </th> <td>   204.4</td>\n",
       "</tr>\n",
       "<tr>\n",
       "  <th>Df Model:</th>              <td>     1</td>      <th>                     </th>     <td> </td>   \n",
       "</tr>\n",
       "<tr>\n",
       "  <th>Covariance Type:</th>      <td>nonrobust</td>    <th>                     </th>     <td> </td>   \n",
       "</tr>\n",
       "</table>\n",
       "<table class=\"simpletable\">\n",
       "<tr>\n",
       "       <td></td>         <th>coef</th>     <th>std err</th>      <th>t</th>      <th>P>|t|</th>  <th>[0.025</th>    <th>0.975]</th>  \n",
       "</tr>\n",
       "<tr>\n",
       "  <th>Intercept</th>  <td>   74.7866</td> <td>    2.827</td> <td>   26.458</td> <td> 0.000</td> <td>   69.036</td> <td>   80.537</td>\n",
       "</tr>\n",
       "<tr>\n",
       "  <th>CouponRate</th> <td>    3.0661</td> <td>    0.307</td> <td>    9.994</td> <td> 0.000</td> <td>    2.442</td> <td>    3.690</td>\n",
       "</tr>\n",
       "</table>\n",
       "<table class=\"simpletable\">\n",
       "<tr>\n",
       "  <th>Omnibus:</th>       <td> 3.313</td> <th>  Durbin-Watson:     </th> <td>   1.827</td>\n",
       "</tr>\n",
       "<tr>\n",
       "  <th>Prob(Omnibus):</th> <td> 0.191</td> <th>  Jarque-Bera (JB):  </th> <td>   2.262</td>\n",
       "</tr>\n",
       "<tr>\n",
       "  <th>Skew:</th>          <td> 0.607</td> <th>  Prob(JB):          </th> <td>   0.323</td>\n",
       "</tr>\n",
       "<tr>\n",
       "  <th>Kurtosis:</th>      <td> 3.276</td> <th>  Cond. No.          </th> <td>    37.3</td>\n",
       "</tr>\n",
       "</table><br/><br/>Notes:<br/>[1] Standard Errors assume that the covariance matrix of the errors is correctly specified."
      ],
      "text/plain": [
       "<class 'statsmodels.iolib.summary.Summary'>\n",
       "\"\"\"\n",
       "                            OLS Regression Results                            \n",
       "==============================================================================\n",
       "Dep. Variable:               BidPrice   R-squared:                       0.752\n",
       "Model:                            OLS   Adj. R-squared:                  0.744\n",
       "Method:                 Least Squares   F-statistic:                     99.87\n",
       "Date:                Thu, 15 Oct 2020   Prob (F-statistic):           1.64e-11\n",
       "Time:                        08:48:30   Log-Likelihood:                -98.656\n",
       "No. Observations:                  35   AIC:                             201.3\n",
       "Df Residuals:                      33   BIC:                             204.4\n",
       "Df Model:                           1                                         \n",
       "Covariance Type:            nonrobust                                         \n",
       "==============================================================================\n",
       "                 coef    std err          t      P>|t|      [0.025      0.975]\n",
       "------------------------------------------------------------------------------\n",
       "Intercept     74.7866      2.827     26.458      0.000      69.036      80.537\n",
       "CouponRate     3.0661      0.307      9.994      0.000       2.442       3.690\n",
       "==============================================================================\n",
       "Omnibus:                        3.313   Durbin-Watson:                   1.827\n",
       "Prob(Omnibus):                  0.191   Jarque-Bera (JB):                2.262\n",
       "Skew:                           0.607   Prob(JB):                        0.323\n",
       "Kurtosis:                       3.276   Cond. No.                         37.3\n",
       "==============================================================================\n",
       "\n",
       "Notes:\n",
       "[1] Standard Errors assume that the covariance matrix of the errors is correctly specified.\n",
       "\"\"\""
      ]
     },
     "execution_count": 4,
     "metadata": {},
     "output_type": "execute_result"
    }
   ],
   "source": [
    "import statsmodels.api as sm\n",
    "import matplotlib.pyplot as plt\n",
    "\n",
    "olsBonds = sm.OLS.from_formula(formula='BidPrice ~ CouponRate', data=bonds).fit()\n",
    "olsBonds.summary()"
   ]
  },
  {
   "cell_type": "markdown",
   "metadata": {},
   "source": [
    "## 3. {-}"
   ]
  },
  {
   "cell_type": "markdown",
   "metadata": {},
   "source": [
    "We see clear pattern in the plot of residuals versus fitted values, suggesting the linear model is not adequate. "
   ]
  },
  {
   "cell_type": "code",
   "execution_count": 5,
   "metadata": {},
   "outputs": [
    {
     "data": {
      "image/png": "[encoded data removed]",
      "text/plain": [
       "<Figure size 432x288 with 1 Axes>"
      ]
     },
     "metadata": {},
     "output_type": "display_data"
    }
   ],
   "source": [
    "plt.scatter(olsBonds.fittedvalues, olsBonds.resid)\n",
    "plt.xlabel('Fitted Values')\n",
    "plt.ylabel('Residuals')\n",
    "plt.show()"
   ]
  },
  {
   "cell_type": "markdown",
   "metadata": {},
   "source": [
    "## 4. {-}"
   ]
  },
  {
   "cell_type": "markdown",
   "metadata": {},
   "source": [
    "Recall that the 95% confidence interval is $\\hat\\beta_1 \\pm z_{0.025}\\text{SE}(\\hat \\beta_1)$, where the standard error is \n",
    "$$\n",
    "\\text{SE}(\\hat\\beta_1)\\approx\\frac{\\hat\\sigma}{s_x\\sqrt{n-1}}\n",
    "$$\n",
    "and\n",
    "$$\n",
    "\\hat\\sigma^2 = \\text{RSS}/(n-2). \n",
    "$$\n",
    "Below is the numerical value. Here the normal distribution is used. If we use $t$-distribution instead, the confidence interval will exactly match the one reported in the summary above. As $n>30$, the differences are tiny. "
   ]
  },
  {
   "cell_type": "code",
   "execution_count": 6,
   "metadata": {},
   "outputs": [
    {
     "data": {
      "text/plain": [
       "(2.464778252846198, 3.6674260585957033)"
      ]
     },
     "execution_count": 6,
     "metadata": {},
     "output_type": "execute_result"
    }
   ],
   "source": [
    "import numpy as np\n",
    "from scipy.stats import norm, t\n",
    "\n",
    "se = np.sqrt(olsBonds.ssr/(n-2))/(np.std(bonds['CouponRate'], ddof=1)*np.sqrt(n-1))\n",
    "# z = t.ppf(1 - 0.025, n-2)\n",
    "z = norm.ppf(1 - 0.025)\n",
    "\n",
    "(olsBonds.params['CouponRate'] - (z*se), olsBonds.params['CouponRate'] + (z*se))"
   ]
  },
  {
   "cell_type": "markdown",
   "metadata": {},
   "source": [
    "The derivation of the confidence interval is based on the assumption that the linear model is adequate, which is not the case for the data set here. Thus the confidence interval is not meaningful. "
   ]
  },
  {
   "cell_type": "markdown",
   "metadata": {},
   "source": [
    "# Question Two {-}"
   ]
  },
  {
   "cell_type": "markdown",
   "metadata": {},
   "source": [
    "## 1. {-}"
   ]
  },
  {
   "cell_type": "markdown",
   "metadata": {},
   "source": [
    "Read in the data and drop the ```id``` and ```bond_id``` columns which clearly have no predictive power. "
   ]
  },
  {
   "cell_type": "code",
   "execution_count": 7,
   "metadata": {},
   "outputs": [
    {
     "data": {
      "text/html": [
       "<div>\n",
       "<style scoped>\n",
       "    .dataframe tbody tr th:only-of-type {\n",
       "        vertical-align: middle;\n",
       "    }\n",
       "\n",
       "    .dataframe tbody tr th {\n",
       "        vertical-align: top;\n",
       "    }\n",
       "\n",
       "    .dataframe thead th {\n",
       "        text-align: right;\n",
       "    }\n",
       "</style>\n",
       "<table border=\"1\" class=\"dataframe\">\n",
       "  <thead>\n",
       "    <tr style=\"text-align: right;\">\n",
       "      <th></th>\n",
       "      <th>id</th>\n",
       "      <th>bond_id</th>\n",
       "      <th>trade_price</th>\n",
       "      <th>weight</th>\n",
       "      <th>current_coupon</th>\n",
       "      <th>time_to_maturity</th>\n",
       "      <th>is_callable</th>\n",
       "      <th>reporting_delay</th>\n",
       "      <th>trade_size</th>\n",
       "      <th>trade_type</th>\n",
       "      <th>...</th>\n",
       "      <th>received_time_diff_last9</th>\n",
       "      <th>trade_price_last9</th>\n",
       "      <th>trade_size_last9</th>\n",
       "      <th>trade_type_last9</th>\n",
       "      <th>curve_based_price_last9</th>\n",
       "      <th>received_time_diff_last10</th>\n",
       "      <th>trade_price_last10</th>\n",
       "      <th>trade_size_last10</th>\n",
       "      <th>trade_type_last10</th>\n",
       "      <th>curve_based_price_last10</th>\n",
       "    </tr>\n",
       "  </thead>\n",
       "  <tbody>\n",
       "    <tr>\n",
       "      <th>0</th>\n",
       "      <td>10</td>\n",
       "      <td>1</td>\n",
       "      <td>126.268</td>\n",
       "      <td>7.616851</td>\n",
       "      <td>5.950</td>\n",
       "      <td>25.940349</td>\n",
       "      <td>0</td>\n",
       "      <td>12.540</td>\n",
       "      <td>150000.0</td>\n",
       "      <td>3</td>\n",
       "      <td>...</td>\n",
       "      <td>2862729</td>\n",
       "      <td>128.596</td>\n",
       "      <td>120000.0</td>\n",
       "      <td>2</td>\n",
       "      <td>127.561201</td>\n",
       "      <td>3621492</td>\n",
       "      <td>129.089</td>\n",
       "      <td>200000.0</td>\n",
       "      <td>2</td>\n",
       "      <td>129.435587</td>\n",
       "    </tr>\n",
       "    <tr>\n",
       "      <th>1</th>\n",
       "      <td>38</td>\n",
       "      <td>2</td>\n",
       "      <td>101.009</td>\n",
       "      <td>0.018373</td>\n",
       "      <td>3.550</td>\n",
       "      <td>0.326392</td>\n",
       "      <td>0</td>\n",
       "      <td>9.327</td>\n",
       "      <td>450000.0</td>\n",
       "      <td>3</td>\n",
       "      <td>...</td>\n",
       "      <td>532644</td>\n",
       "      <td>101.086</td>\n",
       "      <td>500000.0</td>\n",
       "      <td>2</td>\n",
       "      <td>101.103180</td>\n",
       "      <td>538510</td>\n",
       "      <td>101.070</td>\n",
       "      <td>25000.0</td>\n",
       "      <td>2</td>\n",
       "      <td>101.102243</td>\n",
       "    </tr>\n",
       "    <tr>\n",
       "      <th>2</th>\n",
       "      <td>336</td>\n",
       "      <td>3</td>\n",
       "      <td>108.144</td>\n",
       "      <td>3.537380</td>\n",
       "      <td>4.200</td>\n",
       "      <td>2.340601</td>\n",
       "      <td>0</td>\n",
       "      <td>0.102</td>\n",
       "      <td>160000.0</td>\n",
       "      <td>4</td>\n",
       "      <td>...</td>\n",
       "      <td>96293</td>\n",
       "      <td>107.917</td>\n",
       "      <td>400000.0</td>\n",
       "      <td>2</td>\n",
       "      <td>107.874965</td>\n",
       "      <td>96293</td>\n",
       "      <td>107.917</td>\n",
       "      <td>400000.0</td>\n",
       "      <td>4</td>\n",
       "      <td>107.874965</td>\n",
       "    </tr>\n",
       "    <tr>\n",
       "      <th>3</th>\n",
       "      <td>781</td>\n",
       "      <td>4</td>\n",
       "      <td>116.953</td>\n",
       "      <td>0.402523</td>\n",
       "      <td>4.875</td>\n",
       "      <td>7.367653</td>\n",
       "      <td>0</td>\n",
       "      <td>52.093</td>\n",
       "      <td>10000.0</td>\n",
       "      <td>4</td>\n",
       "      <td>...</td>\n",
       "      <td>92559</td>\n",
       "      <td>115.924</td>\n",
       "      <td>10000.0</td>\n",
       "      <td>2</td>\n",
       "      <td>116.160420</td>\n",
       "      <td>97177</td>\n",
       "      <td>116.458</td>\n",
       "      <td>2000.0</td>\n",
       "      <td>3</td>\n",
       "      <td>116.342802</td>\n",
       "    </tr>\n",
       "    <tr>\n",
       "      <th>4</th>\n",
       "      <td>1172</td>\n",
       "      <td>14</td>\n",
       "      <td>133.210</td>\n",
       "      <td>0.210685</td>\n",
       "      <td>10.750</td>\n",
       "      <td>4.159301</td>\n",
       "      <td>0</td>\n",
       "      <td>13.722</td>\n",
       "      <td>25000.0</td>\n",
       "      <td>4</td>\n",
       "      <td>...</td>\n",
       "      <td>6400208</td>\n",
       "      <td>127.500</td>\n",
       "      <td>25000.0</td>\n",
       "      <td>2</td>\n",
       "      <td>131.066998</td>\n",
       "      <td>6400208</td>\n",
       "      <td>127.500</td>\n",
       "      <td>25000.0</td>\n",
       "      <td>4</td>\n",
       "      <td>131.066998</td>\n",
       "    </tr>\n",
       "  </tbody>\n",
       "</table>\n",
       "<p>5 rows × 61 columns</p>\n",
       "</div>"
      ],
      "text/plain": [
       "     id  bond_id  trade_price    weight  current_coupon  time_to_maturity  \\\n",
       "0    10        1      126.268  7.616851           5.950         25.940349   \n",
       "1    38        2      101.009  0.018373           3.550          0.326392   \n",
       "2   336        3      108.144  3.537380           4.200          2.340601   \n",
       "3   781        4      116.953  0.402523           4.875          7.367653   \n",
       "4  1172       14      133.210  0.210685          10.750          4.159301   \n",
       "\n",
       "   is_callable  reporting_delay  trade_size  trade_type  ...  \\\n",
       "0            0           12.540    150000.0           3  ...   \n",
       "1            0            9.327    450000.0           3  ...   \n",
       "2            0            0.102    160000.0           4  ...   \n",
       "3            0           52.093     10000.0           4  ...   \n",
       "4            0           13.722     25000.0           4  ...   \n",
       "\n",
       "   received_time_diff_last9  trade_price_last9  trade_size_last9  \\\n",
       "0                   2862729            128.596          120000.0   \n",
       "1                    532644            101.086          500000.0   \n",
       "2                     96293            107.917          400000.0   \n",
       "3                     92559            115.924           10000.0   \n",
       "4                   6400208            127.500           25000.0   \n",
       "\n",
       "   trade_type_last9  curve_based_price_last9  received_time_diff_last10  \\\n",
       "0                 2               127.561201                    3621492   \n",
       "1                 2               101.103180                     538510   \n",
       "2                 2               107.874965                      96293   \n",
       "3                 2               116.160420                      97177   \n",
       "4                 2               131.066998                    6400208   \n",
       "\n",
       "   trade_price_last10  trade_size_last10  trade_type_last10  \\\n",
       "0             129.089           200000.0                  2   \n",
       "1             101.070            25000.0                  2   \n",
       "2             107.917           400000.0                  4   \n",
       "3             116.458             2000.0                  3   \n",
       "4             127.500            25000.0                  4   \n",
       "\n",
       "   curve_based_price_last10  \n",
       "0                129.435587  \n",
       "1                101.102243  \n",
       "2                107.874965  \n",
       "3                116.342802  \n",
       "4                131.066998  \n",
       "\n",
       "[5 rows x 61 columns]"
      ]
     },
     "execution_count": 7,
     "metadata": {},
     "output_type": "execute_result"
    }
   ],
   "source": [
    "data = pd.read_csv('bonddata.txt', sep=',')\n",
    "data.head()"
   ]
  },
  {
   "cell_type": "code",
   "execution_count": 8,
   "metadata": {},
   "outputs": [],
   "source": [
    "data.drop(['bond_id', 'id'], axis='columns', inplace=True)"
   ]
  },
  {
   "cell_type": "markdown",
   "metadata": {},
   "source": [
    "From Kaggle's description of the data, ```is_callable``` and any column with \"type\" in the column name is categorical. These columns need to be converted into dummy variables for regression. Calling ```astype('category')``` on those columns is not necessary. Once the conversion to dummy variables is done, ```astype('category')``` will not make any difference. \n",
    "\n",
    "After the conversion, there are 82 predictors in the data. "
   ]
  },
  {
   "cell_type": "code",
   "execution_count": 9,
   "metadata": {},
   "outputs": [
    {
     "data": {
      "text/plain": [
       "(1620, 82)"
      ]
     },
     "execution_count": 9,
     "metadata": {},
     "output_type": "execute_result"
    }
   ],
   "source": [
    "import pandas as pd\n",
    "\n",
    "catCols = ['is_callable'] + [colName for colName in data.columns if 'type' in colName]\n",
    "\n",
    "\n",
    "# for colName in catCols: \n",
    "#     data[colName] = data[colName].astype('category')\n",
    "\n",
    "\n",
    "data = pd.get_dummies(data=data, columns=catCols)\n",
    "data.shape"
   ]
  },
  {
   "cell_type": "markdown",
   "metadata": {},
   "source": [
    "## 2. {-}"
   ]
  },
  {
   "cell_type": "markdown",
   "metadata": {},
   "source": [
    "Below is the model fitted using all predictors. From he plot of residuals versus fitted values there seem to be a few outliers in the data. "
   ]
  },
  {
   "cell_type": "code",
   "execution_count": 10,
   "metadata": {},
   "outputs": [
    {
     "data": {
      "image/png": "[encoded data removed]",
      "text/plain": [
       "<Figure size 432x288 with 1 Axes>"
      ]
     },
     "metadata": {},
     "output_type": "display_data"
    }
   ],
   "source": [
    "import statsmodels.api as sm\n",
    "\n",
    "X = sm.add_constant(data.drop('trade_price', axis='columns'))\n",
    "fullmod = sm.OLS(endog=data['trade_price'], exog=X).fit()\n",
    "\n",
    "plt.scatter(fullmod.fittedvalues, fullmod.resid)\n",
    "plt.xlabel('Fitted Values')\n",
    "plt.ylabel('Residuals')\n",
    "plt.show()"
   ]
  },
  {
   "cell_type": "markdown",
   "metadata": {},
   "source": [
    "## 3. {-}"
   ]
  },
  {
   "cell_type": "markdown",
   "metadata": {},
   "source": [
    "From the below normal probability plot, it is clear the residual distribution has heavier tail than normal, and the left tail seems to be heavier. Also, there is a clear outlier in the data. "
   ]
  },
  {
   "cell_type": "code",
   "execution_count": 11,
   "metadata": {},
   "outputs": [
    {
     "data": {
      "image/png": "[encoded data removed]",
      "text/plain": [
       "<Figure size 432x288 with 1 Axes>"
      ]
     },
     "metadata": {},
     "output_type": "display_data"
    }
   ],
   "source": [
    "from statsmodels.graphics.gofplots import qqplot\n",
    "\n",
    "qqplot(fullmod.resid, dist=norm, line='45', fit=True)\n",
    "plt.show()"
   ]
  },
  {
   "cell_type": "markdown",
   "metadata": {},
   "source": [
    "## 4., 5. {-}"
   ]
  },
  {
   "cell_type": "markdown",
   "metadata": {},
   "source": [
    "Here is the stepwise variable selection procedure using AIC/PRESS. "
   ]
  },
  {
   "cell_type": "code",
   "execution_count": 12,
   "metadata": {},
   "outputs": [],
   "source": [
    "X.drop(['const'], axis='columns', inplace=True)"
   ]
  },
  {
   "cell_type": "code",
   "execution_count": 13,
   "metadata": {},
   "outputs": [],
   "source": [
    "from statsmodels.stats import outliers_influence\n",
    "\n",
    "def AIC(model):\n",
    "    return model.aic\n",
    "\n",
    "def PRESS(model):\n",
    "    levs = outliers_influence.OLSInfluence(model).hat_matrix_diag\n",
    "    return ((model.resid/(1 - levs))**2).sum()\n",
    "    \n",
    "def modelSelection(endog, exog, selectionMethod=AIC):\n",
    "    '''\n",
    "    Assuming no constant column in the input exog \n",
    "    '''\n",
    "    chosen = []\n",
    "    remaining = list(exog.columns.values)\n",
    "    best = np.inf\n",
    "\n",
    "    for i in range(len(X.columns)):\n",
    "        idx_quantities = [(idx, selectionMethod(sm.OLS(endog, exog=sm.add_constant(exog[[feature] + chosen])).fit())) for idx, feature in enumerate(remaining)]\n",
    "        idx, q = min(idx_quantities, key=lambda idx_q: idx_q[1])\n",
    "        if q >= best:\n",
    "            break\n",
    "        best = q\n",
    "        chosen.append(remaining[idx])\n",
    "        remaining = remaining[:idx] + remaining[idx+1:]\n",
    "    \n",
    "    return chosen\n",
    "\n",
    "\n",
    "# chosenAIC = modelSelection(endog=data['trade_price'], exog=X, selectionMethod=AIC)\n",
    "# chosenPRESS = modelSelection(endog=data['trade_price'], exog=X, selectionMethod=PRESS)\n",
    "\n",
    "# chosenAIC, chosenPRESS"
   ]
  },
  {
   "cell_type": "markdown",
   "metadata": {},
   "source": [
    "The selection process is computational intense. We copy and paste the results below. Using AIC, the procedure selected 22 features, while using PRESS, it selected 25. There are 18 common features selected by both methods. "
   ]
  },
  {
   "cell_type": "code",
   "execution_count": 20,
   "metadata": {},
   "outputs": [
    {
     "data": {
      "text/plain": [
       "(22, 25, 18)"
      ]
     },
     "execution_count": 20,
     "metadata": {},
     "output_type": "execute_result"
    }
   ],
   "source": [
    "chosenAIC = ['trade_price_last1', 'curve_based_price', 'trade_type_2', 'trade_price_last7', 'trade_type_3', 'trade_price_last10', 'trade_price_last4', 'curve_based_price_last5', 'trade_type_last1_3', 'trade_type_last4_3', 'trade_type_last4_2', 'trade_type_last1_2', 'trade_price_last9', 'trade_type_last9_2', 'curve_based_price_last1', 'curve_based_price_last4', 'curve_based_price_last3', 'received_time_diff_last10', 'trade_type_last5_3', 'trade_price_last3', 'is_callable_1', 'reporting_delay']\n",
    "chosenPRESS = ['trade_price_last1', 'curve_based_price', 'trade_type_2', 'trade_price_last7', 'trade_type_4', 'trade_price_last10', 'trade_type_last1_3', 'curve_based_price_last5', 'trade_price_last4', 'trade_type_last4_3', 'trade_type_last1_2', 'trade_type_last4_2', 'trade_size_last7', 'is_callable_1', 'trade_size', 'received_time_diff_last10', 'trade_price_last9', 'trade_type_last9_2', 'reporting_delay', 'trade_type_last5_3', 'received_time_diff_last8', 'trade_size_last4', 'trade_size_last5', 'trade_type_last1_4', 'trade_type_3'] \n",
    "\n",
    "len(chosenAIC), len (chosenPRESS), len(set(chosenAIC) & set(chosenPRESS))"
   ]
  },
  {
   "cell_type": "markdown",
   "metadata": {},
   "source": [
    "Below are the summary of both models. They both have some features with coefficients very close to zero. If we ignore those features, the resulting models will be almost identical. "
   ]
  },
  {
   "cell_type": "code",
   "execution_count": 22,
   "metadata": {},
   "outputs": [
    {
     "data": {
      "text/html": [
       "<table class=\"simpletable\">\n",
       "<caption>OLS Regression Results</caption>\n",
       "<tr>\n",
       "  <th>Dep. Variable:</th>       <td>trade_price</td>   <th>  R-squared:         </th> <td>   0.980</td>\n",
       "</tr>\n",
       "<tr>\n",
       "  <th>Model:</th>                   <td>OLS</td>       <th>  Adj. R-squared:    </th> <td>   0.980</td>\n",
       "</tr>\n",
       "<tr>\n",
       "  <th>Method:</th>             <td>Least Squares</td>  <th>  F-statistic:       </th> <td>   3527.</td>\n",
       "</tr>\n",
       "<tr>\n",
       "  <th>Date:</th>             <td>Thu, 15 Oct 2020</td> <th>  Prob (F-statistic):</th>  <td>  0.00</td> \n",
       "</tr>\n",
       "<tr>\n",
       "  <th>Time:</th>                 <td>08:52:19</td>     <th>  Log-Likelihood:    </th> <td> -3092.3</td>\n",
       "</tr>\n",
       "<tr>\n",
       "  <th>No. Observations:</th>      <td>  1620</td>      <th>  AIC:               </th> <td>   6231.</td>\n",
       "</tr>\n",
       "<tr>\n",
       "  <th>Df Residuals:</th>          <td>  1597</td>      <th>  BIC:               </th> <td>   6355.</td>\n",
       "</tr>\n",
       "<tr>\n",
       "  <th>Df Model:</th>              <td>    22</td>      <th>                     </th>     <td> </td>   \n",
       "</tr>\n",
       "<tr>\n",
       "  <th>Covariance Type:</th>      <td>nonrobust</td>    <th>                     </th>     <td> </td>   \n",
       "</tr>\n",
       "</table>\n",
       "<table class=\"simpletable\">\n",
       "<tr>\n",
       "              <td></td>                 <th>coef</th>     <th>std err</th>      <th>t</th>      <th>P>|t|</th>  <th>[0.025</th>    <th>0.975]</th>  \n",
       "</tr>\n",
       "<tr>\n",
       "  <th>const</th>                     <td>    1.2270</td> <td>    0.452</td> <td>    2.713</td> <td> 0.007</td> <td>    0.340</td> <td>    2.114</td>\n",
       "</tr>\n",
       "<tr>\n",
       "  <th>trade_price_last1</th>         <td>    0.4340</td> <td>    0.028</td> <td>   15.456</td> <td> 0.000</td> <td>    0.379</td> <td>    0.489</td>\n",
       "</tr>\n",
       "<tr>\n",
       "  <th>curve_based_price</th>         <td>    0.3929</td> <td>    0.038</td> <td>   10.296</td> <td> 0.000</td> <td>    0.318</td> <td>    0.468</td>\n",
       "</tr>\n",
       "<tr>\n",
       "  <th>trade_type_2</th>              <td>   -0.8080</td> <td>    0.100</td> <td>   -8.112</td> <td> 0.000</td> <td>   -1.003</td> <td>   -0.613</td>\n",
       "</tr>\n",
       "<tr>\n",
       "  <th>trade_price_last7</th>         <td>    0.1129</td> <td>    0.023</td> <td>    4.843</td> <td> 0.000</td> <td>    0.067</td> <td>    0.159</td>\n",
       "</tr>\n",
       "<tr>\n",
       "  <th>trade_type_3</th>              <td>    0.8038</td> <td>    0.100</td> <td>    8.027</td> <td> 0.000</td> <td>    0.607</td> <td>    1.000</td>\n",
       "</tr>\n",
       "<tr>\n",
       "  <th>trade_price_last10</th>        <td>    0.0376</td> <td>    0.026</td> <td>    1.422</td> <td> 0.155</td> <td>   -0.014</td> <td>    0.090</td>\n",
       "</tr>\n",
       "<tr>\n",
       "  <th>trade_price_last4</th>         <td>    0.1033</td> <td>    0.030</td> <td>    3.392</td> <td> 0.001</td> <td>    0.044</td> <td>    0.163</td>\n",
       "</tr>\n",
       "<tr>\n",
       "  <th>curve_based_price_last5</th>   <td>   -0.2031</td> <td>    0.050</td> <td>   -4.037</td> <td> 0.000</td> <td>   -0.302</td> <td>   -0.104</td>\n",
       "</tr>\n",
       "<tr>\n",
       "  <th>trade_type_last1_3</th>        <td>   -0.2174</td> <td>    0.100</td> <td>   -2.169</td> <td> 0.030</td> <td>   -0.414</td> <td>   -0.021</td>\n",
       "</tr>\n",
       "<tr>\n",
       "  <th>trade_type_last4_3</th>        <td>   -0.2073</td> <td>    0.103</td> <td>   -2.017</td> <td> 0.044</td> <td>   -0.409</td> <td>   -0.006</td>\n",
       "</tr>\n",
       "<tr>\n",
       "  <th>trade_type_last4_2</th>        <td>    0.2007</td> <td>    0.104</td> <td>    1.929</td> <td> 0.054</td> <td>   -0.003</td> <td>    0.405</td>\n",
       "</tr>\n",
       "<tr>\n",
       "  <th>trade_type_last1_2</th>        <td>    0.2293</td> <td>    0.106</td> <td>    2.157</td> <td> 0.031</td> <td>    0.021</td> <td>    0.438</td>\n",
       "</tr>\n",
       "<tr>\n",
       "  <th>trade_price_last9</th>         <td>    0.0763</td> <td>    0.029</td> <td>    2.641</td> <td> 0.008</td> <td>    0.020</td> <td>    0.133</td>\n",
       "</tr>\n",
       "<tr>\n",
       "  <th>trade_type_last9_2</th>        <td>    0.1874</td> <td>    0.100</td> <td>    1.883</td> <td> 0.060</td> <td>   -0.008</td> <td>    0.383</td>\n",
       "</tr>\n",
       "<tr>\n",
       "  <th>curve_based_price_last1</th>   <td>   -0.0607</td> <td>    0.051</td> <td>   -1.180</td> <td> 0.238</td> <td>   -0.162</td> <td>    0.040</td>\n",
       "</tr>\n",
       "<tr>\n",
       "  <th>curve_based_price_last4</th>   <td>    0.2077</td> <td>    0.074</td> <td>    2.795</td> <td> 0.005</td> <td>    0.062</td> <td>    0.354</td>\n",
       "</tr>\n",
       "<tr>\n",
       "  <th>curve_based_price_last3</th>   <td>   -0.1591</td> <td>    0.066</td> <td>   -2.419</td> <td> 0.016</td> <td>   -0.288</td> <td>   -0.030</td>\n",
       "</tr>\n",
       "<tr>\n",
       "  <th>received_time_diff_last10</th> <td>-3.692e-08</td> <td> 2.06e-08</td> <td>   -1.791</td> <td> 0.074</td> <td>-7.74e-08</td> <td> 3.52e-09</td>\n",
       "</tr>\n",
       "<tr>\n",
       "  <th>trade_type_last5_3</th>        <td>   -0.1440</td> <td>    0.088</td> <td>   -1.628</td> <td> 0.104</td> <td>   -0.317</td> <td>    0.029</td>\n",
       "</tr>\n",
       "<tr>\n",
       "  <th>trade_price_last3</th>         <td>    0.0469</td> <td>    0.031</td> <td>    1.534</td> <td> 0.125</td> <td>   -0.013</td> <td>    0.107</td>\n",
       "</tr>\n",
       "<tr>\n",
       "  <th>is_callable_1</th>             <td>    0.1791</td> <td>    0.120</td> <td>    1.498</td> <td> 0.134</td> <td>   -0.055</td> <td>    0.413</td>\n",
       "</tr>\n",
       "<tr>\n",
       "  <th>reporting_delay</th>           <td> -1.75e-06</td> <td> 1.22e-06</td> <td>   -1.429</td> <td> 0.153</td> <td>-4.15e-06</td> <td> 6.53e-07</td>\n",
       "</tr>\n",
       "</table>\n",
       "<table class=\"simpletable\">\n",
       "<tr>\n",
       "  <th>Omnibus:</th>       <td>1930.311</td> <th>  Durbin-Watson:     </th>  <td>   1.978</td> \n",
       "</tr>\n",
       "<tr>\n",
       "  <th>Prob(Omnibus):</th>  <td> 0.000</td>  <th>  Jarque-Bera (JB):  </th> <td>907009.858</td>\n",
       "</tr>\n",
       "<tr>\n",
       "  <th>Skew:</th>           <td>-5.538</td>  <th>  Prob(JB):          </th>  <td>    0.00</td> \n",
       "</tr>\n",
       "<tr>\n",
       "  <th>Kurtosis:</th>       <td>118.389</td> <th>  Cond. No.          </th>  <td>3.10e+07</td> \n",
       "</tr>\n",
       "</table><br/><br/>Notes:<br/>[1] Standard Errors assume that the covariance matrix of the errors is correctly specified.<br/>[2] The condition number is large, 3.1e+07. This might indicate that there are<br/>strong multicollinearity or other numerical problems."
      ],
      "text/plain": [
       "<class 'statsmodels.iolib.summary.Summary'>\n",
       "\"\"\"\n",
       "                            OLS Regression Results                            \n",
       "==============================================================================\n",
       "Dep. Variable:            trade_price   R-squared:                       0.980\n",
       "Model:                            OLS   Adj. R-squared:                  0.980\n",
       "Method:                 Least Squares   F-statistic:                     3527.\n",
       "Date:                Thu, 15 Oct 2020   Prob (F-statistic):               0.00\n",
       "Time:                        08:52:19   Log-Likelihood:                -3092.3\n",
       "No. Observations:                1620   AIC:                             6231.\n",
       "Df Residuals:                    1597   BIC:                             6355.\n",
       "Df Model:                          22                                         \n",
       "Covariance Type:            nonrobust                                         \n",
       "=============================================================================================\n",
       "                                coef    std err          t      P>|t|      [0.025      0.975]\n",
       "---------------------------------------------------------------------------------------------\n",
       "const                         1.2270      0.452      2.713      0.007       0.340       2.114\n",
       "trade_price_last1             0.4340      0.028     15.456      0.000       0.379       0.489\n",
       "curve_based_price             0.3929      0.038     10.296      0.000       0.318       0.468\n",
       "trade_type_2                 -0.8080      0.100     -8.112      0.000      -1.003      -0.613\n",
       "trade_price_last7             0.1129      0.023      4.843      0.000       0.067       0.159\n",
       "trade_type_3                  0.8038      0.100      8.027      0.000       0.607       1.000\n",
       "trade_price_last10            0.0376      0.026      1.422      0.155      -0.014       0.090\n",
       "trade_price_last4             0.1033      0.030      3.392      0.001       0.044       0.163\n",
       "curve_based_price_last5      -0.2031      0.050     -4.037      0.000      -0.302      -0.104\n",
       "trade_type_last1_3           -0.2174      0.100     -2.169      0.030      -0.414      -0.021\n",
       "trade_type_last4_3           -0.2073      0.103     -2.017      0.044      -0.409      -0.006\n",
       "trade_type_last4_2            0.2007      0.104      1.929      0.054      -0.003       0.405\n",
       "trade_type_last1_2            0.2293      0.106      2.157      0.031       0.021       0.438\n",
       "trade_price_last9             0.0763      0.029      2.641      0.008       0.020       0.133\n",
       "trade_type_last9_2            0.1874      0.100      1.883      0.060      -0.008       0.383\n",
       "curve_based_price_last1      -0.0607      0.051     -1.180      0.238      -0.162       0.040\n",
       "curve_based_price_last4       0.2077      0.074      2.795      0.005       0.062       0.354\n",
       "curve_based_price_last3      -0.1591      0.066     -2.419      0.016      -0.288      -0.030\n",
       "received_time_diff_last10 -3.692e-08   2.06e-08     -1.791      0.074   -7.74e-08    3.52e-09\n",
       "trade_type_last5_3           -0.1440      0.088     -1.628      0.104      -0.317       0.029\n",
       "trade_price_last3             0.0469      0.031      1.534      0.125      -0.013       0.107\n",
       "is_callable_1                 0.1791      0.120      1.498      0.134      -0.055       0.413\n",
       "reporting_delay            -1.75e-06   1.22e-06     -1.429      0.153   -4.15e-06    6.53e-07\n",
       "==============================================================================\n",
       "Omnibus:                     1930.311   Durbin-Watson:                   1.978\n",
       "Prob(Omnibus):                  0.000   Jarque-Bera (JB):           907009.858\n",
       "Skew:                          -5.538   Prob(JB):                         0.00\n",
       "Kurtosis:                     118.389   Cond. No.                     3.10e+07\n",
       "==============================================================================\n",
       "\n",
       "Notes:\n",
       "[1] Standard Errors assume that the covariance matrix of the errors is correctly specified.\n",
       "[2] The condition number is large, 3.1e+07. This might indicate that there are\n",
       "strong multicollinearity or other numerical problems.\n",
       "\"\"\""
      ]
     },
     "execution_count": 22,
     "metadata": {},
     "output_type": "execute_result"
    }
   ],
   "source": [
    "model = sm.OLS(endog=data['trade_price'], exog=sm.add_constant(X[chosenAIC])).fit()\n",
    "model.summary()"
   ]
  },
  {
   "cell_type": "code",
   "execution_count": 23,
   "metadata": {},
   "outputs": [
    {
     "data": {
      "text/html": [
       "<table class=\"simpletable\">\n",
       "<caption>OLS Regression Results</caption>\n",
       "<tr>\n",
       "  <th>Dep. Variable:</th>       <td>trade_price</td>   <th>  R-squared:         </th> <td>   0.980</td>\n",
       "</tr>\n",
       "<tr>\n",
       "  <th>Model:</th>                   <td>OLS</td>       <th>  Adj. R-squared:    </th> <td>   0.979</td>\n",
       "</tr>\n",
       "<tr>\n",
       "  <th>Method:</th>             <td>Least Squares</td>  <th>  F-statistic:       </th> <td>   3361.</td>\n",
       "</tr>\n",
       "<tr>\n",
       "  <th>Date:</th>             <td>Thu, 15 Oct 2020</td> <th>  Prob (F-statistic):</th>  <td>  0.00</td> \n",
       "</tr>\n",
       "<tr>\n",
       "  <th>Time:</th>                 <td>08:55:19</td>     <th>  Log-Likelihood:    </th> <td> -3094.8</td>\n",
       "</tr>\n",
       "<tr>\n",
       "  <th>No. Observations:</th>      <td>  1620</td>      <th>  AIC:               </th> <td>   6238.</td>\n",
       "</tr>\n",
       "<tr>\n",
       "  <th>Df Residuals:</th>          <td>  1596</td>      <th>  BIC:               </th> <td>   6367.</td>\n",
       "</tr>\n",
       "<tr>\n",
       "  <th>Df Model:</th>              <td>    23</td>      <th>                     </th>     <td> </td>   \n",
       "</tr>\n",
       "<tr>\n",
       "  <th>Covariance Type:</th>      <td>nonrobust</td>    <th>                     </th>     <td> </td>   \n",
       "</tr>\n",
       "</table>\n",
       "<table class=\"simpletable\">\n",
       "<tr>\n",
       "              <td></td>                 <th>coef</th>     <th>std err</th>      <th>t</th>      <th>P>|t|</th>  <th>[0.025</th>    <th>0.975]</th>  \n",
       "</tr>\n",
       "<tr>\n",
       "  <th>const</th>                     <td>    0.7032</td> <td>    0.274</td> <td>    2.564</td> <td> 0.010</td> <td>    0.165</td> <td>    1.241</td>\n",
       "</tr>\n",
       "<tr>\n",
       "  <th>trade_price_last1</th>         <td>    0.4291</td> <td>    0.026</td> <td>   16.782</td> <td> 0.000</td> <td>    0.379</td> <td>    0.479</td>\n",
       "</tr>\n",
       "<tr>\n",
       "  <th>curve_based_price</th>         <td>    0.3540</td> <td>    0.028</td> <td>   12.554</td> <td> 0.000</td> <td>    0.299</td> <td>    0.409</td>\n",
       "</tr>\n",
       "<tr>\n",
       "  <th>trade_type_2</th>              <td>   -0.5763</td> <td>    0.114</td> <td>   -5.042</td> <td> 0.000</td> <td>   -0.800</td> <td>   -0.352</td>\n",
       "</tr>\n",
       "<tr>\n",
       "  <th>trade_price_last7</th>         <td>    0.1113</td> <td>    0.023</td> <td>    4.748</td> <td> 0.000</td> <td>    0.065</td> <td>    0.157</td>\n",
       "</tr>\n",
       "<tr>\n",
       "  <th>trade_type_4</th>              <td>    0.2491</td> <td>    0.105</td> <td>    2.383</td> <td> 0.017</td> <td>    0.044</td> <td>    0.454</td>\n",
       "</tr>\n",
       "<tr>\n",
       "  <th>trade_price_last10</th>        <td>    0.0486</td> <td>    0.026</td> <td>    1.853</td> <td> 0.064</td> <td>   -0.003</td> <td>    0.100</td>\n",
       "</tr>\n",
       "<tr>\n",
       "  <th>trade_type_last1_3</th>        <td>    0.0175</td> <td>    0.107</td> <td>    0.163</td> <td> 0.871</td> <td>   -0.193</td> <td>    0.228</td>\n",
       "</tr>\n",
       "<tr>\n",
       "  <th>curve_based_price_last5</th>   <td>   -0.1643</td> <td>    0.029</td> <td>   -5.654</td> <td> 0.000</td> <td>   -0.221</td> <td>   -0.107</td>\n",
       "</tr>\n",
       "<tr>\n",
       "  <th>trade_price_last4</th>         <td>    0.1400</td> <td>    0.025</td> <td>    5.677</td> <td> 0.000</td> <td>    0.092</td> <td>    0.188</td>\n",
       "</tr>\n",
       "<tr>\n",
       "  <th>trade_type_last4_3</th>        <td>   -0.2342</td> <td>    0.103</td> <td>   -2.272</td> <td> 0.023</td> <td>   -0.436</td> <td>   -0.032</td>\n",
       "</tr>\n",
       "<tr>\n",
       "  <th>trade_type_last1_2</th>        <td>    0.4564</td> <td>    0.120</td> <td>    3.810</td> <td> 0.000</td> <td>    0.221</td> <td>    0.691</td>\n",
       "</tr>\n",
       "<tr>\n",
       "  <th>trade_type_last4_2</th>        <td>    0.2174</td> <td>    0.106</td> <td>    2.060</td> <td> 0.040</td> <td>    0.010</td> <td>    0.424</td>\n",
       "</tr>\n",
       "<tr>\n",
       "  <th>trade_size_last7</th>          <td>-8.056e-08</td> <td> 5.48e-08</td> <td>   -1.469</td> <td> 0.142</td> <td>-1.88e-07</td> <td>  2.7e-08</td>\n",
       "</tr>\n",
       "<tr>\n",
       "  <th>is_callable_1</th>             <td>    0.1951</td> <td>    0.120</td> <td>    1.631</td> <td> 0.103</td> <td>   -0.040</td> <td>    0.430</td>\n",
       "</tr>\n",
       "<tr>\n",
       "  <th>trade_size</th>                <td> 7.488e-08</td> <td> 5.71e-08</td> <td>    1.312</td> <td> 0.190</td> <td>-3.71e-08</td> <td> 1.87e-07</td>\n",
       "</tr>\n",
       "<tr>\n",
       "  <th>received_time_diff_last10</th> <td>-1.072e-07</td> <td> 6.32e-08</td> <td>   -1.697</td> <td> 0.090</td> <td>-2.31e-07</td> <td> 1.67e-08</td>\n",
       "</tr>\n",
       "<tr>\n",
       "  <th>trade_price_last9</th>         <td>    0.0709</td> <td>    0.029</td> <td>    2.463</td> <td> 0.014</td> <td>    0.014</td> <td>    0.127</td>\n",
       "</tr>\n",
       "<tr>\n",
       "  <th>trade_type_last9_2</th>        <td>    0.1980</td> <td>    0.100</td> <td>    1.980</td> <td> 0.048</td> <td>    0.002</td> <td>    0.394</td>\n",
       "</tr>\n",
       "<tr>\n",
       "  <th>reporting_delay</th>           <td>-1.664e-06</td> <td> 1.23e-06</td> <td>   -1.355</td> <td> 0.176</td> <td>-4.07e-06</td> <td> 7.44e-07</td>\n",
       "</tr>\n",
       "<tr>\n",
       "  <th>trade_type_last5_3</th>        <td>   -0.1471</td> <td>    0.089</td> <td>   -1.655</td> <td> 0.098</td> <td>   -0.321</td> <td>    0.027</td>\n",
       "</tr>\n",
       "<tr>\n",
       "  <th>received_time_diff_last8</th>  <td> 8.794e-08</td> <td> 7.06e-08</td> <td>    1.245</td> <td> 0.213</td> <td>-5.06e-08</td> <td> 2.27e-07</td>\n",
       "</tr>\n",
       "<tr>\n",
       "  <th>trade_size_last4</th>          <td>-7.847e-08</td> <td> 5.67e-08</td> <td>   -1.385</td> <td> 0.166</td> <td> -1.9e-07</td> <td> 3.26e-08</td>\n",
       "</tr>\n",
       "<tr>\n",
       "  <th>trade_size_last5</th>          <td> 6.841e-08</td> <td> 6.04e-08</td> <td>    1.133</td> <td> 0.258</td> <td>-5.01e-08</td> <td> 1.87e-07</td>\n",
       "</tr>\n",
       "<tr>\n",
       "  <th>trade_type_last1_4</th>        <td>    0.2293</td> <td>    0.103</td> <td>    2.220</td> <td> 0.027</td> <td>    0.027</td> <td>    0.432</td>\n",
       "</tr>\n",
       "<tr>\n",
       "  <th>trade_type_3</th>              <td>    1.0304</td> <td>    0.109</td> <td>    9.426</td> <td> 0.000</td> <td>    0.816</td> <td>    1.245</td>\n",
       "</tr>\n",
       "</table>\n",
       "<table class=\"simpletable\">\n",
       "<tr>\n",
       "  <th>Omnibus:</th>       <td>1943.345</td> <th>  Durbin-Watson:     </th>  <td>   1.976</td> \n",
       "</tr>\n",
       "<tr>\n",
       "  <th>Prob(Omnibus):</th>  <td> 0.000</td>  <th>  Jarque-Bera (JB):  </th> <td>923080.057</td>\n",
       "</tr>\n",
       "<tr>\n",
       "  <th>Skew:</th>           <td>-5.607</td>  <th>  Prob(JB):          </th>  <td>    0.00</td> \n",
       "</tr>\n",
       "<tr>\n",
       "  <th>Kurtosis:</th>       <td>119.402</td> <th>  Cond. No.          </th>  <td>1.03e+21</td> \n",
       "</tr>\n",
       "</table><br/><br/>Notes:<br/>[1] Standard Errors assume that the covariance matrix of the errors is correctly specified.<br/>[2] The smallest eigenvalue is 2.04e-26. This might indicate that there are<br/>strong multicollinearity problems or that the design matrix is singular."
      ],
      "text/plain": [
       "<class 'statsmodels.iolib.summary.Summary'>\n",
       "\"\"\"\n",
       "                            OLS Regression Results                            \n",
       "==============================================================================\n",
       "Dep. Variable:            trade_price   R-squared:                       0.980\n",
       "Model:                            OLS   Adj. R-squared:                  0.979\n",
       "Method:                 Least Squares   F-statistic:                     3361.\n",
       "Date:                Thu, 15 Oct 2020   Prob (F-statistic):               0.00\n",
       "Time:                        08:55:19   Log-Likelihood:                -3094.8\n",
       "No. Observations:                1620   AIC:                             6238.\n",
       "Df Residuals:                    1596   BIC:                             6367.\n",
       "Df Model:                          23                                         \n",
       "Covariance Type:            nonrobust                                         \n",
       "=============================================================================================\n",
       "                                coef    std err          t      P>|t|      [0.025      0.975]\n",
       "---------------------------------------------------------------------------------------------\n",
       "const                         0.7032      0.274      2.564      0.010       0.165       1.241\n",
       "trade_price_last1             0.4291      0.026     16.782      0.000       0.379       0.479\n",
       "curve_based_price             0.3540      0.028     12.554      0.000       0.299       0.409\n",
       "trade_type_2                 -0.5763      0.114     -5.042      0.000      -0.800      -0.352\n",
       "trade_price_last7             0.1113      0.023      4.748      0.000       0.065       0.157\n",
       "trade_type_4                  0.2491      0.105      2.383      0.017       0.044       0.454\n",
       "trade_price_last10            0.0486      0.026      1.853      0.064      -0.003       0.100\n",
       "trade_type_last1_3            0.0175      0.107      0.163      0.871      -0.193       0.228\n",
       "curve_based_price_last5      -0.1643      0.029     -5.654      0.000      -0.221      -0.107\n",
       "trade_price_last4             0.1400      0.025      5.677      0.000       0.092       0.188\n",
       "trade_type_last4_3           -0.2342      0.103     -2.272      0.023      -0.436      -0.032\n",
       "trade_type_last1_2            0.4564      0.120      3.810      0.000       0.221       0.691\n",
       "trade_type_last4_2            0.2174      0.106      2.060      0.040       0.010       0.424\n",
       "trade_size_last7          -8.056e-08   5.48e-08     -1.469      0.142   -1.88e-07     2.7e-08\n",
       "is_callable_1                 0.1951      0.120      1.631      0.103      -0.040       0.430\n",
       "trade_size                 7.488e-08   5.71e-08      1.312      0.190   -3.71e-08    1.87e-07\n",
       "received_time_diff_last10 -1.072e-07   6.32e-08     -1.697      0.090   -2.31e-07    1.67e-08\n",
       "trade_price_last9             0.0709      0.029      2.463      0.014       0.014       0.127\n",
       "trade_type_last9_2            0.1980      0.100      1.980      0.048       0.002       0.394\n",
       "reporting_delay           -1.664e-06   1.23e-06     -1.355      0.176   -4.07e-06    7.44e-07\n",
       "trade_type_last5_3           -0.1471      0.089     -1.655      0.098      -0.321       0.027\n",
       "received_time_diff_last8   8.794e-08   7.06e-08      1.245      0.213   -5.06e-08    2.27e-07\n",
       "trade_size_last4          -7.847e-08   5.67e-08     -1.385      0.166    -1.9e-07    3.26e-08\n",
       "trade_size_last5           6.841e-08   6.04e-08      1.133      0.258   -5.01e-08    1.87e-07\n",
       "trade_type_last1_4            0.2293      0.103      2.220      0.027       0.027       0.432\n",
       "trade_type_3                  1.0304      0.109      9.426      0.000       0.816       1.245\n",
       "==============================================================================\n",
       "Omnibus:                     1943.345   Durbin-Watson:                   1.976\n",
       "Prob(Omnibus):                  0.000   Jarque-Bera (JB):           923080.057\n",
       "Skew:                          -5.607   Prob(JB):                         0.00\n",
       "Kurtosis:                     119.402   Cond. No.                     1.03e+21\n",
       "==============================================================================\n",
       "\n",
       "Notes:\n",
       "[1] Standard Errors assume that the covariance matrix of the errors is correctly specified.\n",
       "[2] The smallest eigenvalue is 2.04e-26. This might indicate that there are\n",
       "strong multicollinearity problems or that the design matrix is singular.\n",
       "\"\"\""
      ]
     },
     "execution_count": 23,
     "metadata": {},
     "output_type": "execute_result"
    }
   ],
   "source": [
    "model = sm.OLS(endog=data['trade_price'], exog=sm.add_constant(X[chosenPRESS])).fit()\n",
    "model.summary()"
   ]
  }
 ],
 "metadata": {
  "kernelspec": {
   "display_name": "Python 3",
   "language": "python",
   "name": "python3"
  },
  "language_info": {
   "codemirror_mode": {
    "name": "ipython",
    "version": 3
   },
   "file_extension": ".py",
   "mimetype": "text/x-python",
   "name": "python",
   "nbconvert_exporter": "python",
   "pygments_lexer": "ipython3",
   "version": "3.7.8"
  },
  "toc-autonumbering": false,
  "toc-showcode": false,
  "toc-showmarkdowntxt": false
 },
 "nbformat": 4,
 "nbformat_minor": 4
}
