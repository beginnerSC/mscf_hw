{
 "cells": [
  {
   "cell_type": "markdown",
   "metadata": {},
   "source": [
    "\\begin{center} \n",
    "Chun-Yuan (Scott) Chiu \n",
    "\\end{center}\n",
    "\n",
    "\\begin{center} \n",
    "chunyuac@andrew.cmu.edu \n",
    "\\end{center} "
   ]
  },
  {
   "cell_type": "markdown",
   "metadata": {},
   "source": [
    "# 1. {-}\n",
    "\n",
    "## (a) {-}\n",
    "\n",
    "As the below realization of the error suggests, considering the mean squared prediction error, mean is a better estimator than median. "
   ]
  },
  {
   "cell_type": "code",
   "execution_count": 113,
   "metadata": {},
   "outputs": [
    {
     "name": "stdout",
     "output_type": "stream",
     "text": [
      "1.028093274460221\n",
      "1.0616376359774158\n"
     ]
    }
   ],
   "source": [
    "from scipy.stats import expon\n",
    "from numpy import abs\n",
    "import numpy as np\n",
    "\n",
    "mean = 1\n",
    "median = np.log(2)\n",
    "n = 1000\n",
    "\n",
    "print(((expon.rvs(size=n) - mean)**2).mean())    # mean squared error of the mean\n",
    "print(((expon.rvs(size=n) - median)**2).mean())  # mean squared error of the median"
   ]
  },
  {
   "cell_type": "markdown",
   "metadata": {},
   "source": [
    "In contrast, considering the mean absolute prediction error, mean is a (slightly) better estimator than median. "
   ]
  },
  {
   "cell_type": "markdown",
   "metadata": {},
   "source": [
    "## (b) {-}"
   ]
  },
  {
   "cell_type": "code",
   "execution_count": 114,
   "metadata": {},
   "outputs": [
    {
     "name": "stdout",
     "output_type": "stream",
     "text": [
      "0.7247546567921173\n",
      "0.6966212071861837\n"
     ]
    }
   ],
   "source": [
    "print((abs(expon.rvs(size=n) - mean)).mean())    # mean absolute error of the mean \n",
    "print((abs(expon.rvs(size=n) - median)).mean())  # mean absolute error of the median"
   ]
  },
  {
   "cell_type": "code",
   "execution_count": null,
   "metadata": {},
   "outputs": [],
   "source": []
  }
 ],
 "metadata": {
  "kernelspec": {
   "display_name": "Python 3",
   "language": "python",
   "name": "python3"
  },
  "language_info": {
   "codemirror_mode": {
    "name": "ipython",
    "version": 3
   },
   "file_extension": ".py",
   "mimetype": "text/x-python",
   "name": "python",
   "nbconvert_exporter": "python",
   "pygments_lexer": "ipython3",
   "version": "3.7.8"
  }
 },
 "nbformat": 4,
 "nbformat_minor": 4
}
