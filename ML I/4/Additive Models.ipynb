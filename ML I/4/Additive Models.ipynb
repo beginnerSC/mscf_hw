{
 "cells": [
  {
   "cell_type": "code",
   "execution_count": 1,
   "metadata": {},
   "outputs": [],
   "source": [
    "import numpy as np\n",
    "import sklearn as sk\n",
    "import matplotlib\n",
    "import matplotlib.pyplot as plt\n",
    "import scipy.stats\n",
    "from pygam import LinearGAM\n",
    "import pygam\n",
    "import pandas as pd\n",
    "from pygam import s,l,f,te"
   ]
  },
  {
   "cell_type": "code",
   "execution_count": 2,
   "metadata": {},
   "outputs": [],
   "source": [
    "# PLEASE READ THE pygam documentation, at least LinearGAM.  It has some odd defaults!"
   ]
  },
  {
   "cell_type": "code",
   "execution_count": 3,
   "metadata": {},
   "outputs": [],
   "source": [
    "aa = LinearGAM()"
   ]
  },
  {
   "cell_type": "code",
   "execution_count": 4,
   "metadata": {},
   "outputs": [
    {
     "data": {
      "text/plain": [
       "\u001b[0;31mInit signature:\u001b[0m\n",
       "\u001b[0mLinearGAM\u001b[0m\u001b[0;34m(\u001b[0m\u001b[0;34m\u001b[0m\n",
       "\u001b[0;34m\u001b[0m    \u001b[0mterms\u001b[0m\u001b[0;34m=\u001b[0m\u001b[0;34m'auto'\u001b[0m\u001b[0;34m,\u001b[0m\u001b[0;34m\u001b[0m\n",
       "\u001b[0;34m\u001b[0m    \u001b[0mmax_iter\u001b[0m\u001b[0;34m=\u001b[0m\u001b[0;36m100\u001b[0m\u001b[0;34m,\u001b[0m\u001b[0;34m\u001b[0m\n",
       "\u001b[0;34m\u001b[0m    \u001b[0mtol\u001b[0m\u001b[0;34m=\u001b[0m\u001b[0;36m0.0001\u001b[0m\u001b[0;34m,\u001b[0m\u001b[0;34m\u001b[0m\n",
       "\u001b[0;34m\u001b[0m    \u001b[0mscale\u001b[0m\u001b[0;34m=\u001b[0m\u001b[0;32mNone\u001b[0m\u001b[0;34m,\u001b[0m\u001b[0;34m\u001b[0m\n",
       "\u001b[0;34m\u001b[0m    \u001b[0mcallbacks\u001b[0m\u001b[0;34m=\u001b[0m\u001b[0;34m[\u001b[0m\u001b[0;34m'deviance'\u001b[0m\u001b[0;34m,\u001b[0m \u001b[0;34m'diffs'\u001b[0m\u001b[0;34m]\u001b[0m\u001b[0;34m,\u001b[0m\u001b[0;34m\u001b[0m\n",
       "\u001b[0;34m\u001b[0m    \u001b[0mfit_intercept\u001b[0m\u001b[0;34m=\u001b[0m\u001b[0;32mTrue\u001b[0m\u001b[0;34m,\u001b[0m\u001b[0;34m\u001b[0m\n",
       "\u001b[0;34m\u001b[0m    \u001b[0mverbose\u001b[0m\u001b[0;34m=\u001b[0m\u001b[0;32mFalse\u001b[0m\u001b[0;34m,\u001b[0m\u001b[0;34m\u001b[0m\n",
       "\u001b[0;34m\u001b[0m    \u001b[0;34m**\u001b[0m\u001b[0mkwargs\u001b[0m\u001b[0;34m,\u001b[0m\u001b[0;34m\u001b[0m\n",
       "\u001b[0;34m\u001b[0m\u001b[0;34m)\u001b[0m\u001b[0;34m\u001b[0m\u001b[0;34m\u001b[0m\u001b[0m\n",
       "\u001b[0;31mDocstring:\u001b[0m     \n",
       "Linear GAM\n",
       "\n",
       "This is a GAM with a Normal error distribution, and an identity link.\n",
       "\n",
       "Parameters\n",
       "----------\n",
       "terms : expression specifying terms to model, optional.\n",
       "\n",
       "    By default a univariate spline term will be allocated for each feature.\n",
       "\n",
       "    For example:\n",
       "\n",
       "    >>> GAM(s(0) + l(1) + f(2) + te(3, 4))\n",
       "\n",
       "    will fit a spline term on feature 0, a linear term on feature 1,\n",
       "    a factor term on feature 2, and a tensor term on features 3 and 4.\n",
       "\n",
       "callbacks : list of str or list of CallBack objects, optional\n",
       "    Names of callback objects to call during the optimization loop.\n",
       "\n",
       "fit_intercept : bool, optional\n",
       "    Specifies if a constant (a.k.a. bias or intercept) should be\n",
       "    added to the decision function.\n",
       "    Note: the intercept receives no smoothing penalty.\n",
       "\n",
       "max_iter : int, optional\n",
       "    Maximum number of iterations allowed for the solver to converge.\n",
       "\n",
       "tol : float, optional\n",
       "    Tolerance for stopping criteria.\n",
       "\n",
       "verbose : bool, optional\n",
       "    whether to show pyGAM warnings.\n",
       "\n",
       "Attributes\n",
       "----------\n",
       "coef_ : array, shape (n_classes, m_features)\n",
       "    Coefficient of the features in the decision function.\n",
       "    If fit_intercept is True, then self.coef_[0] will contain the bias.\n",
       "\n",
       "statistics_ : dict\n",
       "    Dictionary containing model statistics like GCV/UBRE scores, AIC/c,\n",
       "    parameter covariances, estimated degrees of freedom, etc.\n",
       "\n",
       "logs_ : dict\n",
       "    Dictionary containing the outputs of any callbacks at each\n",
       "    optimization loop.\n",
       "\n",
       "    The logs are structured as ``{callback: [...]}``\n",
       "\n",
       "References\n",
       "----------\n",
       "Simon N. Wood, 2006\n",
       "Generalized Additive Models: an introduction with R\n",
       "\n",
       "Hastie, Tibshirani, Friedman\n",
       "The Elements of Statistical Learning\n",
       "http://statweb.stanford.edu/~tibs/ElemStatLearn/printings/ESLII_print10.pdf\n",
       "\n",
       "Paul Eilers & Brian Marx, 2015\n",
       "International Biometric Society: A Crash Course on P-splines\n",
       "http://www.ibschannel2015.nl/project/userfiles/Crash_course_handout.pdf\n",
       "\u001b[0;31mInit docstring:\u001b[0m\n",
       "creates an instance of the Core class\n",
       "\n",
       "comes loaded with useful methods\n",
       "\n",
       "Parameters\n",
       "----------\n",
       "name : str, default: None\n",
       "line_width : int, default: 70\n",
       "    number of characters to print on a line\n",
       "line_offset : int, default: 3\n",
       "    number of characters to indent after the first line\n",
       "\n",
       "Returns\n",
       "-------\n",
       "self\n",
       "\u001b[0;31mFile:\u001b[0m           /srv/conda/envs/notebook/lib/python3.7/site-packages/pygam/pygam.py\n",
       "\u001b[0;31mType:\u001b[0m           type\n",
       "\u001b[0;31mSubclasses:\u001b[0m     \n"
      ]
     },
     "metadata": {},
     "output_type": "display_data"
    }
   ],
   "source": [
    "LinearGAM?"
   ]
  },
  {
   "cell_type": "code",
   "execution_count": 5,
   "metadata": {},
   "outputs": [],
   "source": [
    "#Set the default figure size for the notebook, so they are not all tiny\n",
    "matplotlib.rcParams['figure.figsize'] = (18,8)"
   ]
  },
  {
   "cell_type": "markdown",
   "metadata": {},
   "source": [
    "Grab a data example from ISL.  Wages for males in the central east coast of the US.  Just a demo."
   ]
  },
  {
   "cell_type": "code",
   "execution_count": 6,
   "metadata": {},
   "outputs": [],
   "source": [
    "wage = pd.read_csv('wage.csv', index_col=0)\n",
    "X = wage[['year', 'age', 'education']].values\n",
    "X[:,-1] = np.unique(X[:,-1], return_inverse=True)[1]\n",
    "y = wage['wage']"
   ]
  },
  {
   "cell_type": "code",
   "execution_count": 7,
   "metadata": {},
   "outputs": [
    {
     "data": {
      "text/plain": [
       "array([[2006, 18, 0],\n",
       "       [2004, 24, 3],\n",
       "       [2003, 45, 2],\n",
       "       ...,\n",
       "       [2005, 27, 0],\n",
       "       [2005, 27, 2],\n",
       "       [2009, 55, 1]], dtype=object)"
      ]
     },
     "execution_count": 7,
     "metadata": {},
     "output_type": "execute_result"
    }
   ],
   "source": [
    "X"
   ]
  },
  {
   "cell_type": "code",
   "execution_count": 8,
   "metadata": {},
   "outputs": [],
   "source": [
    "#Let's make a train-test split for fun\n",
    "from sklearn.model_selection import train_test_split\n",
    "X_train, X_test, y_train, y_test = train_test_split(X, y, test_size=0.33, random_state=1)"
   ]
  },
  {
   "cell_type": "code",
   "execution_count": 9,
   "metadata": {},
   "outputs": [
    {
     "name": "stderr",
     "output_type": "stream",
     "text": [
      "100% (125 of 125) |######################| Elapsed Time: 0:01:17 Time:  0:01:17\n"
     ]
    }
   ],
   "source": [
    "#fit = LinearGAM().gridsearch(X_train, y_train, lam = [np.logspace(-2, 3, 10)]*3)\n",
    "fit = LinearGAM(s(0)+s(1)+f(2)).gridsearch(X_train, y_train, lam = [np.logspace(-2, 3, 5)]*3)\n"
   ]
  },
  {
   "cell_type": "code",
   "execution_count": 10,
   "metadata": {},
   "outputs": [
    {
     "data": {
      "image/png": "[encoded data removed]",
      "text/plain": [
       "<Figure size 1296x576 with 3 Axes>"
      ]
     },
     "metadata": {
      "needs_background": "light"
     },
     "output_type": "display_data"
    }
   ],
   "source": [
    "fig, axs = plt.subplots(1, 3)\n",
    "titles = ['year', 'age', 'education']\n",
    "\n",
    "for i, ax in enumerate(axs):\n",
    "    Xfake = fit.generate_X_grid(i)\n",
    "    pdep, confi = fit.partial_dependence(term = i, X= Xfake, width=.95)\n",
    "\n",
    "    ax.plot(Xfake[:, i], pdep)\n",
    "    #ax.plot(XX[:, i], confi[0], c='r', ls='--')\n",
    "    ax.set_title(titles[i])\n",
    "\n",
    "plt.show()"
   ]
  },
  {
   "cell_type": "code",
   "execution_count": 11,
   "metadata": {},
   "outputs": [
    {
     "data": {
      "text/plain": [
       "1200.4392844588083"
      ]
     },
     "execution_count": 11,
     "metadata": {},
     "output_type": "execute_result"
    }
   ],
   "source": [
    "from sklearn.metrics import mean_squared_error\n",
    "yhat = fit.predict(X_test)\n",
    "mean_squared_error(y_test, yhat)\n"
   ]
  },
  {
   "cell_type": "code",
   "execution_count": 12,
   "metadata": {},
   "outputs": [
    {
     "data": {
      "text/plain": [
       "1268.0785845812698"
      ]
     },
     "execution_count": 12,
     "metadata": {},
     "output_type": "execute_result"
    }
   ],
   "source": [
    "#Compare to a linear model, does the additive model gain anything?\n",
    "from sklearn.linear_model import LinearRegression\n",
    "lmfit = LinearRegression().fit(X_train, y_train)\n",
    "\n",
    "yhat_lm = lmfit.predict(X_test)\n",
    "mean_squared_error(y_test, yhat_lm)\n"
   ]
  },
  {
   "cell_type": "markdown",
   "metadata": {},
   "source": [
    "# How about in R?"
   ]
  },
  {
   "cell_type": "code",
   "execution_count": 13,
   "metadata": {},
   "outputs": [],
   "source": [
    "import rpy2\n",
    "%load_ext rpy2.ipython"
   ]
  },
  {
   "cell_type": "code",
   "execution_count": 14,
   "metadata": {},
   "outputs": [
    {
     "name": "stderr",
     "output_type": "stream",
     "text": [
      "R[write to console]: Error in find.package(package, lib.loc, verbose = verbose) : \n",
      "  there is no package called ‘ISLR’\n",
      "\n",
      "R[write to console]: In addition: \n",
      "R[write to console]: Warning message:\n",
      "\n",
      "R[write to console]: In (function (package, help, pos = 2, lib.loc = NULL, character.only = FALSE,  :\n",
      "R[write to console]: \n",
      " \n",
      "R[write to console]:  libraries ‘/usr/local/lib/R/site-library’, ‘/usr/lib/R/site-library’ contain no packages\n",
      "\n"
     ]
    },
    {
     "name": "stdout",
     "output_type": "stream",
     "text": [
      "\n",
      "Error in find.package(package, lib.loc, verbose = verbose) : \n",
      "  there is no package called ‘ISLR’\n"
     ]
    }
   ],
   "source": [
    "%%R \n",
    "data(Wage, package='ISLR')"
   ]
  },
  {
   "cell_type": "code",
   "execution_count": 15,
   "metadata": {},
   "outputs": [
    {
     "name": "stderr",
     "output_type": "stream",
     "text": [
      "R[write to console]: Error in head(Wage) : object 'Wage' not found\n",
      "\n"
     ]
    },
    {
     "name": "stdout",
     "output_type": "stream",
     "text": [
      "\n",
      "Error in head(Wage) : object 'Wage' not found\n"
     ]
    }
   ],
   "source": [
    "%%R \n",
    "head(Wage)"
   ]
  },
  {
   "cell_type": "code",
   "execution_count": 16,
   "metadata": {},
   "outputs": [
    {
     "name": "stderr",
     "output_type": "stream",
     "text": [
      "R[write to console]: Loading required package: nlme\n",
      "\n",
      "R[write to console]: This is mgcv 1.8-33. For overview type 'help(\"mgcv-package\")'.\n",
      "\n"
     ]
    }
   ],
   "source": [
    "%%R\n",
    "library(mgcv)"
   ]
  },
  {
   "cell_type": "code",
   "execution_count": 17,
   "metadata": {},
   "outputs": [
    {
     "name": "stderr",
     "output_type": "stream",
     "text": [
      "R[write to console]: Error in is.data.frame(data) : object 'Wage' not found\n",
      "\n"
     ]
    },
    {
     "name": "stdout",
     "output_type": "stream",
     "text": [
      "\n",
      "Error in is.data.frame(data) : object 'Wage' not found\n"
     ]
    }
   ],
   "source": [
    "%%R\n",
    "#We need to constrain things a bit because there are so few unique numbers in year \n",
    "fit = gam(wage ~ s(age) + s(year,k=2) + education, data=Wage)\n",
    "plot(fit)"
   ]
  },
  {
   "cell_type": "code",
   "execution_count": 18,
   "metadata": {},
   "outputs": [
    {
     "name": "stderr",
     "output_type": "stream",
     "text": [
      "R[write to console]: Error in summary(fit) : object 'fit' not found\n",
      "\n"
     ]
    },
    {
     "name": "stdout",
     "output_type": "stream",
     "text": [
      "\n",
      "Error in summary(fit) : object 'fit' not found\n"
     ]
    }
   ],
   "source": [
    "%%R \n",
    "summary(fit)"
   ]
  },
  {
   "cell_type": "code",
   "execution_count": 19,
   "metadata": {},
   "outputs": [
    {
     "name": "stderr",
     "output_type": "stream",
     "text": [
      "R[write to console]: Error in predict(fit, newdata = Wage) : object 'fit' not found\n",
      "\n"
     ]
    },
    {
     "name": "stdout",
     "output_type": "stream",
     "text": [
      "\n",
      "Error in predict(fit, newdata = Wage) : object 'fit' not found\n"
     ]
    }
   ],
   "source": [
    "%%R\n",
    "#Make predictions on train set, since we didn't bother splitting for the R version\n",
    "head(predict(fit, newdata=Wage))"
   ]
  }
 ],
 "metadata": {
  "kernelspec": {
   "display_name": "Python 3",
   "language": "python",
   "name": "python3"
  },
  "language_info": {
   "codemirror_mode": {
    "name": "ipython",
    "version": 3
   },
   "file_extension": ".py",
   "mimetype": "text/x-python",
   "name": "python",
   "nbconvert_exporter": "python",
   "pygments_lexer": "ipython3",
   "version": "3.7.8"
  }
 },
 "nbformat": 4,
 "nbformat_minor": 4
}
