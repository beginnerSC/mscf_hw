{
 "cells": [
  {
   "cell_type": "markdown",
   "metadata": {},
   "source": [
    "\\begin{center} \n",
    "Chun-Yuan (Scott) Chiu \n",
    "\\end{center}\n",
    "\n",
    "\\begin{center} \n",
    "chunyuac@andrew.cmu.edu \n",
    "\\end{center} "
   ]
  },
  {
   "cell_type": "markdown",
   "metadata": {},
   "source": [
    "# 1. {-}\n",
    "\n",
    "## (a) {-}\n",
    "\n",
    "Let $\\beta = (\\beta_0, \\beta_1, \\beta_2, \\ldots, \\beta_K)^T$ be the coefficient vector in $\\mathbb R^{K+1}$ and $b_0(x) = 1$ be a constant function. Thus we can write $f$ as \n",
    "\\begin{align*}\n",
    "f(x) = \\sum_{k=0}^K \\beta_kb_k(x). \n",
    "\\end{align*}\n",
    "Let $B$ be the $n\\times(K+1)$ matrix\n",
    "\\begin{align*}\n",
    "B = \\begin{pmatrix}\n",
    "b_0(x_1) & b_1(x_1) & b_2(x_1) & \\cdots & b_K(x_1)\\\\\n",
    "b_0(x_2) & b_1(x_2) & b_2(x_2) & \\cdots & b_K(x_2)\\\\\n",
    "b_0(x_3) & b_1(x_3) & b_2(x_3) & \\cdots & b_K(x_3)\\\\\n",
    "\\vdots & \\vdots & \\vdots & \\ddots & \\vdots \\\\\n",
    "b_0(x_n) & b_1(x_n) & b_2(x_n) & \\cdots & b_K(x_n)\n",
    "\\end{pmatrix}\n",
    "\\end{align*}\n",
    "and $y = (y_1, y_2, \\ldots, y_n)^T$ be the response vector in $\\mathbb R^{n}$. \n",
    "Then \n",
    "\\begin{align*}\n",
    "\\lVert B\\beta - y \\rVert^2_2 = \\sum_{i=1}^n \\left(\\sum_{k=0}^K \\beta_kb_k(x_i) - y_i\\right)^2 = \\sum_{i=1}^n \\left(f(x_i) - y_i\\right)^2.\n",
    "\\end{align*}\n",
    "So $\\lVert B\\beta - y \\rVert^2_2$ is the desired matrix/vector form of the first term of the objective function. In pure matrix form, this is written as \n",
    "\\begin{align*}\n",
    "\\lVert B\\beta - y \\rVert^2_2 &= (B\\beta - y)^T(B\\beta - y) \\\\\n",
    "&= \\beta^TB^TB\\beta - 2y^TB\\beta + y^Ty.\n",
    "\\end{align*}\n",
    "\n",
    "\n",
    "\n",
    "## (b) {-}\n",
    "\n",
    "Let $A$ be the $(K+1)\\times(K+1)$ (symmetric) matrix\n",
    "\\begin{align*}\n",
    "A = \\begin{pmatrix}\n",
    "\\int b_0^{\\prime\\prime}(x)b_0^{\\prime\\prime}(x) dx & \\int b_0^{\\prime\\prime}(x)b_1^{\\prime\\prime}(x) dx & \\int b_0^{\\prime\\prime}(x)b_2^{\\prime\\prime}(x) dx & \\cdots & \\int b_0^{\\prime\\prime}(x)b_K^{\\prime\\prime}(x) dx\\\\\n",
    "\\int b_1^{\\prime\\prime}(x)b_0^{\\prime\\prime}(x) dx & \\int b_1^{\\prime\\prime}(x)b_1^{\\prime\\prime}(x) dx & \\int b_1^{\\prime\\prime}(x)b_2^{\\prime\\prime}(x) dx & \\cdots & \\int b_1^{\\prime\\prime}(x)b_K^{\\prime\\prime}(x) dx\\\\\n",
    "\\int b_2^{\\prime\\prime}(x)b_0^{\\prime\\prime}(x) dx & \\int b_2^{\\prime\\prime}(x)b_1^{\\prime\\prime}(x) dx & \\int b_2^{\\prime\\prime}(x)b_2^{\\prime\\prime}(x) dx & \\cdots & \\int b_2^{\\prime\\prime}(x)b_K^{\\prime\\prime}(x) dx\\\\\n",
    "\\vdots & \\vdots & \\vdots & \\ddots & \\vdots \\\\\n",
    "\\int b_K^{\\prime\\prime}(x)b_0^{\\prime\\prime}(x) dx & \\int b_K^{\\prime\\prime}(x)b_1^{\\prime\\prime}(x) dx & \\int b_K^{\\prime\\prime}(x)b_2^{\\prime\\prime}(x) dx & \\cdots & \\int b_K^{\\prime\\prime}(x)b_K^{\\prime\\prime}(x) dx\n",
    "\\end{pmatrix}.\n",
    "\\end{align*}\n",
    "Then we can write \n",
    "\\begin{align*}\n",
    "\\int (f^{\\prime\\prime}(x))^2dx  &= \\int \\left(\\sum_{k=0}^K \\beta_kb_k^{\\prime\\prime}(x) \\right)^2dx \\\\\n",
    "&= \\int \\left(\\sum_{i=0}^K\\sum_{j=0}^K \\beta_i\\beta_jb_i^{\\prime\\prime}(x)b_j^{\\prime\\prime}(x)\\right) dx \\\\\n",
    "&= \\sum_{i=0}^K\\sum_{j=0}^K \\beta_i\\beta_j\\int b_i^{\\prime\\prime}(x)b_j^{\\prime\\prime}(x) dx \\\\\n",
    "&= \\beta^TA\\beta.\n",
    "\\end{align*}\n",
    "\n",
    "\n",
    "## (c) {-}\n",
    "\n",
    "Combining part (a) and (b), the objective function is \n",
    "\\begin{align*}\n",
    "\\beta^TB^TB\\beta - 2y^TB\\beta + y^Ty + \\lambda\\beta^TA\\beta &= \\beta^T(B^TB + \\lambda A)\\beta - 2y^TB\\beta + y^Ty. \n",
    "\\end{align*}\n",
    "At its minimum the gradient must be zero, so\n",
    "\\begin{align*}\n",
    "-2B^Ty + ((B^TB + \\lambda A) + (B^TB + \\lambda A)^T)\\beta = 2(-B^Ty + (B^TB + \\lambda A)\\beta) = 0, \n",
    "\\end{align*}\n",
    "which solves to $\\beta = (B^TB + \\lambda A)^{-1}B^Ty$.\n",
    "\n"
   ]
  },
  {
   "cell_type": "markdown",
   "metadata": {},
   "source": [
    "# 2. {-}\n",
    "\n",
    "## (a), (b) {-}"
   ]
  },
  {
   "cell_type": "code",
   "execution_count": 1,
   "metadata": {},
   "outputs": [
    {
     "name": "stderr",
     "output_type": "stream",
     "text": [
      "100% (30 of 30) |########################| Elapsed Time: 0:00:00 Time:  0:00:00\n"
     ]
    },
    {
     "name": "stdout",
     "output_type": "stream",
     "text": [
      "Optimal lambda:  0.4893900918477489\n"
     ]
    },
    {
     "data": {
      "image/png": "[encoded data removed]",
      "text/plain": [
       "<Figure size 432x288 with 1 Axes>"
      ]
     },
     "metadata": {
      "needs_background": "light"
     },
     "output_type": "display_data"
    }
   ],
   "source": [
    "import matplotlib.pyplot as plt\n",
    "import pandas as pd\n",
    "import numpy as np\n",
    "from pygam import LinearGAM\n",
    "\n",
    "rates = pd.read_csv('forward_rates.csv')\n",
    "x = rates['time'].values\n",
    "y = rates['rate'].values\n",
    "\n",
    "x_grid = np.linspace(0, 30, num=1000)\n",
    "gam = LinearGAM().gridsearch(x.reshape((-1, 1)), y, lam=np.logspace(-5, 3, 30), keep_best=True)\n",
    "print('Optimal lambda: ', gam.lam[0][0])\n",
    "\n",
    "plt.scatter(x, y)\n",
    "plt.plot(x_grid, gam.predict(x_grid), c='r')\n",
    "plt.xlabel('Term (Year)')\n",
    "plt.ylabel('Forward Rate')\n",
    "plt.show()\n"
   ]
  },
  {
   "cell_type": "markdown",
   "metadata": {},
   "source": [
    "## (c) {-}\n",
    "\n",
    "A cubic spline is a piecewise cubic polynomial so its definite integral is known in closed form. Although it takes time to location which \"piece\" the limits of integration are in ($O(n)$ or $O(\\log n)$, depending on whether the knots are sorted, where $n$ is the number of knots), it is computationally very cheap compared to numerical integration like Simpson's rule. "
   ]
  },
  {
   "cell_type": "markdown",
   "metadata": {},
   "source": [
    "# 3. {-}\n",
    "\n",
    "## (a) {-}\n",
    "\n",
    "First we confirm there is no missing data in the data sets."
   ]
  },
  {
   "cell_type": "code",
   "execution_count": 1,
   "metadata": {},
   "outputs": [
    {
     "data": {
      "text/plain": [
       "(False, False)"
      ]
     },
     "execution_count": 1,
     "metadata": {},
     "output_type": "execute_result"
    }
   ],
   "source": [
    "import pandas as pd\n",
    "\n",
    "train = pd.read_csv('bike_train.csv')\n",
    "test = pd.read_csv('bike_test.csv')\n",
    "\n",
    "train.isna().any().any(), test.isna().any().any()"
   ]
  },
  {
   "cell_type": "markdown",
   "metadata": {},
   "source": [
    "An OLS is fitted and used to predict the rentals. The prediction is then multiplied by 1.6 to account for the ridership growth. Below is the MSE on the test data. "
   ]
  },
  {
   "cell_type": "code",
   "execution_count": 2,
   "metadata": {},
   "outputs": [
    {
     "data": {
      "text/plain": [
       "1295159.3945082375"
      ]
     },
     "execution_count": 2,
     "metadata": {},
     "output_type": "execute_result"
    }
   ],
   "source": [
    "from sklearn.metrics import mean_squared_error\n",
    "import statsmodels.api as sm\n",
    "\n",
    "X_train = pd.read_csv('bike_train.csv')\n",
    "y_train = X_train.pop('rentals')\n",
    "\n",
    "ols = sm.OLS(exog=sm.add_constant(X_train), endog=y_train).fit()\n",
    "\n",
    "X_test = pd.read_csv('bike_test.csv')\n",
    "y_test = X_test.pop('rentals')\n",
    "\n",
    "mean_squared_error(ols.predict(exog=sm.add_constant(X_test))*1.6, y_test)"
   ]
  },
  {
   "cell_type": "markdown",
   "metadata": {},
   "source": [
    "## (b) {-}"
   ]
  },
  {
   "cell_type": "code",
   "execution_count": 3,
   "metadata": {},
   "outputs": [
    {
     "data": {
      "text/html": [
       "<div>\n",
       "<style scoped>\n",
       "    .dataframe tbody tr th:only-of-type {\n",
       "        vertical-align: middle;\n",
       "    }\n",
       "\n",
       "    .dataframe tbody tr th {\n",
       "        vertical-align: top;\n",
       "    }\n",
       "\n",
       "    .dataframe thead th {\n",
       "        text-align: right;\n",
       "    }\n",
       "</style>\n",
       "<table border=\"1\" class=\"dataframe\">\n",
       "  <thead>\n",
       "    <tr style=\"text-align: right;\">\n",
       "      <th></th>\n",
       "      <th>dayofyear</th>\n",
       "      <th>dayofweek</th>\n",
       "      <th>workday</th>\n",
       "      <th>weathertype</th>\n",
       "      <th>temp</th>\n",
       "      <th>humidity</th>\n",
       "      <th>windspeed</th>\n",
       "    </tr>\n",
       "  </thead>\n",
       "  <tbody>\n",
       "    <tr>\n",
       "      <th>0</th>\n",
       "      <td>0</td>\n",
       "      <td>6</td>\n",
       "      <td>0</td>\n",
       "      <td>2</td>\n",
       "      <td>0.344167</td>\n",
       "      <td>0.805833</td>\n",
       "      <td>0.160446</td>\n",
       "    </tr>\n",
       "    <tr>\n",
       "      <th>1</th>\n",
       "      <td>1</td>\n",
       "      <td>0</td>\n",
       "      <td>0</td>\n",
       "      <td>2</td>\n",
       "      <td>0.363478</td>\n",
       "      <td>0.696087</td>\n",
       "      <td>0.248539</td>\n",
       "    </tr>\n",
       "    <tr>\n",
       "      <th>2</th>\n",
       "      <td>2</td>\n",
       "      <td>1</td>\n",
       "      <td>1</td>\n",
       "      <td>1</td>\n",
       "      <td>0.196364</td>\n",
       "      <td>0.437273</td>\n",
       "      <td>0.248309</td>\n",
       "    </tr>\n",
       "    <tr>\n",
       "      <th>3</th>\n",
       "      <td>3</td>\n",
       "      <td>2</td>\n",
       "      <td>1</td>\n",
       "      <td>1</td>\n",
       "      <td>0.200000</td>\n",
       "      <td>0.590435</td>\n",
       "      <td>0.160296</td>\n",
       "    </tr>\n",
       "    <tr>\n",
       "      <th>4</th>\n",
       "      <td>4</td>\n",
       "      <td>3</td>\n",
       "      <td>1</td>\n",
       "      <td>1</td>\n",
       "      <td>0.226957</td>\n",
       "      <td>0.436957</td>\n",
       "      <td>0.186900</td>\n",
       "    </tr>\n",
       "  </tbody>\n",
       "</table>\n",
       "</div>"
      ],
      "text/plain": [
       "   dayofyear  dayofweek  workday  weathertype      temp  humidity  windspeed\n",
       "0          0          6        0            2  0.344167  0.805833   0.160446\n",
       "1          1          0        0            2  0.363478  0.696087   0.248539\n",
       "2          2          1        1            1  0.196364  0.437273   0.248309\n",
       "3          3          2        1            1  0.200000  0.590435   0.160296\n",
       "4          4          3        1            1  0.226957  0.436957   0.186900"
      ]
     },
     "execution_count": 3,
     "metadata": {},
     "output_type": "execute_result"
    }
   ],
   "source": [
    "X_train.head()"
   ]
  },
  {
   "cell_type": "code",
   "execution_count": 5,
   "metadata": {},
   "outputs": [
    {
     "name": "stderr",
     "output_type": "stream",
     "text": [
      "100% (2187 of 2187) |####################| Elapsed Time: 0:22:30 Time:  0:22:30\n"
     ]
    }
   ],
   "source": [
    "from pygam import LinearGAM, s, f\n",
    "import numpy as np\n",
    "\n",
    "gam = LinearGAM(s(0)+f(1)+f(2)+f(3)+s(4)+s(5)+s(6), fit_intercept=True).gridsearch(X_train.values, y_train.values, lam=[np.logspace(-1, 2, 3)]*7)"
   ]
  },
  {
   "cell_type": "code",
   "execution_count": 10,
   "metadata": {},
   "outputs": [
    {
     "name": "stdout",
     "output_type": "stream",
     "text": [
      "LinearGAM                                                                                                 \n",
      "=============================================== ==========================================================\n",
      "Distribution:                        NormalDist Effective DoF:                                     37.6924\n",
      "Link Function:                     IdentityLink Log Likelihood:                                 -4811.8819\n",
      "Number of Samples:                          365 AIC:                                             9701.1487\n",
      "                                                AICc:                                            9710.5908\n",
      "                                                GCV:                                           259785.4598\n",
      "                                                Scale:                                         211990.7438\n",
      "                                                Pseudo R-Squared:                                   0.8997\n",
      "==========================================================================================================\n",
      "Feature Function                  Lambda               Rank         EDoF         P > x        Sig. Code   \n",
      "================================= ==================== ============ ============ ============ ============\n",
      "s(0)                              [0.1]                20           16.0         1.11e-16     ***         \n",
      "f(1)                              [100.]               7            2.6          2.90e-01                 \n",
      "f(2)                              [100.]               2            0.2          1.89e-01                 \n",
      "f(3)                              [0.1]                3            2.0          8.01e-06     ***         \n",
      "s(4)                              [3.1623]             20           7.6          1.11e-16     ***         \n",
      "s(5)                              [3.1623]             20           6.9          7.63e-11     ***         \n",
      "s(6)                              [100.]               20           2.5          3.88e-07     ***         \n",
      "intercept                                              1            0.0          1.11e-16     ***         \n",
      "==========================================================================================================\n",
      "Significance codes:  0 '***' 0.001 '**' 0.01 '*' 0.05 '.' 0.1 ' ' 1\n",
      "\n",
      "WARNING: Fitting splines and a linear function to a feature introduces a model identifiability problem\n",
      "         which can cause p-values to appear significant when they are not.\n",
      "\n",
      "WARNING: p-values calculated in this manner behave correctly for un-penalized models or models with\n",
      "         known smoothing parameters, but when smoothing parameters have been estimated, the p-values\n",
      "         are typically lower than they should be, meaning that the tests reject the null too readily.\n"
     ]
    },
    {
     "name": "stderr",
     "output_type": "stream",
     "text": [
      "/srv/conda/envs/notebook/lib/python3.7/site-packages/ipykernel_launcher.py:1: UserWarning: KNOWN BUG: p-values computed in this summary are likely much smaller than they should be. \n",
      " \n",
      "Please do not make inferences based on these values! \n",
      "\n",
      "Collaborate on a solution, and stay up to date at: \n",
      "github.com/dswah/pyGAM/issues/163 \n",
      "\n",
      "  \"\"\"Entry point for launching an IPython kernel.\n"
     ]
    }
   ],
   "source": [
    "gam.summary()"
   ]
  },
  {
   "cell_type": "code",
   "execution_count": 4,
   "metadata": {},
   "outputs": [
    {
     "data": {
      "text/plain": [
       "974017.8932338969"
      ]
     },
     "execution_count": 4,
     "metadata": {},
     "output_type": "execute_result"
    }
   ],
   "source": [
    "from pygam import LinearGAM, s, f\n",
    "\n",
    "gam = LinearGAM(s(0)+f(1)+f(2)+f(3)+s(4)+s(5)+s(6), fit_intercept=True, lam=[0.1, 100, 100, 0.1, 3.1623, 3.1623, 100]).fit(X_train.values, y_train.values)\n",
    "mean_squared_error(gam.predict(X_test)*1.6, y_test)"
   ]
  },
  {
   "cell_type": "code",
   "execution_count": 6,
   "metadata": {},
   "outputs": [
    {
     "data": {
      "text/plain": [
       "(365, 7)"
      ]
     },
     "execution_count": 6,
     "metadata": {},
     "output_type": "execute_result"
    }
   ],
   "source": [
    "X_train.shape"
   ]
  },
  {
   "cell_type": "code",
   "execution_count": 7,
   "metadata": {},
   "outputs": [
    {
     "ename": "NameError",
     "evalue": "name 'x_grid' is not defined",
     "output_type": "error",
     "traceback": [
      "\u001b[0;31m---------------------------------------------------------------------------\u001b[0m",
      "\u001b[0;31mNameError\u001b[0m                                 Traceback (most recent call last)",
      "\u001b[0;32m<ipython-input-7-55741161952b>\u001b[0m in \u001b[0;36m<module>\u001b[0;34m\u001b[0m\n\u001b[0;32m----> 1\u001b[0;31m \u001b[0mx_grid\u001b[0m\u001b[0;34m.\u001b[0m\u001b[0mshape\u001b[0m\u001b[0;34m\u001b[0m\u001b[0;34m\u001b[0m\u001b[0m\n\u001b[0m",
      "\u001b[0;31mNameError\u001b[0m: name 'x_grid' is not defined"
     ]
    }
   ],
   "source": [
    "x_grid.shape"
   ]
  },
  {
   "cell_type": "code",
   "execution_count": 12,
   "metadata": {},
   "outputs": [
    {
     "data": {
      "text/html": [
       "<div>\n",
       "<style scoped>\n",
       "    .dataframe tbody tr th:only-of-type {\n",
       "        vertical-align: middle;\n",
       "    }\n",
       "\n",
       "    .dataframe tbody tr th {\n",
       "        vertical-align: top;\n",
       "    }\n",
       "\n",
       "    .dataframe thead th {\n",
       "        text-align: right;\n",
       "    }\n",
       "</style>\n",
       "<table border=\"1\" class=\"dataframe\">\n",
       "  <thead>\n",
       "    <tr style=\"text-align: right;\">\n",
       "      <th></th>\n",
       "      <th>0</th>\n",
       "      <th>1</th>\n",
       "      <th>2</th>\n",
       "      <th>3</th>\n",
       "      <th>4</th>\n",
       "      <th>5</th>\n",
       "      <th>6</th>\n",
       "    </tr>\n",
       "  </thead>\n",
       "  <tbody>\n",
       "    <tr>\n",
       "      <th>0</th>\n",
       "      <td>0.000000</td>\n",
       "      <td>0.0</td>\n",
       "      <td>0.0</td>\n",
       "      <td>0.0</td>\n",
       "      <td>0.0</td>\n",
       "      <td>0.0</td>\n",
       "      <td>0.0</td>\n",
       "    </tr>\n",
       "    <tr>\n",
       "      <th>1</th>\n",
       "      <td>3.676768</td>\n",
       "      <td>0.0</td>\n",
       "      <td>0.0</td>\n",
       "      <td>0.0</td>\n",
       "      <td>0.0</td>\n",
       "      <td>0.0</td>\n",
       "      <td>0.0</td>\n",
       "    </tr>\n",
       "    <tr>\n",
       "      <th>2</th>\n",
       "      <td>7.353535</td>\n",
       "      <td>0.0</td>\n",
       "      <td>0.0</td>\n",
       "      <td>0.0</td>\n",
       "      <td>0.0</td>\n",
       "      <td>0.0</td>\n",
       "      <td>0.0</td>\n",
       "    </tr>\n",
       "    <tr>\n",
       "      <th>3</th>\n",
       "      <td>11.030303</td>\n",
       "      <td>0.0</td>\n",
       "      <td>0.0</td>\n",
       "      <td>0.0</td>\n",
       "      <td>0.0</td>\n",
       "      <td>0.0</td>\n",
       "      <td>0.0</td>\n",
       "    </tr>\n",
       "    <tr>\n",
       "      <th>4</th>\n",
       "      <td>14.707071</td>\n",
       "      <td>0.0</td>\n",
       "      <td>0.0</td>\n",
       "      <td>0.0</td>\n",
       "      <td>0.0</td>\n",
       "      <td>0.0</td>\n",
       "      <td>0.0</td>\n",
       "    </tr>\n",
       "    <tr>\n",
       "      <th>...</th>\n",
       "      <td>...</td>\n",
       "      <td>...</td>\n",
       "      <td>...</td>\n",
       "      <td>...</td>\n",
       "      <td>...</td>\n",
       "      <td>...</td>\n",
       "      <td>...</td>\n",
       "    </tr>\n",
       "    <tr>\n",
       "      <th>95</th>\n",
       "      <td>349.292929</td>\n",
       "      <td>0.0</td>\n",
       "      <td>0.0</td>\n",
       "      <td>0.0</td>\n",
       "      <td>0.0</td>\n",
       "      <td>0.0</td>\n",
       "      <td>0.0</td>\n",
       "    </tr>\n",
       "    <tr>\n",
       "      <th>96</th>\n",
       "      <td>352.969697</td>\n",
       "      <td>0.0</td>\n",
       "      <td>0.0</td>\n",
       "      <td>0.0</td>\n",
       "      <td>0.0</td>\n",
       "      <td>0.0</td>\n",
       "      <td>0.0</td>\n",
       "    </tr>\n",
       "    <tr>\n",
       "      <th>97</th>\n",
       "      <td>356.646465</td>\n",
       "      <td>0.0</td>\n",
       "      <td>0.0</td>\n",
       "      <td>0.0</td>\n",
       "      <td>0.0</td>\n",
       "      <td>0.0</td>\n",
       "      <td>0.0</td>\n",
       "    </tr>\n",
       "    <tr>\n",
       "      <th>98</th>\n",
       "      <td>360.323232</td>\n",
       "      <td>0.0</td>\n",
       "      <td>0.0</td>\n",
       "      <td>0.0</td>\n",
       "      <td>0.0</td>\n",
       "      <td>0.0</td>\n",
       "      <td>0.0</td>\n",
       "    </tr>\n",
       "    <tr>\n",
       "      <th>99</th>\n",
       "      <td>364.000000</td>\n",
       "      <td>0.0</td>\n",
       "      <td>0.0</td>\n",
       "      <td>0.0</td>\n",
       "      <td>0.0</td>\n",
       "      <td>0.0</td>\n",
       "      <td>0.0</td>\n",
       "    </tr>\n",
       "  </tbody>\n",
       "</table>\n",
       "<p>100 rows × 7 columns</p>\n",
       "</div>"
      ],
      "text/plain": [
       "             0    1    2    3    4    5    6\n",
       "0     0.000000  0.0  0.0  0.0  0.0  0.0  0.0\n",
       "1     3.676768  0.0  0.0  0.0  0.0  0.0  0.0\n",
       "2     7.353535  0.0  0.0  0.0  0.0  0.0  0.0\n",
       "3    11.030303  0.0  0.0  0.0  0.0  0.0  0.0\n",
       "4    14.707071  0.0  0.0  0.0  0.0  0.0  0.0\n",
       "..         ...  ...  ...  ...  ...  ...  ...\n",
       "95  349.292929  0.0  0.0  0.0  0.0  0.0  0.0\n",
       "96  352.969697  0.0  0.0  0.0  0.0  0.0  0.0\n",
       "97  356.646465  0.0  0.0  0.0  0.0  0.0  0.0\n",
       "98  360.323232  0.0  0.0  0.0  0.0  0.0  0.0\n",
       "99  364.000000  0.0  0.0  0.0  0.0  0.0  0.0\n",
       "\n",
       "[100 rows x 7 columns]"
      ]
     },
     "execution_count": 12,
     "metadata": {},
     "output_type": "execute_result"
    }
   ],
   "source": [
    "from pandas import DataFrame\n",
    "\n",
    "df = DataFrame(x_grid)\n",
    "df"
   ]
  },
  {
   "cell_type": "code",
   "execution_count": 29,
   "metadata": {},
   "outputs": [
    {
     "data": {
      "text/plain": [
       "<AxesSubplot:xlabel='0'>"
      ]
     },
     "execution_count": 29,
     "metadata": {},
     "output_type": "execute_result"
    },
    {
     "data": {
      "image/png": "[encoded data removed]",
      "text/plain": [
       "<Figure size 432x288 with 1 Axes>"
      ]
     },
     "metadata": {
      "needs_background": "light"
     },
     "output_type": "display_data"
    }
   ],
   "source": [
    "x_grid = gam.generate_X_grid(0)\n",
    "# pdep, confi = gam.partial_dependence(term=0, X=x_grid, width=.95)\n",
    "pdep, confi = gam.partial_dependence(term=0, X=X_train, width=.95)\n",
    "DataFrame([X_train['dayofyear'].values, pdep]).T.set_index(0).plot()"
   ]
  },
  {
   "cell_type": "code",
   "execution_count": 5,
   "metadata": {},
   "outputs": [
    {
     "ename": "ValueError",
     "evalue": "X data is out of domain for categorical feature 3. Expected data on [1.0, 3.0], but found data on [0.0, 0.0]",
     "output_type": "error",
     "traceback": [
      "\u001b[0;31m---------------------------------------------------------------------------\u001b[0m",
      "\u001b[0;31mValueError\u001b[0m                                Traceback (most recent call last)",
      "\u001b[0;32m<ipython-input-5-e7051cc4ffe3>\u001b[0m in \u001b[0;36m<module>\u001b[0;34m\u001b[0m\n\u001b[1;32m      5\u001b[0m \u001b[0;32mfor\u001b[0m \u001b[0mi\u001b[0m\u001b[0;34m,\u001b[0m \u001b[0max\u001b[0m \u001b[0;32min\u001b[0m \u001b[0menumerate\u001b[0m\u001b[0;34m(\u001b[0m\u001b[0maxs\u001b[0m\u001b[0;34m.\u001b[0m\u001b[0mflatten\u001b[0m\u001b[0;34m(\u001b[0m\u001b[0;34m)\u001b[0m\u001b[0;34m)\u001b[0m\u001b[0;34m:\u001b[0m\u001b[0;34m\u001b[0m\u001b[0;34m\u001b[0m\u001b[0m\n\u001b[1;32m      6\u001b[0m     \u001b[0mx_grid\u001b[0m \u001b[0;34m=\u001b[0m \u001b[0mgam\u001b[0m\u001b[0;34m.\u001b[0m\u001b[0mgenerate_X_grid\u001b[0m\u001b[0;34m(\u001b[0m\u001b[0mi\u001b[0m\u001b[0;34m)\u001b[0m\u001b[0;34m\u001b[0m\u001b[0;34m\u001b[0m\u001b[0m\n\u001b[0;32m----> 7\u001b[0;31m     \u001b[0mpdep\u001b[0m\u001b[0;34m,\u001b[0m \u001b[0mconfi\u001b[0m \u001b[0;34m=\u001b[0m \u001b[0mgam\u001b[0m\u001b[0;34m.\u001b[0m\u001b[0mpartial_dependence\u001b[0m\u001b[0;34m(\u001b[0m\u001b[0mterm\u001b[0m\u001b[0;34m=\u001b[0m\u001b[0mi\u001b[0m\u001b[0;34m,\u001b[0m \u001b[0mX\u001b[0m\u001b[0;34m=\u001b[0m\u001b[0mx_grid\u001b[0m\u001b[0;34m,\u001b[0m \u001b[0mwidth\u001b[0m\u001b[0;34m=\u001b[0m\u001b[0;36m.95\u001b[0m\u001b[0;34m)\u001b[0m\u001b[0;34m\u001b[0m\u001b[0;34m\u001b[0m\u001b[0m\n\u001b[0m\u001b[1;32m      8\u001b[0m \u001b[0;34m\u001b[0m\u001b[0m\n\u001b[1;32m      9\u001b[0m     \u001b[0max\u001b[0m\u001b[0;34m.\u001b[0m\u001b[0mplot\u001b[0m\u001b[0;34m(\u001b[0m\u001b[0mx_grid\u001b[0m\u001b[0;34m[\u001b[0m\u001b[0;34m:\u001b[0m\u001b[0;34m,\u001b[0m \u001b[0mi\u001b[0m\u001b[0;34m]\u001b[0m\u001b[0;34m,\u001b[0m \u001b[0mpdep\u001b[0m\u001b[0;34m)\u001b[0m\u001b[0;34m\u001b[0m\u001b[0;34m\u001b[0m\u001b[0m\n",
      "\u001b[0;32m/srv/conda/envs/notebook/lib/python3.7/site-packages/pygam/pygam.py\u001b[0m in \u001b[0;36mpartial_dependence\u001b[0;34m(self, term, X, width, quantiles, meshgrid)\u001b[0m\n\u001b[1;32m   1542\u001b[0m                         features=self.feature, verbose=self.verbose)\n\u001b[1;32m   1543\u001b[0m \u001b[0;34m\u001b[0m\u001b[0m\n\u001b[0;32m-> 1544\u001b[0;31m         \u001b[0mmodelmat\u001b[0m \u001b[0;34m=\u001b[0m \u001b[0mself\u001b[0m\u001b[0;34m.\u001b[0m\u001b[0m_modelmat\u001b[0m\u001b[0;34m(\u001b[0m\u001b[0mX\u001b[0m\u001b[0;34m,\u001b[0m \u001b[0mterm\u001b[0m\u001b[0;34m=\u001b[0m\u001b[0mterm\u001b[0m\u001b[0;34m)\u001b[0m\u001b[0;34m\u001b[0m\u001b[0;34m\u001b[0m\u001b[0m\n\u001b[0m\u001b[1;32m   1545\u001b[0m         \u001b[0mpdep\u001b[0m \u001b[0;34m=\u001b[0m \u001b[0mself\u001b[0m\u001b[0;34m.\u001b[0m\u001b[0m_linear_predictor\u001b[0m\u001b[0;34m(\u001b[0m\u001b[0mmodelmat\u001b[0m\u001b[0;34m=\u001b[0m\u001b[0mmodelmat\u001b[0m\u001b[0;34m,\u001b[0m \u001b[0mterm\u001b[0m\u001b[0;34m=\u001b[0m\u001b[0mterm\u001b[0m\u001b[0;34m)\u001b[0m\u001b[0;34m\u001b[0m\u001b[0;34m\u001b[0m\u001b[0m\n\u001b[1;32m   1546\u001b[0m         \u001b[0mout\u001b[0m \u001b[0;34m=\u001b[0m \u001b[0;34m[\u001b[0m\u001b[0mpdep\u001b[0m\u001b[0;34m]\u001b[0m\u001b[0;34m\u001b[0m\u001b[0;34m\u001b[0m\u001b[0m\n",
      "\u001b[0;32m/srv/conda/envs/notebook/lib/python3.7/site-packages/pygam/pygam.py\u001b[0m in \u001b[0;36m_modelmat\u001b[0;34m(self, X, term)\u001b[0m\n\u001b[1;32m    455\u001b[0m         X = check_X(X, n_feats=self.statistics_['m_features'],\n\u001b[1;32m    456\u001b[0m                     \u001b[0medge_knots\u001b[0m\u001b[0;34m=\u001b[0m\u001b[0mself\u001b[0m\u001b[0;34m.\u001b[0m\u001b[0medge_knots_\u001b[0m\u001b[0;34m,\u001b[0m \u001b[0mdtypes\u001b[0m\u001b[0;34m=\u001b[0m\u001b[0mself\u001b[0m\u001b[0;34m.\u001b[0m\u001b[0mdtype\u001b[0m\u001b[0;34m,\u001b[0m\u001b[0;34m\u001b[0m\u001b[0;34m\u001b[0m\u001b[0m\n\u001b[0;32m--> 457\u001b[0;31m                     features=self.feature, verbose=self.verbose)\n\u001b[0m\u001b[1;32m    458\u001b[0m \u001b[0;34m\u001b[0m\u001b[0m\n\u001b[1;32m    459\u001b[0m         \u001b[0;32mreturn\u001b[0m \u001b[0mself\u001b[0m\u001b[0;34m.\u001b[0m\u001b[0mterms\u001b[0m\u001b[0;34m.\u001b[0m\u001b[0mbuild_columns\u001b[0m\u001b[0;34m(\u001b[0m\u001b[0mX\u001b[0m\u001b[0;34m,\u001b[0m \u001b[0mterm\u001b[0m\u001b[0;34m=\u001b[0m\u001b[0mterm\u001b[0m\u001b[0;34m)\u001b[0m\u001b[0;34m\u001b[0m\u001b[0;34m\u001b[0m\u001b[0m\n",
      "\u001b[0;32m/srv/conda/envs/notebook/lib/python3.7/site-packages/pygam/utils.py\u001b[0m in \u001b[0;36mcheck_X\u001b[0;34m(X, n_feats, min_samples, edge_knots, dtypes, features, verbose)\u001b[0m\n\u001b[1;32m    301\u001b[0m                                      \u001b[0;34m'feature {}. Expected data on [{}, {}], '\u001b[0m\u001b[0;31m\\\u001b[0m\u001b[0;34m\u001b[0m\u001b[0;34m\u001b[0m\u001b[0m\n\u001b[1;32m    302\u001b[0m                                      \u001b[0;34m'but found data on [{}, {}]'\u001b[0m\u001b[0;31m\\\u001b[0m\u001b[0;34m\u001b[0m\u001b[0;34m\u001b[0m\u001b[0m\n\u001b[0;32m--> 303\u001b[0;31m                                      .format(i, min_, max_, x.min(), x.max()))\n\u001b[0m\u001b[1;32m    304\u001b[0m \u001b[0;34m\u001b[0m\u001b[0m\n\u001b[1;32m    305\u001b[0m     \u001b[0;32mreturn\u001b[0m \u001b[0mX\u001b[0m\u001b[0;34m\u001b[0m\u001b[0;34m\u001b[0m\u001b[0m\n",
      "\u001b[0;31mValueError\u001b[0m: X data is out of domain for categorical feature 3. Expected data on [1.0, 3.0], but found data on [0.0, 0.0]"
     ]
    },
    {
     "data": {
      "image/png": "[encoded data removed]",
      "text/plain": [
       "<Figure size 432x288 with 8 Axes>"
      ]
     },
     "metadata": {
      "needs_background": "light"
     },
     "output_type": "display_data"
    }
   ],
   "source": [
    "import matplotlib.pyplot as plt\n",
    "\n",
    "fig, axs = plt.subplots(2, 4)\n",
    "\n",
    "for i, ax in enumerate(axs.flatten()):\n",
    "    x_grid = gam.generate_X_grid(i)\n",
    "    pdep, confi = gam.partial_dependence(term=i, X=x_grid, width=.95)\n",
    "\n",
    "    ax.plot(x_grid[:, i], pdep)\n",
    "    #ax.plot(XX[:, i], confi[0], c='r', ls='--')\n",
    "#     ax.set_title(titles[i])\n",
    "\n",
    "plt.show()"
   ]
  }
 ],
 "metadata": {
  "kernelspec": {
   "display_name": "Python 3",
   "language": "python",
   "name": "python3"
  },
  "language_info": {
   "codemirror_mode": {
    "name": "ipython",
    "version": 3
   },
   "file_extension": ".py",
   "mimetype": "text/x-python",
   "name": "python",
   "nbconvert_exporter": "python",
   "pygments_lexer": "ipython3",
   "version": "3.7.8"
  }
 },
 "nbformat": 4,
 "nbformat_minor": 4
}
