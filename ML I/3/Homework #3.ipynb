{
 "cells": [
  {
   "cell_type": "markdown",
   "metadata": {},
   "source": [
    "\\begin{center} \n",
    "Chun-Yuan (Scott) Chiu \n",
    "\\end{center}\n",
    "\n",
    "\\begin{center} \n",
    "chunyuac@andrew.cmu.edu \n",
    "\\end{center} "
   ]
  },
  {
   "cell_type": "markdown",
   "metadata": {},
   "source": [
    "# 1. {-}\n",
    "\n",
    "## (a) {-}\n",
    "\n",
    "First we write the OLS objective function part as\n",
    "\\begin{align*}\n",
    "\\lVert X^TY-\\beta \\rVert_2^2 &= (X^TY-\\beta)^T(X^TY-\\beta) \\\\\n",
    "&= (Y^TX-\\beta^T)(X^TY-\\beta) \\\\\n",
    "&= Y^TXX^TY - 2\\beta^TX^TY + \\beta^T\\beta \\\\\n",
    "&= Y^TXX^TY + \\sum_{j=1}^p \\left(\\beta_j^2 - 2(X^TY)_j\\beta_j\\right). \n",
    "\\end{align*}\n",
    "where the third equation holds because $\\beta^TX^TY$ is a scalar and is equal to its transpose $Y^TX\\beta$. Thus for ridge regression we have \n",
    "\\begin{align*}\n",
    "\\hat\\beta_{ridge} &= \\underset{\\beta}{\\text{argmin}} \\lVert X^TY-\\beta \\rVert_2^2 + \\lambda \\lVert\\beta \\rVert_2^2 \\\\\n",
    "&= \\underset{\\beta}{\\text{argmin}} \\left(Y^TXX^TY + \\sum_{j=1}^p \\left(\\beta_j^2 - 2(X^TY)_j\\beta_j\\right) \\right) + \\lambda \\sum_{j=1}^p\\beta_j^2 \\\\\n",
    "&= \\underset{\\beta}{\\text{argmin}} \\sum_{j=1}^p \\left(\\beta_j^2 - 2(X^TY)_j\\beta_j\\right) + \\lambda \\sum_{j=1}^p\\beta_j^2 \\\\\n",
    "&= \\underset{\\beta}{\\text{argmin}} \\sum_{j=1}^p \\left((1+\\lambda)\\beta_j^2 - 2(X^TY)_j\\beta_j\\right).\n",
    "\\end{align*}\n",
    "The $Y^TXX^TY$ term can be dropped because it does not depend on $\\beta$. Similarly for the lasso we have\n",
    "\\begin{align*}\n",
    "\\hat\\beta_{lasso} &= \\underset{\\beta}{\\text{argmin}} \\lVert X^TY-\\beta \\rVert_2^2 + \\lambda \\lVert\\beta \\rVert_1 \\\\\n",
    "&= \\underset{\\beta}{\\text{argmin}} \\sum_{j=1}^p \\left(\\beta_j^2 - 2(X^TY)_j\\beta_j\\right) + \\lambda \\sum_{j=1}^p|\\beta_j| \\\\\n",
    "&= \\underset{\\beta}{\\text{argmin}} \\sum_{j=1}^p \\left(\\beta_j^2 - 2(X^TY)_j\\beta_j + \\lambda |\\beta_j|\\right).\n",
    "\\end{align*}\n",
    "\n",
    "## (b) {-}\n",
    "\n",
    "For ridge regression the objective function is a quadratic function of $\\beta_j$. Completing the square shows that the minimizer is\n",
    "\\begin{align*}\n",
    "\\hat\\beta_j = \\frac{(X^TY)_j}{1+\\lambda}. \n",
    "\\end{align*}\n",
    "\n",
    "\n",
    "For the lasso, the objective is non-differentiable at $\\beta_j = 0$. If $\\beta_j > 0$, it is $\\beta_j^2 -(2(X^TY)_j - \\lambda) \\beta_j$ and the minimizer is $\\hat \\beta_j = (X^TY)_j - \\lambda/2$, provided it is positive. If it is not, the minimizer is simply zero. Similarly, if $\\beta_j \\leq 0$, the objective function is $\\beta_j^2 -(2(X^TY)_j + \\lambda) \\beta_j$ and the minimizer is $\\hat \\beta_j = (X^TY)_j + \\lambda/2$ provided it is negative. If it is not, the minimizer is again zero. In summary, \n",
    "\\begin{align*}\n",
    "\\hat\\beta_j = \\begin{cases}\n",
    "(X^TY)_j - \\lambda/2 &\\mbox{ if } (X^TY)_j > \\lambda/2\\\\\n",
    "(X^TY)_j + \\lambda/2 &\\mbox{ if } (X^TY)_j < -\\lambda/2\\\\\n",
    "0 &\\mbox{ otherwise } \n",
    "\\end{cases}.\n",
    "\\end{align*}\n",
    "\n",
    "\n",
    "## (c) {-}"
   ]
  },
  {
   "cell_type": "code",
   "execution_count": 1,
   "metadata": {},
   "outputs": [
    {
     "data": {
      "image/png": "[encoded data removed]",
      "text/plain": [
       "<Figure size 432x288 with 1 Axes>"
      ]
     },
     "metadata": {
      "needs_background": "light"
     },
     "output_type": "display_data"
    }
   ],
   "source": [
    "import matplotlib.pyplot as plt\n",
    "import numpy as np\n",
    "from pandas import DataFrame, Series\n",
    "\n",
    "lam = 3\n",
    "\n",
    "def lassoBetaj(z):\n",
    "    if z > lam/2:\n",
    "        return z - lam/2\n",
    "    elif z < -lam/2:\n",
    "        return z + lam/2\n",
    "    else:\n",
    "        return 0\n",
    "\n",
    "ax = DataFrame([(z, z/(lam+1), lassoBetaj(z), z) for z in np.arange(-10, 10, 0.1)], columns=['x', 'ridge', 'lasso', 'ols']).set_index('x').plot()\n",
    "ax.set(xlabel='$(X^TY)_j$', ylabel='$\\hat\\\\beta_j$', xlim=[-10, 10], ylim=[-10, 10], aspect=1)\n",
    "plt.show()"
   ]
  },
  {
   "cell_type": "markdown",
   "metadata": {},
   "source": [
    "## (d) {-}\n",
    "\n",
    "Setting $\\lambda=0$ in either ridge or the lasso minimizer $\\hat\\beta_j$, we obtain the OLS minimizer $\\hat \\beta_j = (X^TY)_j$. As shown in the above figure, with $\\lambda > 0$, both ridge and the lasso coefficient is smaller than the OLS one, but when the magnitude of $(X^TY)_j$ is large (much larger than $\\lambda/2$), the magnitude of the corresponding lasso coefficient goes up in the same speed as the OLS one, while that of ridge regression goes up slower ($1/(\\lambda+1)$ of the speed to be exact) and hence is smaller than the lasso coefficient. So ridge shrinks large coefficients more than lasso. \n",
    "\n",
    "\n",
    "On the other hand, when the magnitude of $(X^TY)_j$ is smaller than $\\lambda/2$, the lasso regression shrinks a nonzero coefficient to zero, while ridge only divide it by $(\\lambda +1)$, still nonzero. So, roughly speaking, the lasso regression has larger impact on small coefficients. \n",
    "\n",
    "\n",
    "From the figure it is also clear that, as we increase the value of $\\lambda$, the lasso regression will shrink all coefficients to zero eventually. "
   ]
  },
  {
   "cell_type": "markdown",
   "metadata": {},
   "source": [
    "# 2. {-}\n",
    "\n",
    "As the results shown below, as $p$ goes up, the average mean squared OLS prediction error goes up superlinearly, while the lasso prediction error does not seem to go up (or maybe it does, just not obvious from our visualization). Below 100 simulations are performed for each $p$. "
   ]
  },
  {
   "cell_type": "code",
   "execution_count": 16,
   "metadata": {},
   "outputs": [
    {
     "data": {
      "image/png": "[encoded data removed]",
      "text/plain": [
       "<Figure size 432x288 with 1 Axes>"
      ]
     },
     "metadata": {
      "needs_background": "light"
     },
     "output_type": "display_data"
    }
   ],
   "source": [
    "from sklearn.linear_model import Lasso\n",
    "from scipy.stats import norm\n",
    "from pandas import Series, DataFrame\n",
    "import statsmodels.api as sm\n",
    "import matplotlib.pyplot as plt\n",
    "import numpy as np\n",
    "\n",
    "n_sim = 100\n",
    "\n",
    "n = 100\n",
    "m = 100\n",
    "\n",
    "def mse(p, method):\n",
    "    trainX = DataFrame({'X%02d'%(i+1) : norm.rvs(size=n) for i in range(p)})\n",
    "    trainY = 4*trainX['X01'] + norm.rvs(size=n)\n",
    "\n",
    "    testX = DataFrame({'X%02d'%(i+1) : norm.rvs(size=m) for i in range(p)})\n",
    "    testY = 4*testX['X01'] + norm.rvs(size=m)\n",
    "\n",
    "    if method=='ols':\n",
    "        model = sm.OLS(exog=trainX, endog=trainY).fit()\n",
    "        params = model.params\n",
    "    elif method=='lasso':\n",
    "        model = Lasso(alpha=np.sqrt(0.02*np.log(p)/n), normalize=True).fit(trainX, trainY)\n",
    "        params = model.coef_\n",
    "        \n",
    "    return ((testY - (testX @ params))**2).mean()\n",
    "        \n",
    "def avg_mse(p, method):\n",
    "    return np.mean([mse(p, method) for _ in range(n_sim)])\n",
    "\n",
    "ps = range(2, 81)\n",
    "ax = DataFrame({'p': ps, \n",
    "                'ols': [avg_mse(p, method='ols') for p in ps], \n",
    "                'lasso': [avg_mse(p, method='lasso') for p in ps], \n",
    "               }).set_index('p').plot()\n",
    "ax.set_ylabel('mean squared error')\n",
    "ax.set_xlabel('$p$')\n",
    "plt.show()"
   ]
  },
  {
   "cell_type": "markdown",
   "metadata": {},
   "source": [
    "# 3. {-}\n",
    "\n",
    "## (a) {-}\n",
    "\n",
    "Below is a plot of the loss function \n",
    "\\begin{align*}\n",
    "\\mathcal L(Y, f(X)) &= b\\left(e^{a(Y-f(X))} - a(Y-f(X)) - 1\\right) \\\\\n",
    "&= b\\left(e^{az} - az - 1\\right). \n",
    "\\end{align*}"
   ]
  },
  {
   "cell_type": "markdown",
   "metadata": {},
   "source": [
    "# 2. {-}\n",
    "\n",
    "## (a) {-}\n",
    "\n",
    "Below is a plot of the loss function \n",
    "\\begin{align*}\n",
    "\\mathcal L(Y, f(X)) &= b\\left(e^{a(Y-f(X))} - a(Y-f(X)) - 1\\right) \\\\\n",
    "&= b\\left(e^{az} - az - 1\\right). \n",
    "\\end{align*}"
   ]
  },
  {
   "cell_type": "code",
   "execution_count": 3,
   "metadata": {},
   "outputs": [
    {
     "data": {
      "image/png": "[encoded data removed]",
      "text/plain": [
       "<Figure size 432x288 with 1 Axes>"
      ]
     },
     "metadata": {
      "needs_background": "light"
     },
     "output_type": "display_data"
    }
   ],
   "source": [
    "from numpy import exp\n",
    "from pandas import DataFrame\n",
    "\n",
    "a = 1.1\n",
    "b = 2\n",
    "\n",
    "loss = lambda z: b*(exp(a*z) - a*z -1)\n",
    "    \n",
    "ax = DataFrame([(x, loss(x)) for x in np.arange(-2, 2, 0.1)], columns=['z', 'loss']).set_index('z').plot(legend=None)\n",
    "ax.set_ylabel('loss')\n",
    "ax.set_xlabel('z');"
   ]
  },
  {
   "cell_type": "markdown",
   "metadata": {},
   "source": [
    "This is known as the LINEX loss function. Roughly speaking, on the right (when $z>0$) the loss goes up exponentially with the absolute prediction error, while on the left ($z<0$) it only goes up linearly with the absolute prediction error. \n",
    "\n",
    "Note that $z = Y - f(X) > 0$ means $f(X)$ underestimates $Y$ while $z<0$ means $f(X)$ overestimates $Y$. We might choose to use this loss function when the consequences of underestimating are much more serious than overestimating. An example could be to estimate a bank's value at risk, where underestimating could result in insufficient reserve and a default event, while the only consequence of overestimating is slight inefficiency in funding and is minor. Another example is to predict the stock price at some point in time in the future and write a naked call option based on that prediction, in which case a serious underestimating of the stock price means the option expires deep in the money and the writer takes a huge loss, while overestimating simply means the writer could have collected more premium by writing an option with a lower strike. "
   ]
  },
  {
   "cell_type": "markdown",
   "metadata": {},
   "source": [
    "## (b) {-}\n",
    "\n",
    "The expected loss is\n",
    "\\begin{align}\n",
    "\\mathbb E\\mathcal L(Y, f(X)) &= \\mathbb E[\\mathbb E[ b(e^{a(Y-f(X))} - a(Y-f(X)) -1) |X]]\\\\\n",
    "&= \\mathbb E[b \\mathbb E[e^{a(Y-f(X))}|X] - abE[Y-f(X)|X] -b]\\\\\n",
    "&= \\mathbb E[b e^{-af(X)}\\mathbb E[e^{aY}|X] - abE[Y|X] + abf(X) -b], \n",
    "\\end{align}\n",
    "which is minimized when the integrand $b e^{-af(x)}\\mathbb E[e^{aY}|X=x] - abE[Y|X=x] + abf(x) -b$ is minimized for a given $x$. \n",
    "Differentiate with respect to $f(x)$ and set to zero to get $-ab e^{f(x)}\\mathbb E[e^{aY}|X=x] + ab = 0$, or equivalently \n",
    "\\begin{align}\n",
    "f(x) = \\frac{1}{a}\\log\\mathbb E[e^{aY}|X=x]. \n",
    "\\end{align}\n",
    "Since $a, b > 0$, the second derivative of the integrand is $-ab e^{f(x)}\\mathbb E[e^{aY}|X=x] < 0$. Thus we conclude that $f(x) = (\\log\\mathbb E[e^{aY}|X=x])/a$ minimizes the expected loss. "
   ]
  },
  {
   "cell_type": "markdown",
   "metadata": {},
   "source": [
    "## (c) {-}\n",
    "\n",
    "Since $(Y|X=x) \\sim N(\\beta x, \\sigma^2)$, we have $\\mathbb E[e^{aY}|X=x] = e^{a\\beta x + \\frac12 a^2\\sigma^2}$. Thus the optimal estimator $f(x)$ is \n",
    "\\begin{align}\n",
    "f(x) = \\frac{1}{a}\\log\\mathbb E[e^{aY}|X=x] = \\beta x + \\frac{a}{2} \\sigma^2.\n",
    "\\end{align}"
   ]
  },
  {
   "cell_type": "markdown",
   "metadata": {},
   "source": [
    "## (d) {-}\n",
    "\n",
    "Following the above result, the ```f_yours``` function is implemented to return ```beta*x + 0.5*a*sigma**2```. The simulation results are as below. "
   ]
  },
  {
   "cell_type": "code",
   "execution_count": 4,
   "metadata": {},
   "outputs": [
    {
     "name": "stdout",
     "output_type": "stream",
     "text": [
      "Average loss of the conditional expectation: 16.36\n",
      "Average loss of your method: 4.49\n"
     ]
    }
   ],
   "source": [
    "!python asymm_loss.py"
   ]
  },
  {
   "cell_type": "markdown",
   "metadata": {},
   "source": [
    "The average loss computed using the optimal estimator $f(X) = \\beta X + a\\sigma^2/2$ is indeed much smaller than the average loss computed using the conditional expectation $\\beta X$. Intuitively this makes sense because this version of the LINEX loss function we are looking at penalizes more when underestimating and the optimal estimator is larger than the conditional expectation by $a\\sigma^2/2$. Because of this (positive) adjustment, the optimal estimator are less likely to underestimate. Without this adjustment, the conditional expectation is expected to underestimate more often than the optimal estimator and as a result makes the average loss larger. "
   ]
  },
  {
   "cell_type": "markdown",
   "metadata": {},
   "source": [
    "# 3. {-}\n",
    "\n",
    "As the results shown below, the more useless additional variables there are, the larger the average mean squared prediction error is. Below 100 simulations are performed for each $p$. "
   ]
  },
  {
   "cell_type": "code",
   "execution_count": 3,
   "metadata": {},
   "outputs": [
    {
     "data": {
      "image/png": "[encoded data removed]",
      "text/plain": [
       "<Figure size 432x288 with 1 Axes>"
      ]
     },
     "metadata": {
      "needs_background": "light"
     },
     "output_type": "display_data"
    }
   ],
   "source": [
    "from scipy.stats import norm\n",
    "from pandas import Series, DataFrame\n",
    "import statsmodels.api as sm\n",
    "import numpy as np\n",
    "\n",
    "n_sim = 100\n",
    "\n",
    "n = 100\n",
    "m = 100\n",
    "p = 2\n",
    "\n",
    "def mse(p):\n",
    "    trainX = DataFrame({'X%02d'%(i+1) : norm.rvs(size=n) for i in range(p)})\n",
    "    trainY = 4*trainX['X01'] + norm.rvs(size=n)\n",
    "\n",
    "    testX = DataFrame({'X%02d'%(i+1) : norm.rvs(size=m) for i in range(p)})\n",
    "    testY = 4*testX['X01'] + norm.rvs(size=m)\n",
    "\n",
    "    model = sm.OLS(exog=trainX, endog=trainY).fit()\n",
    "    return ((testY - (testX @ model.params))**2).mean()\n",
    "        \n",
    "def avg_mse(p):\n",
    "    return np.mean([mse(p) for _ in range(n_sim)])    \n",
    "\n",
    "ax = Series({p: avg_mse(p) for p in range(2, 81)}).plot()\n",
    "ax.set_ylabel('mean squared error')\n",
    "ax.set_xlabel('$p$');"
   ]
  }
 ],
 "metadata": {
  "kernelspec": {
   "display_name": "Python 3",
   "language": "python",
   "name": "python3"
  },
  "language_info": {
   "codemirror_mode": {
    "name": "ipython",
    "version": 3
   },
   "file_extension": ".py",
   "mimetype": "text/x-python",
   "name": "python",
   "nbconvert_exporter": "python",
   "pygments_lexer": "ipython3",
   "version": "3.7.8"
  }
 },
 "nbformat": 4,
 "nbformat_minor": 4
}
