{
 "cells": [
  {
   "cell_type": "markdown",
   "metadata": {},
   "source": [
    "\\begin{center} \n",
    "Chun-Yuan (Scott) Chiu \n",
    "\\end{center}\n",
    "\n",
    "\\begin{center} \n",
    "chunyuac@andrew.cmu.edu \n",
    "\\end{center} "
   ]
  },
  {
   "cell_type": "markdown",
   "metadata": {},
   "source": [
    "# 1. {-}\n",
    "\n",
    "## (a) {-}\n",
    "\n",
    "First we write the OLS objective function part as\n",
    "\\begin{align*}\n",
    "\\lVert X^TY-\\beta \\rVert_2^2 &= (X^TY-\\beta)^T(X^TY-\\beta) \\\\\n",
    "&= (Y^TX-\\beta^T)(X^TY-\\beta) \\\\\n",
    "&= Y^TXX^TY - 2\\beta^TX^TY + \\beta^T\\beta \\\\\n",
    "&= Y^TXX^TY + \\sum_{j=1}^p \\left(\\beta_j^2 - 2(X^TY)_j\\beta_j\\right). \n",
    "\\end{align*}\n",
    "where the third equation holds because $\\beta^TX^TY$ is a scalar and is equal to its transpose $Y^TX\\beta$. Thus for ridge regression we have \n",
    "\\begin{align*}\n",
    "\\hat\\beta_{ridge} &= \\underset{\\beta}{\\text{argmin}} \\lVert X^TY-\\beta \\rVert_2^2 + \\lambda \\lVert\\beta \\rVert_2^2 \\\\\n",
    "&= \\underset{\\beta}{\\text{argmin}} \\left(Y^TXX^TY + \\sum_{j=1}^p \\left(\\beta_j^2 - 2(X^TY)_j\\beta_j\\right) \\right) + \\lambda \\sum_{j=1}^p\\beta_j^2 \\\\\n",
    "&= \\underset{\\beta}{\\text{argmin}} \\sum_{j=1}^p \\left(\\beta_j^2 - 2(X^TY)_j\\beta_j\\right) + \\lambda \\sum_{j=1}^p\\beta_j^2 \\\\\n",
    "&= \\underset{\\beta}{\\text{argmin}} \\sum_{j=1}^p \\left((1+\\lambda)\\beta_j^2 - 2(X^TY)_j\\beta_j\\right).\n",
    "\\end{align*}\n",
    "The $Y^TXX^TY$ term can be dropped because it does not depend on $\\beta$. Similarly for the lasso we have\n",
    "\\begin{align*}\n",
    "\\hat\\beta_{lasso} &= \\underset{\\beta}{\\text{argmin}} \\lVert X^TY-\\beta \\rVert_2^2 + \\lambda \\lVert\\beta \\rVert_1 \\\\\n",
    "&= \\underset{\\beta}{\\text{argmin}} \\sum_{j=1}^p \\left(\\beta_j^2 - 2(X^TY)_j\\beta_j\\right) + \\lambda \\sum_{j=1}^p|\\beta_j| \\\\\n",
    "&= \\underset{\\beta}{\\text{argmin}} \\sum_{j=1}^p \\left(\\beta_j^2 - 2(X^TY)_j\\beta_j + \\lambda |\\beta_j|\\right).\n",
    "\\end{align*}\n",
    "\n",
    "## (b) {-}\n",
    "\n",
    "For ridge regression the objective function is a quadratic function of $\\beta_j$. Completing the square shows that the minimizer is\n",
    "\\begin{align*}\n",
    "\\hat\\beta_j = \\frac{(X^TY)_j}{1+\\lambda}. \n",
    "\\end{align*}\n",
    "\n",
    "\n",
    "For the lasso, the objective is non-differentiable at $\\beta_j = 0$. If $\\beta_j > 0$, it is $\\beta_j^2 -(2(X^TY)_j - \\lambda) \\beta_j$ and the minimizer is $\\hat \\beta_j = (X^TY)_j - \\lambda/2$, provided it is positive. If it is not, the minimizer is simply zero. Similarly, if $\\beta_j \\leq 0$, the objective function is $\\beta_j^2 -(2(X^TY)_j + \\lambda) \\beta_j$ and the minimizer is $\\hat \\beta_j = (X^TY)_j + \\lambda/2$ provided it is negative. If it is not, the minimizer is again zero. In summary, \n",
    "\\begin{align*}\n",
    "\\hat\\beta_j = \\begin{cases}\n",
    "(X^TY)_j - \\lambda/2 &\\mbox{ if } (X^TY)_j > \\lambda/2\\\\\n",
    "(X^TY)_j + \\lambda/2 &\\mbox{ if } (X^TY)_j < -\\lambda/2\\\\\n",
    "0 &\\mbox{ otherwise } \n",
    "\\end{cases}.\n",
    "\\end{align*}\n",
    "\n",
    "\n",
    "## (c) {-}"
   ]
  },
  {
   "cell_type": "code",
   "execution_count": 1,
   "metadata": {},
   "outputs": [
    {
     "data": {
      "image/png": "[encoded data removed]",
      "text/plain": [
       "<Figure size 432x288 with 1 Axes>"
      ]
     },
     "metadata": {
      "needs_background": "light"
     },
     "output_type": "display_data"
    }
   ],
   "source": [
    "import matplotlib.pyplot as plt\n",
    "import numpy as np\n",
    "from pandas import DataFrame, Series\n",
    "\n",
    "lam = 3\n",
    "\n",
    "def lassoBetaj(z):\n",
    "    if z > lam/2:\n",
    "        return z - lam/2\n",
    "    elif z < -lam/2:\n",
    "        return z + lam/2\n",
    "    else:\n",
    "        return 0\n",
    "\n",
    "ax = DataFrame([(z, z/(lam+1), lassoBetaj(z), z) for z in np.arange(-10, 10, 0.1)], columns=['x', 'ridge', 'lasso', 'ols']).set_index('x').plot()\n",
    "ax.set(xlabel='$(X^TY)_j$', ylabel='$\\hat\\\\beta_j$', xlim=[-10, 10], ylim=[-10, 10], aspect=1)\n",
    "plt.show()"
   ]
  },
  {
   "cell_type": "markdown",
   "metadata": {},
   "source": [
    "## (d) {-}\n",
    "\n",
    "Setting $\\lambda=0$ in either ridge or the lasso minimizer $\\hat\\beta_j$, we obtain the OLS minimizer $\\hat \\beta_j = (X^TY)_j$. As shown in the above figure, with $\\lambda > 0$, both ridge and the lasso coefficient is smaller than the OLS one, but when the magnitude of $(X^TY)_j$ is large (much larger than $\\lambda/2$), the magnitude of the corresponding lasso coefficient goes up in the same speed as the OLS one, while that of ridge regression goes up slower ($1/(\\lambda+1)$ of the speed to be exact) and hence is smaller than the lasso coefficient. So ridge shrinks large coefficients more than lasso. \n",
    "\n",
    "\n",
    "On the other hand, when the magnitude of $(X^TY)_j$ is smaller than $\\lambda/2$, the lasso regression shrinks a nonzero coefficient to zero, while ridge only divide it by $(\\lambda +1)$, still nonzero. So, roughly speaking, the lasso regression has larger impact on small coefficients. \n",
    "\n",
    "\n",
    "From the figure it is also clear that, as we increase the value of $\\lambda$, the lasso regression will shrink all coefficients to zero eventually. "
   ]
  },
  {
   "cell_type": "markdown",
   "metadata": {},
   "source": [
    "# 2. {-}\n",
    "\n",
    "As the results shown below, as $p$ goes up, the average mean squared OLS prediction error goes up superlinearly, while the lasso prediction error does not seem to go up (or maybe it does, just not obvious from our visualization). Below 100 simulations are performed for each $p$. "
   ]
  },
  {
   "cell_type": "code",
   "execution_count": 16,
   "metadata": {},
   "outputs": [
    {
     "data": {
      "image/png": "[encoded data removed]",
      "text/plain": [
       "<Figure size 432x288 with 1 Axes>"
      ]
     },
     "metadata": {
      "needs_background": "light"
     },
     "output_type": "display_data"
    }
   ],
   "source": [
    "from sklearn.linear_model import Lasso\n",
    "from scipy.stats import norm\n",
    "from pandas import Series, DataFrame\n",
    "import statsmodels.api as sm\n",
    "import matplotlib.pyplot as plt\n",
    "import numpy as np\n",
    "\n",
    "n_sim = 100\n",
    "\n",
    "n = 100\n",
    "m = 100\n",
    "\n",
    "def mse(p, method):\n",
    "    trainX = DataFrame({'X%02d'%(i+1) : norm.rvs(size=n) for i in range(p)})\n",
    "    trainY = 4*trainX['X01'] + norm.rvs(size=n)\n",
    "\n",
    "    testX = DataFrame({'X%02d'%(i+1) : norm.rvs(size=m) for i in range(p)})\n",
    "    testY = 4*testX['X01'] + norm.rvs(size=m)\n",
    "\n",
    "    if method=='ols':\n",
    "        model = sm.OLS(exog=trainX, endog=trainY).fit()\n",
    "        params = model.params\n",
    "    elif method=='lasso':\n",
    "        model = Lasso(alpha=np.sqrt(0.02*np.log(p)/n), normalize=True).fit(trainX, trainY)\n",
    "        params = model.coef_\n",
    "        \n",
    "    return ((testY - (testX @ params))**2).mean()\n",
    "        \n",
    "def avg_mse(p, method):\n",
    "    return np.mean([mse(p, method) for _ in range(n_sim)])\n",
    "\n",
    "ps = range(2, 81)\n",
    "ax = DataFrame({'p': ps, \n",
    "                'ols': [avg_mse(p, method='ols') for p in ps], \n",
    "                'lasso': [avg_mse(p, method='lasso') for p in ps], \n",
    "               }).set_index('p').plot()\n",
    "ax.set_ylabel('mean squared error')\n",
    "ax.set_xlabel('$p$')\n",
    "plt.show()"
   ]
  },
  {
   "cell_type": "markdown",
   "metadata": {},
   "source": [
    "# 3. {-}"
   ]
  },
  {
   "cell_type": "code",
   "execution_count": 1,
   "metadata": {},
   "outputs": [
    {
     "data": {
      "text/plain": [
       "(180, 97)"
      ]
     },
     "execution_count": 1,
     "metadata": {},
     "output_type": "execute_result"
    }
   ],
   "source": [
    "from pandas import read_csv\n",
    "\n",
    "trends = read_csv('trends_train.csv').set_index('Week').applymap(float)\n",
    "trends.shape"
   ]
  },
  {
   "cell_type": "code",
   "execution_count": 2,
   "metadata": {},
   "outputs": [],
   "source": [
    "import rpy2\n",
    "%load_ext rpy2.ipython"
   ]
  },
  {
   "cell_type": "code",
   "execution_count": 3,
   "metadata": {},
   "outputs": [
    {
     "name": "stderr",
     "output_type": "stream",
     "text": [
      "R[write to console]: Loading required package: Matrix\n",
      "\n",
      "R[write to console]: Loading required package: foreach\n",
      "\n",
      "R[write to console]: Loaded glmnet 2.0-16\n",
      "\n",
      "\n"
     ]
    },
    {
     "data": {
      "image/png": "[encoded data removed]"
     },
     "metadata": {},
     "output_type": "display_data"
    }
   ],
   "source": [
    "%%R -i trends\n",
    "library(glmnet)\n",
    "\n",
    "# the final column is the response\n",
    "\n",
    "trends = as.matrix(trends)\n",
    "glmnetout = glmnet(trends[,-97], trends[,97])\n",
    "\n",
    "set.seed(0)\n",
    "cvglmout = cv.glmnet(trends[,-97], trends[,97])\n",
    "\n",
    "plot(cvglmout,lwd=2)\n",
    "abline(v=log(cvglmout$lambda.min),lty=3,lwd=2)\n",
    "abline(v=log(cvglmout$lambda.1se),lty=3,lwd=2)"
   ]
  },
  {
   "cell_type": "code",
   "execution_count": 4,
   "metadata": {},
   "outputs": [
    {
     "name": "stderr",
     "output_type": "stream",
     "text": [
      "R[write to console]: <sparse>[ <logic> ] : .M.sub.i.logical() maybe inefficient\n",
      "\n"
     ]
    },
    {
     "name": "stdout",
     "output_type": "stream",
     "text": [
      " [1]  1.643469e-03 -2.004550e-05 -3.153716e-05 -5.304563e-06 -2.240417e-04\n",
      " [6] -4.487841e-06 -9.892606e-04 -2.098079e-06 -9.486248e-05 -3.147563e-05\n",
      "[11] -4.343406e-05 -6.782457e-05\n"
     ]
    },
    {
     "name": "stderr",
     "output_type": "stream",
     "text": [
      "R[write to console]: <sparse>[ <logic> ] : .M.sub.i.logical() maybe inefficient\n",
      "\n"
     ]
    },
    {
     "name": "stdout",
     "output_type": "stream",
     "text": [
      "[1] 0.001572434\n"
     ]
    }
   ],
   "source": [
    "%%R\n",
    "\n",
    "beta_lasso_min = coef(glmnetout, s=cvglmout$lambda.min)\n",
    "beta_lasso_min_nz = beta_lasso_min[beta_lasso_min!=0]\n",
    "print(beta_lasso_min_nz)\n",
    "\n",
    "beta_lasso_1se = coef(glmnetout, s=cvglmout$lambda.1se)\n",
    "beta_lasso_1se_nz = beta_lasso_1se[beta_lasso_1se!=0]\n",
    "print(beta_lasso_1se_nz)\n"
   ]
  },
  {
   "cell_type": "code",
   "execution_count": 5,
   "metadata": {},
   "outputs": [],
   "source": [
    "%%R -o df\n",
    "\n",
    "summ = summary(beta_lasso_min)\n",
    "df <- data.frame(Origin=rownames(beta_lasso_min)[summ$i], Weight=summ$x)"
   ]
  },
  {
   "cell_type": "code",
   "execution_count": 6,
   "metadata": {},
   "outputs": [
    {
     "data": {
      "text/html": [
       "<div>\n",
       "<style scoped>\n",
       "    .dataframe tbody tr th:only-of-type {\n",
       "        vertical-align: middle;\n",
       "    }\n",
       "\n",
       "    .dataframe tbody tr th {\n",
       "        vertical-align: top;\n",
       "    }\n",
       "\n",
       "    .dataframe thead th {\n",
       "        text-align: right;\n",
       "    }\n",
       "</style>\n",
       "<table border=\"1\" class=\"dataframe\">\n",
       "  <thead>\n",
       "    <tr style=\"text-align: right;\">\n",
       "      <th></th>\n",
       "      <th>Origin</th>\n",
       "      <th>Weight</th>\n",
       "    </tr>\n",
       "  </thead>\n",
       "  <tbody>\n",
       "    <tr>\n",
       "      <th>1</th>\n",
       "      <td>(Intercept)</td>\n",
       "      <td>0.001643</td>\n",
       "    </tr>\n",
       "    <tr>\n",
       "      <th>2</th>\n",
       "      <td>growth</td>\n",
       "      <td>-0.000020</td>\n",
       "    </tr>\n",
       "    <tr>\n",
       "      <th>3</th>\n",
       "      <td>dow</td>\n",
       "      <td>-0.000032</td>\n",
       "    </tr>\n",
       "    <tr>\n",
       "      <th>4</th>\n",
       "      <td>stocks</td>\n",
       "      <td>-0.000005</td>\n",
       "    </tr>\n",
       "    <tr>\n",
       "      <th>5</th>\n",
       "      <td>invest</td>\n",
       "      <td>-0.000224</td>\n",
       "    </tr>\n",
       "    <tr>\n",
       "      <th>6</th>\n",
       "      <td>leverage</td>\n",
       "      <td>-0.000004</td>\n",
       "    </tr>\n",
       "    <tr>\n",
       "      <th>7</th>\n",
       "      <td>cash</td>\n",
       "      <td>-0.000989</td>\n",
       "    </tr>\n",
       "    <tr>\n",
       "      <th>8</th>\n",
       "      <td>returns</td>\n",
       "      <td>-0.000002</td>\n",
       "    </tr>\n",
       "    <tr>\n",
       "      <th>9</th>\n",
       "      <td>tourism</td>\n",
       "      <td>-0.000095</td>\n",
       "    </tr>\n",
       "    <tr>\n",
       "      <th>10</th>\n",
       "      <td>health</td>\n",
       "      <td>-0.000031</td>\n",
       "    </tr>\n",
       "    <tr>\n",
       "      <th>11</th>\n",
       "      <td>fine</td>\n",
       "      <td>-0.000043</td>\n",
       "    </tr>\n",
       "    <tr>\n",
       "      <th>12</th>\n",
       "      <td>restaurant</td>\n",
       "      <td>-0.000068</td>\n",
       "    </tr>\n",
       "  </tbody>\n",
       "</table>\n",
       "</div>"
      ],
      "text/plain": [
       "         Origin    Weight\n",
       "1   (Intercept)  0.001643\n",
       "2        growth -0.000020\n",
       "3           dow -0.000032\n",
       "4        stocks -0.000005\n",
       "5        invest -0.000224\n",
       "6      leverage -0.000004\n",
       "7          cash -0.000989\n",
       "8       returns -0.000002\n",
       "9       tourism -0.000095\n",
       "10       health -0.000031\n",
       "11         fine -0.000043\n",
       "12   restaurant -0.000068"
      ]
     },
     "execution_count": 6,
     "metadata": {},
     "output_type": "execute_result"
    }
   ],
   "source": [
    "df"
   ]
  }
 ],
 "metadata": {
  "kernelspec": {
   "display_name": "Python 3",
   "language": "python",
   "name": "python3"
  },
  "language_info": {
   "codemirror_mode": {
    "name": "ipython",
    "version": 3
   },
   "file_extension": ".py",
   "mimetype": "text/x-python",
   "name": "python",
   "nbconvert_exporter": "python",
   "pygments_lexer": "ipython3",
   "version": "3.7.8"
  },
  "toc-autonumbering": false,
  "toc-showcode": true
 },
 "nbformat": 4,
 "nbformat_minor": 4
}
