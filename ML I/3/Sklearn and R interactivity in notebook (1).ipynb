{
 "cells": [
  {
   "cell_type": "code",
   "execution_count": 1,
   "metadata": {},
   "outputs": [],
   "source": [
    "import numpy as np\n",
    "import pandas as pd\n",
    "import scipy.stats\n",
    "\n",
    "import matplotlib.pyplot as plt\n",
    "%matplotlib inline"
   ]
  },
  {
   "cell_type": "markdown",
   "metadata": {},
   "source": [
    "# Data Science in `Python`: `Numpy` and `Pandas`\n",
    "\n",
    "Unlike base `R`, base `Python` is much lighter on the structure you have available that `R`. Lucky there is 2 packages that contain a lot structure that is used in data analysis.\n",
    "\n",
    "## `Numpy`\n",
    "`Numpy` is a package which gives you access to `matrix` and `array` structure. The following are some examples of the strengths of `Numpy`. \n",
    "\n",
    "Note that we loaded in `Numpy` with \n",
    "\n",
    "`import numpy as np` \n",
    "\n",
    "so we must use `np.[function]` to use the functions of the `numpy` module.\n",
    "\n",
    "### Basic structure\n",
    "\n",
    "Below I show you \n",
    "1. How to make your own vectors and arrays,\n",
    "2. Shortcuts for arrays with ones or zeros (Extra: look up `np.diag` and try to make an identity matrix.)\n",
    "3. Integer Sequences (notice how they are different than `R`'s)\n",
    "4. Non - Integer ranges"
   ]
  },
  {
   "cell_type": "code",
   "execution_count": 2,
   "metadata": {},
   "outputs": [
    {
     "name": "stdout",
     "output_type": "stream",
     "text": [
      "vec\n",
      "[1 2 1 4] Shape: (4,)\n",
      "mat\n",
      "[[1. 0. 0.]\n",
      " [3. 2. 1.]] Shape: (2, 3)\n"
     ]
    }
   ],
   "source": [
    "# 1. making you own vectors and arrays\n",
    "vec = np.array([1,2,1,4])\n",
    "mat = np.array([[1.,0,0],\n",
    "                [3.,2.,1.]])\n",
    "print(\"vec\")\n",
    "print(vec, \"Shape:\", vec.shape)\n",
    "print(\"mat\")\n",
    "print(mat, \"Shape:\", mat.shape)"
   ]
  },
  {
   "cell_type": "code",
   "execution_count": 3,
   "metadata": {},
   "outputs": [
    {
     "name": "stdout",
     "output_type": "stream",
     "text": [
      "zero_vec\n",
      "[0. 0. 0.] Shape: (3,)\n",
      "one_mat\n",
      "[[1.]\n",
      " [1.]\n",
      " [1.]] Shape: (3, 1)\n"
     ]
    }
   ],
   "source": [
    "# 2. shortcuts for zeros and ones\n",
    "zero_vec = np.zeros(3)\n",
    "one_mat = np.ones((3,1))\n",
    "\n",
    "print(\"zero_vec\")\n",
    "print(zero_vec, \"Shape:\", zero_vec.shape)\n",
    "print(\"one_mat\")\n",
    "print(one_mat, \"Shape:\", one_mat.shape)"
   ]
  },
  {
   "cell_type": "code",
   "execution_count": 4,
   "metadata": {},
   "outputs": [
    {
     "name": "stdout",
     "output_type": "stream",
     "text": [
      "zero_idx_range\n",
      "[0 1 2 3 4] Shape: (5,)\n",
      "one_idx_range\n",
      "[1 2 3 4 5] Shape: (5,)\n"
     ]
    }
   ],
   "source": [
    "# 3. Integer sequences\n",
    "zero_idx_range = np.arange(5) # note it doesn't include 5 (but does include 0)\n",
    "one_idx_range = np.arange(1,6)\n",
    "\n",
    "print(\"zero_idx_range\")\n",
    "print(zero_idx_range, \"Shape:\", zero_idx_range.shape)\n",
    "print(\"one_idx_range\")\n",
    "print(one_idx_range, \"Shape:\", one_idx_range.shape)"
   ]
  },
  {
   "cell_type": "code",
   "execution_count": 5,
   "metadata": {},
   "outputs": [
    {
     "name": "stdout",
     "output_type": "stream",
     "text": [
      "tenth:\n",
      "[0.  0.1 0.2 0.3 0.4 0.5 0.6 0.7 0.8 0.9 1. ] Shape: (11,)\n"
     ]
    }
   ],
   "source": [
    "# 4. non-integer ranges\n",
    "tenth = np.linspace(0,1,num = 11) # 11 numbers\n",
    "\n",
    "print(\"tenth:\")\n",
    "print(tenth, \"Shape:\", tenth.shape)"
   ]
  },
  {
   "cell_type": "markdown",
   "metadata": {},
   "source": [
    "### basic matrix operations and transformations\n",
    "\n",
    "If we would like to transpose a matrix `X` we use `X.T`, if you would like matrix multiplication we do `X.dot(Y)`.\n",
    "\n",
    "If you'd like to reshape a matrix, you can use `X.reshape((a,b))` if you'd like a matrix to turn into a vector you can do `X.ravel()`. "
   ]
  },
  {
   "cell_type": "code",
   "execution_count": 6,
   "metadata": {},
   "outputs": [
    {
     "name": "stdout",
     "output_type": "stream",
     "text": [
      "vec: [1 2 1 4] Shape: (4,)\n",
      "vec_t: [1 2 1 4] Shape: (4,)\n",
      "\n",
      "\n",
      "mat: \n",
      " [[1. 0. 0.]\n",
      " [3. 2. 1.]] Shape: (2, 3)\n",
      "mat_t: \n",
      " [[1. 3.]\n",
      " [0. 2.]\n",
      " [0. 1.]] Shape: (3, 2)\n"
     ]
    }
   ],
   "source": [
    "vec_t = vec.T\n",
    "\n",
    "print(\"vec:\", vec, \"Shape:\", vec.shape)\n",
    "print(\"vec_t:\", vec_t, \"Shape:\", vec_t.shape)\n",
    "\n",
    "print(\"\\n\")\n",
    "\n",
    "mat_t = mat.T\n",
    "print(\"mat: \\n\", mat, \"Shape:\", mat.shape)\n",
    "print(\"mat_t: \\n\", mat_t, \"Shape:\", mat_t.shape)\n",
    "\n"
   ]
  },
  {
   "cell_type": "code",
   "execution_count": 7,
   "metadata": {},
   "outputs": [
    {
     "name": "stdout",
     "output_type": "stream",
     "text": [
      "mat.dot(one_mat)\n",
      " [[1. 0. 0.]\n",
      " [3. 2. 1.]] \n",
      "**dot**\n",
      " [[1.]\n",
      " [1.]\n",
      " [1.]] \n",
      " = \n",
      " [[1.]\n",
      " [6.]]\n"
     ]
    }
   ],
   "source": [
    "mat_mult = mat.dot(one_mat)\n",
    "print(\"mat.dot(one_mat)\\n\",\n",
    "     mat, \"\\n**dot**\\n\", one_mat,\n",
    "     \"\\n = \\n\",\n",
    "     mat_mult)"
   ]
  },
  {
   "cell_type": "code",
   "execution_count": 8,
   "metadata": {},
   "outputs": [
    {
     "name": "stdout",
     "output_type": "stream",
     "text": [
      "vec: [1 2 1 4] Shape: [1 2 1 4]\n",
      "vec_to_mat:\n",
      " [[1 2]\n",
      " [1 4]] Shape: (2, 2)\n"
     ]
    }
   ],
   "source": [
    "vec_to_mat = vec_t.reshape((2,2))\n",
    "\n",
    "print(\"vec:\", vec, \"Shape:\", vec)\n",
    "print(\"vec_to_mat:\\n\",vec_to_mat, \"Shape:\", vec_to_mat.shape)\n"
   ]
  },
  {
   "cell_type": "code",
   "execution_count": 9,
   "metadata": {},
   "outputs": [
    {
     "name": "stdout",
     "output_type": "stream",
     "text": [
      "mat:\n",
      " [[1. 0. 0.]\n",
      " [3. 2. 1.]] Shape: (2, 3)\n",
      "mat_to_vec: [1. 0. 0. 3. 2. 1.] Shape: (6,)\n"
     ]
    }
   ],
   "source": [
    "mat_to_vec = mat.ravel()\n",
    "\n",
    "print(\"mat:\\n\", mat, \"Shape:\", mat.shape)\n",
    "print(\"mat_to_vec:\",mat_to_vec, \"Shape:\", mat_to_vec.shape)"
   ]
  },
  {
   "cell_type": "markdown",
   "metadata": {},
   "source": [
    "### Basic functions on matrices\n",
    "\n",
    "We can summary style functions on `np.array`s in multiple ways. We provide examples with \n",
    "1. `np.sum`,\n",
    "2. `np.mean`\n",
    "3. and raising a matrix (element-wise) to a higher power (this can extend to element-wise multiplication, etc)."
   ]
  },
  {
   "cell_type": "code",
   "execution_count": 10,
   "metadata": {},
   "outputs": [
    {
     "name": "stdout",
     "output_type": "stream",
     "text": [
      "full_sum: 8\n",
      "col_sum:\n",
      "[2 6] Shape: (2,)\n"
     ]
    }
   ],
   "source": [
    "# 1. sum\n",
    "full_sum = np.sum(vec_to_mat) # overall sum\n",
    "col_sum = np.sum(vec_to_mat,axis = 0) # axis = 0 is by column, axis = 1 is by row \n",
    "\n",
    "## this can also be done:\n",
    "\n",
    "full_sum = vec_to_mat.sum()\n",
    "col_sum = vec_to_mat.sum(axis = 0)\n",
    "\n",
    "print(\"full_sum:\", full_sum)\n",
    "print(\"col_sum:\")\n",
    "print(col_sum, \"Shape:\", col_sum.shape)"
   ]
  },
  {
   "cell_type": "code",
   "execution_count": 11,
   "metadata": {},
   "outputs": [
    {
     "name": "stdout",
     "output_type": "stream",
     "text": [
      "row_mean:\n",
      "[1.5 2.5] Shape: (2,)\n"
     ]
    }
   ],
   "source": [
    "# 2. np.mean\n",
    "row_mean = np.mean(vec_to_mat, axis = 1)\n",
    "# or\n",
    "row_mean = vec_to_mat.mean(axis = 1)\n",
    "\n",
    "print(\"row_mean:\")\n",
    "print(row_mean, \"Shape:\", row_mean.shape)"
   ]
  },
  {
   "cell_type": "code",
   "execution_count": 12,
   "metadata": {},
   "outputs": [
    {
     "data": {
      "text/plain": [
       "array([[ 1,  4],\n",
       "       [ 1, 16]])"
      ]
     },
     "execution_count": 12,
     "metadata": {},
     "output_type": "execute_result"
    }
   ],
   "source": [
    "# 3. element-wise power\n",
    "vec_to_mat ** 2"
   ]
  },
  {
   "cell_type": "markdown",
   "metadata": {},
   "source": [
    "### Subsetting in `numpy`\n",
    "Note that subsetting in `pandas` is different. Remember that python is **Zero-indexed**."
   ]
  },
  {
   "cell_type": "code",
   "execution_count": 13,
   "metadata": {},
   "outputs": [
    {
     "data": {
      "text/plain": [
       "1.0"
      ]
     },
     "execution_count": 13,
     "metadata": {},
     "output_type": "execute_result"
    }
   ],
   "source": [
    "#First element in mat_to_vec:\n",
    "mat_to_vec[0]\n",
    "#Last element in mat_to_vec:\n",
    "mat_to_vec[-1]"
   ]
  },
  {
   "cell_type": "code",
   "execution_count": 14,
   "metadata": {},
   "outputs": [
    {
     "data": {
      "text/plain": [
       "2"
      ]
     },
     "execution_count": 14,
     "metadata": {},
     "output_type": "execute_result"
    }
   ],
   "source": [
    "# Element in the 1st row and 2nd column of vec_to_mat:\n",
    "vec_to_mat[0,1]"
   ]
  },
  {
   "cell_type": "code",
   "execution_count": 15,
   "metadata": {},
   "outputs": [
    {
     "data": {
      "text/plain": [
       "array([2, 4])"
      ]
     },
     "execution_count": 15,
     "metadata": {},
     "output_type": "execute_result"
    }
   ],
   "source": [
    "# taking the full second column of vec_to_mat:\n",
    "vec_to_mat[:,1]"
   ]
  },
  {
   "cell_type": "markdown",
   "metadata": {},
   "source": [
    "### Moving between lists, and different types of matrix\n",
    "\n",
    "All the above examples have used integers (and the last part showed that the `np.array` could hold floats. We can also hold strings. Note: you have to be specific if you'd like to hold both (think `pandas` if you would like to hold both)."
   ]
  },
  {
   "cell_type": "code",
   "execution_count": 16,
   "metadata": {},
   "outputs": [
    {
     "name": "stdout",
     "output_type": "stream",
     "text": [
      "['Ben' 'gets' 'bored' 'if' 'no' 'one' 'goes' 'to' 'OHs']\n"
     ]
    }
   ],
   "source": [
    "str_list = [\"Ben\", \"gets\", \"bored\", \"if\", \"no\", \"one\", \"goes\", \"to\", \"OHs\"]\n",
    "\n",
    "str_array = np.array(str_list)\n",
    "print(str_array)"
   ]
  },
  {
   "cell_type": "code",
   "execution_count": 17,
   "metadata": {},
   "outputs": [
    {
     "name": "stdout",
     "output_type": "stream",
     "text": [
      "[['Ben' 'gets' 'bored' 'if' 'no' 'one' 'goes' 'to' 'OHs']\n",
      " [0 1 2 3 4 5 6 7 8]]\n",
      "[['Ben' 'gets' 'bored' 'if' 'no' 'one' 'goes' 'to' 'OHs']\n",
      " ['0' '1' '2' '3' '4' '5' '6' '7' '8']]\n"
     ]
    }
   ],
   "source": [
    "basic_num = np.arange(9)\n",
    "\n",
    "str_and_int = np.array([str_array, basic_num], dtype = np.object) \n",
    "#^ dtype needs to be np.object\n",
    "print(str_and_int)\n",
    "just_str = np.array([str_array, basic_num])\n",
    "print(just_str)"
   ]
  },
  {
   "cell_type": "markdown",
   "metadata": {},
   "source": [
    "### Covert `numpy` to `pandas`:"
   ]
  },
  {
   "cell_type": "code",
   "execution_count": 18,
   "metadata": {},
   "outputs": [
    {
     "data": {
      "text/html": [
       "<div>\n",
       "<style scoped>\n",
       "    .dataframe tbody tr th:only-of-type {\n",
       "        vertical-align: middle;\n",
       "    }\n",
       "\n",
       "    .dataframe tbody tr th {\n",
       "        vertical-align: top;\n",
       "    }\n",
       "\n",
       "    .dataframe thead th {\n",
       "        text-align: right;\n",
       "    }\n",
       "</style>\n",
       "<table border=\"1\" class=\"dataframe\">\n",
       "  <thead>\n",
       "    <tr style=\"text-align: right;\">\n",
       "      <th></th>\n",
       "      <th>String</th>\n",
       "      <th>Integer</th>\n",
       "    </tr>\n",
       "  </thead>\n",
       "  <tbody>\n",
       "    <tr>\n",
       "      <th>0</th>\n",
       "      <td>Ben</td>\n",
       "      <td>0</td>\n",
       "    </tr>\n",
       "    <tr>\n",
       "      <th>1</th>\n",
       "      <td>gets</td>\n",
       "      <td>1</td>\n",
       "    </tr>\n",
       "    <tr>\n",
       "      <th>2</th>\n",
       "      <td>bored</td>\n",
       "      <td>2</td>\n",
       "    </tr>\n",
       "    <tr>\n",
       "      <th>3</th>\n",
       "      <td>if</td>\n",
       "      <td>3</td>\n",
       "    </tr>\n",
       "    <tr>\n",
       "      <th>4</th>\n",
       "      <td>no</td>\n",
       "      <td>4</td>\n",
       "    </tr>\n",
       "    <tr>\n",
       "      <th>5</th>\n",
       "      <td>one</td>\n",
       "      <td>5</td>\n",
       "    </tr>\n",
       "    <tr>\n",
       "      <th>6</th>\n",
       "      <td>goes</td>\n",
       "      <td>6</td>\n",
       "    </tr>\n",
       "    <tr>\n",
       "      <th>7</th>\n",
       "      <td>to</td>\n",
       "      <td>7</td>\n",
       "    </tr>\n",
       "    <tr>\n",
       "      <th>8</th>\n",
       "      <td>OHs</td>\n",
       "      <td>8</td>\n",
       "    </tr>\n",
       "  </tbody>\n",
       "</table>\n",
       "</div>"
      ],
      "text/plain": [
       "  String Integer\n",
       "0    Ben       0\n",
       "1   gets       1\n",
       "2  bored       2\n",
       "3     if       3\n",
       "4     no       4\n",
       "5    one       5\n",
       "6   goes       6\n",
       "7     to       7\n",
       "8    OHs       8"
      ]
     },
     "execution_count": 18,
     "metadata": {},
     "output_type": "execute_result"
    }
   ],
   "source": [
    "str_and_int_pd = pd.DataFrame(str_and_int.T, columns = [\"String\", \"Integer\"])\n",
    "str_and_int_pd"
   ]
  },
  {
   "cell_type": "markdown",
   "metadata": {},
   "source": [
    "# Understanding / thinking about `Sklearn` usage\n",
    "\n",
    "`Sklearn` is a `python` based package. That means `class` based code functionality. We will give you an example that showcases some of `Sklearn`'s organization. `Sklearn`'s website [scikit-learn.org/](http://scikit-learn.org/) provides good examples and should definitely be visited throughout this semester.\n",
    "\n",
    "## Linear Regression\n",
    "\n",
    "Linear Regression in `Sklearn` is stored within `linear_model` module. "
   ]
  },
  {
   "cell_type": "code",
   "execution_count": 19,
   "metadata": {},
   "outputs": [],
   "source": [
    "from sklearn import linear_model"
   ]
  },
  {
   "cell_type": "markdown",
   "metadata": {},
   "source": [
    "You **first** set up a descriptor of the technique you would like to use. For regression you don't have a lot of useful options, but parameters include\n",
    "\n",
    "`fit_intercept=True` and `normalize=False`\n",
    "which tell your whether you include and intercept in the model and if you normalize the $X$ matrix first."
   ]
  },
  {
   "cell_type": "code",
   "execution_count": 20,
   "metadata": {
    "run_control": {
     "marked": false
    }
   },
   "outputs": [],
   "source": [
    "lin_reg = linear_model.LinearRegression()"
   ]
  },
  {
   "cell_type": "markdown",
   "metadata": {},
   "source": [
    "**Let's set up and $X$ and $y$:**\n",
    "\n",
    "Notice that `scipy.stats` also uses this `class` base structure where attributes are first generalized in a larger class and then applied in later functionalities."
   ]
  },
  {
   "cell_type": "code",
   "execution_count": 21,
   "metadata": {},
   "outputs": [],
   "source": [
    "scipy.random.seed(927) # for reproducibility \n",
    "\n",
    "gaussian_3d = scipy.stats.multivariate_normal(mean = np.zeros(3),\n",
    "                                    cov = np.diag(np.ones(3)))\n",
    "gaussian_1d = scipy.stats.multivariate_normal(mean = np.zeros(1),\n",
    "                                    cov = 1)\n",
    "X = gaussian_3d.rvs(size = 100)\n",
    "beta = np.array([1,5,0])\n",
    "\n",
    "y = X.dot(beta) + gaussian_1d.rvs(size = 100)"
   ]
  },
  {
   "cell_type": "markdown",
   "metadata": {},
   "source": [
    "**Now**, let's train the model:"
   ]
  },
  {
   "cell_type": "code",
   "execution_count": 22,
   "metadata": {},
   "outputs": [],
   "source": [
    "lm_output = lin_reg.fit(X = X,y = y)"
   ]
  },
  {
   "cell_type": "markdown",
   "metadata": {},
   "source": [
    "`lm_output` contains some information you would find in `R`'s `lm` output, for example: \n",
    "\n",
    "$\\hat{\\beta}$ (`lm_output.coef_`):  "
   ]
  },
  {
   "cell_type": "code",
   "execution_count": 23,
   "metadata": {},
   "outputs": [
    {
     "data": {
      "text/plain": [
       "array([ 0.9118,  4.8058, -0.0518])"
      ]
     },
     "execution_count": 23,
     "metadata": {},
     "output_type": "execute_result"
    }
   ],
   "source": [
    "beta_hat = lm_output.coef_\n",
    "np.round(beta_hat,4)"
   ]
  },
  {
   "cell_type": "markdown",
   "metadata": {},
   "source": [
    "But a lot of summary attributes can be extracted with other libraries in `Sklearn`. `lm_output` also provides use a way to predict on new $X$ or even the $X$ we trained on:"
   ]
  },
  {
   "cell_type": "code",
   "execution_count": 24,
   "metadata": {},
   "outputs": [
    {
     "data": {
      "image/png": "[encoded data removed]",
      "text/plain": [
       "<Figure size 432x288 with 1 Axes>"
      ]
     },
     "metadata": {
      "needs_background": "light"
     },
     "output_type": "display_data"
    }
   ],
   "source": [
    "yhat = lm_output.predict(X)\n",
    "\n",
    "# basic graphic:\n",
    "fig, ax = plt.subplots()\n",
    "ax.scatter(y, yhat)\n",
    "ax.set(xlabel = r\"$y$\",\n",
    "       ylabel = r\"$\\hat{y}$\",\n",
    "       title = r\"$y$ vs $\\hat{y}$\");"
   ]
  },
  {
   "cell_type": "markdown",
   "metadata": {},
   "source": [
    "**Need $R^2$, $MSE$ or other metrics?** `Sklearn` stores those in the `sklearn.metrics` module. "
   ]
  },
  {
   "cell_type": "code",
   "execution_count": 25,
   "metadata": {},
   "outputs": [
    {
     "data": {
      "text/html": [
       "<div>\n",
       "<style scoped>\n",
       "    .dataframe tbody tr th:only-of-type {\n",
       "        vertical-align: middle;\n",
       "    }\n",
       "\n",
       "    .dataframe tbody tr th {\n",
       "        vertical-align: top;\n",
       "    }\n",
       "\n",
       "    .dataframe thead th {\n",
       "        text-align: right;\n",
       "    }\n",
       "</style>\n",
       "<table border=\"1\" class=\"dataframe\">\n",
       "  <thead>\n",
       "    <tr style=\"text-align: right;\">\n",
       "      <th></th>\n",
       "      <th>names</th>\n",
       "      <th>metrics</th>\n",
       "    </tr>\n",
       "  </thead>\n",
       "  <tbody>\n",
       "    <tr>\n",
       "      <th>0</th>\n",
       "      <td>R^2</td>\n",
       "      <td>0.967</td>\n",
       "    </tr>\n",
       "    <tr>\n",
       "      <th>1</th>\n",
       "      <td>MSE</td>\n",
       "      <td>0.814</td>\n",
       "    </tr>\n",
       "  </tbody>\n",
       "</table>\n",
       "</div>"
      ],
      "text/plain": [
       "  names  metrics\n",
       "0   R^2    0.967\n",
       "1   MSE    0.814"
      ]
     },
     "execution_count": 25,
     "metadata": {},
     "output_type": "execute_result"
    }
   ],
   "source": [
    "from sklearn.metrics import r2_score, mean_squared_error\n",
    "\n",
    "r2 = r2_score(y, yhat)\n",
    "mse = mean_squared_error(y, yhat)\n",
    "\n",
    "\n",
    "df_metrics = pd.DataFrame({\"names\": [\"R^2\",\"MSE\"],\"metrics\": np.round([r2, mse],3)},\n",
    "                         columns = [\"names\",\"metrics\"])\n",
    "df_metrics"
   ]
  },
  {
   "cell_type": "markdown",
   "metadata": {},
   "source": [
    "Just a Random example of a inputed table:\n",
    "\n",
    "$R^2$ | MSE \n",
    "--- | ---\n",
    "0.967| 0.814"
   ]
  },
  {
   "cell_type": "markdown",
   "metadata": {},
   "source": [
    "**Sadly `Sklearn`'s linear regression code doesn't provide summary statistics we are used to in `R` (which is why we are also showing you `StatsModels`. **\n",
    "\n",
    "Although I'm not going to generate an example `Sklearn` also has a **Cross Validation** module that is a good add on."
   ]
  },
  {
   "cell_type": "markdown",
   "metadata": {},
   "source": [
    "---\n",
    "\n",
    "---"
   ]
  },
  {
   "cell_type": "markdown",
   "metadata": {},
   "source": [
    "# Working with R in `jupyter` notebooks\n",
    "\n",
    "In this section, we give examples of using `rpy2`, the `%%R magic`, and `rpy2.robjects`'s `pandas2ri`. \n",
    "\n",
    "You'll find you can use `R` write in the `jupyter` notebook, with the ability to move `pandas` `Data Frame` in (and out) of the `R` environment. \n",
    "\n",
    "The following example `ggplot` in `R` as well as `tidyverse` in `R` function. Although the extra visualizations showed that there is a `ggplot` for `python` - feel free to lean back on `R` graphics."
   ]
  },
  {
   "cell_type": "markdown",
   "metadata": {},
   "source": [
    "## Just setting up a `pd.DataFrame`  to pipe in"
   ]
  },
  {
   "cell_type": "code",
   "execution_count": 26,
   "metadata": {
    "scrolled": true
   },
   "outputs": [
    {
     "data": {
      "text/html": [
       "<div>\n",
       "<style scoped>\n",
       "    .dataframe tbody tr th:only-of-type {\n",
       "        vertical-align: middle;\n",
       "    }\n",
       "\n",
       "    .dataframe tbody tr th {\n",
       "        vertical-align: top;\n",
       "    }\n",
       "\n",
       "    .dataframe thead th {\n",
       "        text-align: right;\n",
       "    }\n",
       "</style>\n",
       "<table border=\"1\" class=\"dataframe\">\n",
       "  <thead>\n",
       "    <tr style=\"text-align: right;\">\n",
       "      <th></th>\n",
       "      <th>Name</th>\n",
       "      <th>Sex</th>\n",
       "      <th>Height</th>\n",
       "    </tr>\n",
       "  </thead>\n",
       "  <tbody>\n",
       "    <tr>\n",
       "      <th>0</th>\n",
       "      <td>Bob</td>\n",
       "      <td>M</td>\n",
       "      <td>72</td>\n",
       "    </tr>\n",
       "    <tr>\n",
       "      <th>1</th>\n",
       "      <td>Jill</td>\n",
       "      <td>F</td>\n",
       "      <td>65</td>\n",
       "    </tr>\n",
       "    <tr>\n",
       "      <th>2</th>\n",
       "      <td>Billy</td>\n",
       "      <td>M</td>\n",
       "      <td>73</td>\n",
       "    </tr>\n",
       "    <tr>\n",
       "      <th>3</th>\n",
       "      <td>Gary</td>\n",
       "      <td>M</td>\n",
       "      <td>65</td>\n",
       "    </tr>\n",
       "    <tr>\n",
       "      <th>4</th>\n",
       "      <td>Susan</td>\n",
       "      <td>F</td>\n",
       "      <td>63</td>\n",
       "    </tr>\n",
       "    <tr>\n",
       "      <th>5</th>\n",
       "      <td>Sarah</td>\n",
       "      <td>F</td>\n",
       "      <td>68</td>\n",
       "    </tr>\n",
       "    <tr>\n",
       "      <th>6</th>\n",
       "      <td>Aaron</td>\n",
       "      <td>M</td>\n",
       "      <td>67</td>\n",
       "    </tr>\n",
       "  </tbody>\n",
       "</table>\n",
       "</div>"
      ],
      "text/plain": [
       "    Name Sex  Height\n",
       "0    Bob   M      72\n",
       "1   Jill   F      65\n",
       "2  Billy   M      73\n",
       "3   Gary   M      65\n",
       "4  Susan   F      63\n",
       "5  Sarah   F      68\n",
       "6  Aaron   M      67"
      ]
     },
     "execution_count": 26,
     "metadata": {},
     "output_type": "execute_result"
    }
   ],
   "source": [
    "d = {\"Name\": [\"Bob\",\"Jill\",\"Billy\",\"Gary\",\"Susan\",\"Sarah\",\"Aaron\"],\n",
    "    \"Sex\":   [\"M\"  ,\"F\"   ,\"M\"    ,\"M\"   ,\"F\"    ,\"F\"    ,\"M\"],\n",
    "    \"Height\":[72   ,65    ,73     , 65   , 63    , 68    , 67]}\n",
    "\n",
    "df = pd.DataFrame(data = d,columns = [\"Name\",\"Sex\",\"Height\"])\n",
    "df"
   ]
  },
  {
   "cell_type": "markdown",
   "metadata": {},
   "source": [
    "## Ability to use `%%R` Magic comes from the following lines"
   ]
  },
  {
   "cell_type": "code",
   "execution_count": 27,
   "metadata": {},
   "outputs": [],
   "source": [
    "import rpy2\n",
    "%load_ext rpy2.ipython"
   ]
  },
  {
   "cell_type": "markdown",
   "metadata": {},
   "source": [
    "### Example of using `%%R` and piping in the `pd.DataFrame` `df`"
   ]
  },
  {
   "cell_type": "code",
   "execution_count": 28,
   "metadata": {},
   "outputs": [
    {
     "name": "stderr",
     "output_type": "stream",
     "text": [
      "R[write to console]: ── \u001b[1mAttaching packages\u001b[22m ─────────────────────────────────────── tidyverse 1.3.0 ──\n",
      "\n",
      "R[write to console]: \u001b[32m✔\u001b[39m \u001b[34mggplot2\u001b[39m 3.3.2     \u001b[32m✔\u001b[39m \u001b[34mpurrr  \u001b[39m 0.3.4\n",
      "\u001b[32m✔\u001b[39m \u001b[34mtibble \u001b[39m 3.0.4     \u001b[32m✔\u001b[39m \u001b[34mdplyr  \u001b[39m 1.0.2\n",
      "\u001b[32m✔\u001b[39m \u001b[34mtidyr  \u001b[39m 1.1.2     \u001b[32m✔\u001b[39m \u001b[34mstringr\u001b[39m 1.4.0\n",
      "\u001b[32m✔\u001b[39m \u001b[34mreadr  \u001b[39m 1.4.0     \u001b[32m✔\u001b[39m \u001b[34mforcats\u001b[39m 0.5.0\n",
      "\n",
      "R[write to console]: ── \u001b[1mConflicts\u001b[22m ────────────────────────────────────────── tidyverse_conflicts() ──\n",
      "\u001b[31m✖\u001b[39m \u001b[34mdplyr\u001b[39m::\u001b[32mfilter()\u001b[39m masks \u001b[34mstats\u001b[39m::filter()\n",
      "\u001b[31m✖\u001b[39m \u001b[34mdplyr\u001b[39m::\u001b[32mlag()\u001b[39m    masks \u001b[34mstats\u001b[39m::lag()\n",
      "\n"
     ]
    },
    {
     "data": {
      "image/png": "[encoded data removed]"
     },
     "metadata": {},
     "output_type": "display_data"
    }
   ],
   "source": [
    "%%R -i df\n",
    "#^ see how we did that (it passes the df data frame into R)\n",
    "library(tidyverse)\n",
    "library(forcats)\n",
    "\n",
    "ggplot(df,aes(x = fct_reorder(Name,Height), y = Height, \n",
    "              fill = factor(Sex))) + \n",
    "    geom_bar(stat = \"identity\") + \n",
    "    coord_flip() +\n",
    "    labs(x = \"Height\",\n",
    "         y = \"Name\",\n",
    "         fill = \"Gender\",\n",
    "         title = \"Random Plot to showcase R stuffs\")\n"
   ]
  },
  {
   "cell_type": "markdown",
   "metadata": {},
   "source": [
    "### Example of using `%%R` and piping in the `pd.DataFrame` `df` and pipe out random_summary\n",
    "\n",
    "The next section pipes back the output `R` `data.frame` and converts it to a `pd.DataFrame`"
   ]
  },
  {
   "cell_type": "code",
   "execution_count": 29,
   "metadata": {},
   "outputs": [
    {
     "name": "stdout",
     "output_type": "stream",
     "text": [
      "`summarise()` ungrouping output (override with `.groups` argument)\n"
     ]
    }
   ],
   "source": [
    "%%R -i df -o random_summary\n",
    "# ^we're now bringing in df and outputting random_summary\n",
    "\n",
    "# lets make some easy calculations\n",
    "random_summary <- df %>% \n",
    "                    group_by(Sex) %>% \n",
    "                    summarize(h = mean(Height))"
   ]
  },
  {
   "cell_type": "code",
   "execution_count": 30,
   "metadata": {},
   "outputs": [
    {
     "data": {
      "text/html": [
       "<div>\n",
       "<style scoped>\n",
       "    .dataframe tbody tr th:only-of-type {\n",
       "        vertical-align: middle;\n",
       "    }\n",
       "\n",
       "    .dataframe tbody tr th {\n",
       "        vertical-align: top;\n",
       "    }\n",
       "\n",
       "    .dataframe thead th {\n",
       "        text-align: right;\n",
       "    }\n",
       "</style>\n",
       "<table border=\"1\" class=\"dataframe\">\n",
       "  <thead>\n",
       "    <tr style=\"text-align: right;\">\n",
       "      <th></th>\n",
       "      <th>Sex</th>\n",
       "      <th>h</th>\n",
       "    </tr>\n",
       "  </thead>\n",
       "  <tbody>\n",
       "    <tr>\n",
       "      <th>1</th>\n",
       "      <td>F</td>\n",
       "      <td>65.333333</td>\n",
       "    </tr>\n",
       "    <tr>\n",
       "      <th>2</th>\n",
       "      <td>M</td>\n",
       "      <td>69.250000</td>\n",
       "    </tr>\n",
       "  </tbody>\n",
       "</table>\n",
       "</div>"
      ],
      "text/plain": [
       "  Sex          h\n",
       "1   F  65.333333\n",
       "2   M  69.250000"
      ]
     },
     "execution_count": 30,
     "metadata": {},
     "output_type": "execute_result"
    }
   ],
   "source": [
    "random_summary"
   ]
  },
  {
   "cell_type": "markdown",
   "metadata": {},
   "source": [
    "Note: In some circumstances, you need to manually convert the converted data frames back to pandas data frames.\n",
    "    See https://rpy2.github.io/doc/v3.0.x/html/generated_rst/pandas.html"
   ]
  }
 ],
 "metadata": {
  "hide_input": false,
  "kernelspec": {
   "display_name": "Python 3",
   "language": "python",
   "name": "python3"
  },
  "language_info": {
   "codemirror_mode": {
    "name": "ipython",
    "version": 3
   },
   "file_extension": ".py",
   "mimetype": "text/x-python",
   "name": "python",
   "nbconvert_exporter": "python",
   "pygments_lexer": "ipython3",
   "version": "3.7.8"
  },
  "toc": {
   "nav_menu": {},
   "number_sections": true,
   "sideBar": true,
   "skip_h1_title": false,
   "toc_cell": false,
   "toc_position": {
    "height": "692px",
    "left": "0px",
    "right": "1082px",
    "top": "111px",
    "width": "358px"
   },
   "toc_section_display": "block",
   "toc_window_display": false
  },
  "toc-autonumbering": true
 },
 "nbformat": 4,
 "nbformat_minor": 4
}
