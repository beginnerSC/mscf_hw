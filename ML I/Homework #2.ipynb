{
 "cells": [
  {
   "cell_type": "markdown",
   "metadata": {},
   "source": [
    "\\begin{center} \n",
    "Chun-Yuan (Scott) Chiu \n",
    "\\end{center}\n",
    "\n",
    "\\begin{center} \n",
    "chunyuac@andrew.cmu.edu \n",
    "\\end{center} "
   ]
  },
  {
   "cell_type": "code",
   "execution_count": 13,
   "metadata": {},
   "outputs": [
    {
     "data": {},
     "metadata": {},
     "output_type": "display_data"
    },
    {
     "data": {
      "application/vnd.holoviews_exec.v0+json": "",
      "text/html": [
       "<div id='4495'>\n",
       "\n",
       "\n",
       "\n",
       "\n",
       "\n",
       "  <div class=\"bk-root\" id=\"f29b9b9a-f2c9-4706-8866-c6fba991f6cf\" data-root-id=\"4495\"></div>\n",
       "</div>\n",
       "<script type=\"application/javascript\">(function(root) {\n",
       "  function embed_document(root) {\n",
       "    var docs_json = {\"a3de947e-f739-4fe9-9b25-889872bc9fd8\":{\"roots\":{\"references\":[{\"attributes\":{},\"id\":\"4519\",\"type\":\"PanTool\"},{\"attributes\":{\"callback\":null,\"renderers\":[{\"id\":\"4663\"},{\"id\":\"4671\"}],\"tags\":[\"hv_created\"],\"tooltips\":[[\"x\",\"@{x}\"],[\"y\",\"@{y}\"]]},\"id\":\"4621\",\"type\":\"HoverTool\"},{\"attributes\":{},\"id\":\"4520\",\"type\":\"WheelZoomTool\"},{\"attributes\":{\"bottom_units\":\"screen\",\"fill_alpha\":0.5,\"fill_color\":\"lightgrey\",\"left_units\":\"screen\",\"level\":\"overlay\",\"line_alpha\":1.0,\"line_color\":\"black\",\"line_dash\":[4,4],\"line_width\":2,\"right_units\":\"screen\",\"top_units\":\"screen\"},\"id\":\"4645\",\"type\":\"BoxAnnotation\"},{\"attributes\":{},\"id\":\"4656\",\"type\":\"BasicTickFormatter\"},{\"attributes\":{\"children\":[[{\"id\":\"4501\"},0,0],[{\"id\":\"4623\"},0,1]]},\"id\":\"4765\",\"type\":\"GridBox\"},{\"attributes\":{\"overlay\":{\"id\":\"4523\"}},\"id\":\"4521\",\"type\":\"BoxZoomTool\"},{\"attributes\":{\"callback\":null,\"renderers\":[{\"id\":\"4541\"},{\"id\":\"4549\"}],\"tags\":[\"hv_created\"],\"tooltips\":[[\"x\",\"@{x}\"],[\"y\",\"@{y}\"]]},\"id\":\"4499\",\"type\":\"HoverTool\"},{\"attributes\":{},\"id\":\"4630\",\"type\":\"LinearScale\"},{\"attributes\":{},\"id\":\"4522\",\"type\":\"ResetTool\"},{\"attributes\":{},\"id\":\"4654\",\"type\":\"BasicTickFormatter\"},{\"attributes\":{},\"id\":\"4666\",\"type\":\"Selection\"},{\"attributes\":{\"data_source\":{\"id\":\"4657\"},\"glyph\":{\"id\":\"4660\"},\"hover_glyph\":null,\"muted_glyph\":{\"id\":\"4662\"},\"nonselection_glyph\":{\"id\":\"4661\"},\"selection_glyph\":null,\"view\":{\"id\":\"4664\"}},\"id\":\"4663\",\"type\":\"GlyphRenderer\"},{\"attributes\":{},\"id\":\"4658\",\"type\":\"Selection\"},{\"attributes\":{},\"id\":\"4532\",\"type\":\"BasicTickFormatter\"},{\"attributes\":{\"fill_alpha\":{\"value\":0.1},\"fill_color\":{\"value\":\"blue\"},\"line_alpha\":{\"value\":0.1},\"line_color\":{\"value\":\"blue\"},\"size\":{\"units\":\"screen\",\"value\":5.477225575051661},\"x\":{\"field\":\"x\"},\"y\":{\"field\":\"y\"}},\"id\":\"4661\",\"type\":\"Scatter\"},{\"attributes\":{\"below\":[{\"id\":\"4632\"}],\"center\":[{\"id\":\"4635\"},{\"id\":\"4639\"}],\"left\":[{\"id\":\"4636\"}],\"margin\":null,\"min_border_bottom\":10,\"min_border_left\":10,\"min_border_right\":10,\"min_border_top\":10,\"plot_height\":300,\"plot_width\":700,\"renderers\":[{\"id\":\"4663\"},{\"id\":\"4671\"}],\"sizing_mode\":\"fixed\",\"title\":{\"id\":\"4624\"},\"toolbar\":{\"id\":\"4646\"},\"toolbar_location\":null,\"x_range\":{\"id\":\"4497\"},\"x_scale\":{\"id\":\"4628\"},\"y_range\":{\"id\":\"4498\"},\"y_scale\":{\"id\":\"4630\"}},\"id\":\"4623\",\"subtype\":\"Figure\",\"type\":\"Plot\"},{\"attributes\":{\"source\":{\"id\":\"4657\"}},\"id\":\"4664\",\"type\":\"CDSView\"},{\"attributes\":{\"fill_alpha\":{\"value\":0.2},\"fill_color\":{\"value\":\"blue\"},\"line_alpha\":{\"value\":0.2},\"line_color\":{\"value\":\"blue\"},\"size\":{\"units\":\"screen\",\"value\":5.477225575051661},\"x\":{\"field\":\"x\"},\"y\":{\"field\":\"y\"}},\"id\":\"4662\",\"type\":\"Scatter\"},{\"attributes\":{\"text\":\"\",\"text_color\":{\"value\":\"black\"},\"text_font_size\":{\"value\":\"12pt\"}},\"id\":\"4624\",\"type\":\"Title\"},{\"attributes\":{\"fill_alpha\":{\"value\":0.1},\"fill_color\":{\"value\":\"red\"},\"line_alpha\":{\"value\":0.1},\"line_color\":{\"value\":\"red\"},\"size\":{\"units\":\"screen\",\"value\":10.0},\"x\":{\"field\":\"x\"},\"y\":{\"field\":\"y\"}},\"id\":\"4669\",\"type\":\"Scatter\"},{\"attributes\":{},\"id\":\"4534\",\"type\":\"BasicTickFormatter\"},{\"attributes\":{\"fill_alpha\":{\"value\":0.2},\"fill_color\":{\"value\":\"red\"},\"line_alpha\":{\"value\":0.2},\"line_color\":{\"value\":\"red\"},\"size\":{\"units\":\"screen\",\"value\":10.0},\"x\":{\"field\":\"x\"},\"y\":{\"field\":\"y\"}},\"id\":\"4670\",\"type\":\"Scatter\"},{\"attributes\":{\"end\":5,\"reset_end\":5,\"reset_start\":-1,\"start\":-1,\"tags\":[[[\"y\",\"y\",null]]]},\"id\":\"4498\",\"type\":\"Range1d\"},{\"attributes\":{\"source\":{\"id\":\"4665\"}},\"id\":\"4672\",\"type\":\"CDSView\"},{\"attributes\":{\"bottom_units\":\"screen\",\"fill_alpha\":0.5,\"fill_color\":\"lightgrey\",\"left_units\":\"screen\",\"level\":\"overlay\",\"line_alpha\":1.0,\"line_color\":\"black\",\"line_dash\":[4,4],\"line_width\":2,\"right_units\":\"screen\",\"top_units\":\"screen\"},\"id\":\"4523\",\"type\":\"BoxAnnotation\"},{\"attributes\":{\"active_drag\":\"auto\",\"active_inspect\":\"auto\",\"active_multi\":null,\"active_scroll\":\"auto\",\"active_tap\":\"auto\",\"tools\":[{\"id\":\"4499\"},{\"id\":\"4518\"},{\"id\":\"4519\"},{\"id\":\"4520\"},{\"id\":\"4521\"},{\"id\":\"4522\"}]},\"id\":\"4524\",\"type\":\"Toolbar\"},{\"attributes\":{\"fill_color\":{\"value\":\"blue\"},\"line_color\":{\"value\":\"blue\"},\"size\":{\"units\":\"screen\",\"value\":5.477225575051661},\"x\":{\"field\":\"x\"},\"y\":{\"field\":\"y\"}},\"id\":\"4660\",\"type\":\"Scatter\"},{\"attributes\":{\"fill_alpha\":{\"value\":0.1},\"fill_color\":{\"value\":\"blue\"},\"line_alpha\":{\"value\":0.1},\"line_color\":{\"value\":\"blue\"},\"size\":{\"units\":\"screen\",\"value\":5.477225575051661},\"x\":{\"field\":\"x\"},\"y\":{\"field\":\"y\"}},\"id\":\"4539\",\"type\":\"Scatter\"},{\"attributes\":{},\"id\":\"4628\",\"type\":\"LinearScale\"},{\"attributes\":{\"axis_label\":\"x\",\"bounds\":\"auto\",\"formatter\":{\"id\":\"4654\"},\"major_label_orientation\":\"horizontal\",\"ticker\":{\"id\":\"4633\"}},\"id\":\"4632\",\"type\":\"LinearAxis\"},{\"attributes\":{\"fill_color\":{\"value\":\"blue\"},\"line_color\":{\"value\":\"blue\"},\"size\":{\"units\":\"screen\",\"value\":5.477225575051661},\"x\":{\"field\":\"x\"},\"y\":{\"field\":\"y\"}},\"id\":\"4538\",\"type\":\"Scatter\"},{\"attributes\":{\"fill_alpha\":{\"value\":0.2},\"fill_color\":{\"value\":\"blue\"},\"line_alpha\":{\"value\":0.2},\"line_color\":{\"value\":\"blue\"},\"size\":{\"units\":\"screen\",\"value\":5.477225575051661},\"x\":{\"field\":\"x\"},\"y\":{\"field\":\"y\"}},\"id\":\"4540\",\"type\":\"Scatter\"},{\"attributes\":{\"fill_color\":{\"value\":\"red\"},\"line_color\":{\"value\":\"red\"},\"size\":{\"units\":\"screen\",\"value\":10.0},\"x\":{\"field\":\"x\"},\"y\":{\"field\":\"y\"}},\"id\":\"4668\",\"type\":\"Scatter\"},{\"attributes\":{},\"id\":\"4633\",\"type\":\"BasicTicker\"},{\"attributes\":{},\"id\":\"4544\",\"type\":\"Selection\"},{\"attributes\":{\"axis\":{\"id\":\"4632\"},\"grid_line_color\":null,\"ticker\":null},\"id\":\"4635\",\"type\":\"Grid\"},{\"attributes\":{\"source\":{\"id\":\"4535\"}},\"id\":\"4542\",\"type\":\"CDSView\"},{\"attributes\":{\"data_source\":{\"id\":\"4665\"},\"glyph\":{\"id\":\"4668\"},\"hover_glyph\":null,\"muted_glyph\":{\"id\":\"4670\"},\"nonselection_glyph\":{\"id\":\"4669\"},\"selection_glyph\":null,\"view\":{\"id\":\"4672\"}},\"id\":\"4671\",\"type\":\"GlyphRenderer\"},{\"attributes\":{\"data_source\":{\"id\":\"4535\"},\"glyph\":{\"id\":\"4538\"},\"hover_glyph\":null,\"muted_glyph\":{\"id\":\"4540\"},\"nonselection_glyph\":{\"id\":\"4539\"},\"selection_glyph\":null,\"view\":{\"id\":\"4542\"}},\"id\":\"4541\",\"type\":\"GlyphRenderer\"},{\"attributes\":{\"axis_label\":\"y\",\"bounds\":\"auto\",\"formatter\":{\"id\":\"4656\"},\"major_label_orientation\":\"horizontal\",\"ticker\":{\"id\":\"4637\"}},\"id\":\"4636\",\"type\":\"LinearAxis\"},{\"attributes\":{\"below\":[{\"id\":\"4510\"}],\"center\":[{\"id\":\"4513\"},{\"id\":\"4517\"}],\"left\":[{\"id\":\"4514\"}],\"margin\":null,\"min_border_bottom\":10,\"min_border_left\":10,\"min_border_right\":10,\"min_border_top\":10,\"plot_height\":300,\"plot_width\":700,\"renderers\":[{\"id\":\"4541\"},{\"id\":\"4549\"}],\"sizing_mode\":\"fixed\",\"title\":{\"id\":\"4502\"},\"toolbar\":{\"id\":\"4524\"},\"toolbar_location\":null,\"x_range\":{\"id\":\"4497\"},\"x_scale\":{\"id\":\"4506\"},\"y_range\":{\"id\":\"4498\"},\"y_scale\":{\"id\":\"4508\"}},\"id\":\"4501\",\"subtype\":\"Figure\",\"type\":\"Plot\"},{\"attributes\":{\"children\":[{\"id\":\"4767\"},{\"id\":\"4765\"}]},\"id\":\"4768\",\"type\":\"Column\"},{\"attributes\":{\"data\":{\"x\":[1],\"y\":[2]},\"selected\":{\"id\":\"4666\"},\"selection_policy\":{\"id\":\"4681\"}},\"id\":\"4665\",\"type\":\"ColumnDataSource\"},{\"attributes\":{\"text\":\"\",\"text_color\":{\"value\":\"black\"},\"text_font_size\":{\"value\":\"12pt\"}},\"id\":\"4502\",\"type\":\"Title\"},{\"attributes\":{},\"id\":\"4508\",\"type\":\"LinearScale\"},{\"attributes\":{},\"id\":\"4640\",\"type\":\"SaveTool\"},{\"attributes\":{\"fill_alpha\":{\"value\":0.1},\"fill_color\":{\"value\":\"red\"},\"line_alpha\":{\"value\":0.1},\"line_color\":{\"value\":\"red\"},\"size\":{\"units\":\"screen\",\"value\":10.0},\"x\":{\"field\":\"x\"},\"y\":{\"field\":\"y\"}},\"id\":\"4547\",\"type\":\"Scatter\"},{\"attributes\":{},\"id\":\"4681\",\"type\":\"UnionRenderers\"},{\"attributes\":{\"toolbar\":{\"id\":\"4766\"},\"toolbar_location\":\"above\"},\"id\":\"4767\",\"type\":\"ToolbarBox\"},{\"attributes\":{\"fill_alpha\":{\"value\":0.2},\"fill_color\":{\"value\":\"red\"},\"line_alpha\":{\"value\":0.2},\"line_color\":{\"value\":\"red\"},\"size\":{\"units\":\"screen\",\"value\":10.0},\"x\":{\"field\":\"x\"},\"y\":{\"field\":\"y\"}},\"id\":\"4548\",\"type\":\"Scatter\"},{\"attributes\":{},\"id\":\"4641\",\"type\":\"PanTool\"},{\"attributes\":{\"data\":{\"x\":{\"__ndarray__\":\"D77IIf5r/j/gOVNwa267v9qorSjAav0/8P7O10qO6T/PQE57uT/3P3AXH6MDgPI/FoRd+5CuB0C+e/4UqRDxP8A5MwgIPgBAhqd5Da6CAUBRi2kP2d/yP4LoU04xQuK/uvhbLuK16j8g351DMKUCQPBA0pbiqvI/iBznqjENsD/K7mpmurb6P+jpz91so+Y/wPFnKG++AkAehivFUmz5P4pF8oKtwuC/+Ke638akyb9kxpw9ZMj0PzhNzuesaOU/HL6nfUpmyD94BEozLm/Gv1S4Pf3bNeS/3hnmdzZDAEBCW3doy7cEQOGWKDC3Cug/0k2Aqe/x8j/WpWLx/QLxP5hDVYHidOw/ZKqfuB6kxz8kfILxbMMCQNymVZa/1Ps/MCTkf+4E8z+wLtPsNs62P6DQEPiJVL2/ZP4YLFpp07+uSIyGxW0BQJlp/aHOf/k/TkxVpqrU+D+UxnQSKyrHP8kF01mPbvU/wrNhignI8T+BCS04UJQCQMawARFSduY/sZ47AFGE8z+wykFf0HzcP2hbpnQhjPA/iEiDmPMRyj83/xGBRQn3P1T2x3js6us/JSFUZ2G4AEA1pTp70FfoPzI8ZkKW2fo/1r76tsMb+b+fJam9yNYAQDRLVFVjVQRADozQThMB+D8uwEYkxtDmv3jNF/QOzt6/RFc5+dp4+j8SxjRjRBDyPz1K5CtKPuY/LTC+KAMTAEAmyF2OYEX/P4G58Ydmyew/3RbL1UCO5T9h7+Ijp3vyPyYSgWASsuA/bhEDjHC+9j+Y1ACcZCgEQFPIF30gVvI/VrW5YKEl+z8LRxhPq4X0Pzy5QgZD4wBAHILiCBzE8z/svCHAx54DQFjt8B3qbPw/4udmGzBI5D8dashl5KgCQPTfMvEgdea/IClmeRcJrr8vYIw+O2j8PyFP+hDiKeQ/TPrz1M7w0L8g8OL2savxP7Lam6t97/E/vvnehvS46D/sTbcfYjLbPxQO1GApbwNARvcfejNSBUBsDOSRAS3cvzb/9lN72/C/3AnymW02/j93GvUwrLYAQOhMZ+s4K/o/IAURy/Rb+T8=\",\"dtype\":\"float64\",\"order\":\"little\",\"shape\":[100]},\"y\":{\"__ndarray__\":\"okw0eRIlDkDK9H45mn0BQOZkGqzfOgVALgKQLDts+T+VcdPJ21L/PxhIxWchCfo/EGJuwFzuBUADUPtoJqP9P3WA48Jl6gFA3tFpiYdPB0ANLZkNVM/8P6r7dsKgIAVAy/rxVcGHAEChgS/gky0KQLsMKd8+pAVAGY7QIN7sAUARhmssNP4DQATeVHifcwBAhSJCb5dKA0BYeY8q8l/RPxlPa2eU2QBABtzz7CD09T/pebBMGRAAQCxo+4JO7gBAGBlBT8E0+D8HPq7IBU8BQCRiHhmxdNs/QklNUqYsCEDOrnj7jdAOQPSQJxC4n/M/nEOlVViJ9j+VKJyz573/P35Cigs0zPw/Hf5EcBHD8T+9/8+bKZsGQKL7j1UF+AlAmXX1/MrkAUAiOjps8xT3Pz5n8rRBweo/AZ5ooLvL/z9fDpFNGbwCQDKJURQU1wNApr8R+4du5T8gXzw3zcXxP1iEdwGOjOg/SKN3gOb63j/fev04rLf/P/hOMNj8Uv4/jAB7G4gvB0AK9qeG9OAEQILo8pZj4QlAkhLLJfW5AkCz0bAO+l73Pxrv9q0Gpeo/Uzte5hisA0DghSUWTdLxP1IgXxrqtQdAbDctKZQ19L9tBAbs1ukLQJBghkB4/AFAYi0mm9LZCEBCH5n+X4H2P5wjO+aDXOU/VwCIVPNmBUCqqYoae2cGQCQkeyqNtgpAxtQhsycoAUBIPGX0y8QHQAr4kOd9UghA9xLOwAN3BEDUmO4M8RsFQAOKibotiPE/nHdIbRFRA0AsM1ZXx6gRQHU9TeStUP4/ot+VHNIcAEDC8euSMuYJQJChikakwv4/1kxPjyBc7j+J1SrTRXUAQOc/7QW5x/0/qVlbXfdeA0BTirBEw6sGQNLjNrSjhe4/tTCTzVO28j+f28oqRj0HQHwgUH+CiNM/te77ZGgPAUBsfrYzfrgAQO47y10vKABApxS9N8a/AED4PZ6xH1ABQKRxXZWjGQtAFOh2hbKaCUAfGcq0zYgAQIx658WzafE/YWWoI/F1BkBqD3LeQz8IQPj4RHzL8wVAOMC9L6OKCkA=\",\"dtype\":\"float64\",\"order\":\"little\",\"shape\":[100]}},\"selected\":{\"id\":\"4536\"},\"selection_policy\":{\"id\":\"4557\"}},\"id\":\"4535\",\"type\":\"ColumnDataSource\"},{\"attributes\":{\"source\":{\"id\":\"4543\"}},\"id\":\"4550\",\"type\":\"CDSView\"},{\"attributes\":{\"axis\":{\"id\":\"4514\"},\"dimension\":1,\"grid_line_color\":null,\"ticker\":null},\"id\":\"4517\",\"type\":\"Grid\"},{\"attributes\":{},\"id\":\"4642\",\"type\":\"WheelZoomTool\"},{\"attributes\":{},\"id\":\"4679\",\"type\":\"UnionRenderers\"},{\"attributes\":{},\"id\":\"4506\",\"type\":\"LinearScale\"},{\"attributes\":{\"end\":4,\"reset_end\":4,\"reset_start\":-2,\"start\":-2,\"tags\":[[[\"x\",\"x\",null]]]},\"id\":\"4497\",\"type\":\"Range1d\"},{\"attributes\":{\"toolbars\":[{\"id\":\"4524\"},{\"id\":\"4646\"}],\"tools\":[{\"id\":\"4499\"},{\"id\":\"4518\"},{\"id\":\"4519\"},{\"id\":\"4520\"},{\"id\":\"4521\"},{\"id\":\"4522\"},{\"id\":\"4621\"},{\"id\":\"4640\"},{\"id\":\"4641\"},{\"id\":\"4642\"},{\"id\":\"4643\"},{\"id\":\"4644\"}]},\"id\":\"4766\",\"type\":\"ProxyToolbar\"},{\"attributes\":{\"active_drag\":\"auto\",\"active_inspect\":\"auto\",\"active_multi\":null,\"active_scroll\":\"auto\",\"active_tap\":\"auto\",\"tools\":[{\"id\":\"4621\"},{\"id\":\"4640\"},{\"id\":\"4641\"},{\"id\":\"4642\"},{\"id\":\"4643\"},{\"id\":\"4644\"}]},\"id\":\"4646\",\"type\":\"Toolbar\"},{\"attributes\":{\"children\":[{\"id\":\"4496\"},{\"id\":\"4768\"},{\"id\":\"4949\"}],\"margin\":[0,0,0,0],\"name\":\"Row08052\",\"tags\":[\"embedded\"]},\"id\":\"4495\",\"type\":\"Row\"},{\"attributes\":{\"axis_label\":\"x\",\"bounds\":\"auto\",\"formatter\":{\"id\":\"4532\"},\"major_label_orientation\":\"horizontal\",\"ticker\":{\"id\":\"4511\"}},\"id\":\"4510\",\"type\":\"LinearAxis\"},{\"attributes\":{\"overlay\":{\"id\":\"4645\"}},\"id\":\"4643\",\"type\":\"BoxZoomTool\"},{\"attributes\":{},\"id\":\"4511\",\"type\":\"BasicTicker\"},{\"attributes\":{\"axis\":{\"id\":\"4510\"},\"grid_line_color\":null,\"ticker\":null},\"id\":\"4513\",\"type\":\"Grid\"},{\"attributes\":{\"margin\":[5,5,5,5],\"name\":\"HSpacer08056\",\"sizing_mode\":\"stretch_width\"},\"id\":\"4496\",\"type\":\"Spacer\"},{\"attributes\":{},\"id\":\"4515\",\"type\":\"BasicTicker\"},{\"attributes\":{},\"id\":\"4644\",\"type\":\"ResetTool\"},{\"attributes\":{\"fill_color\":{\"value\":\"red\"},\"line_color\":{\"value\":\"red\"},\"size\":{\"units\":\"screen\",\"value\":10.0},\"x\":{\"field\":\"x\"},\"y\":{\"field\":\"y\"}},\"id\":\"4546\",\"type\":\"Scatter\"},{\"attributes\":{\"axis_label\":\"y\",\"bounds\":\"auto\",\"formatter\":{\"id\":\"4534\"},\"major_label_orientation\":\"horizontal\",\"ticker\":{\"id\":\"4515\"}},\"id\":\"4514\",\"type\":\"LinearAxis\"},{\"attributes\":{\"axis\":{\"id\":\"4636\"},\"dimension\":1,\"grid_line_color\":null,\"ticker\":null},\"id\":\"4639\",\"type\":\"Grid\"},{\"attributes\":{},\"id\":\"4637\",\"type\":\"BasicTicker\"},{\"attributes\":{\"margin\":[5,5,5,5],\"name\":\"HSpacer08057\",\"sizing_mode\":\"stretch_width\"},\"id\":\"4949\",\"type\":\"Spacer\"},{\"attributes\":{\"data_source\":{\"id\":\"4543\"},\"glyph\":{\"id\":\"4546\"},\"hover_glyph\":null,\"muted_glyph\":{\"id\":\"4548\"},\"nonselection_glyph\":{\"id\":\"4547\"},\"selection_glyph\":null,\"view\":{\"id\":\"4550\"}},\"id\":\"4549\",\"type\":\"GlyphRenderer\"},{\"attributes\":{},\"id\":\"4557\",\"type\":\"UnionRenderers\"},{\"attributes\":{},\"id\":\"4559\",\"type\":\"UnionRenderers\"},{\"attributes\":{\"data\":{\"x\":[1],\"y\":[2]},\"selected\":{\"id\":\"4544\"},\"selection_policy\":{\"id\":\"4559\"}},\"id\":\"4543\",\"type\":\"ColumnDataSource\"},{\"attributes\":{\"data\":{\"x\":{\"__ndarray__\":\"EI5sJTmb4D9gPn3K63OhP2yRFb6U/PG/ZPlsvHse/j8hdY1+qVzvP9mm+A50lglAFGfvDM3AAkBU7b5JGezcv0AoZOY7NsS/LL5jshGQzj9YTm+i1JT0P0hocND/58w/vHTKl2NY2j+P4RTDRHcFQGAAwyTwBaS/j7nENdgzB0Cfa7wTgG0LQHyr4k/+wgZAxAP3l8jl+D/gdiuiYrmyPzxDbR6WMOk/sH6empOuvz/k8RW5RGD0PxnA4PJx7OM/+EHsrReD+T8NRvDJXTvuP6o5jGBoUPi/8H4UakFU+j+VtMpKvRP1P0bqlZNsdvE/7r9OAD5N/z/M1suc7wL6PzhsPu2/3ve/VtdUN95O3D/GnriW237nPyTHKi5ste0/7KaTe1eAAEC8qZWprlH9PyBUcpPI7Pw/CG5WdpjI5D+k5XXMc0rkP7jjSyH7pgJAWDi8Puki+T/o4w2/USzBPyZMyTugnOE/6Zasu9KMBECQy4UrMuO9P+JbX4l03gBAvmiYa17u0j+WY1aqaODxP2C6mvcVwtM/HGuAuvlJ+T85OS0FS1f3P+LF0hhZMNQ/6fLnOMz2BkAQolZqqcn0Px9XUQ/VV/c/7DTP8Nqf8j85Cn459WnxP47SgioknPo/vEcsf0Z4A0AWBQYcnmXdPypqvOvaofC/sO2oajBKwD8u4Z1m5AwDQCj0eBjaCP8/vI9cAtW73j/8+ZP7pu3uP6SnM2TGofM/cFqbZC3y87+efd2CrTL1P+IO5HHuudg/uizNwSOQAkAg7QbWxRsAQFCj7BCojss/iKKu7+sN8j/kn5zMn0LKP+zSGeuwgfA/hAOmYuDJ8L9IM/E43qHMvwRl/qyx3ek/0FeEvPTTub/rN0D+7nXoP8RO0oI7wANAwv+dFKmV6D98WsFSnOb4PxByf2/xh64/JDvSbOIK/D+zOicqcZXqP7ZHy5qLgfY/MKsKQYuFvz8kSPKjkRrJP+xTyzindNI/AONgMyjar79FbDuZ8l3mPxw57BRDv90/ywxgI4B/C0Dme7kDjnLYP8yuhIkxv9c/OH9aGA0Z5b8=\",\"dtype\":\"float64\",\"order\":\"little\",\"shape\":[100]},\"y\":{\"__ndarray__\":\"KglPoW4c/T+oDTND1gb3P3hGo+aAHNa/gvyU6X1cCEBO6XJJA9f3P9RG46S20BBAhCMsUr9YAUDFPvOTmff1P4evebHNRPA/EUEw5JhfAUBfAxgm9isEQCiKg9owUvI/WBtRXamU+D9McfeYS44MQBCgNV+zg9c/WJ8FQzpxDEAwI3eEUFgMQPx4jrtMIQxAD4sJM7L7A0A+K9ngoqHqP1idmKmscPg/64/omxcV9j9WOq7GfrIDQN5lT0Zeo/g/bMFFF4deC0BnnDOWPV8EQPA1Jf6yKb0/uC+LIOk7BkC5rsnrU8UBQOpei2w8a/g/oejMH25WBEC0n2bEsxYJQGjr1Ujpi80/ToqBViAz7z+ykuvKGSr3Pw9oOV5+VQNAspkxO+QTCEDdFN+B/TwKQM5QWb7QVAZA/vnlE7MJA0AUOfwleDUBQCQnfdbvbARAC4YT6llIAkBCOhnAgJ/yP1jt5TVK6/Q/Qu8O0BYSCkBABh8vhCbwP5VKtIUiZQZABM3fRQuI1z8WdsDR338DQPBl4w4It/I/aOkIPGCiBEDVXt65/dMDQFAbM+jtcfY/+QVccz1WD0AiYvq9lXMDQDAtuLiI+gJA1Ol4HSbH+D+qY9ygTsQAQIQxxpAQCARAwlWjCW2CDUC0mV0F0ZsAQCDi0DkNycy/0cw/BTQC+z8wRg+D5OMFQJNEiqYyEwRAXqt0RowC+j+sWmtosTf2Pw1txuGkPv0/GPbnbiRB4T8AUFvTqJ//P7zXXhRj/vM/heXwdunPC0Dq5/9cwB8CQD1HhEWIivE/yMYy0wAtA0C8hnBLtR7wP0rgwl6lRAJAaM8KvQn31D8AuGcvHHzfP94FJr2ub/I/8P2RRKwX8D/vYOSuE07+P5B1tlyDPw1AeikeuSvq/D+okvSus676P7C0McLy1cw/w83sS+GsCkAmCwGWmbL2Py7dfU7AsPc/PBkQsLxC9D92M8FSKJ3kP0Cv9xKr5/I/X5lDUmdi9z9wZj2i28H2P1jSdi2h2eQ/2JcJjH9NE0CSetGDS7jmP1RMOE4Vwu0/8Oa/xYzM2z8=\",\"dtype\":\"float64\",\"order\":\"little\",\"shape\":[100]}},\"selected\":{\"id\":\"4658\"},\"selection_policy\":{\"id\":\"4679\"}},\"id\":\"4657\",\"type\":\"ColumnDataSource\"},{\"attributes\":{},\"id\":\"4536\",\"type\":\"Selection\"},{\"attributes\":{},\"id\":\"4518\",\"type\":\"SaveTool\"}],\"root_ids\":[\"4495\"]},\"title\":\"Bokeh Application\",\"version\":\"2.2.3\"}};\n",
       "    var render_items = [{\"docid\":\"a3de947e-f739-4fe9-9b25-889872bc9fd8\",\"root_ids\":[\"4495\"],\"roots\":{\"4495\":\"f29b9b9a-f2c9-4706-8866-c6fba991f6cf\"}}];\n",
       "    root.Bokeh.embed.embed_items_notebook(docs_json, render_items);\n",
       "  }\n",
       "  if (root.Bokeh !== undefined && root.Bokeh.Panel !== undefined) {\n",
       "    embed_document(root);\n",
       "  } else {\n",
       "    var attempts = 0;\n",
       "    var timer = setInterval(function(root) {\n",
       "      if (root.Bokeh !== undefined && root.Bokeh.Panel !== undefined) {\n",
       "        clearInterval(timer);\n",
       "        embed_document(root);\n",
       "      } else if (document.readyState == \"complete\") {\n",
       "        attempts++;\n",
       "        if (attempts > 100) {\n",
       "          clearInterval(timer);\n",
       "          console.log(\"Bokeh: ERROR: Unable to run BokehJS code because BokehJS library is missing\");\n",
       "        }\n",
       "      }\n",
       "    }, 10, root)\n",
       "  }\n",
       "})(window);</script>"
      ],
      "text/plain": [
       ":Layout\n",
       "   .Overlay.I  :Overlay\n",
       "      .Scatter.I  :Scatter   [x]   (y)\n",
       "      .Scatter.II :Scatter   [x]   (y)\n",
       "   .Overlay.II :Overlay\n",
       "      .Scatter.I  :Scatter   [x]   (y)\n",
       "      .Scatter.II :Scatter   [x]   (y)"
      ]
     },
     "execution_count": 13,
     "metadata": {
      "application/vnd.holoviews_exec.v0+json": {
       "id": "4495"
      }
     },
     "output_type": "execute_result"
    }
   ],
   "source": [
    "from scipy.stats import multivariate_normal\n",
    "from pandas import DataFrame\n",
    "import hvplot.pandas\n",
    "\n",
    "mu = [1, 2]\n",
    "sigma = lambda rho: [[1, rho], [rho, 1]]\n",
    "dist = lambda rho: multivariate_normal(mean=mu, cov=sigma(rho))\n",
    "data = lambda rho: DataFrame(dist(rho).rvs(100), columns=['x', 'y'])\n",
    "mean = DataFrame([mu], columns=['x', 'y'])\n",
    "\n",
    "(data(rho=0.6).hvplot(kind='scatter', x='x', y='y', color='blue') \n",
    "+ data(rho=0.9).hvplot(kind='scatter', x='x', y='y', color='blue')\n",
    ")* mean.hvplot(kind='scatter', x='x', y='y', color='red', s=100, xlim=(-2, 4), ylim=(-1, 5))\n"
   ]
  },
  {
   "cell_type": "code",
   "execution_count": 28,
   "metadata": {},
   "outputs": [
    {
     "data": {},
     "metadata": {},
     "output_type": "display_data"
    },
    {
     "data": {
      "application/vnd.holoviews_exec.v0+json": "",
      "text/html": [
       "<div id='6615'>\n",
       "\n",
       "\n",
       "\n",
       "\n",
       "\n",
       "  <div class=\"bk-root\" id=\"6291a53e-0668-494e-b5b7-e9709e46f9d1\" data-root-id=\"6615\"></div>\n",
       "</div>\n",
       "<script type=\"application/javascript\">(function(root) {\n",
       "  function embed_document(root) {\n",
       "    var docs_json = {\"bcd55e78-77d4-418a-95e9-3efbb6b82311\":{\"roots\":{\"references\":[{\"attributes\":{\"end\":6.025988661539496,\"reset_end\":6.025988661539496,\"reset_start\":-3.749242671878875,\"start\":-3.749242671878875,\"tags\":[[[\"x\",\"x\",null]]]},\"id\":\"6617\",\"type\":\"Range1d\"},{\"attributes\":{\"data\":{\"left\":{\"__ndarray__\":\"oOedYoJBCsD8fJfZU4UHwFgSkVAlyQTAtaeKx/YMAsAiegh9kKH+v9qk+2ozKfm/lM/uWNaw87+Y9MON8nDsvwhKqmk4gOG/4H1CFvk9yr9gLCR674TBP0hrRQXso94/MGC8JrBC6j9gBWsltZnyP6jadzcSEvg/8K+ESW+K/T+cwsgtZoEBQEAtz7aUPQRA5JfVP8P5BkCIAtzI8bUJQA==\",\"dtype\":\"float64\",\"order\":\"little\",\"shape\":[20]},\"right\":{\"__ndarray__\":\"/HyX2VOFB8BYEpFQJckEwLWnisf2DALAInoIfZCh/r/apPtqMyn5v5TP7ljWsPO/mPTDjfJw7L8ISqppOIDhv+B9Qhb5Pcq/YCwkeu+EwT9Ia0UF7KPePzBgvCawQuo/YAVrJbWZ8j+o2nc3EhL4P/CvhElviv0/nMLILWaBAUBALc+2lD0EQOSX1T/D+QZAiALcyPG1CUAtbeJRIHIMQA==\",\"dtype\":\"float64\",\"order\":\"little\",\"shape\":[20]},\"top\":[1,0,0,0,1,3,3,2,7,8,3,10,10,17,12,8,5,6,3,1],\"x\":{\"__ndarray__\":\"TrIaHmvjCMCqRxSVPCcGwAbdDQwOawPAY3IHg9+uAMB+DwL0YeX7vzc69eEEbfa/8GToz6f08L9QH7d7lfjmv4DpOq+2D9i/AKM8OBNyob+8wCvhMbPTP+qKrxRTyuQ/eDXJOA277z8EcHGu41X1P0xFfsBAzvo/So1F6U4jAEDu90tyfd8CQJJiUvurmwVANs1YhNpXCEDaN18NCRQLQA==\",\"dtype\":\"float64\",\"order\":\"little\",\"shape\":[20]},\"x_count\":[1,0,0,0,1,3,3,2,7,8,3,10,10,17,12,8,5,6,3,1]},\"selected\":{\"id\":\"6657\"},\"selection_policy\":{\"id\":\"6678\"}},\"id\":\"6656\",\"type\":\"ColumnDataSource\"},{\"attributes\":{\"bottom_units\":\"screen\",\"fill_alpha\":0.5,\"fill_color\":\"lightgrey\",\"left_units\":\"screen\",\"level\":\"overlay\",\"line_alpha\":1.0,\"line_color\":\"black\",\"line_dash\":[4,4],\"line_width\":2,\"right_units\":\"screen\",\"top_units\":\"screen\"},\"id\":\"6643\",\"type\":\"BoxAnnotation\"},{\"attributes\":{},\"id\":\"6628\",\"type\":\"LinearScale\"},{\"attributes\":{\"margin\":[5,5,5,5],\"name\":\"HSpacer11934\",\"sizing_mode\":\"stretch_width\"},\"id\":\"6616\",\"type\":\"Spacer\"},{\"attributes\":{\"bottom\":{\"value\":0},\"fill_alpha\":{\"value\":0.2},\"fill_color\":{\"value\":\"#1f77b3\"},\"left\":{\"field\":\"left\"},\"line_alpha\":{\"value\":0.2},\"right\":{\"field\":\"right\"},\"top\":{\"field\":\"top\"}},\"id\":\"6661\",\"type\":\"Quad\"},{\"attributes\":{\"axis_label\":\"x\",\"bounds\":\"auto\",\"formatter\":{\"id\":\"6653\"},\"major_label_orientation\":\"horizontal\",\"ticker\":{\"id\":\"6631\"}},\"id\":\"6630\",\"type\":\"LinearAxis\"},{\"attributes\":{\"callback\":null,\"renderers\":[{\"id\":\"6670\"}],\"tags\":[\"hv_created\"],\"tooltips\":[[\"x\",\"@{x}\"],[\"Density\",\"@{x_density}\"]]},\"id\":\"6620\",\"type\":\"HoverTool\"},{\"attributes\":{\"text\":\"\",\"text_color\":{\"value\":\"black\"},\"text_font_size\":{\"value\":\"12pt\"}},\"id\":\"6622\",\"type\":\"Title\"},{\"attributes\":{},\"id\":\"6655\",\"type\":\"BasicTickFormatter\"},{\"attributes\":{},\"id\":\"6680\",\"type\":\"UnionRenderers\"},{\"attributes\":{},\"id\":\"6653\",\"type\":\"BasicTickFormatter\"},{\"attributes\":{\"callback\":null,\"renderers\":[{\"id\":\"6662\"}],\"tags\":[\"hv_created\"],\"tooltips\":[[\"x\",\"@{x}\"],[\"Count\",\"@{x_count}\"]]},\"id\":\"6619\",\"type\":\"HoverTool\"},{\"attributes\":{\"axis\":{\"id\":\"6634\"},\"dimension\":1,\"grid_line_color\":null,\"ticker\":null},\"id\":\"6637\",\"type\":\"Grid\"},{\"attributes\":{\"bottom\":{\"value\":0},\"fill_color\":{\"value\":\"#1f77b3\"},\"left\":{\"field\":\"left\"},\"right\":{\"field\":\"right\"},\"top\":{\"field\":\"top\"}},\"id\":\"6659\",\"type\":\"Quad\"},{\"attributes\":{},\"id\":\"6657\",\"type\":\"Selection\"},{\"attributes\":{},\"id\":\"6639\",\"type\":\"PanTool\"},{\"attributes\":{\"end\":18.7,\"reset_end\":18.7,\"reset_start\":0.0,\"tags\":[[[\"x_count\",\"Count\",null]]]},\"id\":\"6618\",\"type\":\"Range1d\"},{\"attributes\":{\"data_source\":{\"id\":\"6664\"},\"glyph\":{\"id\":\"6667\"},\"hover_glyph\":null,\"muted_glyph\":{\"id\":\"6669\"},\"nonselection_glyph\":{\"id\":\"6668\"},\"selection_glyph\":null,\"view\":{\"id\":\"6671\"}},\"id\":\"6670\",\"type\":\"GlyphRenderer\"},{\"attributes\":{\"axis_label\":\"\",\"bounds\":\"auto\",\"formatter\":{\"id\":\"6655\"},\"major_label_orientation\":\"horizontal\",\"ticker\":{\"id\":\"6635\"}},\"id\":\"6634\",\"type\":\"LinearAxis\"},{\"attributes\":{\"source\":{\"id\":\"6656\"}},\"id\":\"6663\",\"type\":\"CDSView\"},{\"attributes\":{\"bottom\":{\"value\":0},\"fill_alpha\":{\"value\":0.1},\"fill_color\":{\"value\":\"#1f77b3\"},\"left\":{\"field\":\"left\"},\"line_alpha\":{\"value\":0.1},\"right\":{\"field\":\"right\"},\"top\":{\"field\":\"top\"}},\"id\":\"6660\",\"type\":\"Quad\"},{\"attributes\":{\"active_drag\":\"auto\",\"active_inspect\":\"auto\",\"active_multi\":null,\"active_scroll\":\"auto\",\"active_tap\":\"auto\",\"tools\":[{\"id\":\"6619\"},{\"id\":\"6620\"},{\"id\":\"6638\"},{\"id\":\"6639\"},{\"id\":\"6640\"},{\"id\":\"6641\"},{\"id\":\"6642\"}]},\"id\":\"6644\",\"type\":\"Toolbar\"},{\"attributes\":{\"axis\":{\"id\":\"6630\"},\"grid_line_color\":null,\"ticker\":null},\"id\":\"6633\",\"type\":\"Grid\"},{\"attributes\":{\"data_source\":{\"id\":\"6656\"},\"glyph\":{\"id\":\"6659\"},\"hover_glyph\":null,\"muted_glyph\":{\"id\":\"6661\"},\"nonselection_glyph\":{\"id\":\"6660\"},\"selection_glyph\":null,\"view\":{\"id\":\"6663\"}},\"id\":\"6662\",\"type\":\"GlyphRenderer\"},{\"attributes\":{\"source\":{\"id\":\"6664\"}},\"id\":\"6671\",\"type\":\"CDSView\"},{\"attributes\":{\"below\":[{\"id\":\"6630\"}],\"center\":[{\"id\":\"6633\"},{\"id\":\"6637\"}],\"left\":[{\"id\":\"6634\"}],\"margin\":[5,5,5,5],\"min_border_bottom\":10,\"min_border_left\":10,\"min_border_right\":10,\"min_border_top\":10,\"plot_height\":300,\"plot_width\":700,\"renderers\":[{\"id\":\"6662\"},{\"id\":\"6670\"}],\"sizing_mode\":\"fixed\",\"title\":{\"id\":\"6622\"},\"toolbar\":{\"id\":\"6644\"},\"x_range\":{\"id\":\"6617\"},\"x_scale\":{\"id\":\"6626\"},\"y_range\":{\"id\":\"6618\"},\"y_scale\":{\"id\":\"6628\"}},\"id\":\"6621\",\"subtype\":\"Figure\",\"type\":\"Plot\"},{\"attributes\":{},\"id\":\"6678\",\"type\":\"UnionRenderers\"},{\"attributes\":{},\"id\":\"6642\",\"type\":\"ResetTool\"},{\"attributes\":{},\"id\":\"6638\",\"type\":\"SaveTool\"},{\"attributes\":{\"data\":{\"x\":{\"__ndarray__\":\"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\",\"dtype\":\"float64\",\"order\":\"little\",\"shape\":[200]},\"y\":{\"__ndarray__\":\"AAAAAAAAAAAAAAAAAAAAAAAAAAAAAAAAAAAAAAAAAAAAAAAAAAAAAAAAAAAAAAAAAAAAAAAAAAAAAAAAAAAAAAAAAAAAAAAAAAAAAAAAAAAAAAAAAAAAAAAAAAAAAAAAAAAAAAAAAAAAAAAAAAAAAAAAAAAAAAAAAAAAAAAAAAAAAAAAAAAAAAAAAAAAAAAAAAAAAAAAAAAAAAAAAAAAAAAAAAAAAAAAAAAAAAAAAAAAAAAAAAAAAAAAAAAAAAAAAAAAAAAAAAAAAAAAAAAAAAAAAAAAAAAAAAAAAAAAAAAAAAAAAAAAAAAAAAAAAAAAAAAAAAAAAAAAAAAAAAAAAAAAAAAAAAAAAAAAAAAAAAAAAAAAAAAAAAAAAAAAAAAAAAAAAAAAAAAAAAAAAAAAAAAAAAAAAAAAAAAAAAAAAAAAAAAAAAAAAAAAAAAAAAAAAAAAAAAAAAAAAAAAAAAAAAAAAAAAAAAAAAAAAAAAAAAAAAAAAAAAAAAAAAAAAAAAAAAAAAAAAAAAAAAAAAAAAAAAAAAAAAAAAAAAAAAAAAAAAAAAAAAAAAAAAAAAAAAAAAAAAAAAAAAAAAAAAAAAAAAAAAAAAAAAAAAAAAAAAAAAAAAAAAAAAAAAAAAAAAAAAAAAAAAAAAAAAAAAAAAAAAAAAAAAAAAAAAAAAAAAAAAAAAAAAAAAAAAAAAAAAAAAAAAAAAAAAAAAAAAAAAAAAAAAAAAAAAAAAAAAAAAAAAAAAAAAAAAAAAAAAAAAAAAAAAAAAAAAAAAAAAAAAAAAAAAAAAAAAAAAAAAAAAAAAAAAAAAAAAAAAAAAAAAAAAAAAAAAAAAAAAAAAAAAAAAAAAAAAAAAAAAAAAAAAAAAAAAAAAAAAAAAAAAAAAAAAAAAAAAAAAAAAAAAAAAAAAAAAAAAAAAAAAAAAAAAAAAAAAAAAAAAAAAAAAAAAAAAAAAAAAAAAAAAAAAAAAAAAAAAAAAAAAAAAAAAAAAAAAAAAAAAAAAAAAAAAAAAAAAAAAAAAAAAAAAAAAAAAAAAAAAAAAAAAAAAAAAAAAAAAAAAAABdNtzbXD0aP/7xSbMeyic/KblX2lmtND+8T6mMxDpBPy+dhxYPh0s/GVsMRwcVVT+WcW9NYPVeP16uWb71ymU/fci5cahqbT+OjYpDaAlzP7gYzYnjoHc/dLQk//AhfD/6Q1d0xhKAPxx0ImDppIE/iJWXiN2jgj+ouvMj8gODPyHIhaD02II/V6wSzYVZgj+blFlKkN2BP9/zRsJ02IE/aV7lHD7Qgj/l1lD1WFOFP0PztEDx7Yk/x08iBsaPkD93xElUhqiVPwTKykeoZZw/qne4rLtroj9qJB2rjnunP/YzgL3IUq0/cZOBx1HrsT+qocnEyXG1P8MJosaxKLk/hK4smD/8vD9Nt6Vs4m3AP6TayFkCXsI/RqsguDZMxD8V7db1WjnGP8GfbY9cKMg/9S0BHHQcyj+GOs0bFRfMP0NvNQMoFs4/m1JDVo8J0D8v0dvqngHRPzGrGHON7NE/bcCyxnTD0j+iUCSudoDTPysiX0iqH9Q/k7pbIHmf1D/CLAK/VgDVP6oV2uryQ9U/W31x3i5s1T8Vj3q9K3rVP51tK0W6bdU/fismEFFF1T9WrGVlhf7UP1IDucXfltQ/J+gWv9EM1D9z74nxj2DTP3Kp1GuelNI/RyugCfGt0T8ORkkVmLPQP+HAb90OXM8/OKfBnzJMzT+0FK7t9UfLP8hM+1tsXMk/YJYXSwmSxz+Z8TshE+zFP8ogUMntaMQ/X3dFrBkDwz9d2dGQpbLBPzbPNV/JbsA/S1MkEtZevj9QzqHcxdy7PwXdDenLULk/PLiWjAa7tj86Y/thSyK0PzIIRkcck7E/txKlAzc7rj+0tSK3iKWpP0goe0zTgqU/Y7J05T3noT9YISNglrSdP/Xdf17hrJg/0m1Z6seWlD8fuxyDtUSRP+WCPvgGDI0/MV63dHRfiD+ckBiNb0SEP+F3kCnrlYA/Zno8c2yLej+MUwnCkal0PxXN5YByKW8/gU0f7NexZj9/6vwRCNtfPwkeWnnsglU/53qZaTrsSz/ouawPjWdBP8SEySx40zQ/7Cbpnk7pJz+iv2ZM4lUaPw==\",\"dtype\":\"float64\",\"order\":\"little\",\"shape\":[200]}},\"selected\":{\"id\":\"6665\"},\"selection_policy\":{\"id\":\"6680\"}},\"id\":\"6664\",\"type\":\"ColumnDataSource\"},{\"attributes\":{},\"id\":\"6665\",\"type\":\"Selection\"},{\"attributes\":{\"children\":[{\"id\":\"6616\"},{\"id\":\"6621\"},{\"id\":\"6762\"}],\"margin\":[0,0,0,0],\"name\":\"Row11930\",\"tags\":[\"embedded\"]},\"id\":\"6615\",\"type\":\"Row\"},{\"attributes\":{\"overlay\":{\"id\":\"6643\"}},\"id\":\"6641\",\"type\":\"BoxZoomTool\"},{\"attributes\":{\"margin\":[5,5,5,5],\"name\":\"HSpacer11935\",\"sizing_mode\":\"stretch_width\"},\"id\":\"6762\",\"type\":\"Spacer\"},{\"attributes\":{\"fill_alpha\":0.2,\"fill_color\":\"#1f77b3\",\"line_alpha\":0.2,\"x\":{\"field\":\"x\"},\"y\":{\"field\":\"y\"}},\"id\":\"6669\",\"type\":\"Patch\"},{\"attributes\":{\"fill_alpha\":0.5,\"fill_color\":\"#1f77b3\",\"line_alpha\":1,\"x\":{\"field\":\"x\"},\"y\":{\"field\":\"y\"}},\"id\":\"6668\",\"type\":\"Patch\"},{\"attributes\":{},\"id\":\"6626\",\"type\":\"LinearScale\"},{\"attributes\":{},\"id\":\"6635\",\"type\":\"BasicTicker\"},{\"attributes\":{},\"id\":\"6631\",\"type\":\"BasicTicker\"},{\"attributes\":{\"fill_alpha\":0.5,\"fill_color\":\"#1f77b3\",\"x\":{\"field\":\"x\"},\"y\":{\"field\":\"y\"}},\"id\":\"6667\",\"type\":\"Patch\"},{\"attributes\":{},\"id\":\"6640\",\"type\":\"WheelZoomTool\"}],\"root_ids\":[\"6615\"]},\"title\":\"Bokeh Application\",\"version\":\"2.2.3\"}};\n",
       "    var render_items = [{\"docid\":\"bcd55e78-77d4-418a-95e9-3efbb6b82311\",\"root_ids\":[\"6615\"],\"roots\":{\"6615\":\"6291a53e-0668-494e-b5b7-e9709e46f9d1\"}}];\n",
       "    root.Bokeh.embed.embed_items_notebook(docs_json, render_items);\n",
       "  }\n",
       "  if (root.Bokeh !== undefined && root.Bokeh.Panel !== undefined) {\n",
       "    embed_document(root);\n",
       "  } else {\n",
       "    var attempts = 0;\n",
       "    var timer = setInterval(function(root) {\n",
       "      if (root.Bokeh !== undefined && root.Bokeh.Panel !== undefined) {\n",
       "        clearInterval(timer);\n",
       "        embed_document(root);\n",
       "      } else if (document.readyState == \"complete\") {\n",
       "        attempts++;\n",
       "        if (attempts > 100) {\n",
       "          clearInterval(timer);\n",
       "          console.log(\"Bokeh: ERROR: Unable to run BokehJS code because BokehJS library is missing\");\n",
       "        }\n",
       "      }\n",
       "    }, 10, root)\n",
       "  }\n",
       "})(window);</script>"
      ],
      "text/plain": [
       ":Overlay\n",
       "   .Histogram.I    :Histogram   [x]   (x_count)\n",
       "   .Distribution.I :Distribution   [x]   (Density)"
      ]
     },
     "execution_count": 28,
     "metadata": {
      "application/vnd.holoviews_exec.v0+json": {
       "id": "6615"
      }
     },
     "output_type": "execute_result"
    }
   ],
   "source": [
    "data(rho=0.6)['x'].hvplot(kind='hist') * data(rho=0.6)['x'].hvplot(kind='kde')"
   ]
  },
  {
   "cell_type": "markdown",
   "metadata": {},
   "source": [
    "# 1. {-}\n",
    "\n",
    "## (a) {-}\n",
    "\n",
    "As the below realization of the error suggests, considering the mean squared prediction error, mean is a better estimator than median. "
   ]
  },
  {
   "cell_type": "code",
   "execution_count": 1,
   "metadata": {},
   "outputs": [
    {
     "name": "stdout",
     "output_type": "stream",
     "text": [
      "1.075383043650204\n",
      "1.1883149611307744\n"
     ]
    }
   ],
   "source": [
    "from scipy.stats import expon\n",
    "from numpy import abs\n",
    "import numpy as np\n",
    "\n",
    "mean = 1\n",
    "median = np.log(2)\n",
    "n = 1000\n",
    "\n",
    "rvs = expon.rvs(size=n)\n",
    "\n",
    "print(((rvs - mean)**2).mean())    # mean squared error of the mean\n",
    "print(((rvs - median)**2).mean())  # mean squared error of the median"
   ]
  },
  {
   "cell_type": "markdown",
   "metadata": {},
   "source": [
    "## (b) {-}\n",
    "\n",
    "In contrast, considering the mean absolute prediction error, median is a (slightly) better estimator than mean. "
   ]
  },
  {
   "cell_type": "code",
   "execution_count": 2,
   "metadata": {},
   "outputs": [
    {
     "name": "stdout",
     "output_type": "stream",
     "text": [
      "0.7655840643978613\n",
      "0.7291958553195591\n"
     ]
    }
   ],
   "source": [
    "rvs = expon.rvs(size=n)\n",
    "\n",
    "print((abs(rvs - mean)).mean())    # mean absolute error of the mean \n",
    "print((abs(rvs - median)).mean())  # mean absolute error of the median"
   ]
  },
  {
   "cell_type": "markdown",
   "metadata": {},
   "source": [
    "# 2. {-}\n",
    "\n",
    "## (a) {-}\n",
    "\n",
    "Below is a plot of the loss function \n",
    "\\begin{align*}\n",
    "\\mathcal L(Y, f(X)) &= b\\left(e^{a(Y-f(X))} - a(Y-f(X)) - 1\\right) \\\\\n",
    "&= b\\left(e^{az} - az - 1\\right). \n",
    "\\end{align*}"
   ]
  },
  {
   "cell_type": "code",
   "execution_count": 3,
   "metadata": {},
   "outputs": [
    {
     "data": {
      "image/png": "[encoded data removed]",
      "text/plain": [
       "<Figure size 432x288 with 1 Axes>"
      ]
     },
     "metadata": {
      "needs_background": "light"
     },
     "output_type": "display_data"
    }
   ],
   "source": [
    "from numpy import exp\n",
    "from pandas import DataFrame\n",
    "\n",
    "a = 1.1\n",
    "b = 2\n",
    "\n",
    "loss = lambda z: b*(exp(a*z) - a*z -1)\n",
    "    \n",
    "ax = DataFrame([(x, loss(x)) for x in np.arange(-2, 2, 0.1)], columns=['z', 'loss']).set_index('z').plot(legend=None)\n",
    "ax.set_ylabel('loss')\n",
    "ax.set_xlabel('z');"
   ]
  },
  {
   "cell_type": "markdown",
   "metadata": {},
   "source": [
    "This is known as the LINEX loss function. Roughly speaking, on the right (when $z>0$) the loss goes up exponentially with the absolute prediction error, while on the left ($z<0$) it only goes up linearly with the absolute prediction error. \n",
    "\n",
    "Note that $z = Y - f(X) > 0$ means $f(X)$ underestimates $Y$ while $z<0$ means $f(X)$ overestimates $Y$. We might choose to use this loss function when the consequences of underestimating are much more serious than overestimating. An example could be to estimate a bank's value at risk, where underestimating could result in insufficient reserve and a default event, while the only consequence of overestimating is slight inefficiency in funding and is minor. Another example is to predict the stock price at some point in time in the future and write a naked call option based on that prediction, in which case a serious underestimating of the stock price means the option expires deep in the money and the writer takes a huge loss, while overestimating simply means the writer could have collected more premium by writing an option with a lower strike. "
   ]
  },
  {
   "cell_type": "markdown",
   "metadata": {},
   "source": [
    "## (b) {-}\n",
    "\n",
    "The expected loss is\n",
    "\\begin{align}\n",
    "\\mathbb E\\mathcal L(Y, f(X)) &= \\mathbb E[\\mathbb E[ b(e^{a(Y-f(X))} - a(Y-f(X)) -1) |X]]\\\\\n",
    "&= \\mathbb E[b \\mathbb E[e^{a(Y-f(X))}|X] - abE[Y-f(X)|X] -b]\\\\\n",
    "&= \\mathbb E[b e^{-af(X)}\\mathbb E[e^{aY}|X] - abE[Y|X] + abf(X) -b], \n",
    "\\end{align}\n",
    "which is minimized when the integrand $b e^{-af(x)}\\mathbb E[e^{aY}|X=x] - abE[Y|X=x] + abf(x) -b$ is minimized for a given $x$. \n",
    "Differentiate with respect to $f(x)$ and set to zero to get $-ab e^{f(x)}\\mathbb E[e^{aY}|X=x] + ab = 0$, or equivalently \n",
    "\\begin{align}\n",
    "f(x) = \\frac{1}{a}\\log\\mathbb E[e^{aY}|X=x]. \n",
    "\\end{align}\n",
    "Since $a, b > 0$, the second derivative of the integrand is $-ab e^{f(x)}\\mathbb E[e^{aY}|X=x] < 0$. Thus we conclude that $f(x) = (\\log\\mathbb E[e^{aY}|X=x])/a$ minimizes the expected loss. "
   ]
  },
  {
   "cell_type": "markdown",
   "metadata": {},
   "source": [
    "## (c) {-}\n",
    "\n",
    "Since $(Y|X=x) \\sim N(\\beta x, \\sigma^2)$, we have $\\mathbb E[e^{aY}|X=x] = e^{a\\beta x + \\frac12 a^2\\sigma^2}$. Thus the optimal estimator $f(x)$ is \n",
    "\\begin{align}\n",
    "f(x) = \\frac{1}{a}\\log\\mathbb E[e^{aY}|X=x] = \\beta x + \\frac{a}{2} \\sigma^2.\n",
    "\\end{align}"
   ]
  },
  {
   "cell_type": "markdown",
   "metadata": {},
   "source": [
    "## (d) {-}\n",
    "\n",
    "Following the above result, the ```f_yours``` function is implemented to return ```beta*x + 0.5*a*sigma**2```. The simulation results are as below. "
   ]
  },
  {
   "cell_type": "code",
   "execution_count": 4,
   "metadata": {},
   "outputs": [
    {
     "name": "stdout",
     "output_type": "stream",
     "text": [
      "Average loss of the conditional expectation: 16.36\n",
      "Average loss of your method: 4.49\n"
     ]
    }
   ],
   "source": [
    "!python asymm_loss.py"
   ]
  },
  {
   "cell_type": "markdown",
   "metadata": {},
   "source": [
    "The average loss computed using the optimal estimator $f(X) = \\beta X + a\\sigma^2/2$ is indeed much smaller than the average loss computed using the conditional expectation $\\beta X$. Intuitively this makes sense because this version of the LINEX loss function we are looking at penalizes more when underestimating and the optimal estimator is larger than the conditional expectation by $a\\sigma^2/2$. Because of this (positive) adjustment, the optimal estimator are less likely to underestimate. Without this adjustment, the conditional expectation is expected to underestimate more often than the optimal estimator and as a result makes the average loss larger. "
   ]
  },
  {
   "cell_type": "markdown",
   "metadata": {},
   "source": [
    "# 3. {-}\n",
    "\n",
    "As the results shown below, the more useless additional variables there are, the larger the average mean squared prediction error is. Below 100 simulations are performed for each $p$. "
   ]
  },
  {
   "cell_type": "code",
   "execution_count": 3,
   "metadata": {},
   "outputs": [
    {
     "data": {
      "image/png": "[encoded data removed]",
      "text/plain": [
       "<Figure size 432x288 with 1 Axes>"
      ]
     },
     "metadata": {
      "needs_background": "light"
     },
     "output_type": "display_data"
    }
   ],
   "source": [
    "from scipy.stats import norm\n",
    "from pandas import Series, DataFrame\n",
    "import statsmodels.api as sm\n",
    "import numpy as np\n",
    "\n",
    "n_sim = 100\n",
    "\n",
    "n = 100\n",
    "m = 100\n",
    "p = 2\n",
    "\n",
    "def mse(p):\n",
    "    trainX = DataFrame({'X%02d'%(i+1) : norm.rvs(size=n) for i in range(p)})\n",
    "    trainY = 4*trainX['X01'] + norm.rvs(size=n)\n",
    "\n",
    "    testX = DataFrame({'X%02d'%(i+1) : norm.rvs(size=m) for i in range(p)})\n",
    "    testY = 4*testX['X01'] + norm.rvs(size=m)\n",
    "\n",
    "    model = sm.OLS(exog=trainX, endog=trainY).fit()\n",
    "    return ((testY - (testX @ model.params))**2).mean()\n",
    "        \n",
    "def avg_mse(p):\n",
    "    return np.mean([mse(p) for _ in range(n_sim)])    \n",
    "\n",
    "ax = Series({p: avg_mse(p) for p in range(2, 81)}).plot()\n",
    "ax.set_ylabel('mean squared error')\n",
    "ax.set_xlabel('$p$');"
   ]
  }
 ],
 "metadata": {
  "kernelspec": {
   "display_name": "Python 3",
   "language": "python",
   "name": "python3"
  },
  "language_info": {
   "codemirror_mode": {
    "name": "ipython",
    "version": 3
   },
   "file_extension": ".py",
   "mimetype": "text/x-python",
   "name": "python",
   "nbconvert_exporter": "python",
   "pygments_lexer": "ipython3",
   "version": "3.7.8"
  }
 },
 "nbformat": 4,
 "nbformat_minor": 4
}
