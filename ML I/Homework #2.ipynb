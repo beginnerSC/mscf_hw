{
 "cells": [
  {
   "cell_type": "markdown",
   "metadata": {},
   "source": [
    "\\begin{center} \n",
    "Chun-Yuan (Scott) Chiu \n",
    "\\end{center}\n",
    "\n",
    "\\begin{center} \n",
    "chunyuac@andrew.cmu.edu \n",
    "\\end{center} "
   ]
  },
  {
   "cell_type": "code",
   "execution_count": 12,
   "metadata": {},
   "outputs": [
    {
     "data": {},
     "metadata": {},
     "output_type": "display_data"
    },
    {
     "data": {
      "application/vnd.holoviews_exec.v0+json": "",
      "text/html": [
       "<div id='3939'>\n",
       "\n",
       "\n",
       "\n",
       "\n",
       "\n",
       "  <div class=\"bk-root\" id=\"d4de656d-3b34-4736-bc3b-edb5a6f3b36d\" data-root-id=\"3939\"></div>\n",
       "</div>\n",
       "<script type=\"application/javascript\">(function(root) {\n",
       "  function embed_document(root) {\n",
       "    var docs_json = {\"9d9881da-28e8-4076-8bd9-2c74f0a9d9d2\":{\"roots\":{\"references\":[{\"attributes\":{},\"id\":\"3988\",\"type\":\"Selection\"},{\"attributes\":{\"end\":4,\"reset_end\":4,\"reset_start\":-2,\"start\":-2,\"tags\":[[[\"x\",\"x\",null]]]},\"id\":\"3941\",\"type\":\"Range1d\"},{\"attributes\":{\"source\":{\"id\":\"4101\"}},\"id\":\"4108\",\"type\":\"CDSView\"},{\"attributes\":{},\"id\":\"4086\",\"type\":\"WheelZoomTool\"},{\"attributes\":{},\"id\":\"3950\",\"type\":\"LinearScale\"},{\"attributes\":{},\"id\":\"3952\",\"type\":\"LinearScale\"},{\"attributes\":{\"data_source\":{\"id\":\"4101\"},\"glyph\":{\"id\":\"4104\"},\"hover_glyph\":null,\"muted_glyph\":{\"id\":\"4106\"},\"nonselection_glyph\":{\"id\":\"4105\"},\"selection_glyph\":null,\"view\":{\"id\":\"4108\"}},\"id\":\"4107\",\"type\":\"GlyphRenderer\"},{\"attributes\":{\"fill_color\":{\"value\":\"red\"},\"line_color\":{\"value\":\"red\"},\"size\":{\"units\":\"screen\",\"value\":10.0},\"x\":{\"field\":\"x\"},\"y\":{\"field\":\"y\"}},\"id\":\"3990\",\"type\":\"Scatter\"},{\"attributes\":{\"axis\":{\"id\":\"3958\"},\"dimension\":1,\"grid_line_color\":null,\"ticker\":null},\"id\":\"3961\",\"type\":\"Grid\"},{\"attributes\":{},\"id\":\"4084\",\"type\":\"SaveTool\"},{\"attributes\":{},\"id\":\"4085\",\"type\":\"PanTool\"},{\"attributes\":{\"children\":[{\"id\":\"3940\"},{\"id\":\"4212\"},{\"id\":\"4393\"}],\"margin\":[0,0,0,0],\"name\":\"Row07032\",\"tags\":[\"embedded\"]},\"id\":\"3939\",\"type\":\"Row\"},{\"attributes\":{\"axis_label\":\"x\",\"bounds\":\"auto\",\"formatter\":{\"id\":\"3976\"},\"major_label_orientation\":\"horizontal\",\"ticker\":{\"id\":\"3955\"}},\"id\":\"3954\",\"type\":\"LinearAxis\"},{\"attributes\":{\"source\":{\"id\":\"3987\"}},\"id\":\"3994\",\"type\":\"CDSView\"},{\"attributes\":{\"bottom_units\":\"screen\",\"fill_alpha\":0.5,\"fill_color\":\"lightgrey\",\"left_units\":\"screen\",\"level\":\"overlay\",\"line_alpha\":1.0,\"line_color\":\"black\",\"line_dash\":[4,4],\"line_width\":2,\"right_units\":\"screen\",\"top_units\":\"screen\"},\"id\":\"4089\",\"type\":\"BoxAnnotation\"},{\"attributes\":{},\"id\":\"3955\",\"type\":\"BasicTicker\"},{\"attributes\":{\"margin\":[5,5,5,5],\"name\":\"HSpacer07036\",\"sizing_mode\":\"stretch_width\"},\"id\":\"3940\",\"type\":\"Spacer\"},{\"attributes\":{\"axis\":{\"id\":\"3954\"},\"grid_line_color\":null,\"ticker\":null},\"id\":\"3957\",\"type\":\"Grid\"},{\"attributes\":{\"data_source\":{\"id\":\"3987\"},\"glyph\":{\"id\":\"3990\"},\"hover_glyph\":null,\"muted_glyph\":{\"id\":\"3992\"},\"nonselection_glyph\":{\"id\":\"3991\"},\"selection_glyph\":null,\"view\":{\"id\":\"3994\"}},\"id\":\"3993\",\"type\":\"GlyphRenderer\"},{\"attributes\":{\"fill_alpha\":{\"value\":0.1},\"fill_color\":{\"value\":\"red\"},\"line_alpha\":{\"value\":0.1},\"line_color\":{\"value\":\"red\"},\"size\":{\"units\":\"screen\",\"value\":10.0},\"x\":{\"field\":\"x\"},\"y\":{\"field\":\"y\"}},\"id\":\"3991\",\"type\":\"Scatter\"},{\"attributes\":{},\"id\":\"3959\",\"type\":\"BasicTicker\"},{\"attributes\":{\"axis_label\":\"y\",\"bounds\":\"auto\",\"formatter\":{\"id\":\"3978\"},\"major_label_orientation\":\"horizontal\",\"ticker\":{\"id\":\"3959\"}},\"id\":\"3958\",\"type\":\"LinearAxis\"},{\"attributes\":{\"fill_alpha\":{\"value\":0.2},\"fill_color\":{\"value\":\"red\"},\"line_alpha\":{\"value\":0.2},\"line_color\":{\"value\":\"red\"},\"size\":{\"units\":\"screen\",\"value\":10.0},\"x\":{\"field\":\"x\"},\"y\":{\"field\":\"y\"}},\"id\":\"3992\",\"type\":\"Scatter\"},{\"attributes\":{\"fill_alpha\":{\"value\":0.1},\"fill_color\":{\"value\":\"blue\"},\"line_alpha\":{\"value\":0.1},\"line_color\":{\"value\":\"blue\"},\"size\":{\"units\":\"screen\",\"value\":5.477225575051661},\"x\":{\"field\":\"x\"},\"y\":{\"field\":\"y\"}},\"id\":\"4105\",\"type\":\"Scatter\"},{\"attributes\":{\"data\":{\"x\":[1],\"y\":[2]},\"selected\":{\"id\":\"3988\"},\"selection_policy\":{\"id\":\"4003\"}},\"id\":\"3987\",\"type\":\"ColumnDataSource\"},{\"attributes\":{},\"id\":\"4123\",\"type\":\"UnionRenderers\"},{\"attributes\":{\"source\":{\"id\":\"3979\"}},\"id\":\"3986\",\"type\":\"CDSView\"},{\"attributes\":{\"overlay\":{\"id\":\"4089\"}},\"id\":\"4087\",\"type\":\"BoxZoomTool\"},{\"attributes\":{\"toolbar\":{\"id\":\"4210\"},\"toolbar_location\":\"above\"},\"id\":\"4211\",\"type\":\"ToolbarBox\"},{\"attributes\":{\"active_drag\":\"auto\",\"active_inspect\":\"auto\",\"active_multi\":null,\"active_scroll\":\"auto\",\"active_tap\":\"auto\",\"tools\":[{\"id\":\"3943\"},{\"id\":\"3962\"},{\"id\":\"3963\"},{\"id\":\"3964\"},{\"id\":\"3965\"},{\"id\":\"3966\"}]},\"id\":\"3968\",\"type\":\"Toolbar\"},{\"attributes\":{\"fill_alpha\":{\"value\":0.1},\"fill_color\":{\"value\":\"blue\"},\"line_alpha\":{\"value\":0.1},\"line_color\":{\"value\":\"blue\"},\"size\":{\"units\":\"screen\",\"value\":5.477225575051661},\"x\":{\"field\":\"x\"},\"y\":{\"field\":\"y\"}},\"id\":\"3983\",\"type\":\"Scatter\"},{\"attributes\":{},\"id\":\"3962\",\"type\":\"SaveTool\"},{\"attributes\":{},\"id\":\"4003\",\"type\":\"UnionRenderers\"},{\"attributes\":{\"fill_color\":{\"value\":\"red\"},\"line_color\":{\"value\":\"red\"},\"size\":{\"units\":\"screen\",\"value\":10.0},\"x\":{\"field\":\"x\"},\"y\":{\"field\":\"y\"}},\"id\":\"4112\",\"type\":\"Scatter\"},{\"attributes\":{\"margin\":[5,5,5,5],\"name\":\"HSpacer07037\",\"sizing_mode\":\"stretch_width\"},\"id\":\"4393\",\"type\":\"Spacer\"},{\"attributes\":{\"callback\":null,\"renderers\":[{\"id\":\"3985\"},{\"id\":\"3993\"}],\"tags\":[\"hv_created\"],\"tooltips\":[[\"x\",\"@{x}\"],[\"y\",\"@{y}\"]]},\"id\":\"3943\",\"type\":\"HoverTool\"},{\"attributes\":{\"fill_alpha\":{\"value\":0.1},\"fill_color\":{\"value\":\"red\"},\"line_alpha\":{\"value\":0.1},\"line_color\":{\"value\":\"red\"},\"size\":{\"units\":\"screen\",\"value\":10.0},\"x\":{\"field\":\"x\"},\"y\":{\"field\":\"y\"}},\"id\":\"4113\",\"type\":\"Scatter\"},{\"attributes\":{},\"id\":\"3963\",\"type\":\"PanTool\"},{\"attributes\":{\"below\":[{\"id\":\"4076\"}],\"center\":[{\"id\":\"4079\"},{\"id\":\"4083\"}],\"left\":[{\"id\":\"4080\"}],\"margin\":null,\"min_border_bottom\":10,\"min_border_left\":10,\"min_border_right\":10,\"min_border_top\":10,\"plot_height\":300,\"plot_width\":700,\"renderers\":[{\"id\":\"4107\"},{\"id\":\"4115\"}],\"sizing_mode\":\"fixed\",\"title\":{\"id\":\"4068\"},\"toolbar\":{\"id\":\"4090\"},\"toolbar_location\":null,\"x_range\":{\"id\":\"3941\"},\"x_scale\":{\"id\":\"4072\"},\"y_range\":{\"id\":\"3942\"},\"y_scale\":{\"id\":\"4074\"}},\"id\":\"4067\",\"subtype\":\"Figure\",\"type\":\"Plot\"},{\"attributes\":{\"data_source\":{\"id\":\"4109\"},\"glyph\":{\"id\":\"4112\"},\"hover_glyph\":null,\"muted_glyph\":{\"id\":\"4114\"},\"nonselection_glyph\":{\"id\":\"4113\"},\"selection_glyph\":null,\"view\":{\"id\":\"4116\"}},\"id\":\"4115\",\"type\":\"GlyphRenderer\"},{\"attributes\":{},\"id\":\"3964\",\"type\":\"WheelZoomTool\"},{\"attributes\":{},\"id\":\"4001\",\"type\":\"UnionRenderers\"},{\"attributes\":{\"overlay\":{\"id\":\"3967\"}},\"id\":\"3965\",\"type\":\"BoxZoomTool\"},{\"attributes\":{\"toolbars\":[{\"id\":\"3968\"},{\"id\":\"4090\"}],\"tools\":[{\"id\":\"3943\"},{\"id\":\"3962\"},{\"id\":\"3963\"},{\"id\":\"3964\"},{\"id\":\"3965\"},{\"id\":\"3966\"},{\"id\":\"4065\"},{\"id\":\"4084\"},{\"id\":\"4085\"},{\"id\":\"4086\"},{\"id\":\"4087\"},{\"id\":\"4088\"}]},\"id\":\"4210\",\"type\":\"ProxyToolbar\"},{\"attributes\":{},\"id\":\"4110\",\"type\":\"Selection\"},{\"attributes\":{\"fill_color\":{\"value\":\"blue\"},\"line_color\":{\"value\":\"blue\"},\"size\":{\"units\":\"screen\",\"value\":5.477225575051661},\"x\":{\"field\":\"x\"},\"y\":{\"field\":\"y\"}},\"id\":\"4104\",\"type\":\"Scatter\"},{\"attributes\":{},\"id\":\"3966\",\"type\":\"ResetTool\"},{\"attributes\":{},\"id\":\"4074\",\"type\":\"LinearScale\"},{\"attributes\":{},\"id\":\"4125\",\"type\":\"UnionRenderers\"},{\"attributes\":{\"data\":{\"x\":[1],\"y\":[2]},\"selected\":{\"id\":\"4110\"},\"selection_policy\":{\"id\":\"4125\"}},\"id\":\"4109\",\"type\":\"ColumnDataSource\"},{\"attributes\":{},\"id\":\"4098\",\"type\":\"BasicTickFormatter\"},{\"attributes\":{},\"id\":\"4100\",\"type\":\"BasicTickFormatter\"},{\"attributes\":{},\"id\":\"3976\",\"type\":\"BasicTickFormatter\"},{\"attributes\":{\"text\":\"\",\"text_color\":{\"value\":\"black\"},\"text_font_size\":{\"value\":\"12pt\"}},\"id\":\"4068\",\"type\":\"Title\"},{\"attributes\":{\"callback\":null,\"renderers\":[{\"id\":\"4107\"},{\"id\":\"4115\"}],\"tags\":[\"hv_created\"],\"tooltips\":[[\"x\",\"@{x}\"],[\"y\",\"@{y}\"]]},\"id\":\"4065\",\"type\":\"HoverTool\"},{\"attributes\":{},\"id\":\"3978\",\"type\":\"BasicTickFormatter\"},{\"attributes\":{\"end\":5,\"reset_end\":5,\"reset_start\":-1,\"start\":-1,\"tags\":[[[\"y\",\"y\",null]]]},\"id\":\"3942\",\"type\":\"Range1d\"},{\"attributes\":{\"active_drag\":\"auto\",\"active_inspect\":\"auto\",\"active_multi\":null,\"active_scroll\":\"auto\",\"active_tap\":\"auto\",\"tools\":[{\"id\":\"4065\"},{\"id\":\"4084\"},{\"id\":\"4085\"},{\"id\":\"4086\"},{\"id\":\"4087\"},{\"id\":\"4088\"}]},\"id\":\"4090\",\"type\":\"Toolbar\"},{\"attributes\":{\"fill_alpha\":{\"value\":0.2},\"fill_color\":{\"value\":\"red\"},\"line_alpha\":{\"value\":0.2},\"line_color\":{\"value\":\"red\"},\"size\":{\"units\":\"screen\",\"value\":10.0},\"x\":{\"field\":\"x\"},\"y\":{\"field\":\"y\"}},\"id\":\"4114\",\"type\":\"Scatter\"},{\"attributes\":{},\"id\":\"4102\",\"type\":\"Selection\"},{\"attributes\":{\"bottom_units\":\"screen\",\"fill_alpha\":0.5,\"fill_color\":\"lightgrey\",\"left_units\":\"screen\",\"level\":\"overlay\",\"line_alpha\":1.0,\"line_color\":\"black\",\"line_dash\":[4,4],\"line_width\":2,\"right_units\":\"screen\",\"top_units\":\"screen\"},\"id\":\"3967\",\"type\":\"BoxAnnotation\"},{\"attributes\":{},\"id\":\"4088\",\"type\":\"ResetTool\"},{\"attributes\":{\"axis\":{\"id\":\"4080\"},\"dimension\":1,\"grid_line_color\":null,\"ticker\":null},\"id\":\"4083\",\"type\":\"Grid\"},{\"attributes\":{},\"id\":\"3980\",\"type\":\"Selection\"},{\"attributes\":{},\"id\":\"4072\",\"type\":\"LinearScale\"},{\"attributes\":{\"children\":[{\"id\":\"4211\"},{\"id\":\"4209\"}]},\"id\":\"4212\",\"type\":\"Column\"},{\"attributes\":{\"source\":{\"id\":\"4109\"}},\"id\":\"4116\",\"type\":\"CDSView\"},{\"attributes\":{\"axis_label\":\"x\",\"bounds\":\"auto\",\"formatter\":{\"id\":\"4098\"},\"major_label_orientation\":\"horizontal\",\"ticker\":{\"id\":\"4077\"}},\"id\":\"4076\",\"type\":\"LinearAxis\"},{\"attributes\":{\"fill_alpha\":{\"value\":0.2},\"fill_color\":{\"value\":\"blue\"},\"line_alpha\":{\"value\":0.2},\"line_color\":{\"value\":\"blue\"},\"size\":{\"units\":\"screen\",\"value\":5.477225575051661},\"x\":{\"field\":\"x\"},\"y\":{\"field\":\"y\"}},\"id\":\"3984\",\"type\":\"Scatter\"},{\"attributes\":{\"fill_alpha\":{\"value\":0.2},\"fill_color\":{\"value\":\"blue\"},\"line_alpha\":{\"value\":0.2},\"line_color\":{\"value\":\"blue\"},\"size\":{\"units\":\"screen\",\"value\":5.477225575051661},\"x\":{\"field\":\"x\"},\"y\":{\"field\":\"y\"}},\"id\":\"4106\",\"type\":\"Scatter\"},{\"attributes\":{},\"id\":\"4077\",\"type\":\"BasicTicker\"},{\"attributes\":{\"children\":[[{\"id\":\"3945\"},0,0],[{\"id\":\"4067\"},0,1]]},\"id\":\"4209\",\"type\":\"GridBox\"},{\"attributes\":{\"data\":{\"x\":{\"__ndarray__\":\"1q58s8cY9j+spbC6ZoD+P4IpQed+vvM/CIIArrGbsD/MfZw3cdLTP8FO9M3/xPY/TFmXZLrv/D9FEiFUR7/xP4CbOYrJB+6/G9cRbX5oCEBQaE4zAWbpv+ijuV77KQJAQrBOKlgl77+JgZjGuVvuP2GIR1KCpew/sBD90Liq3z9XX161cIzsP4CrEbaOW4a/RIBS8eKT8T+KDjevi0PwP0ATzRld3gBAgFCgB9Q/hr9jPMj3gf72P5q8DKRbh/Y/cBkt1dTOxT+gfQ7BCXEAQBj85NqZQvk/IwlbbaRm9T9uD12jnmPbP6R289JttvE/SFVTgyGw6D9GHCYXxZbiPz4zr0icRPM/yOSXFigltD+gyniAaJ7APw+2sR7zavk/nFsqVEkWA0DoOjGr1yPrPyBCValMUfw/l2692ROj6j9zQ1hJ483zP8ZcPGJNBeQ/UHXa0uKLzL+GNu6gOEP+P1xlTVOc1eU/wBaCq6kI7z+b10kmaSnqPzMSZOOCaP0/3tw8W7a84L81/G8ewjr1P15V82ZfXPc/KnNwMW8u/T+OTmsikB/xv8iUf+8DmQNAcM1EA7yazr+c6sSHegfRvzx7/mfGLPM/DTG6dbg+AUD8axKJX9LBP9BFys6Gw/I/SBkPz38u6T/svHCP8CzwP5A801qPlOK/soEmh5By/z/6EQvEUTf+P+w1o21hptm/f8t/MaqYAEAwdKbuXAoAQAm1v9nbzvk/yiVSTM4k4r/Q2erpC/PEv1PBqSL8ggRASTisrRRIAUDGrN/pixvfP+Db0fXRUNK/Jo9CjU69AkDozz1xlx3mP8xaUUL2QO8/Ds0hP1iX4T8ljXISSAcAQJ9DUe9K7PI/ONVp0kj74r9JqoUK7sHuP8NnKcd5pfc/fn01AkQ/BUAQIC2xQpT4Py7rvlVZLvc/AOywvk95Sj+GGs3CTWvlP63NfCq4/xFAnuPZM7GM2T+01CPTeG72Pxc5zLtOpPQ/3IiMt7I/2T/ai4txA+n6P3r6Hxe6C/8/AGJRLDm6+j/IiTkpe5T8P28pBZVy4fo/RKLHL+p0+j8=\",\"dtype\":\"float64\",\"order\":\"little\",\"shape\":[100]},\"y\":{\"__ndarray__\":\"iQpDZ4r9+T8+qvm8rdMHQHPbnLqk+wJAzN2U8XP52j9QShsdFHjoP+S0Unz7OQRApnVR4bWhCEB4ltgxbMYHQEhBAni1Mdk/d8S4jdAoEEAgPdMowNi1P4gzwStNRw5A5Pjxmbex2j+ICDA7b2n5P43QOaTt6gNA4JcZsdtx+D9nbcsJYNUEQF5v9WzrJ/A/3wt2PhXpA0DNZ1ul2eT3P2jXtrsCZQdA8rIkfx0d8T9eEvdiDYMIQLa9y/OalwNAd7CSht6l8T+ZlG674n4EQBTLhc3eLgRAnL+2lhNt8j8DRqiSFDD6PyjBsriGGAZAHb/JQVgB+z8BOzG1tyD/P8jwM6tTUQdAuKKs+jtQyj/UEOH+ij71Pym6MIj7VwZAwWZy07iEBECEvAbE8+T6PyMUn9ZH5wVA8NKl75NUBEBpqP8hdqv5PzlvLg6Ozfw/nI0fMBmE9D/KTVD08IMMQI1DyvVtvgBAiJOo1U2aBUAKzJEUp/L6PzQwU3GOKwRA7AbuWOvJ8T+qT570HAwJQKCHJsfZrgRARwYdf3oTA0DBA7DmKszyP4ohJHzPzglAegKSH0Qk7z/Azz98qGvrP8xSaXdrFwNAzkoGF1GyCkCI9tgXl1zbP2phpdw8swBAdlA29dus8j96OKUAT/v6P/jcDiVcI9E/wMb1dTIqCUBmb2R0ffUIQKwau/f3aNg/9gc6g2x0DEB1WtWWLyEMQMm/l0wc1gZApOFEsu2O3j/Hdb0oCDD4PzyAcuAG6wVAOscHICilB0BYykWyQXzzPzgmXhGgzeM/AQuHgSwNBEBUnHhGHJPyP26O89LWO/k/wKQNqDiZ9T9EORYkm0T+P6TX8gwk7v0/gBeVpr1hsj+IqgFi3DYFQMY7WnjbMgFAnynZ3v3bD0C3WgqdgxwEQIflcSBGxQZA+EiLD7Lf5j85Ng+RmkkAQFYjO0jfWhRA6O9pDI7m9j9aLDetmuj6P9qg3HA5fQFAKKwciGSE8T/zHBFuk5sBQNTHvHb+YQJAFKO7DuV+BEDmPwD7zTsMQCq99uF+jQVAlOOICmYkBEA=\",\"dtype\":\"float64\",\"order\":\"little\",\"shape\":[100]}},\"selected\":{\"id\":\"4102\"},\"selection_policy\":{\"id\":\"4123\"}},\"id\":\"4101\",\"type\":\"ColumnDataSource\"},{\"attributes\":{\"text\":\"\",\"text_color\":{\"value\":\"black\"},\"text_font_size\":{\"value\":\"12pt\"}},\"id\":\"3946\",\"type\":\"Title\"},{\"attributes\":{\"axis\":{\"id\":\"4076\"},\"grid_line_color\":null,\"ticker\":null},\"id\":\"4079\",\"type\":\"Grid\"},{\"attributes\":{\"fill_color\":{\"value\":\"blue\"},\"line_color\":{\"value\":\"blue\"},\"size\":{\"units\":\"screen\",\"value\":5.477225575051661},\"x\":{\"field\":\"x\"},\"y\":{\"field\":\"y\"}},\"id\":\"3982\",\"type\":\"Scatter\"},{\"attributes\":{\"below\":[{\"id\":\"3954\"}],\"center\":[{\"id\":\"3957\"},{\"id\":\"3961\"}],\"left\":[{\"id\":\"3958\"}],\"margin\":null,\"min_border_bottom\":10,\"min_border_left\":10,\"min_border_right\":10,\"min_border_top\":10,\"plot_height\":300,\"plot_width\":700,\"renderers\":[{\"id\":\"3985\"},{\"id\":\"3993\"}],\"sizing_mode\":\"fixed\",\"title\":{\"id\":\"3946\"},\"toolbar\":{\"id\":\"3968\"},\"toolbar_location\":null,\"x_range\":{\"id\":\"3941\"},\"x_scale\":{\"id\":\"3950\"},\"y_range\":{\"id\":\"3942\"},\"y_scale\":{\"id\":\"3952\"}},\"id\":\"3945\",\"subtype\":\"Figure\",\"type\":\"Plot\"},{\"attributes\":{\"data\":{\"x\":{\"__ndarray__\":\"qL8ngcer3D/4NNczq/7kP4A2jYQZmre/mX1aZTH88T+sIaApbcIAQDpLw6TXy/W/kUa38zAy8T8AXxEf5LXpv9swIw2thOg/gbqgsa5r6T/YTmumAFb9P8Fk22+jr/c/sJJgasjXsz9PWuMYeIjyP5AjGsGEwus/wDVcAKQezr9dvM6Mg94CQFyhxAMc2ABA1dABV/O/6j/4VERfwJbMP9Cek1u9F+O/Cx/nSDrn7j8U75M691z6P5z/6dt6MPM/4FGhMIvFpT/5G8NLNLsIQIS+VURmWABArNitPZahBkBM6TwK40LdP+V53aSoDO4/XKl0YSfvzz/ivHVlfvf9P8NqDfpbF/k/2jMDnJfAA0CfNmVY6qnxPy6Q4uYVJNk/lFf8m4jU4z/kVgxcMsr0P8xH2YVYBu4/oFKMciMkAUBQkpkpvI7Ov/G4A6YTCQNAfJ1XjnKn8T/ERjIFPWQBQCxyp6SP6dk/mC+ucH8fzz82IGIxBrDmv04QfsDhyOg/hfx5yrc86z8Nc/BSFo4CQBKQdexUyeM/UFWSZexAv79+tB/MkLgFQCyx/jowyOo/RmCNURi95D+uUiFm5PvZP/fTUWOYyO0/eLvOsk5q7z9J1zq3MlT6P0BJBS9AQ+M/cboaS3729T990lPFE0UDQGwHWW8i1OI/DEyMfAo9zD/Moxl1i87lv3B0vTDqr/4/0Iirc0OkuL+lUKew+g34P/B8nnuhXOo/JLYLWJgt/j8iLQ/3TrrmPzoOloK/QuA/HR+0xhTG8T9oL7p39FXwP4LPOxESuuk/AH999oTodL9ZJNvMtkfzPxhiBX9d2fo//vJMLYts7b+YOI0nmQ7CP29RNVwIN/M/EP5NA2mYsj9g8XnsfhTpP+Cn+U2Nv+2/780aRzeH9D811+I1ZEjzP3ieLCUQ48y/jqP6O6iX7z+PU3XiWEsBQERx//MipOE/PwwH92ls8j9i/8ANrAn3P2Bom8Prws6/dMqpFK8hzT94iwOi1+jEP06+s3iCEeA/4EvyI7yHB0C5+bDNm1gAQCzB8epmnt4/XayINArR6j8=\",\"dtype\":\"float64\",\"order\":\"little\",\"shape\":[100]},\"y\":{\"__ndarray__\":\"EwVk6s2WAUDi+iVWrpH5P3KiLYpheeE/yeQI2RQ5BUAWVj4MJpEJQPCe4ZEekbI/bPslnj0EAkAk1QMFdzPdP0TePdtwfd8/F1UsFPCu9j9Jp1om4+ADQPFYT0Kxdfo/fl8NvWzeAEDE6MESE4v2P01u0/m91wBAKFSrv41P9D+kvdKDFs0JQHm4k1KjbARAQ4XnEKHs9T8S0pv5/EgAQKaI11iLgfU/56ZJL2DcCkBSizd8hsH1PyIotj5uLAFAmLNtu/rv9T9MopDJtXYSQF1SxvuE0g9AoWgwuASEEkDgLSdbkKHCvw8+qzd4swNAsA+nGCiT5j9QIz5PFrsLQLH95E9CVgRAWr8Uhv2uEEA35tIYRRbwP1Hj+mxDsf8/bjiGBbvWAUBiW775LZv9P3lUC9iaIQNAar55xv48/D+tXkuxxR8IQG55qFyTjQpAyFWSuuL3/z/Q+grqwoT2Pzh/vs6eMvE/IJXzBkErsL/guTMfwku3PyvGGjZHygFARgsPEDUo/z/dUBJIoSUGQJFFtXHB9gBADpDDMzFt/D8BW7J2Kgr+PwOYhCIVTQRAGR+CTuHl+T9UWDeNdk/xP+qL8sOpufw/3YzCnGD/+T84c7l5z8wNQOjNWqZZ98s/wFmgzs/S9D8n9/D1wAYHQCZik5e1yek/QHPTaJbEAEB85k3kdGzTPxC9fN5pLABAgJPORca5B0CCljqCJFP6PzYYsEZqOAJAiR1Nzox+BECwbeyAxc/+P0pCsDhPhu8/I24IHgUA/T/edzkmDkr7PwhBGxlNdPk/5IqkiikT4z8fE1mO62gCQGTC3YMDsP4/0A7ouCjs1T/hcl9QNM4BQCmkzrvtC/8/KNcqDtPnBkDq1vnUfO0FQO4n+eo8UeU/DX+DDM6pBEDhM0Ekd+IFQFXjGhKFuvs/LsQWGD1c/j89+392K5YAQHfydCKyOgBAquyhlMtMAEAubj2uPK8EQFOE9hdzIPo/yBShF8xb+z8QGuhG39vUP7a6BHTWsfc/IGAt9m6bDUB7sXuPuG0QQNYi1xIEcO4/hjclKEzL/T8=\",\"dtype\":\"float64\",\"order\":\"little\",\"shape\":[100]}},\"selected\":{\"id\":\"3980\"},\"selection_policy\":{\"id\":\"4001\"}},\"id\":\"3979\",\"type\":\"ColumnDataSource\"},{\"attributes\":{},\"id\":\"4081\",\"type\":\"BasicTicker\"},{\"attributes\":{\"axis_label\":\"y\",\"bounds\":\"auto\",\"formatter\":{\"id\":\"4100\"},\"major_label_orientation\":\"horizontal\",\"ticker\":{\"id\":\"4081\"}},\"id\":\"4080\",\"type\":\"LinearAxis\"},{\"attributes\":{\"data_source\":{\"id\":\"3979\"},\"glyph\":{\"id\":\"3982\"},\"hover_glyph\":null,\"muted_glyph\":{\"id\":\"3984\"},\"nonselection_glyph\":{\"id\":\"3983\"},\"selection_glyph\":null,\"view\":{\"id\":\"3986\"}},\"id\":\"3985\",\"type\":\"GlyphRenderer\"}],\"root_ids\":[\"3939\"]},\"title\":\"Bokeh Application\",\"version\":\"2.2.3\"}};\n",
       "    var render_items = [{\"docid\":\"9d9881da-28e8-4076-8bd9-2c74f0a9d9d2\",\"root_ids\":[\"3939\"],\"roots\":{\"3939\":\"d4de656d-3b34-4736-bc3b-edb5a6f3b36d\"}}];\n",
       "    root.Bokeh.embed.embed_items_notebook(docs_json, render_items);\n",
       "  }\n",
       "  if (root.Bokeh !== undefined && root.Bokeh.Panel !== undefined) {\n",
       "    embed_document(root);\n",
       "  } else {\n",
       "    var attempts = 0;\n",
       "    var timer = setInterval(function(root) {\n",
       "      if (root.Bokeh !== undefined && root.Bokeh.Panel !== undefined) {\n",
       "        clearInterval(timer);\n",
       "        embed_document(root);\n",
       "      } else if (document.readyState == \"complete\") {\n",
       "        attempts++;\n",
       "        if (attempts > 100) {\n",
       "          clearInterval(timer);\n",
       "          console.log(\"Bokeh: ERROR: Unable to run BokehJS code because BokehJS library is missing\");\n",
       "        }\n",
       "      }\n",
       "    }, 10, root)\n",
       "  }\n",
       "})(window);</script>"
      ],
      "text/plain": [
       ":Layout\n",
       "   .Overlay.I  :Overlay\n",
       "      .Scatter.I  :Scatter   [x]   (y)\n",
       "      .Scatter.II :Scatter   [x]   (y)\n",
       "   .Overlay.II :Overlay\n",
       "      .Scatter.I  :Scatter   [x]   (y)\n",
       "      .Scatter.II :Scatter   [x]   (y)"
      ]
     },
     "execution_count": 12,
     "metadata": {
      "application/vnd.holoviews_exec.v0+json": {
       "id": "3939"
      }
     },
     "output_type": "execute_result"
    }
   ],
   "source": [
    "from scipy.stats import multivariate_normal\n",
    "from pandas import DataFrame\n",
    "import hvplot.pandas\n",
    "\n",
    "mu = [1, 2]\n",
    "sigma = lambda rho: [[1, rho], [rho, 1]]\n",
    "dist = lambda rho: multivariate_normal(mean=mu, cov=sigma(rho))\n",
    "data = lambda rho: DataFrame(dist(rho).rvs(100), columns=['x', 'y'])\n",
    "mean = DataFrame([mu], columns=['x', 'y'])\n",
    "\n",
    "(data(0.6).hvplot(kind='scatter', x='x', y='y', color='blue') \n",
    "+ data(0.9).hvplot(kind='scatter', x='x', y='y', color='blue')\n",
    ")* mean.hvplot(kind='scatter', x='x', y='y', color='red', s=100, xlim=(-2, 4), ylim=(-1, 5))\n"
   ]
  },
  {
   "cell_type": "markdown",
   "metadata": {},
   "source": [
    "# 1. {-}\n",
    "\n",
    "## (a) {-}\n",
    "\n",
    "As the below realization of the error suggests, considering the mean squared prediction error, mean is a better estimator than median. "
   ]
  },
  {
   "cell_type": "code",
   "execution_count": 1,
   "metadata": {},
   "outputs": [
    {
     "name": "stdout",
     "output_type": "stream",
     "text": [
      "1.075383043650204\n",
      "1.1883149611307744\n"
     ]
    }
   ],
   "source": [
    "from scipy.stats import expon\n",
    "from numpy import abs\n",
    "import numpy as np\n",
    "\n",
    "mean = 1\n",
    "median = np.log(2)\n",
    "n = 1000\n",
    "\n",
    "rvs = expon.rvs(size=n)\n",
    "\n",
    "print(((rvs - mean)**2).mean())    # mean squared error of the mean\n",
    "print(((rvs - median)**2).mean())  # mean squared error of the median"
   ]
  },
  {
   "cell_type": "markdown",
   "metadata": {},
   "source": [
    "## (b) {-}\n",
    "\n",
    "In contrast, considering the mean absolute prediction error, median is a (slightly) better estimator than mean. "
   ]
  },
  {
   "cell_type": "code",
   "execution_count": 2,
   "metadata": {},
   "outputs": [
    {
     "name": "stdout",
     "output_type": "stream",
     "text": [
      "0.7655840643978613\n",
      "0.7291958553195591\n"
     ]
    }
   ],
   "source": [
    "rvs = expon.rvs(size=n)\n",
    "\n",
    "print((abs(rvs - mean)).mean())    # mean absolute error of the mean \n",
    "print((abs(rvs - median)).mean())  # mean absolute error of the median"
   ]
  },
  {
   "cell_type": "markdown",
   "metadata": {},
   "source": [
    "# 2. {-}\n",
    "\n",
    "## (a) {-}\n",
    "\n",
    "Below is a plot of the loss function \n",
    "\\begin{align*}\n",
    "\\mathcal L(Y, f(X)) &= b\\left(e^{a(Y-f(X))} - a(Y-f(X)) - 1\\right) \\\\\n",
    "&= b\\left(e^{az} - az - 1\\right). \n",
    "\\end{align*}"
   ]
  },
  {
   "cell_type": "code",
   "execution_count": 3,
   "metadata": {},
   "outputs": [
    {
     "data": {
      "image/png": "[encoded data removed]",
      "text/plain": [
       "<Figure size 432x288 with 1 Axes>"
      ]
     },
     "metadata": {
      "needs_background": "light"
     },
     "output_type": "display_data"
    }
   ],
   "source": [
    "from numpy import exp\n",
    "from pandas import DataFrame\n",
    "\n",
    "a = 1.1\n",
    "b = 2\n",
    "\n",
    "loss = lambda z: b*(exp(a*z) - a*z -1)\n",
    "    \n",
    "ax = DataFrame([(x, loss(x)) for x in np.arange(-2, 2, 0.1)], columns=['z', 'loss']).set_index('z').plot(legend=None)\n",
    "ax.set_ylabel('loss')\n",
    "ax.set_xlabel('z');"
   ]
  },
  {
   "cell_type": "markdown",
   "metadata": {},
   "source": [
    "This is known as the LINEX loss function. Roughly speaking, on the right (when $z>0$) the loss goes up exponentially with the absolute prediction error, while on the left ($z<0$) it only goes up linearly with the absolute prediction error. \n",
    "\n",
    "Note that $z = Y - f(X) > 0$ means $f(X)$ underestimates $Y$ while $z<0$ means $f(X)$ overestimates $Y$. We might choose to use this loss function when the consequences of underestimating are much more serious than overestimating. An example could be to estimate a bank's value at risk, where underestimating could result in insufficient reserve and a default event, while the only consequence of overestimating is slight inefficiency in funding and is minor. Another example is to predict the stock price at some point in time in the future and write a naked call option based on that prediction, in which case a serious underestimating of the stock price means the option expires deep in the money and the writer takes a huge loss, while overestimating simply means the writer could have collected more premium by writing an option with a lower strike. "
   ]
  },
  {
   "cell_type": "markdown",
   "metadata": {},
   "source": [
    "## (b) {-}\n",
    "\n",
    "The expected loss is\n",
    "\\begin{align}\n",
    "\\mathbb E\\mathcal L(Y, f(X)) &= \\mathbb E[\\mathbb E[ b(e^{a(Y-f(X))} - a(Y-f(X)) -1) |X]]\\\\\n",
    "&= \\mathbb E[b \\mathbb E[e^{a(Y-f(X))}|X] - abE[Y-f(X)|X] -b]\\\\\n",
    "&= \\mathbb E[b e^{-af(X)}\\mathbb E[e^{aY}|X] - abE[Y|X] + abf(X) -b], \n",
    "\\end{align}\n",
    "which is minimized when the integrand $b e^{-af(x)}\\mathbb E[e^{aY}|X=x] - abE[Y|X=x] + abf(x) -b$ is minimized for a given $x$. \n",
    "Differentiate with respect to $f(x)$ and set to zero to get $-ab e^{f(x)}\\mathbb E[e^{aY}|X=x] + ab = 0$, or equivalently \n",
    "\\begin{align}\n",
    "f(x) = \\frac{1}{a}\\log\\mathbb E[e^{aY}|X=x]. \n",
    "\\end{align}\n",
    "Since $a, b > 0$, the second derivative of the integrand is $-ab e^{f(x)}\\mathbb E[e^{aY}|X=x] < 0$. Thus we conclude that $f(x) = (\\log\\mathbb E[e^{aY}|X=x])/a$ minimizes the expected loss. "
   ]
  },
  {
   "cell_type": "markdown",
   "metadata": {},
   "source": [
    "## (c) {-}\n",
    "\n",
    "Since $(Y|X=x) \\sim N(\\beta x, \\sigma^2)$, we have $\\mathbb E[e^{aY}|X=x] = e^{a\\beta x + \\frac12 a^2\\sigma^2}$. Thus the optimal estimator $f(x)$ is \n",
    "\\begin{align}\n",
    "f(x) = \\frac{1}{a}\\log\\mathbb E[e^{aY}|X=x] = \\beta x + \\frac{a}{2} \\sigma^2.\n",
    "\\end{align}"
   ]
  },
  {
   "cell_type": "markdown",
   "metadata": {},
   "source": [
    "## (d) {-}\n",
    "\n",
    "Following the above result, the ```f_yours``` function is implemented to return ```beta*x + 0.5*a*sigma**2```. The simulation results are as below. "
   ]
  },
  {
   "cell_type": "code",
   "execution_count": 4,
   "metadata": {},
   "outputs": [
    {
     "name": "stdout",
     "output_type": "stream",
     "text": [
      "Average loss of the conditional expectation: 16.36\n",
      "Average loss of your method: 4.49\n"
     ]
    }
   ],
   "source": [
    "!python asymm_loss.py"
   ]
  },
  {
   "cell_type": "markdown",
   "metadata": {},
   "source": [
    "The average loss computed using the optimal estimator $f(X) = \\beta X + a\\sigma^2/2$ is indeed much smaller than the average loss computed using the conditional expectation $\\beta X$. Intuitively this makes sense because this version of the LINEX loss function we are looking at penalizes more when underestimating and the optimal estimator is larger than the conditional expectation by $a\\sigma^2/2$. Because of this (positive) adjustment, the optimal estimator are less likely to underestimate. Without this adjustment, the conditional expectation is expected to underestimate more often than the optimal estimator and as a result makes the average loss larger. "
   ]
  },
  {
   "cell_type": "markdown",
   "metadata": {},
   "source": [
    "# 3. {-}\n",
    "\n",
    "As the results shown below, the more useless additional variables there are, the larger the average mean squared prediction error is. Below 100 simulations are performed for each $p$. "
   ]
  },
  {
   "cell_type": "code",
   "execution_count": 3,
   "metadata": {},
   "outputs": [
    {
     "data": {
      "image/png": "[encoded data removed]",
      "text/plain": [
       "<Figure size 432x288 with 1 Axes>"
      ]
     },
     "metadata": {
      "needs_background": "light"
     },
     "output_type": "display_data"
    }
   ],
   "source": [
    "from scipy.stats import norm\n",
    "from pandas import Series, DataFrame\n",
    "import statsmodels.api as sm\n",
    "import numpy as np\n",
    "\n",
    "n_sim = 100\n",
    "\n",
    "n = 100\n",
    "m = 100\n",
    "p = 2\n",
    "\n",
    "def mse(p):\n",
    "    trainX = DataFrame({'X%02d'%(i+1) : norm.rvs(size=n) for i in range(p)})\n",
    "    trainY = 4*trainX['X01'] + norm.rvs(size=n)\n",
    "\n",
    "    testX = DataFrame({'X%02d'%(i+1) : norm.rvs(size=m) for i in range(p)})\n",
    "    testY = 4*testX['X01'] + norm.rvs(size=m)\n",
    "\n",
    "    model = sm.OLS(exog=trainX, endog=trainY).fit()\n",
    "    return ((testY - (testX @ model.params))**2).mean()\n",
    "        \n",
    "def avg_mse(p):\n",
    "    return np.mean([mse(p) for _ in range(n_sim)])    \n",
    "\n",
    "ax = Series({p: avg_mse(p) for p in range(2, 81)}).plot()\n",
    "ax.set_ylabel('mean squared error')\n",
    "ax.set_xlabel('$p$');"
   ]
  }
 ],
 "metadata": {
  "kernelspec": {
   "display_name": "Python 3",
   "language": "python",
   "name": "python3"
  },
  "language_info": {
   "codemirror_mode": {
    "name": "ipython",
    "version": 3
   },
   "file_extension": ".py",
   "mimetype": "text/x-python",
   "name": "python",
   "nbconvert_exporter": "python",
   "pygments_lexer": "ipython3",
   "version": "3.7.8"
  }
 },
 "nbformat": 4,
 "nbformat_minor": 4
}
